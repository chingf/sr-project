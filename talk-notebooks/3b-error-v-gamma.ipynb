{
 "cells": [
  {
   "cell_type": "code",
   "execution_count": 1,
   "metadata": {},
   "outputs": [
    {
     "name": "stderr",
     "output_type": "stream",
     "text": [
      "/Users/chingfang/Code/sr-project/datasets/inputs.py:12: UserWarning: Emily's experimental data could not be loaded.\n",
      "  warnings.warn(\"Emily's experimental data could not be loaded.\")\n"
     ]
    }
   ],
   "source": [
    "import pickle\n",
    "import numpy as np\n",
    "import os\n",
    "import torch\n",
    "import torch.nn as nn\n",
    "import re\n",
    "import sys\n",
    "from tensorboard.backend.event_processing.event_accumulator import EventAccumulator\n",
    "import matplotlib.pyplot as plt\n",
    "\n",
    "root = os.path.dirname(os.path.abspath(os.curdir))\n",
    "sys.path.append(root)\n",
    "\n",
    "from sr_model.models.models import AnalyticSR, STDP_SR\n",
    "from datasets import inputs\n",
    "import configs\n",
    "import pandas as pd\n",
    "import seaborn as sns\n",
    "\n",
    "device = 'cpu'"
   ]
  },
  {
   "cell_type": "code",
   "execution_count": 2,
   "metadata": {},
   "outputs": [],
   "source": [
    "trained_dir = f'{configs.engram_dir}02_gamma_v_ss/'"
   ]
  },
  {
   "cell_type": "code",
   "execution_count": 3,
   "metadata": {},
   "outputs": [],
   "source": [
    "results_file = trained_dir + 'results.p'\n",
    "with open(results_file, 'rb') as f:\n",
    "    results = pickle.load(f)"
   ]
  },
  {
   "cell_type": "code",
   "execution_count": 4,
   "metadata": {},
   "outputs": [],
   "source": [
    "results['nonlinearity_args'] = [str(x) for x in results['nonlinearity_args']]"
   ]
  },
  {
   "cell_type": "code",
   "execution_count": 5,
   "metadata": {},
   "outputs": [],
   "source": [
    "df = pd.DataFrame(results)"
   ]
  },
  {
   "cell_type": "code",
   "execution_count": 9,
   "metadata": {},
   "outputs": [
    {
     "data": {
      "image/png": "[encoded data removed]",
      "text/plain": [
       "<Figure size 151.2x108 with 1 Axes>"
      ]
     },
     "metadata": {},
     "output_type": "display_data"
    }
   ],
   "source": [
    "plt.figure(figsize=(2.1,1.5))\n",
    "g = sns.lineplot(\n",
    "    x ='gammas', y='vals', linestyle='-', color='C0',\n",
    "    data=df[df['nonlinearity_args']=='Linear']\n",
    "    )\n",
    "plt.ylabel(\"Error in $M$ (MAE)\")\n",
    "plt.xlabel(\"$\\gamma_B$\")\n",
    "plt.tight_layout()\n",
    "plt.savefig('../talk-figures/3b_part1.png', dpi=600, transparent=True)\n",
    "plt.show()"
   ]
  },
  {
   "cell_type": "code",
   "execution_count": 10,
   "metadata": {},
   "outputs": [
    {
     "data": {
      "image/png": "[encoded data removed]",
      "text/plain": [
       "<Figure size 151.2x108 with 1 Axes>"
      ]
     },
     "metadata": {},
     "output_type": "display_data"
    }
   ],
   "source": [
    "plt.figure(figsize=(2.1,1.5))\n",
    "g = sns.lineplot(\n",
    "    x ='gammas', y='vals', label='Linear', linestyle='-', color='C0',\n",
    "    data=df[df['nonlinearity_args']=='Linear']\n",
    "    )\n",
    "g = sns.lineplot(\n",
    "    x ='gammas', y='vals', label='Tanh', linestyle='--', color='C0',\n",
    "    data=df[df['nonlinearity_args']=='Tanh']\n",
    "    )\n",
    "g.get_legend().set_title(None)\n",
    "plt.ylabel(\"Error in $M$ (MAE)\")\n",
    "plt.xlabel(\"$\\gamma_B$\")\n",
    "plt.tight_layout()\n",
    "plt.savefig('../talk-figures/3b_part2.png', dpi=600, transparent=True)\n",
    "plt.show()"
   ]
  },
  {
   "cell_type": "code",
   "execution_count": null,
   "metadata": {},
   "outputs": [],
   "source": []
  }
 ],
 "metadata": {
  "kernelspec": {
   "display_name": "Python 3 (ipykernel)",
   "language": "python",
   "name": "python3"
  },
  "language_info": {
   "codemirror_mode": {
    "name": "ipython",
    "version": 3
   },
   "file_extension": ".py",
   "mimetype": "text/x-python",
   "name": "python",
   "nbconvert_exporter": "python",
   "pygments_lexer": "ipython3",
   "version": "3.9.7"
  }
 },
 "nbformat": 4,
 "nbformat_minor": 4
}
