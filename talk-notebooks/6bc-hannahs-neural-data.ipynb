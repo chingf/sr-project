{
 "cells": [
  {
   "cell_type": "code",
   "execution_count": 27,
   "id": "f7f3624e",
   "metadata": {},
   "outputs": [],
   "source": [
    "import numpy as np\n",
    "import matplotlib.pyplot as plt\n",
    "import seaborn as sns\n",
    "import pandas as pd\n",
    "import scipy.io\n",
    "import configs"
   ]
  },
  {
   "cell_type": "code",
   "execution_count": 28,
   "id": "88f46a81",
   "metadata": {},
   "outputs": [],
   "source": [
    "data = scipy.io.loadmat('6bc_payne2021_data.mat')"
   ]
  },
  {
   "cell_type": "code",
   "execution_count": 29,
   "id": "bcf483e0",
   "metadata": {},
   "outputs": [],
   "source": [
    "field_ratios = data['field_ratios'].squeeze()\n",
    "field_nums = data['field_nums'].squeeze()"
   ]
  },
  {
   "cell_type": "code",
   "execution_count": 58,
   "id": "cf62ed93",
   "metadata": {},
   "outputs": [
    {
     "name": "stderr",
     "output_type": "stream",
     "text": [
      "/Users/chingfang/opt/anaconda3/envs/aronov/lib/python3.9/site-packages/seaborn/distributions.py:385: UserWarning: `bins` cannot be 'auto' when using weights. Setting `bins=10`, but you will likely want to adjust.\n",
      "  warnings.warn(msg, UserWarning)\n"
     ]
    },
    {
     "data": {
      "image/png": "[encoded data removed]",
      "text/plain": [
       "<Figure size 144x108 with 1 Axes>"
      ]
     },
     "metadata": {},
     "output_type": "display_data"
    }
   ],
   "source": [
    "df = pd.DataFrame({\n",
    "    'Field Ratio': field_ratios,\n",
    "    'Weights': [1/field_ratios.size]*field_ratios.size\n",
    "    })\n",
    "\n",
    "fig, ax = plt.subplots(figsize=(2., 1.5))\n",
    "sns.histplot(\n",
    "    x='Field Ratio',\n",
    "    weights='Weights',\n",
    "    ax=ax, data=df\n",
    "    )\n",
    "plt.ylabel('Ratio of Cells')\n",
    "plt.xlabel('Field Size (Ratio of Arena)')\n",
    "#plt.gca().spines[:].set_visible(True)\n",
    "plt.tight_layout()\n",
    "plt.savefig('../figures/6b.png', dpi=300, transparent=True)\n",
    "plt.show()"
   ]
  },
  {
   "cell_type": "code",
   "execution_count": 59,
   "id": "4330ed98",
   "metadata": {},
   "outputs": [
    {
     "name": "stderr",
     "output_type": "stream",
     "text": [
      "/Users/chingfang/opt/anaconda3/envs/aronov/lib/python3.9/site-packages/seaborn/distributions.py:376: FutureWarning: elementwise comparison failed; returning scalar instead, but in the future will perform elementwise comparison\n",
      "  and estimate_kws[\"bins\"] == \"auto\"\n"
     ]
    },
    {
     "data": {
      "image/png": "[encoded data removed]",
      "text/plain": [
       "<Figure size 144x108 with 1 Axes>"
      ]
     },
     "metadata": {},
     "output_type": "display_data"
    }
   ],
   "source": [
    "df = pd.DataFrame({\n",
    "    'Field Nums': field_nums,\n",
    "    'Weights': [1/field_nums.size]*field_nums.size\n",
    "    })\n",
    "\n",
    "fig, ax = plt.subplots(figsize=(2., 1.5))\n",
    "sns.histplot(\n",
    "    x='Field Nums',\n",
    "    weights='Weights',\n",
    "    bins=np.arange(5)+0.5,\n",
    "    ax=ax, data=df\n",
    "    )\n",
    "plt.ylabel('Ratio of Cells')\n",
    "plt.xlabel('Number of Fields')\n",
    "#plt.gca().spines[:].set_visible(True)\n",
    "plt.tight_layout()\n",
    "plt.savefig('../figures/6c.png', dpi=300, transparent=True)\n",
    "plt.show()"
   ]
  },
  {
   "cell_type": "code",
   "execution_count": null,
   "id": "1c40b893",
   "metadata": {},
   "outputs": [],
   "source": []
  }
 ],
 "metadata": {
  "kernelspec": {
   "display_name": "Python 3 (ipykernel)",
   "language": "python",
   "name": "python3"
  },
  "language_info": {
   "codemirror_mode": {
    "name": "ipython",
    "version": 3
   },
   "file_extension": ".py",
   "mimetype": "text/x-python",
   "name": "python",
   "nbconvert_exporter": "python",
   "pygments_lexer": "ipython3",
   "version": "3.9.7"
  }
 },
 "nbformat": 4,
 "nbformat_minor": 5
}
