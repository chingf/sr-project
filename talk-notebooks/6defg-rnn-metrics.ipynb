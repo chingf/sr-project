{
 "cells": [
  {
   "cell_type": "code",
   "execution_count": 1,
   "metadata": {},
   "outputs": [
    {
     "name": "stderr",
     "output_type": "stream",
     "text": [
      "/Users/chingfang/Code/sr-project/datasets/inputs.py:12: UserWarning: Emily's experimental data could not be loaded.\n",
      "  warnings.warn(\"Emily's experimental data could not be loaded.\")\n",
      "/Users/chingfang/Code/sr-project/datasets/sf_inputs_discrete.py:19: UserWarning: Emily's experimental data could not be loaded.\n",
      "  warnings.warn(\"Emily's experimental data could not be loaded.\")\n"
     ]
    }
   ],
   "source": [
    "import pickle\n",
    "import numpy as np\n",
    "import os\n",
    "import torch\n",
    "import torch.nn as nn\n",
    "import re\n",
    "import sys\n",
    "from copy import deepcopy\n",
    "from tensorboard.backend.event_processing.event_accumulator import EventAccumulator\n",
    "import matplotlib.pyplot as plt\n",
    "from matplotlib.colors import BoundaryNorm\n",
    "from matplotlib.ticker import MaxNLocator\n",
    "import re\n",
    "import pandas as pd\n",
    "import seaborn as sns\n",
    "from math import ceil\n",
    "from sklearn.linear_model import LinearRegression\n",
    "\n",
    "root = os.path.dirname(os.path.abspath(os.curdir))\n",
    "sys.path.append(root)\n",
    "from sr_model.models.models import AnalyticSR, STDP_SR, Linear\n",
    "from datasets import inputs, sf_inputs_discrete\n",
    "import configs\n",
    "\n",
    "device = 'cpu'"
   ]
  },
  {
   "cell_type": "markdown",
   "metadata": {},
   "source": [
    "# Collect metrics over datasets\n",
    "You will have to run the corresponding python file to this jupyter notebook (will have the same title, but with 'parfor' attached)."
   ]
  },
  {
   "cell_type": "code",
   "execution_count": 2,
   "metadata": {},
   "outputs": [],
   "source": [
    "gamma = 0.75\n",
    "model = 'rnn_tanh'"
   ]
  },
  {
   "cell_type": "code",
   "execution_count": 3,
   "metadata": {},
   "outputs": [],
   "source": [
    "root_dir = '/Volumes/aronov-locker/Ching/03_hannah_dset/'\n",
    "with open(f'{root_dir}5a_{model}_results_gamma{gamma}.p', 'rb') as f:\n",
    "    results = pickle.load(f)"
   ]
  },
  {
   "cell_type": "code",
   "execution_count": 4,
   "metadata": {},
   "outputs": [
    {
     "data": {
      "text/plain": [
       "dict_keys(['gamma', 'arena_length', 'init_sparsities', 'sigmas', 'final_sparsities', 'fieldsizes', 'nfields', 'onefields', 'zerofields', 'fieldsizekls', 'nfieldkls'])"
      ]
     },
     "execution_count": 4,
     "metadata": {},
     "output_type": "execute_result"
    }
   ],
   "source": [
    "results.keys()"
   ]
  },
  {
   "cell_type": "code",
   "execution_count": 5,
   "metadata": {},
   "outputs": [],
   "source": [
    "log2_e = 1.442695\n",
    "nats_to_bits = lambda x: log2_e*x"
   ]
  },
  {
   "cell_type": "code",
   "execution_count": 29,
   "metadata": {},
   "outputs": [],
   "source": [
    "arena_length = np.array(results['arena_length'])\n",
    "init_sparsities = np.array(results['init_sparsities'])\n",
    "sigmas = np.array(results['sigmas'])\n",
    "final_sparsities = np.array(results['final_sparsities'])\n",
    "final_sparsities = np.around(final_sparsities, decimals=2)\n",
    "fieldsizes = np.array(results['fieldsizes'])\n",
    "nfields = np.array(results['nfields'])\n",
    "onefields = np.array(results['onefields'])\n",
    "zerofields = np.array(results['zerofields'])\n",
    "fieldsizekls = nats_to_bits(np.array(results['fieldsizekls']))\n",
    "nfieldkls = nats_to_bits(np.array(results['nfieldkls']))"
   ]
  },
  {
   "cell_type": "markdown",
   "metadata": {},
   "source": [
    "# Make contour/gradient plots"
   ]
  },
  {
   "cell_type": "code",
   "execution_count": 35,
   "metadata": {},
   "outputs": [],
   "source": [
    "df = pd.DataFrame({\n",
    "    'Seed Sparsity': init_sparsities,\n",
    "    'Spatial Corr.': sigmas,\n",
    "    'Sparsity': final_sparsities,\n",
    "    'Field Size': fieldsizes,\n",
    "    'Fields per Neuron': nfields,\n",
    "    'Single Field Neurons': onefields,\n",
    "    'Zero Field Neurons': zerofields,\n",
    "    'Field Sizes KL': fieldsizekls,\n",
    "    'N Fields KL': nfieldkls,\n",
    "    'Total KL': np.clip(fieldsizekls + nfieldkls, 0, 10)\n",
    "    })\n",
    "df = df[df['Sparsity'] <= 0.2]"
   ]
  },
  {
   "cell_type": "code",
   "execution_count": 33,
   "metadata": {
    "code_folding": [
     0
    ]
   },
   "outputs": [],
   "source": [
    "def get_edge_nans(im):\n",
    "    \"\"\" im is processed row-by-row (e.g., sigma by sparsity) \"\"\"\n",
    "    \n",
    "    mask = np.zeros(im.shape).astype(bool)\n",
    "    nrows, ncols = im.shape\n",
    "    for i in range(nrows):\n",
    "        j = 0\n",
    "        while np.isnan(im[i,j]) and (j < ncols):\n",
    "            mask[i,j] = True\n",
    "            j += 1\n",
    "    return mask"
   ]
  },
  {
   "cell_type": "code",
   "execution_count": 24,
   "metadata": {
    "code_folding": [
     0
    ]
   },
   "outputs": [],
   "source": [
    "def make_gradients(\n",
    "    x_key, y_key, z_key, df,\n",
    "    cmap=\"Reds\",\n",
    "    title=None, xlabel=None, ylabel=None,\n",
    "    figname=None, figsize=[6.4, 4.8],\n",
    "    interpolate=False, smooth=False, contours=None,\n",
    "    leave_edge_nans=True, vmin=None, vmax=None,\n",
    "    cbar_ticks=None, cbar_tick_labels=None\n",
    "    ):\n",
    "    \n",
    "    # Load in data\n",
    "    xs = df[x_key].to_numpy()\n",
    "    ys = df[y_key].to_numpy()\n",
    "    zs = df[z_key].to_numpy()\n",
    "    \n",
    "    # Collect data into a meshgrid\n",
    "    x_list = np.sort(np.unique(xs))\n",
    "    y_list = np.sort(np.unique(ys))\n",
    "    dxs = np.around(x_list[1:] - x_list[:-1], decimals=2)\n",
    "    dys = np.around(y_list[1:] - y_list[:-1], decimals=2)\n",
    "    if np.unique(dxs).size > 1 or np.unique(dys).size > 1:\n",
    "        if smooth:\n",
    "            print(\"Warning: Smoothing with inconsistent dx/dy\")\n",
    "    x_list = np.concatenate((x_list, [x_list[-1]+dxs[-1]]))\n",
    "    y_list = np.concatenate((y_list, [y_list[-1]+dys[-1]]))\n",
    "    x, y = np.meshgrid(x_list, y_list)\n",
    "    z = np.zeros(x.shape)\n",
    "    for i in range(x.shape[0]):\n",
    "        for j in range(x.shape[1]):\n",
    "            idx = np.logical_and(\n",
    "                xs==x[i,j], ys==y[i,j]\n",
    "                )\n",
    "            z[i,j] = np.nanmean(zs[idx])\n",
    "    cmap = plt.get_cmap(cmap)\n",
    "    cmap.set_bad('yellow')\n",
    "\n",
    "    # Plot raw grid values\n",
    "    fig, ax = plt.subplots(figsize=figsize)\n",
    "    im = ax.pcolormesh(\n",
    "        x, y, z, cmap=cmap\n",
    "        )\n",
    "    fig.colorbar(im, ax=ax)\n",
    "    plt.show()\n",
    "    \n",
    "    # Remove padding used for pcolormesh plot\n",
    "    x = x[:-1,:-1]\n",
    "    y = y[:-1,:-1]\n",
    "    z = z[:-1,:-1]\n",
    "    \n",
    "    # Mark NaNs\n",
    "    nan_mask = np.isnan(z)\n",
    "    edge_nan_mask = get_edge_nans(z)\n",
    "    \n",
    "    # Interpolate to fill in NaN cells\n",
    "    if interpolate:\n",
    "        if np.sum(nan_mask) > 0:\n",
    "            nonnan_mask = np.logical_not(nan_mask)\n",
    "            nan_indices = np.argwhere(nan_mask)\n",
    "            data_X = np.vstack(\n",
    "                [x[nonnan_mask].flatten(),\n",
    "                 y[nonnan_mask].flatten()]).T\n",
    "            data_y = z[nonnan_mask].flatten()\n",
    "            reg = LinearRegression().fit(data_X, data_y)\n",
    "            interp_vals = reg.predict(\n",
    "                np.vstack(\n",
    "                [x[nan_mask].flatten(),\n",
    "                 y[nan_mask].flatten()]).T\n",
    "                )\n",
    "            z[nan_mask] = interp_vals\n",
    "\n",
    "    \n",
    "    # Smooth over cells to denoise\n",
    "    if smooth:\n",
    "        from astropy.convolution import Gaussian2DKernel\n",
    "        from astropy.convolution import convolve\n",
    "        kernel = Gaussian2DKernel(\n",
    "            x_stddev=1., y_stddev=1.,\n",
    "            #x_size=3, y_size=3\n",
    "            )\n",
    "        z = convolve(z, kernel, preserve_nan=True)\n",
    "        \n",
    "    # Generate contour plots\n",
    "    fig, ax = plt.subplots(figsize=figsize)\n",
    "    z = np.clip(z, 0, np.inf)\n",
    "    if vmin is not None and vmax is not None:\n",
    "        levels = MaxNLocator(nbins=20).tick_values(np.nanmin(vmin), np.nanmax(vmax))\n",
    "    else:\n",
    "        levels = MaxNLocator(nbins=20).tick_values(np.nanmin(z), np.nanmax(z))\n",
    "    cf = ax.contourf(x, y, z,\n",
    "                     levels=levels, cmap=cmap,\n",
    "                     vmin=vmin, vmax=vmax, \n",
    "                     )\n",
    "    if leave_edge_nans: # White out parts that were extrapolated\n",
    "        nans = np.argwhere(edge_nan_mask)\n",
    "        nan1 = nans[0]; nan2 = nans[-1]\n",
    "        nan1x = x[nan1[0],nan1[1]]\n",
    "        nan1y = y[nan1[0],nan1[1]]\n",
    "        nan2x = x[nan2[0],nan2[1]]\n",
    "        nan2y = y[nan2[0],nan2[1]]\n",
    "        max_y = y.max()\n",
    "        plt.fill(\n",
    "            [nan1x, nan2x, nan1x],\n",
    "            [nan1y, nan2y, max_y],\n",
    "            color='white'\n",
    "            )\n",
    "    if contours is not None:\n",
    "        cntrs = plt.contour(\n",
    "            x, y, z, contours,\n",
    "            colors='white', linewidths=0.5\n",
    "            )\n",
    "        plt.clabel(cntrs, inline=True)\n",
    "    cbar = fig.colorbar(cf, ax=ax, ticks=cbar_ticks)\n",
    "    if cbar_ticks is not None:\n",
    "        cbar.ax.set_yticklabels(cbar_tick_labels)\n",
    "    ax.set_title('contourf with levels')\n",
    "    plt.title(title)\n",
    "    plt.xlabel(xlabel)\n",
    "    plt.ylabel(ylabel)\n",
    "    plt.xlim(xs.min(), 0.20)\n",
    "    plt.tight_layout()\n",
    "    plt.savefig(f'{figname}.png', dpi=300, transparent=True)\n",
    "    plt.show()\n",
    "    \n",
    "    return x, y, z"
   ]
  },
  {
   "cell_type": "code",
   "execution_count": 25,
   "metadata": {
    "code_folding": [
     0
    ]
   },
   "outputs": [],
   "source": [
    "def get_nan_mask(im, leave_edge_nans=False):\n",
    "    \"\"\" im is processed row-by-row (e.g., sigma by sparsity) \"\"\"\n",
    "    \n",
    "    if not leave_edge_nans:\n",
    "        return np.isnan(im)\n",
    "    else:\n",
    "        mask = np.isnan(im)\n",
    "        nrows, ncols = im.shape\n",
    "        for i in range(nrows):\n",
    "            j = 0\n",
    "            while np.isnan(im[i,j]) and (j < ncols):\n",
    "                mask[i,j] = False\n",
    "                j += 1\n",
    "        return mask"
   ]
  },
  {
   "cell_type": "code",
   "execution_count": 26,
   "metadata": {},
   "outputs": [
    {
     "name": "stdout",
     "output_type": "stream",
     "text": [
      "Warning: Smoothing with inconsistent dx/dy\n"
     ]
    },
    {
     "name": "stderr",
     "output_type": "stream",
     "text": [
      "/var/folders/jf/2_wn4hjd11q9klftv_v_hld80000gn/T/ipykernel_28499/3838157331.py:33: RuntimeWarning: Mean of empty slice\n",
      "  z[i,j] = np.nanmean(zs[idx])\n",
      "/var/folders/jf/2_wn4hjd11q9klftv_v_hld80000gn/T/ipykernel_28499/3838157331.py:35: MatplotlibDeprecationWarning: You are modifying the state of a globally registered colormap. This has been deprecated since 3.3 and in 3.6, you will not be able to modify a registered colormap in-place. To remove this warning, you can make a copy of the colormap first. cmap = mpl.cm.get_cmap(\"Purples\").copy()\n",
      "  cmap.set_bad('yellow')\n",
      "/var/folders/jf/2_wn4hjd11q9klftv_v_hld80000gn/T/ipykernel_28499/3838157331.py:39: MatplotlibDeprecationWarning: shading='flat' when X and Y have the same dimensions as C is deprecated since 3.3.  Either specify the corners of the quadrilaterals with X and Y, or pass shading='auto', 'nearest' or 'gouraud', or set rcParams['pcolor.shading'].  This will become an error two minor releases later.\n",
      "  im = ax.pcolormesh(\n"
     ]
    },
    {
     "data": {
      "image/png": "[encoded data removed]",
      "text/plain": [
       "<Figure size 144x126 with 2 Axes>"
      ]
     },
     "metadata": {},
     "output_type": "display_data"
    },
    {
     "data": {
      "image/png": "[encoded data removed]",
      "text/plain": [
       "<Figure size 144x126 with 2 Axes>"
      ]
     },
     "metadata": {},
     "output_type": "display_data"
    }
   ],
   "source": [
    "_, _, _ = make_gradients(\n",
    "    'Sparsity', 'Spatial Corr.', 'Zero Field Neurons', df,\n",
    "    cmap='Purples',\n",
    "    title='Zero Fields',\n",
    "    xlabel='Feature Sparsity (L1-norm)',\n",
    "    ylabel='Feature Spatial $\\sigma$',\n",
    "    figname='../figures/6d',\n",
    "    interpolate=True, smooth=True,\n",
    "    cbar_ticks=[0, 0.05, 0.1],\n",
    "    cbar_tick_labels=['0.0', '', '0.1'],\n",
    "    figsize=[2., 1.75]\n",
    "    )"
   ]
  },
  {
   "cell_type": "code",
   "execution_count": 27,
   "metadata": {},
   "outputs": [
    {
     "name": "stdout",
     "output_type": "stream",
     "text": [
      "Warning: Smoothing with inconsistent dx/dy\n"
     ]
    },
    {
     "name": "stderr",
     "output_type": "stream",
     "text": [
      "/var/folders/jf/2_wn4hjd11q9klftv_v_hld80000gn/T/ipykernel_28499/3838157331.py:33: RuntimeWarning: Mean of empty slice\n",
      "  z[i,j] = np.nanmean(zs[idx])\n",
      "/var/folders/jf/2_wn4hjd11q9klftv_v_hld80000gn/T/ipykernel_28499/3838157331.py:35: MatplotlibDeprecationWarning: You are modifying the state of a globally registered colormap. This has been deprecated since 3.3 and in 3.6, you will not be able to modify a registered colormap in-place. To remove this warning, you can make a copy of the colormap first. cmap = mpl.cm.get_cmap(\"Reds\").copy()\n",
      "  cmap.set_bad('yellow')\n",
      "/var/folders/jf/2_wn4hjd11q9klftv_v_hld80000gn/T/ipykernel_28499/3838157331.py:39: MatplotlibDeprecationWarning: shading='flat' when X and Y have the same dimensions as C is deprecated since 3.3.  Either specify the corners of the quadrilaterals with X and Y, or pass shading='auto', 'nearest' or 'gouraud', or set rcParams['pcolor.shading'].  This will become an error two minor releases later.\n",
      "  im = ax.pcolormesh(\n"
     ]
    },
    {
     "data": {
      "image/png": "[encoded data removed]",
      "text/plain": [
       "<Figure size 151.2x126 with 2 Axes>"
      ]
     },
     "metadata": {},
     "output_type": "display_data"
    },
    {
     "data": {
      "image/png": "[encoded data removed]",
      "text/plain": [
       "<Figure size 151.2x126 with 2 Axes>"
      ]
     },
     "metadata": {},
     "output_type": "display_data"
    }
   ],
   "source": [
    "_,_,_ = make_gradients(\n",
    "    'Sparsity', 'Spatial Corr.', 'Field Size', df,\n",
    "    cmap='Reds',\n",
    "    title='Size of Fields',\n",
    "    xlabel='Feature Sparsity (L1-norm)',\n",
    "    ylabel='Feature Spatial $\\sigma$',\n",
    "    figname='../figures/6e',\n",
    "    interpolate=True, smooth=True,\n",
    "    cbar_ticks=[0.05, 0.1, 0.15,],\n",
    "    cbar_tick_labels=['0.05', '0.10', '0.15'],\n",
    "    figsize=[2.1, 1.75]\n",
    "    )"
   ]
  },
  {
   "cell_type": "code",
   "execution_count": 28,
   "metadata": {
    "code_folding": [
     0
    ]
   },
   "outputs": [
    {
     "name": "stdout",
     "output_type": "stream",
     "text": [
      "Warning: Smoothing with inconsistent dx/dy\n"
     ]
    },
    {
     "name": "stderr",
     "output_type": "stream",
     "text": [
      "/var/folders/jf/2_wn4hjd11q9klftv_v_hld80000gn/T/ipykernel_28499/3838157331.py:33: RuntimeWarning: Mean of empty slice\n",
      "  z[i,j] = np.nanmean(zs[idx])\n",
      "/var/folders/jf/2_wn4hjd11q9klftv_v_hld80000gn/T/ipykernel_28499/3838157331.py:35: MatplotlibDeprecationWarning: You are modifying the state of a globally registered colormap. This has been deprecated since 3.3 and in 3.6, you will not be able to modify a registered colormap in-place. To remove this warning, you can make a copy of the colormap first. cmap = mpl.cm.get_cmap(\"Blues\").copy()\n",
      "  cmap.set_bad('yellow')\n",
      "/var/folders/jf/2_wn4hjd11q9klftv_v_hld80000gn/T/ipykernel_28499/3838157331.py:39: MatplotlibDeprecationWarning: shading='flat' when X and Y have the same dimensions as C is deprecated since 3.3.  Either specify the corners of the quadrilaterals with X and Y, or pass shading='auto', 'nearest' or 'gouraud', or set rcParams['pcolor.shading'].  This will become an error two minor releases later.\n",
      "  im = ax.pcolormesh(\n"
     ]
    },
    {
     "data": {
      "image/png": "[encoded data removed]",
      "text/plain": [
       "<Figure size 144x126 with 2 Axes>"
      ]
     },
     "metadata": {},
     "output_type": "display_data"
    },
    {
     "data": {
      "image/png": "[encoded data removed]",
      "text/plain": [
       "<Figure size 144x126 with 2 Axes>"
      ]
     },
     "metadata": {},
     "output_type": "display_data"
    }
   ],
   "source": [
    "_, _, _ = make_gradients(\n",
    "    'Sparsity', 'Spatial Corr.', 'Fields per Neuron', df,\n",
    "    cmap='Blues',\n",
    "    title='Num. Fields per Neuron',\n",
    "    xlabel='Feature Sparsity (L1-norm)',\n",
    "    ylabel='Feature Spatial $\\sigma$',\n",
    "    figname='../figures/6f',\n",
    "    interpolate=True, smooth=True,\n",
    "    cbar_ticks=[0, 1, 2, 3],\n",
    "    cbar_tick_labels=[0, 1, 2, 3],\n",
    "    figsize=[2,1.75]\n",
    "    )"
   ]
  },
  {
   "cell_type": "code",
   "execution_count": 36,
   "metadata": {},
   "outputs": [
    {
     "name": "stdout",
     "output_type": "stream",
     "text": [
      "Warning: Smoothing with inconsistent dx/dy\n"
     ]
    },
    {
     "name": "stderr",
     "output_type": "stream",
     "text": [
      "/var/folders/jf/2_wn4hjd11q9klftv_v_hld80000gn/T/ipykernel_28499/3838157331.py:33: RuntimeWarning: Mean of empty slice\n",
      "  z[i,j] = np.nanmean(zs[idx])\n",
      "/var/folders/jf/2_wn4hjd11q9klftv_v_hld80000gn/T/ipykernel_28499/3838157331.py:35: MatplotlibDeprecationWarning: You are modifying the state of a globally registered colormap. This has been deprecated since 3.3 and in 3.6, you will not be able to modify a registered colormap in-place. To remove this warning, you can make a copy of the colormap first. cmap = mpl.cm.get_cmap(\"Greys_r\").copy()\n",
      "  cmap.set_bad('yellow')\n",
      "/var/folders/jf/2_wn4hjd11q9klftv_v_hld80000gn/T/ipykernel_28499/3838157331.py:39: MatplotlibDeprecationWarning: shading='flat' when X and Y have the same dimensions as C is deprecated since 3.3.  Either specify the corners of the quadrilaterals with X and Y, or pass shading='auto', 'nearest' or 'gouraud', or set rcParams['pcolor.shading'].  This will become an error two minor releases later.\n",
      "  im = ax.pcolormesh(\n"
     ]
    },
    {
     "data": {
      "image/png": "[encoded data removed]",
      "text/plain": [
       "<Figure size 144x130.32 with 2 Axes>"
      ]
     },
     "metadata": {},
     "output_type": "display_data"
    },
    {
     "data": {
      "image/png": "[encoded data removed]",
      "text/plain": [
       "<Figure size 144x130.32 with 2 Axes>"
      ]
     },
     "metadata": {},
     "output_type": "display_data"
    }
   ],
   "source": [
    "_,_, _z = make_gradients(\n",
    "    'Sparsity', 'Spatial Corr.', 'Total KL', df,\n",
    "    cmap='Greys_r',\n",
    "    title='$\\Sigma D_{KL}$',\n",
    "    xlabel='Feature Sparsity (L1-norm)',\n",
    "    ylabel='Feature Spatial $\\sigma$',\n",
    "    figname='../figures/6g',\n",
    "    interpolate=True, smooth=True,\n",
    "    contours=[0.5, 1.0, 1.5, 2.0],\n",
    "    cbar_ticks=[0, 2, 4, 6, 8],\n",
    "    cbar_tick_labels=[0, 2, 4, 6, 8],\n",
    "    figsize=[2,1.81],\n",
    "    vmin=0., vmax=9.\n",
    "    )"
   ]
  },
  {
   "cell_type": "code",
   "execution_count": null,
   "metadata": {},
   "outputs": [],
   "source": []
  }
 ],
 "metadata": {
  "kernelspec": {
   "display_name": "Python 3 (ipykernel)",
   "language": "python",
   "name": "python3"
  },
  "language_info": {
   "codemirror_mode": {
    "name": "ipython",
    "version": 3
   },
   "file_extension": ".py",
   "mimetype": "text/x-python",
   "name": "python",
   "nbconvert_exporter": "python",
   "pygments_lexer": "ipython3",
   "version": "3.9.7"
  }
 },
 "nbformat": 4,
 "nbformat_minor": 4
}
