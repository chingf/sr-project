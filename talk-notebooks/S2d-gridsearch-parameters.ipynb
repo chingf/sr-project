{
 "cells": [
  {
   "cell_type": "code",
   "execution_count": 1,
   "metadata": {},
   "outputs": [
    {
     "name": "stderr",
     "output_type": "stream",
     "text": [
      "/Users/chingfang/Code/sr-project/datasets/inputs.py:12: UserWarning: Emily's experimental data could not be loaded.\n",
      "  warnings.warn(\"Emily's experimental data could not be loaded.\")\n"
     ]
    }
   ],
   "source": [
    "import pickle\n",
    "import numpy as np\n",
    "import os\n",
    "import torch\n",
    "import torch.nn as nn\n",
    "import re\n",
    "import sys\n",
    "from tensorboard.backend.event_processing.event_accumulator import EventAccumulator\n",
    "import matplotlib.pyplot as plt\n",
    "\n",
    "root = os.path.dirname(os.path.abspath(os.curdir))\n",
    "sys.path.append(root)\n",
    "\n",
    "from sr_model.models.models import AnalyticSR, STDP_SR\n",
    "from datasets import inputs\n",
    "import configs\n",
    "\n",
    "device = 'cpu'"
   ]
  },
  {
   "cell_type": "code",
   "execution_count": 2,
   "metadata": {},
   "outputs": [],
   "source": [
    "coeff_threshold = 0.1"
   ]
  },
  {
   "cell_type": "code",
   "execution_count": 3,
   "metadata": {},
   "outputs": [],
   "source": [
    "param_regex = 'pos(.*)_neg(.*)'\n",
    "gridsearch_dir = f\"{configs.engram_dir}01_tau_gridsearch/\"\n",
    "tau_neg_axes = []\n",
    "tau_pos_axes = []\n",
    "vals = []\n",
    "A_poses = []\n",
    "A_negs = []\n",
    "results = {\n",
    "    'tau_neg_axes': tau_neg_axes,\n",
    "    'tau_pos_axes': tau_pos_axes,\n",
    "    'vals': vals,\n",
    "    'A_poses': A_poses,\n",
    "    'A_negs': A_negs\n",
    "}\n",
    "for d in os.listdir(gridsearch_dir):\n",
    "    param_match = re.search(param_regex, d)\n",
    "    if param_match is None: continue\n",
    "    tau_pos_ax = float(param_match.group(1))\n",
    "    tau_neg_ax = float(param_match.group(2))\n",
    "    tau_pos_axes.append(tau_pos_ax)\n",
    "    tau_neg_axes.append(tau_neg_ax)\n",
    "        \n",
    "    val = np.inf\n",
    "    A_pos = np.nan\n",
    "    A_neg = np.nan\n",
    "    all_vals = []\n",
    "    for file in os.listdir(gridsearch_dir + d):\n",
    "        if 'tfevents' not in file: continue\n",
    "        tfevents_file = gridsearch_dir + d + '/' + file\n",
    "        event_acc = EventAccumulator(tfevents_file)\n",
    "        event_acc.Reload()\n",
    "        try:\n",
    "            _val = event_acc.Scalars('loss_train')[-1].value\n",
    "        except:\n",
    "            continue\n",
    "        model_file = gridsearch_dir + d + '/' + 'model.pt'\n",
    "        try:\n",
    "            state_dict = torch.load(model_file)\n",
    "        except:\n",
    "            continue\n",
    "        _A_pos = abs(state_dict['ca3.A_pos'])\n",
    "        _A_neg = abs(state_dict['ca3.A_neg'])\n",
    "        _neg_coeff = _A_neg*np.exp(-1/abs(tau_neg_ax))\n",
    "        _pos_coeff = _A_pos*np.exp(-1/abs(tau_pos_ax))\n",
    "           \n",
    "        # For finding the max\n",
    "        if _val < val:\n",
    "            val = _val    \n",
    "            A_pos = _A_pos\n",
    "            A_neg = _A_neg\n",
    "    vals.append(val)\n",
    "    A_poses.append(A_pos)\n",
    "    A_negs.append(A_neg)"
   ]
  },
  {
   "cell_type": "code",
   "execution_count": 4,
   "metadata": {
    "scrolled": true
   },
   "outputs": [],
   "source": [
    "tau_neg_axes = np.array(results['tau_neg_axes'])\n",
    "tau_pos_axes = np.array(results['tau_pos_axes'])\n",
    "tau_neg_unique = np.sort(np.unique(tau_neg_axes))\n",
    "tau_pos_unique = np.sort(np.unique(tau_pos_axes))"
   ]
  },
  {
   "cell_type": "markdown",
   "metadata": {},
   "source": [
    "# Plot errors where scaling factors is sufficient"
   ]
  },
  {
   "cell_type": "code",
   "execution_count": 5,
   "metadata": {},
   "outputs": [],
   "source": [
    "Aneg_coeff_mat = np.zeros((tau_neg_unique.size, tau_pos_unique.size))*np.nan\n",
    "for tau_neg_ax, tau_pos_ax, A_neg in zip(\n",
    "    results['tau_neg_axes'], results['tau_pos_axes'], results['A_negs']\n",
    "    ):\n",
    "    x_idx = np.argwhere(tau_neg_unique == tau_neg_ax)[0,0]\n",
    "    y_idx = np.argwhere(tau_pos_unique == tau_pos_ax)[0,0]\n",
    "    Aneg_coeff_mat[x_idx][y_idx] = A_neg*np.exp(-1/abs(tau_neg_ax))"
   ]
  },
  {
   "cell_type": "code",
   "execution_count": 6,
   "metadata": {},
   "outputs": [],
   "source": [
    "Apos_coeff_mat = np.zeros((tau_neg_unique.size, tau_pos_unique.size))*np.nan\n",
    "for tau_neg_ax, tau_pos_ax, A_pos in zip(\n",
    "    results['tau_neg_axes'], results['tau_pos_axes'], results['A_poses']\n",
    "    ):\n",
    "    x_idx = np.argwhere(tau_neg_unique == tau_neg_ax)[0,0]\n",
    "    y_idx = np.argwhere(tau_pos_unique == tau_pos_ax)[0,0]\n",
    "    Apos_coeff_mat[x_idx][y_idx] = A_pos*np.exp(-1/abs(tau_pos_ax))"
   ]
  },
  {
   "cell_type": "code",
   "execution_count": 7,
   "metadata": {},
   "outputs": [
    {
     "data": {
      "image/png": "[encoded data removed]",
      "text/plain": [
       "<Figure size 432x288 with 2 Axes>"
      ]
     },
     "metadata": {},
     "output_type": "display_data"
    }
   ],
   "source": [
    "plt.figure()\n",
    "plt.imshow(Apos_coeff_mat)\n",
    "# plt.yticks(np.arange(tau_neg_unique.size), [f'{x:.2f}' for x in tau_neg_unique])\n",
    "# plt.xticks(\n",
    "#     np.arange(tau_pos_unique.size), [f'{y:.2f}' for y in tau_pos_unique],\n",
    "#     rotation=45\n",
    "#     )\n",
    "plt.xlabel('Tau_pos')\n",
    "plt.ylabel('Tau_neg')\n",
    "plt.colorbar()\n",
    "plt.show()"
   ]
  },
  {
   "cell_type": "code",
   "execution_count": 8,
   "metadata": {},
   "outputs": [
    {
     "data": {
      "image/png": "[encoded data removed]",
      "text/plain": [
       "<Figure size 432x288 with 2 Axes>"
      ]
     },
     "metadata": {},
     "output_type": "display_data"
    }
   ],
   "source": [
    "plt.figure()\n",
    "plt.imshow(Aneg_coeff_mat)\n",
    "# plt.yticks(np.arange(xs.size), [f'{x:.2f}' for x in xs])\n",
    "# plt.xticks(\n",
    "#     np.arange(ys.size), [f'{y:.2f}' for y in ys],\n",
    "#     rotation=45\n",
    "#     )\n",
    "plt.xlabel('Tau_pos')\n",
    "plt.ylabel('Tau_neg')\n",
    "plt.colorbar()\n",
    "plt.show()"
   ]
  },
  {
   "cell_type": "code",
   "execution_count": 9,
   "metadata": {},
   "outputs": [],
   "source": [
    "from matplotlib.colors import BoundaryNorm\n",
    "from matplotlib.ticker import MaxNLocator"
   ]
  },
  {
   "cell_type": "code",
   "execution_count": 14,
   "metadata": {},
   "outputs": [
    {
     "name": "stderr",
     "output_type": "stream",
     "text": [
      "/var/folders/jf/2_wn4hjd11q9klftv_v_hld80000gn/T/ipykernel_9686/264809642.py:15: MatplotlibDeprecationWarning: shading='flat' when X and Y have the same dimensions as C is deprecated since 3.3.  Either specify the corners of the quadrilaterals with X and Y, or pass shading='auto', 'nearest' or 'gouraud', or set rcParams['pcolor.shading'].  This will become an error two minor releases later.\n",
      "  im = ax.pcolormesh(\n"
     ]
    },
    {
     "data": {
      "image/png": "[encoded data removed]",
      "text/plain": [
       "<Figure size 144x144 with 2 Axes>"
      ]
     },
     "metadata": {},
     "output_type": "display_data"
    }
   ],
   "source": [
    "# Collect values\n",
    "mat = np.zeros((tau_neg_unique.size, tau_pos_unique.size))*np.nan\n",
    "for tau_neg_ax, tau_pos_ax, val in zip(\n",
    "    results['tau_neg_axes'], results['tau_pos_axes'], results['vals']\n",
    "    ):\n",
    "    x_idx = np.argwhere(tau_neg_unique == tau_neg_ax)[0,0]\n",
    "    y_idx = np.argwhere(tau_pos_unique == tau_pos_ax)[0,0]\n",
    "    mat[x_idx][y_idx] = Aneg_coeff_mat[x_idx][y_idx]\n",
    "\n",
    "x_list = tau_neg_unique #np.sort(np.unique(xs))\n",
    "y_list = tau_pos_unique #np.sort(np.unique(ys))\n",
    "x, y = np.meshgrid(x_list/configs.dt_to_sec, y_list/configs.dt_to_sec)\n",
    "\n",
    "fig, ax = plt.subplots(figsize=(2., 2))\n",
    "im = ax.pcolormesh(\n",
    "    x, y, mat.T, cmap=\"Blues_r\", vmax=1\n",
    "    )\n",
    "fig.colorbar(im, ax=ax)\n",
    "plt.xlim(0, 1/configs.dt_to_sec) #-4/configs.dt_to_sec, 2./configs.dt_to_sec)\n",
    "plt.ylim(0)\n",
    "plt.xlabel('Post$\\\\rightarrow$Pre  $\\\\tau$ (sec)')\n",
    "plt.ylabel('Pre$\\\\rightarrow$Post  $\\\\tau$ (sec)')\n",
    "plt.title(\"Post$\\\\rightarrow$Pre\\nPotentiation\")\n",
    "plt.tight_layout()\n",
    "plt.savefig(\"../figures/S2d.png\", dpi=300, transparent=True)\n",
    "plt.show()"
   ]
  },
  {
   "cell_type": "code",
   "execution_count": 15,
   "metadata": {},
   "outputs": [
    {
     "name": "stderr",
     "output_type": "stream",
     "text": [
      "/var/folders/jf/2_wn4hjd11q9klftv_v_hld80000gn/T/ipykernel_9686/134093789.py:2: MatplotlibDeprecationWarning: shading='flat' when X and Y have the same dimensions as C is deprecated since 3.3.  Either specify the corners of the quadrilaterals with X and Y, or pass shading='auto', 'nearest' or 'gouraud', or set rcParams['pcolor.shading'].  This will become an error two minor releases later.\n",
      "  im = ax.pcolormesh(\n"
     ]
    },
    {
     "data": {
      "image/png": "[encoded data removed]",
      "text/plain": [
       "<Figure size 108x144 with 2 Axes>"
      ]
     },
     "metadata": {},
     "output_type": "display_data"
    }
   ],
   "source": [
    "fig, ax = plt.subplots(figsize=(1.5, 2))\n",
    "im = ax.pcolormesh(\n",
    "    x*-1, y, mat.T, cmap=\"Blues_r\", vmax=1, vmin=0\n",
    "    )\n",
    "fig.colorbar(im, ax=ax)\n",
    "\n",
    "plt.xlim(left=0, right=0.8) #-4/configs.dt_to_sec, 2./configs.dt_to_sec)\n",
    "plt.ylim(0)\n",
    "plt.yticks([0, 0.25, 0.5, 0.75, 1.], ['', '', '', '', ''])\n",
    "plt.xlabel('Post$\\\\rightarrow$Pre  $\\\\tau$ (sec)')\n",
    "plt.title(\"Post$\\\\rightarrow$Pre\\nDepression\")\n",
    "plt.tight_layout()\n",
    "plt.savefig(\"../figures/2jright.png\", dpi=300, transparent=True)\n",
    "plt.show()"
   ]
  },
  {
   "cell_type": "code",
   "execution_count": null,
   "metadata": {},
   "outputs": [],
   "source": []
  }
 ],
 "metadata": {
  "kernelspec": {
   "display_name": "Python 3 (ipykernel)",
   "language": "python",
   "name": "python3"
  },
  "language_info": {
   "codemirror_mode": {
    "name": "ipython",
    "version": 3
   },
   "file_extension": ".py",
   "mimetype": "text/x-python",
   "name": "python",
   "nbconvert_exporter": "python",
   "pygments_lexer": "ipython3",
   "version": "3.9.7"
  }
 },
 "nbformat": 4,
 "nbformat_minor": 4
}
