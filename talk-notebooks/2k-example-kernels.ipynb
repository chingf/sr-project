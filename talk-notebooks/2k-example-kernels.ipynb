{
 "cells": [
  {
   "cell_type": "code",
   "execution_count": 1,
   "metadata": {},
   "outputs": [
    {
     "name": "stderr",
     "output_type": "stream",
     "text": [
      "/Users/chingfang/Code/sr-project/datasets/inputs.py:12: UserWarning: Emily's experimental data could not be loaded.\n",
      "  warnings.warn(\"Emily's experimental data could not be loaded.\")\n"
     ]
    }
   ],
   "source": [
    "import numpy as np\n",
    "import argparse\n",
    "import time\n",
    "from itertools import chain\n",
    "import matplotlib.pyplot as plt\n",
    "import multiprocessing as mp\n",
    "import os\n",
    "import sys\n",
    "import pickle\n",
    "\n",
    "import torch\n",
    "import torch.nn as nn\n",
    "from torch.utils.tensorboard import SummaryWriter\n",
    "from tensorboard.backend.event_processing.event_accumulator import EventAccumulator\n",
    "\n",
    "root = os.path.dirname(os.path.abspath(os.curdir))\n",
    "sys.path.append(root)\n",
    "from datasets import inputs\n",
    "from sr_model.models.models import AnalyticSR, STDP_SR\n",
    "import configs"
   ]
  },
  {
   "cell_type": "code",
   "execution_count": 2,
   "metadata": {},
   "outputs": [],
   "source": [
    "gridsearch_dir = f\"{configs.engram_dir}01_tau_gridsearch/\""
   ]
  },
  {
   "cell_type": "code",
   "execution_count": 3,
   "metadata": {},
   "outputs": [],
   "source": [
    "plot_dirs = [\n",
    "    'pos0.8_neg0.2',\n",
    "    'pos0.8_neg-0.2',\n",
    "    'pos0.6000000000000001_neg-0.2',\n",
    "    'pos0.6000000000000001_neg0.2',\n",
    "    'pos0.8_neg-0.4',\n",
    "    'pos1.0_neg-0.4',\n",
    "    ]"
   ]
  },
  {
   "cell_type": "code",
   "execution_count": 4,
   "metadata": {},
   "outputs": [],
   "source": [
    "kernels = []\n",
    "\n",
    "for plot_dir in plot_dirs:\n",
    "    path = gridsearch_dir + plot_dir\n",
    "    model_path = path + '/model.pt'\n",
    "    net_configs_path = path + '/net_configs.p'\n",
    "    with open(net_configs_path, 'rb') as f:\n",
    "        net_configs = pickle.load(f)\n",
    "    net = STDP_SR(num_states=2, **net_configs)\n",
    "    net.load_state_dict(torch.load(model_path))\n",
    "    kernels.append(net.ca3.get_stdp_kernel(kernel_len=4, scale=False))"
   ]
  },
  {
   "cell_type": "code",
   "execution_count": 5,
   "metadata": {},
   "outputs": [
    {
     "data": {
      "image/png": "[encoded data removed]",
      "text/plain": [
       "<Figure size 432x432 with 6 Axes>"
      ]
     },
     "metadata": {},
     "output_type": "display_data"
    }
   ],
   "source": [
    "import matplotlib.gridspec as gridspec\n",
    "\n",
    "grid_x = 3; grid_y = 3;\n",
    "\n",
    "plt.figure(figsize = (6, 6))\n",
    "gs1 = gridspec.GridSpec(grid_x, grid_y)\n",
    "gs1.update(wspace=0.05, hspace=0.05) # set the spacing between axes. \n",
    "\n",
    "for idx in range(min(len(kernels), grid_x*grid_y)):\n",
    "    xs, ys = kernels[idx]\n",
    "    ax = plt.subplot(gs1[idx])\n",
    "    ax.axvline(0, color=\"gray\")\n",
    "    ax.axhline(0, color=\"gray\")\n",
    "    ax.axvline(-3, linestyle='--', linewidth=1, color=\"gray\")\n",
    "    ax.axvline(3, linestyle='--', linewidth=1, color=\"gray\")\n",
    "    ax.plot(\n",
    "        xs, ys,\n",
    "        linewidth=3, color='black'\n",
    "        )\n",
    "    plt.axis('on')\n",
    "    ax.set_yticks([])\n",
    "    ax.set_xticks([])\n",
    "    ax.set_ylim(-1.1, 1.1)\n",
    "    ax.spines['top'].set_visible(False)\n",
    "    ax.spines['right'].set_visible(False)\n",
    "    ax.spines['bottom'].set_visible(False)\n",
    "    ax.spines['left'].set_visible(False)\n",
    "plt.savefig('../talk-figures/2k.png', dpi=600, transparent=True)\n",
    "plt.show()"
   ]
  },
  {
   "cell_type": "code",
   "execution_count": null,
   "metadata": {},
   "outputs": [],
   "source": []
  },
  {
   "cell_type": "code",
   "execution_count": null,
   "metadata": {},
   "outputs": [],
   "source": []
  },
  {
   "cell_type": "code",
   "execution_count": null,
   "metadata": {},
   "outputs": [],
   "source": []
  }
 ],
 "metadata": {
  "kernelspec": {
   "display_name": "Python 3 (ipykernel)",
   "language": "python",
   "name": "python3"
  },
  "language_info": {
   "codemirror_mode": {
    "name": "ipython",
    "version": 3
   },
   "file_extension": ".py",
   "mimetype": "text/x-python",
   "name": "python",
   "nbconvert_exporter": "python",
   "pygments_lexer": "ipython3",
   "version": "3.9.7"
  }
 },
 "nbformat": 4,
 "nbformat_minor": 4
}
