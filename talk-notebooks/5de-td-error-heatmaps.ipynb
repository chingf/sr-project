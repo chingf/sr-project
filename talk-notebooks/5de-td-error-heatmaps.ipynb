{
 "cells": [
  {
   "cell_type": "code",
   "execution_count": 48,
   "metadata": {},
   "outputs": [],
   "source": [
    "import pickle\n",
    "import numpy as np\n",
    "import os\n",
    "import torch\n",
    "import torch.nn as nn\n",
    "import re\n",
    "import sys\n",
    "from tensorboard.backend.event_processing.event_accumulator import EventAccumulator\n",
    "import matplotlib.pyplot as plt\n",
    "\n",
    "root = os.path.dirname(os.path.abspath(os.curdir))\n",
    "sys.path.append(root)\n",
    "\n",
    "from sr_model.models.models import AnalyticSR, STDP_SR\n",
    "from datasets import inputs\n",
    "import seaborn as sns\n",
    "import pandas as pd\n",
    "import configs\n",
    "\n",
    "device = 'cpu'"
   ]
  },
  {
   "cell_type": "code",
   "execution_count": 49,
   "metadata": {},
   "outputs": [],
   "source": [
    "def format_model_name(key):\n",
    "    if key == 'RNN-S' or key == 'FF-TD':\n",
    "        return key\n",
    "    else:\n",
    "        return 'Invalid'"
   ]
  },
  {
   "cell_type": "code",
   "execution_count": 50,
   "metadata": {},
   "outputs": [],
   "source": [
    "def get_sparsity(key):\n",
    "    p = re.compile('.*sparsity(.+?)\\/.*')\n",
    "    if 'sparsity' in key:\n",
    "        m = p.match(key)\n",
    "        return m.group(1)\n",
    "    else:\n",
    "        return '0'\n",
    "\n",
    "def get_sigma(key):\n",
    "    p = re.compile('.*sigma(.+?)\\/.*')\n",
    "    if 'sigma' in key:\n",
    "        m = p.match(key)\n",
    "        return m.group(1)\n",
    "    else:\n",
    "        return '0'"
   ]
  },
  {
   "cell_type": "code",
   "execution_count": 51,
   "metadata": {},
   "outputs": [],
   "source": [
    "hue_order = ['RNN-S', 'FF-TD']"
   ]
  },
  {
   "cell_type": "markdown",
   "metadata": {},
   "source": [
    "# Load TD results"
   ]
  },
  {
   "cell_type": "code",
   "execution_count": 52,
   "metadata": {},
   "outputs": [],
   "source": [
    "with open(f\"{configs.engram_dir}03_hannah_dset/td_results.p\", 'rb') as f:\n",
    "    td_results = pickle.load(f)"
   ]
  },
  {
   "cell_type": "code",
   "execution_count": 53,
   "metadata": {
    "code_folding": [
     0
    ]
   },
   "outputs": [],
   "source": [
    "td_results['init_sparsities'] = np.array(td_results['init_sparsities']).astype(float)\n",
    "td_results['final_sparsities'] = np.array(td_results['final_sparsities']).astype(float)\n",
    "td_results['final_sparsities'] = np.around(td_results['final_sparsities'], decimals=2)\n",
    "td_results['sigmas'] = np.array(td_results['sigmas']).astype(float)\n",
    "td_results['gammas'] = np.array(td_results['gammas']).astype(float)\n",
    "td_results['models'] = np.array([format_model_name(m) for m in td_results['models']])\n",
    "td_results['losses'] = np.array(td_results['final_losses']).astype(float)"
   ]
  },
  {
   "cell_type": "code",
   "execution_count": 54,
   "metadata": {},
   "outputs": [],
   "source": [
    "td_df = pd.DataFrame({\n",
    "    'Sparsity': td_results['final_sparsities'],\n",
    "    'Sigma': td_results['sigmas'],\n",
    "    'Gamma': td_results['gammas'],\n",
    "    'Model': td_results['models'],\n",
    "    'TD Loss': td_results['losses']\n",
    "    })\n",
    "td_df = td_df[td_df['Sparsity'] <= 0.2]"
   ]
  },
  {
   "cell_type": "markdown",
   "metadata": {},
   "source": [
    "# Make gradient plots"
   ]
  },
  {
   "cell_type": "code",
   "execution_count": 55,
   "metadata": {},
   "outputs": [],
   "source": [
    "_gamma = 0.75"
   ]
  },
  {
   "cell_type": "code",
   "execution_count": 56,
   "metadata": {},
   "outputs": [],
   "source": [
    "from matplotlib.colors import BoundaryNorm\n",
    "from matplotlib.ticker import MaxNLocator\n",
    "from sklearn.linear_model import LinearRegression"
   ]
  },
  {
   "cell_type": "code",
   "execution_count": 57,
   "metadata": {
    "code_folding": []
   },
   "outputs": [],
   "source": [
    "def get_edge_nans(im):\n",
    "    \"\"\" im is processed row-by-row (e.g., sigma by sparsity) \"\"\"\n",
    "    \n",
    "    mask = np.zeros(im.shape).astype(bool)\n",
    "    nrows, ncols = im.shape\n",
    "    for i in range(nrows):\n",
    "        j = 0\n",
    "        while np.isnan(im[i,j]) and (j < ncols):\n",
    "            mask[i,j] = True\n",
    "            j += 1\n",
    "    return mask"
   ]
  },
  {
   "cell_type": "code",
   "execution_count": 58,
   "metadata": {},
   "outputs": [],
   "source": [
    "plt.rcParams.update({'hatch.color': 'darkgray'})"
   ]
  },
  {
   "cell_type": "code",
   "execution_count": 59,
   "metadata": {},
   "outputs": [
    {
     "data": {
      "text/plain": [
       "array([0.8 , 0.8 , 0.8 , ..., 0.75, 0.75, 0.75])"
      ]
     },
     "execution_count": 59,
     "metadata": {},
     "output_type": "execute_result"
    }
   ],
   "source": [
    "td_df['Gamma'].to_numpy()"
   ]
  },
  {
   "cell_type": "code",
   "execution_count": 68,
   "metadata": {
    "code_folding": [
     0
    ]
   },
   "outputs": [],
   "source": [
    "def make_gradients(\n",
    "    x_key, y_key, z_key, td_df,\n",
    "    chance_key=None, chance_df=None,\n",
    "    cmap=\"Reds\", title=None,\n",
    "    figname=None, figsize=[6.4, 4.8],\n",
    "    xlabel=None, ylabel=None,\n",
    "    interpolate=False, smooth=False,\n",
    "    leave_edge_nans=True, xlim=None,\n",
    "    cbar_ticks=None, cbar_tick_labels=None,\n",
    "    vmin=None, vmax=None\n",
    "    ):\n",
    "    \n",
    "    # Load in data\n",
    "    xs = td_df[x_key].to_numpy()\n",
    "    ys = td_df[y_key].to_numpy()\n",
    "    zs = td_df[z_key].to_numpy()\n",
    "    \n",
    "    # Collect data into a meshgrid\n",
    "    x_list = np.sort(np.unique(xs))\n",
    "    y_list = np.sort(np.unique(ys))\n",
    "    dxs = np.around(x_list[1:] - x_list[:-1], decimals=2)\n",
    "    dys = np.around(y_list[1:] - y_list[:-1], decimals=2)\n",
    "    if np.unique(dxs).size > 1 or np.unique(dys).size > 1:\n",
    "        if smooth:\n",
    "            print(\"Warning: Smoothing with inconsistent dx/dy\")\n",
    "    x_list = np.concatenate((x_list, [x_list[-1]+dxs[-1]]))\n",
    "    y_list = np.concatenate((y_list, [y_list[-1]+dys[-1]]))\n",
    "    x, y = np.meshgrid(x_list, y_list)\n",
    "    z = np.zeros(x.shape)\n",
    "    for i in range(x.shape[0]):\n",
    "        for j in range(y.shape[1]):\n",
    "            ij_idx = np.logical_and(xs==x[i,j], ys==y[i,j])\n",
    "            _val = np.nanmean(zs[ij_idx])\n",
    "            if chance_df is not None:\n",
    "                chance_ij_idx = np.logical_and(\n",
    "                    chance_df[x_key]==x[i,j],\n",
    "                    chance_df[y_key]==y[i,j]\n",
    "                    )\n",
    "                _chance_val = np.nanmean(\n",
    "                    chance_df[chance_key][chance_ij_idx].to_numpy()\n",
    "                    )\n",
    "                val = _chance_val/_val\n",
    "            else:\n",
    "                val = _val\n",
    "            z[i,j] = val\n",
    "    \n",
    "    # Plot raw grid values\n",
    "    cmap = plt.get_cmap(cmap)\n",
    "    cmap.set_bad('yellow')\n",
    "    fig, ax = plt.subplots(figsize=figsize)\n",
    "    im = ax.pcolormesh(\n",
    "        x, y, z, cmap=cmap\n",
    "        )\n",
    "    fig.colorbar(im, ax=ax)\n",
    "    plt.show()\n",
    "    \n",
    "    # Remove padding used for pcolormesh plot\n",
    "    x = x[:-1,:-1]\n",
    "    y = y[:-1,:-1]\n",
    "    z = z[:-1,:-1]\n",
    "\n",
    "    # Mark NaNs\n",
    "    nan_mask = np.isnan(z)\n",
    "    edge_nan_mask = get_edge_nans(z)\n",
    "\n",
    "    # Interpolate to fill in NaN cells\n",
    "    if interpolate:\n",
    "        if np.sum(nan_mask) > 0:\n",
    "            nonnan_mask = np.logical_not(nan_mask)\n",
    "            nan_indices = np.argwhere(nan_mask)\n",
    "            data_X = np.vstack(\n",
    "                [x[nonnan_mask].flatten(),\n",
    "                 y[nonnan_mask].flatten()]).T\n",
    "            data_y = z[nonnan_mask].flatten()\n",
    "            reg = LinearRegression().fit(data_X, data_y)\n",
    "\n",
    "            interp_vals = reg.predict(\n",
    "                np.vstack(\n",
    "                [x[nan_mask].flatten(),\n",
    "                 y[nan_mask].flatten()]).T\n",
    "                )\n",
    "            z[nan_mask] = interp_vals\n",
    "\n",
    "    # Smooth over cells to denoise\n",
    "    if smooth:\n",
    "        from astropy.convolution import Gaussian2DKernel\n",
    "        from astropy.convolution import convolve\n",
    "        kernel = Gaussian2DKernel(x_stddev=1, y_stddev=1)\n",
    "        z = convolve(z, kernel, preserve_nan=True)\n",
    "    \n",
    "    # Generate contour plots\n",
    "    if vmin is not None and vmax is not None:\n",
    "        z = np.clip(z, vmin, vmax)\n",
    "    if vmin is not None and vmax is not None:\n",
    "        levels = MaxNLocator(nbins=20).tick_values(vmin, vmax)\n",
    "    else:\n",
    "        levels = MaxNLocator(nbins=20).tick_values(np.nanmin(z), np.nanmax(z))\n",
    "    fig, ax = plt.subplots(figsize=figsize)\n",
    "\n",
    "    cf = ax.contourf(x, y, z, levels=levels, cmap=cmap, vmin=vmin, vmax=vmax)\n",
    "    if leave_edge_nans: # White out parts that were extrapolated\n",
    "        nans = np.argwhere(edge_nan_mask)\n",
    "        nan1 = nans[0]; nan2 = nans[-1]\n",
    "        nan1x = x[nan1[0],nan1[1]]\n",
    "        nan1y = y[nan1[0],nan1[1]]\n",
    "        nan2x = x[nan2[0],nan2[1]]\n",
    "        nan2y = y[nan2[0],nan2[1]]\n",
    "        max_y = y.max()\n",
    "        plt.fill(\n",
    "            [nan1x, nan2x, nan1x],\n",
    "            [nan1y, nan2y, max_y],\n",
    "            color='white'\n",
    "            )\n",
    "    if xlim is not None: # Adjust x limits\n",
    "        plt.xlim(xlim)\n",
    "       \n",
    "    cbar = fig.colorbar(cf, ax=ax, ticks=cbar_ticks)\n",
    "    if cbar_ticks is not None:\n",
    "        cbar.ax.set_yticklabels(cbar_tick_labels)\n",
    "    plt.title(title)\n",
    "    plt.xlabel(xlabel)\n",
    "    plt.yticks([0,1,2,3])\n",
    "    plt.ylabel(ylabel)\n",
    "    plt.tight_layout()\n",
    "    plt.savefig(f'{figname}.png', dpi=300, transparent=True)\n",
    "    plt.show()\n",
    "    \n",
    "    return x, y, z"
   ]
  },
  {
   "cell_type": "code",
   "execution_count": 69,
   "metadata": {},
   "outputs": [
    {
     "name": "stdout",
     "output_type": "stream",
     "text": [
      "Warning: Smoothing with inconsistent dx/dy\n"
     ]
    },
    {
     "name": "stderr",
     "output_type": "stream",
     "text": [
      "/var/folders/jf/2_wn4hjd11q9klftv_v_hld80000gn/T/ipykernel_18690/2945168922.py:33: RuntimeWarning: Mean of empty slice\n",
      "  _val = np.nanmean(zs[ij_idx])\n",
      "/var/folders/jf/2_wn4hjd11q9klftv_v_hld80000gn/T/ipykernel_18690/2945168922.py:49: MatplotlibDeprecationWarning: You are modifying the state of a globally registered colormap. This has been deprecated since 3.3 and in 3.6, you will not be able to modify a registered colormap in-place. To remove this warning, you can make a copy of the colormap first. cmap = mpl.cm.get_cmap(\"Reds\").copy()\n",
      "  cmap.set_bad('yellow')\n",
      "/var/folders/jf/2_wn4hjd11q9klftv_v_hld80000gn/T/ipykernel_18690/2945168922.py:51: MatplotlibDeprecationWarning: shading='flat' when X and Y have the same dimensions as C is deprecated since 3.3.  Either specify the corners of the quadrilaterals with X and Y, or pass shading='auto', 'nearest' or 'gouraud', or set rcParams['pcolor.shading'].  This will become an error two minor releases later.\n",
      "  im = ax.pcolormesh(\n"
     ]
    },
    {
     "data": {
      "image/png": "[encoded data removed]",
      "text/plain": [
       "<Figure size 180x144 with 2 Axes>"
      ]
     },
     "metadata": {},
     "output_type": "display_data"
    },
    {
     "data": {
      "image/png": "[encoded data removed]",
      "text/plain": [
       "<Figure size 180x144 with 2 Axes>"
      ]
     },
     "metadata": {},
     "output_type": "display_data"
    }
   ],
   "source": [
    "# RNN\n",
    "_x, _y, _z = make_gradients(\n",
    "    'Sparsity', 'Sigma', 'TD Loss',\n",
    "    td_df[(td_df['Model']=='RNN-S')&(td_df['Gamma']==_gamma)],\n",
    "    title='',\n",
    "    xlabel='Feature Sparsity (L1-norm)',\n",
    "    ylabel='Feature Spatial $\\sigma$',\n",
    "    figname=f'../figures/5d',\n",
    "    interpolate=True, smooth=True, figsize=[2.5,2],\n",
    "    xlim=[td_results['final_sparsities'].min(), 0.2],\n",
    "    cbar_ticks=np.arange(0, 0.08, 0.01),\n",
    "    cbar_tick_labels=[0, '', 0.02, '', 0.04, '', 0.06, ''],\n",
    "    vmax=0.076, vmin=0\n",
    "    )"
   ]
  },
  {
   "cell_type": "code",
   "execution_count": 70,
   "metadata": {
    "code_folding": [
     0
    ]
   },
   "outputs": [
    {
     "name": "stdout",
     "output_type": "stream",
     "text": [
      "Warning: Smoothing with inconsistent dx/dy\n"
     ]
    },
    {
     "name": "stderr",
     "output_type": "stream",
     "text": [
      "/var/folders/jf/2_wn4hjd11q9klftv_v_hld80000gn/T/ipykernel_18690/2945168922.py:33: RuntimeWarning: Mean of empty slice\n",
      "  _val = np.nanmean(zs[ij_idx])\n",
      "/var/folders/jf/2_wn4hjd11q9klftv_v_hld80000gn/T/ipykernel_18690/2945168922.py:49: MatplotlibDeprecationWarning: You are modifying the state of a globally registered colormap. This has been deprecated since 3.3 and in 3.6, you will not be able to modify a registered colormap in-place. To remove this warning, you can make a copy of the colormap first. cmap = mpl.cm.get_cmap(\"Reds\").copy()\n",
      "  cmap.set_bad('yellow')\n",
      "/var/folders/jf/2_wn4hjd11q9klftv_v_hld80000gn/T/ipykernel_18690/2945168922.py:51: MatplotlibDeprecationWarning: shading='flat' when X and Y have the same dimensions as C is deprecated since 3.3.  Either specify the corners of the quadrilaterals with X and Y, or pass shading='auto', 'nearest' or 'gouraud', or set rcParams['pcolor.shading'].  This will become an error two minor releases later.\n",
      "  im = ax.pcolormesh(\n"
     ]
    },
    {
     "data": {
      "image/png": "[encoded data removed]",
      "text/plain": [
       "<Figure size 180x144 with 2 Axes>"
      ]
     },
     "metadata": {},
     "output_type": "display_data"
    },
    {
     "data": {
      "image/png": "[encoded data removed]",
      "text/plain": [
       "<Figure size 180x144 with 2 Axes>"
      ]
     },
     "metadata": {},
     "output_type": "display_data"
    }
   ],
   "source": [
    "# Linear\n",
    "_x, _y, _z = make_gradients(\n",
    "    'Sparsity', 'Sigma', 'TD Loss',\n",
    "    td_df[(td_df['Model']=='FF-TD')&(td_df['Gamma']==_gamma)],\n",
    "    title='',\n",
    "    xlabel='Feature Sparsity (L1-norm)',\n",
    "    ylabel='Feature Spatial $\\sigma$',\n",
    "    figname=f'../figures/5e',\n",
    "    interpolate=True, smooth=True, figsize=[2.5,2],\n",
    "    xlim=[td_results['final_sparsities'].min(), 0.2],\n",
    "    cbar_ticks=np.arange(0, 0.08, 0.01),\n",
    "    cbar_tick_labels=[0, '', 0.02, '', 0.04, '', 0.06, ''],\n",
    "    vmax=0.076, vmin=0\n",
    "    )"
   ]
  },
  {
   "cell_type": "code",
   "execution_count": null,
   "metadata": {},
   "outputs": [],
   "source": []
  }
 ],
 "metadata": {
  "kernelspec": {
   "display_name": "Python 3 (ipykernel)",
   "language": "python",
   "name": "python3"
  },
  "language_info": {
   "codemirror_mode": {
    "name": "ipython",
    "version": 3
   },
   "file_extension": ".py",
   "mimetype": "text/x-python",
   "name": "python",
   "nbconvert_exporter": "python",
   "pygments_lexer": "ipython3",
   "version": "3.9.7"
  }
 },
 "nbformat": 4,
 "nbformat_minor": 4
}
