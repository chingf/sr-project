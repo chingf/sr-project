{
 "cells": [
  {
   "cell_type": "code",
   "execution_count": 1,
   "metadata": {},
   "outputs": [],
   "source": [
    "import numpy as np\n",
    "import argparse\n",
    "import time\n",
    "import os\n",
    "from itertools import chain\n",
    "import matplotlib.pyplot as plt\n",
    "import multiprocessing as mp\n",
    "\n",
    "import torch\n",
    "import torch.nn as nn\n",
    "from torch.utils.tensorboard import SummaryWriter\n",
    "\n",
    "from datasets import inputs\n",
    "from sr_model.models.models import AnalyticSR, STDP_SR"
   ]
  },
  {
   "cell_type": "markdown",
   "metadata": {},
   "source": [
    "## Collect the parameter range of interest\n",
    "$$area=A\\tau$$"
   ]
  },
  {
   "cell_type": "code",
   "execution_count": 2,
   "metadata": {},
   "outputs": [],
   "source": [
    "def get_kernel_params(tau_0, A_0, tau_offset):\n",
    "    area = A_0*tau_0\n",
    "    new_tau = tau_0 + tau_offset\n",
    "    new_A = area/new_tau\n",
    "    return new_A, new_tau\n",
    "    \n",
    "def get_symm_kernel_params(tau_0, A_0, tau_offset):\n",
    "    area = A_0*tau_0\n",
    "    new_tau = tau_0 + tau_offset\n",
    "    new_A = (area/2)/new_tau\n",
    "    return new_A, new_tau\n",
    "\n",
    "def get_stdp_kernel(\n",
    "    A_pos, tau_pos, A_neg, tau_neg, kernel_len\n",
    "    ):\n",
    "    \"\"\" Returns plasticity kernel for plotting or debugging. \"\"\"\n",
    "\n",
    "    k = np.zeros(kernel_len)\n",
    "    half_len = kernel_len//2\n",
    "    scaling = 1\n",
    "    k[:half_len] = scaling*A_neg * np.exp(\n",
    "        np.arange(-half_len, 0)/tau_neg\n",
    "        )\n",
    "    k[-half_len-1:] = scaling*A_pos * np.exp(\n",
    "        -1*np.arange(half_len+1)/tau_pos\n",
    "        )\n",
    "    return k"
   ]
  },
  {
   "cell_type": "code",
   "execution_count": 3,
   "metadata": {},
   "outputs": [],
   "source": [
    "A_0 = 0.5\n",
    "tau_0 = 1.15"
   ]
  },
  {
   "cell_type": "code",
   "execution_count": 24,
   "metadata": {},
   "outputs": [],
   "source": [
    "# Order: [A_pos, tau_pos, A_neg, tau_neg]\n",
    "set0 = get_kernel_params(tau_0, A_0, -0.5)\n",
    "set1 = get_kernel_params(tau_0, A_0, -0.25)\n",
    "set2 = get_kernel_params(tau_0, A_0, 0.5)\n",
    "set3 = get_kernel_params(tau_0, A_0, 0.75)\n",
    "set4 = get_symm_kernel_params(tau_0, A_0, -0)\n",
    "\n",
    "params = [\n",
    "    [A_0, tau_0, 0, 1],\n",
    "    [set0[0], set0[1], 0, 1],\n",
    "    [set1[0], set1[1], 0, 1],\n",
    "    [set2[0], set2[1], 0, 1],\n",
    "    [set3[0], set3[1], 0, 1],\n",
    "    [set4[0], set4[1], set4[0], set4[1]],\n",
    "    ]\n",
    "\n",
    "errs = []"
   ]
  },
  {
   "cell_type": "code",
   "execution_count": 25,
   "metadata": {},
   "outputs": [
    {
     "data": {
      "text/plain": [
       "[[0.5, 1.15, 0, 1],\n",
       " [0.8846153846153847, 0.6499999999999999, 0, 1],\n",
       " [0.638888888888889, 0.8999999999999999, 0, 1],\n",
       " [0.34848484848484845, 1.65, 0, 1],\n",
       " [0.3026315789473684, 1.9, 0, 1],\n",
       " [0.25, 1.15, 0.25, 1.15]]"
      ]
     },
     "execution_count": 25,
     "metadata": {},
     "output_type": "execute_result"
    }
   ],
   "source": [
    "params"
   ]
  },
  {
   "cell_type": "code",
   "execution_count": 58,
   "metadata": {},
   "outputs": [
    {
     "data": {
      "image/png": "[encoded data removed]",
      "text/plain": [
       "<Figure size 432x288 with 1 Axes>"
      ]
     },
     "metadata": {
      "needs_background": "light"
     },
     "output_type": "display_data"
    }
   ],
   "source": [
    "for param in params:\n",
    "    print(param)\n",
    "    k = get_stdp_kernel(\n",
    "        param[0], param[1], param[2], param[3], 15\n",
    "        )\n",
    "    plt.figure()\n",
    "    plt.plot(y, linewidth=2)\n",
    "    plt.show()"
   ]
  },
  {
   "cell_type": "markdown",
   "metadata": {},
   "source": [
    "## Initialize data structures"
   ]
  },
  {
   "cell_type": "code",
   "execution_count": 45,
   "metadata": {},
   "outputs": [],
   "source": [
    "device = 'cpu'\n",
    "\n",
    "# Dataset Configs\n",
    "datasets = [ \n",
    "    ['1dwalk', inputs.Sim1DWalk(num_steps=1000, left_right_stay_prob=[5,1,1], num_states=64)],\n",
    "    ['2dwalk', inputs.Sim2DWalk(num_steps=1000, num_states=64)],\n",
    "    ['levyflight', inputs.Sim2DLevyFlight(num_steps=1000, walls=7)]\n",
    "    ]"
   ]
  },
  {
   "cell_type": "markdown",
   "metadata": {},
   "source": [
    "## Run through params"
   ]
  },
  {
   "cell_type": "code",
   "execution_count": 46,
   "metadata": {},
   "outputs": [],
   "source": [
    "def eval_model(args):\n",
    "    param, (dset_name, dset) = args\n",
    "    \n",
    "    net = STDP_SR(num_states=64, gamma=0.4)\n",
    "    net.ca3.reset_trainable_ideal()\n",
    "    net.ca3.set_differentiability(False)\n",
    "    \n",
    "    nn.init.constant_(net.ca3.A_pos, param[0])\n",
    "    nn.init.constant_(net.ca3.tau_pos, param[1])\n",
    "    nn.init.constant_(net.ca3.A_neg, param[2])\n",
    "    nn.init.constant_(net.ca3.tau_neg, param[3])\n",
    "    \n",
    "    with torch.no_grad():\n",
    "        dg_inputs = torch.from_numpy(dset.dg_inputs.T).float().to(device).unsqueeze(1)\n",
    "        dg_modes = torch.from_numpy(dset.dg_modes.T).float().to(device).unsqueeze(1)\n",
    "        _, outputs = net(dg_inputs, dg_modes, reset=True)\n",
    "        est_T = net.ca3.get_T().detach().numpy()\n",
    "        real_T = net.ca3.get_real_T()\n",
    "        err = np.mean(np.abs(est_T - real_T))\n",
    "    \n",
    "    results = [param, dset_name, err]\n",
    "    return results"
   ]
  },
  {
   "cell_type": "code",
   "execution_count": 47,
   "metadata": {},
   "outputs": [],
   "source": [
    "args_list = []\n",
    "for param in params:\n",
    "    for dset_args in datasets:\n",
    "        args_list.append([param, dset_args])"
   ]
  },
  {
   "cell_type": "code",
   "execution_count": 48,
   "metadata": {},
   "outputs": [],
   "source": [
    "def main():\n",
    "    pool = mp.Pool(7)\n",
    "    result = pool.map(eval_model, args_list)\n",
    "    return result"
   ]
  },
  {
   "cell_type": "code",
   "execution_count": null,
   "metadata": {},
   "outputs": [],
   "source": [
    "result = main()"
   ]
  },
  {
   "cell_type": "code",
   "execution_count": 43,
   "metadata": {},
   "outputs": [
    {
     "data": {
      "text/plain": [
       "[[[0.5, 1.15, 0, 1], '1dwalk', 9.699755323186522e-09],\n",
       " [[0.5, 1.15, 0, 1], '2dwalk', 1.0622145383518983e-08],\n",
       " [[0.5, 1.15, 0, 1], 'levyflight', 1.1657474070264781e-08],\n",
       " [[0.8846153846153847, 0.6499999999999999, 0, 1],\n",
       "  '1dwalk',\n",
       "  0.04499269257651452],\n",
       " [[0.8846153846153847, 0.6499999999999999, 0, 1],\n",
       "  '2dwalk',\n",
       "  0.11712909009902894],\n",
       " [[0.8846153846153847, 0.6499999999999999, 0, 1],\n",
       "  'levyflight',\n",
       "  0.052638460364279216],\n",
       " [[0.638888888888889, 0.8999999999999999, 0, 1],\n",
       "  '1dwalk',\n",
       "  0.022085726683761818],\n",
       " [[0.638888888888889, 0.8999999999999999, 0, 1],\n",
       "  '2dwalk',\n",
       "  0.02049924119966676],\n",
       " [[0.638888888888889, 0.8999999999999999, 0, 1],\n",
       "  'levyflight',\n",
       "  0.01242548010683914],\n",
       " [[0.34848484848484845, 1.65, 0, 1], '1dwalk', 0.01519756843325628],\n",
       " [[0.34848484848484845, 1.65, 0, 1], '2dwalk', 0.050536894657181],\n",
       " [[0.34848484848484845, 1.65, 0, 1], 'levyflight', 0.02389949295205445],\n",
       " [[0.3026315789473684, 1.9, 0, 1], '1dwalk', 0.01826217223633148],\n",
       " [[0.3026315789473684, 1.9, 0, 1], '2dwalk', 0.09345850915098267],\n",
       " [[0.3026315789473684, 1.9, 0, 1], 'levyflight', 0.08978033042543895],\n",
       " [[0.25, 1.15, 0.25, 1.15], '1dwalk', 0.3288971564723717],\n",
       " [[0.25, 1.15, 0.25, 1.15], '2dwalk', 0.32592040664449085],\n",
       " [[0.25, 1.15, 0.25, 1.15], 'levyflight', 0.005899756646075463]]"
      ]
     },
     "execution_count": 43,
     "metadata": {},
     "output_type": "execute_result"
    }
   ],
   "source": [
    "result"
   ]
  },
  {
   "cell_type": "markdown",
   "metadata": {},
   "source": [
    "## Plot Tau as a function of performance"
   ]
  },
  {
   "cell_type": "code",
   "execution_count": 5,
   "metadata": {
    "code_folding": [
     0
    ]
   },
   "outputs": [],
   "source": [
    "# load results\n",
    "result = [[[0.5, 1.15, 0, 1], '1dwalk', 0.013415306829583556],\n",
    " [[0.5, 1.15, 0, 1], '2dwalk', 0.0156250270603353],\n",
    " [[0.5, 1.15, 0, 1], 'levyflight', 0.007436624434066371],\n",
    " [[0.8846153846153847, 0.6499999999999999, 0, 1],\n",
    "  '1dwalk',\n",
    "  0.3305586109323132],\n",
    " [[0.8846153846153847, 0.6499999999999999, 0, 1],\n",
    "  '2dwalk',\n",
    "  0.36884151234484785],\n",
    " [[0.8846153846153847, 0.6499999999999999, 0, 1],\n",
    "  'levyflight',\n",
    "  0.09265087818315024],\n",
    " [[0.638888888888889, 0.8999999999999999, 0, 1],\n",
    "  '1dwalk',\n",
    "  1.700732564559048e-08],\n",
    " [[0.638888888888889, 0.8999999999999999, 0, 1],\n",
    "  '2dwalk',\n",
    "  2.8991837664566873e-08],\n",
    " [[0.638888888888889, 0.8999999999999999, 0, 1],\n",
    "  'levyflight',\n",
    "  7.632680565606353e-08],\n",
    " [[0.34848484848484845, 1.65, 0, 1], '1dwalk', 0.014252318069248678],\n",
    " [[0.34848484848484845, 1.65, 0, 1], '2dwalk', 0.015625027123221183],\n",
    " [[0.34848484848484845, 1.65, 0, 1], 'levyflight', 0.007948940370264843],\n",
    " [[0.3026315789473684, 1.9, 0, 1], '1dwalk', 0.01450562411933068],\n",
    " [[0.3026315789473684, 1.9, 0, 1], '2dwalk', 0.015625027123221183],\n",
    " [[0.3026315789473684, 1.9, 0, 1], 'levyflight', 0.008103983359708434],\n",
    " [[0.25, 1.15, 0.25, 1.15], '1dwalk', 0.014796375466901174],\n",
    " [[0.25, 1.15, 0.25, 1.15], '2dwalk', 0.01562502709040147],\n",
    " [[0.25, 1.15, 0.25, 1.15], 'levyflight', 0.008281945825157422]]"
   ]
  },
  {
   "cell_type": "code",
   "execution_count": 44,
   "metadata": {},
   "outputs": [
    {
     "name": "stdout",
     "output_type": "stream",
     "text": [
      "New coords: 1.15, 9.699755323186522e-09\n",
      "New coords: 1.15, 1.0622145383518983e-08\n",
      "New coords: 1.15, 1.1657474070264781e-08\n",
      "New coords: 0.6499999999999999, 0.04499269257651452\n",
      "New coords: 0.6499999999999999, 0.11712909009902894\n",
      "New coords: 0.6499999999999999, 0.052638460364279216\n",
      "New coords: 0.8999999999999999, 0.022085726683761818\n",
      "New coords: 0.8999999999999999, 0.02049924119966676\n",
      "New coords: 0.8999999999999999, 0.01242548010683914\n",
      "New coords: 1.65, 0.01519756843325628\n",
      "New coords: 1.65, 0.050536894657181\n",
      "New coords: 1.65, 0.02389949295205445\n",
      "New coords: 1.9, 0.01826217223633148\n",
      "New coords: 1.9, 0.09345850915098267\n",
      "New coords: 1.9, 0.08978033042543895\n",
      "New coords: 0, 0.3288971564723717\n",
      "New coords: 0, 0.32592040664449085\n",
      "New coords: 0, 0.005899756646075463\n"
     ]
    },
    {
     "data": {
      "image/png": "[encoded data removed]",
      "text/plain": [
       "<Figure size 720x360 with 2 Axes>"
      ]
     },
     "metadata": {
      "needs_background": "light"
     },
     "output_type": "display_data"
    }
   ],
   "source": [
    "f, (ax0, ax1) = plt.subplots(\n",
    "    1, 2, sharey=True, gridspec_kw={'width_ratios': [1, 7]},\n",
    "    figsize=(10,5)\n",
    "    )\n",
    "for res in result:\n",
    "    param, dset_name, err = res\n",
    "    if param[2] != 0:\n",
    "        label = '0'\n",
    "        x = 0\n",
    "        ax0.scatter(x, err, label=label)\n",
    "    else:\n",
    "        label = f'param[1]'\n",
    "        x = param[1]\n",
    "        ax1.scatter(x, err, label=label)\n",
    "    print(f'New coords: {x}, {err}')\n",
    "ax0.set_ylabel(\"MAE (Probability)\", fontsize=16)\n",
    "ax0.set_xticks([])\n",
    "ax0.set_xlabel(\"Symmetric\", fontsize=16)\n",
    "ax1.set_xlabel(\"Tau\", fontsize=16)\n",
    "plt.suptitle(\"Kernel Predictivity vs Error\", fontsize=20)\n",
    "plt.show()"
   ]
  },
  {
   "cell_type": "code",
   "execution_count": null,
   "metadata": {},
   "outputs": [],
   "source": []
  },
  {
   "cell_type": "code",
   "execution_count": null,
   "metadata": {},
   "outputs": [],
   "source": []
  },
  {
   "cell_type": "code",
   "execution_count": null,
   "metadata": {},
   "outputs": [],
   "source": []
  },
  {
   "cell_type": "code",
   "execution_count": 2,
   "metadata": {},
   "outputs": [],
   "source": [
    "def get_kernel_params(tau_0, A_0, tau_offset):\n",
    "    area = A_0*tau_0\n",
    "    new_tau = tau_0 + tau_offset\n",
    "    new_A = area/new_tau\n",
    "    return new_A, new_tau\n",
    "    \n",
    "def get_symm_kernel_params(tau_0, A_0, tau_offset):\n",
    "    area = A_0*tau_0\n",
    "    new_tau = tau_0 + tau_offset\n",
    "    new_A = (area/2)/new_tau\n",
    "    return new_A, new_tau\n",
    "\n",
    "def get_stdp_kernel(\n",
    "    A_pos, tau_pos, A_neg, tau_neg, kernel_len\n",
    "    ):\n",
    "    \"\"\" Returns plasticity kernel for plotting or debugging. \"\"\"\n",
    "\n",
    "    k = np.zeros(kernel_len)\n",
    "    half_len = kernel_len//2\n",
    "    scaling = 1\n",
    "    k[:half_len] = scaling*A_neg * np.exp(\n",
    "        np.arange(-half_len, 0)/tau_neg\n",
    "        )\n",
    "    k[-half_len-1:] = scaling*A_pos * np.exp(\n",
    "        -1*np.arange(half_len+1)/tau_pos\n",
    "        )\n",
    "    return k"
   ]
  },
  {
   "cell_type": "code",
   "execution_count": 4,
   "metadata": {},
   "outputs": [],
   "source": [
    "# Order: [A_pos, tau_pos, A_neg, tau_neg]\n",
    "A_0 = 0.5\n",
    "tau_0 = 1.15\n",
    "set0 = get_kernel_params(tau_0, A_0, -0.5)\n",
    "set1 = get_kernel_params(tau_0, A_0, -0.25)\n",
    "set2 = get_kernel_params(tau_0, A_0, 0.5)\n",
    "set3 = get_kernel_params(tau_0, A_0, 0.75)\n",
    "set4 = get_symm_kernel_params(tau_0, A_0, -0)\n",
    "\n",
    "params = [\n",
    "    [A_0, tau_0, 0, 1],\n",
    "    [set0[0], set0[1], 0, 1],\n",
    "    [set1[0], set1[1], 0, 1],\n",
    "    [set2[0], set2[1], 0, 1],\n",
    "    [set3[0], set3[1], 0, 1],\n",
    "    [set4[0], set4[1], set4[0], set4[1]],\n",
    "    ]\n",
    "\n",
    "errs = []"
   ]
  },
  {
   "cell_type": "code",
   "execution_count": 5,
   "metadata": {},
   "outputs": [
    {
     "data": {
      "text/plain": [
       "[[0.5, 1.15, 0, 1],\n",
       " [0.8846153846153847, 0.6499999999999999, 0, 1],\n",
       " [0.638888888888889, 0.8999999999999999, 0, 1],\n",
       " [0.34848484848484845, 1.65, 0, 1],\n",
       " [0.3026315789473684, 1.9, 0, 1],\n",
       " [0.25, 1.15, 0.25, 1.15]]"
      ]
     },
     "execution_count": 5,
     "metadata": {},
     "output_type": "execute_result"
    }
   ],
   "source": [
    "params"
   ]
  },
  {
   "cell_type": "markdown",
   "metadata": {},
   "source": [
    "## Initialize data structures"
   ]
  },
  {
   "cell_type": "code",
   "execution_count": 10,
   "metadata": {},
   "outputs": [],
   "source": [
    "device = 'cpu'\n",
    "\n",
    "# Dataset Configs\n",
    "dset = inputs.RBYCacheWalk(\n",
    "    num_spatial_states=25*25,\n",
    "    downsample_factor=None,\n",
    "    skip_frame=0.7\n",
    "    )"
   ]
  },
  {
   "cell_type": "markdown",
   "metadata": {},
   "source": [
    "## Run through params"
   ]
  },
  {
   "cell_type": "code",
   "execution_count": 20,
   "metadata": {},
   "outputs": [],
   "source": [
    "def eval_model(args):\n",
    "    param = args\n",
    "    \n",
    "    net = STDP_SR(num_states=692, gamma=0.4)\n",
    "    net.ca3.reset_trainable_ideal()\n",
    "    net.ca3.set_differentiability(False)\n",
    "    \n",
    "    nn.init.constant_(net.ca3.A_pos, param[0])\n",
    "    nn.init.constant_(net.ca3.tau_pos, param[1])\n",
    "    nn.init.constant_(net.ca3.A_neg, param[2])\n",
    "    nn.init.constant_(net.ca3.tau_neg, param[3])\n",
    "    \n",
    "    with torch.no_grad():\n",
    "        dg_inputs = torch.from_numpy(dset.dg_inputs.T).float().to(device).unsqueeze(1)\n",
    "        dg_modes = torch.from_numpy(dset.dg_modes.T).float().to(device).unsqueeze(1)\n",
    "        _, outputs = net(dg_inputs, dg_modes, reset=True)\n",
    "        est_T = net.ca3.get_T().detach().numpy()\n",
    "        real_T = net.ca3.get_real_T()\n",
    "        err = np.mean(np.abs(est_T - real_T))\n",
    "        M0 = net.ca3.get_M_hat()\n",
    "        M1 = net.ca3.get_M_hat(gamma=0.6)\n",
    "    \n",
    "    results = [param, M0, M1, err]\n",
    "    return results"
   ]
  },
  {
   "cell_type": "code",
   "execution_count": 21,
   "metadata": {},
   "outputs": [],
   "source": [
    "args_list = params"
   ]
  },
  {
   "cell_type": "code",
   "execution_count": 22,
   "metadata": {},
   "outputs": [],
   "source": [
    "def main():\n",
    "    pool = mp.Pool(1)\n",
    "    result = pool.map(eval_model, args_list)\n",
    "    return result"
   ]
  },
  {
   "cell_type": "code",
   "execution_count": 23,
   "metadata": {},
   "outputs": [
    {
     "name": "stderr",
     "output_type": "stream",
     "text": [
      "Traceback (most recent call last):\n",
      "Process ForkPoolWorker-3:\n",
      "  File \"/home/chingf/anaconda3/envs/aronov/lib/python3.7/multiprocessing/process.py\", line 297, in _bootstrap\n",
      "    self.run()\n"
     ]
    },
    {
     "ename": "KeyboardInterrupt",
     "evalue": "",
     "output_type": "error",
     "traceback": [
      "\u001b[0;31m---------------------------------------------------------------------------\u001b[0m",
      "\u001b[0;31mKeyboardInterrupt\u001b[0m                         Traceback (most recent call last)",
      "\u001b[0;32m<ipython-input-23-03d27f86d8a6>\u001b[0m in \u001b[0;36m<module>\u001b[0;34m\u001b[0m\n\u001b[0;32m----> 1\u001b[0;31m \u001b[0mresult\u001b[0m \u001b[0;34m=\u001b[0m \u001b[0mmain\u001b[0m\u001b[0;34m(\u001b[0m\u001b[0;34m)\u001b[0m\u001b[0;34m\u001b[0m\u001b[0;34m\u001b[0m\u001b[0m\n\u001b[0m",
      "\u001b[0;32m<ipython-input-22-29917f6511a6>\u001b[0m in \u001b[0;36mmain\u001b[0;34m()\u001b[0m\n\u001b[1;32m      1\u001b[0m \u001b[0;32mdef\u001b[0m \u001b[0mmain\u001b[0m\u001b[0;34m(\u001b[0m\u001b[0;34m)\u001b[0m\u001b[0;34m:\u001b[0m\u001b[0;34m\u001b[0m\u001b[0;34m\u001b[0m\u001b[0m\n\u001b[1;32m      2\u001b[0m     \u001b[0mpool\u001b[0m \u001b[0;34m=\u001b[0m \u001b[0mmp\u001b[0m\u001b[0;34m.\u001b[0m\u001b[0mPool\u001b[0m\u001b[0;34m(\u001b[0m\u001b[0;36m1\u001b[0m\u001b[0;34m)\u001b[0m\u001b[0;34m\u001b[0m\u001b[0;34m\u001b[0m\u001b[0m\n\u001b[0;32m----> 3\u001b[0;31m     \u001b[0mresult\u001b[0m \u001b[0;34m=\u001b[0m \u001b[0mpool\u001b[0m\u001b[0;34m.\u001b[0m\u001b[0mmap\u001b[0m\u001b[0;34m(\u001b[0m\u001b[0meval_model\u001b[0m\u001b[0;34m,\u001b[0m \u001b[0margs_list\u001b[0m\u001b[0;34m)\u001b[0m\u001b[0;34m\u001b[0m\u001b[0;34m\u001b[0m\u001b[0m\n\u001b[0m\u001b[1;32m      4\u001b[0m     \u001b[0;32mreturn\u001b[0m \u001b[0mresult\u001b[0m\u001b[0;34m\u001b[0m\u001b[0;34m\u001b[0m\u001b[0m\n",
      "\u001b[0;32m~/anaconda3/envs/aronov/lib/python3.7/multiprocessing/pool.py\u001b[0m in \u001b[0;36mmap\u001b[0;34m(self, func, iterable, chunksize)\u001b[0m\n\u001b[1;32m    266\u001b[0m         \u001b[0;32min\u001b[0m \u001b[0ma\u001b[0m \u001b[0mlist\u001b[0m \u001b[0mthat\u001b[0m \u001b[0;32mis\u001b[0m \u001b[0mreturned\u001b[0m\u001b[0;34m.\u001b[0m\u001b[0;34m\u001b[0m\u001b[0;34m\u001b[0m\u001b[0m\n\u001b[1;32m    267\u001b[0m         '''\n\u001b[0;32m--> 268\u001b[0;31m         \u001b[0;32mreturn\u001b[0m \u001b[0mself\u001b[0m\u001b[0;34m.\u001b[0m\u001b[0m_map_async\u001b[0m\u001b[0;34m(\u001b[0m\u001b[0mfunc\u001b[0m\u001b[0;34m,\u001b[0m \u001b[0miterable\u001b[0m\u001b[0;34m,\u001b[0m \u001b[0mmapstar\u001b[0m\u001b[0;34m,\u001b[0m \u001b[0mchunksize\u001b[0m\u001b[0;34m)\u001b[0m\u001b[0;34m.\u001b[0m\u001b[0mget\u001b[0m\u001b[0;34m(\u001b[0m\u001b[0;34m)\u001b[0m\u001b[0;34m\u001b[0m\u001b[0;34m\u001b[0m\u001b[0m\n\u001b[0m\u001b[1;32m    269\u001b[0m \u001b[0;34m\u001b[0m\u001b[0m\n\u001b[1;32m    270\u001b[0m     \u001b[0;32mdef\u001b[0m \u001b[0mstarmap\u001b[0m\u001b[0;34m(\u001b[0m\u001b[0mself\u001b[0m\u001b[0;34m,\u001b[0m \u001b[0mfunc\u001b[0m\u001b[0;34m,\u001b[0m \u001b[0miterable\u001b[0m\u001b[0;34m,\u001b[0m \u001b[0mchunksize\u001b[0m\u001b[0;34m=\u001b[0m\u001b[0;32mNone\u001b[0m\u001b[0;34m)\u001b[0m\u001b[0;34m:\u001b[0m\u001b[0;34m\u001b[0m\u001b[0;34m\u001b[0m\u001b[0m\n",
      "\u001b[0;32m~/anaconda3/envs/aronov/lib/python3.7/multiprocessing/pool.py\u001b[0m in \u001b[0;36mget\u001b[0;34m(self, timeout)\u001b[0m\n\u001b[1;32m    649\u001b[0m \u001b[0;34m\u001b[0m\u001b[0m\n\u001b[1;32m    650\u001b[0m     \u001b[0;32mdef\u001b[0m \u001b[0mget\u001b[0m\u001b[0;34m(\u001b[0m\u001b[0mself\u001b[0m\u001b[0;34m,\u001b[0m \u001b[0mtimeout\u001b[0m\u001b[0;34m=\u001b[0m\u001b[0;32mNone\u001b[0m\u001b[0;34m)\u001b[0m\u001b[0;34m:\u001b[0m\u001b[0;34m\u001b[0m\u001b[0;34m\u001b[0m\u001b[0m\n\u001b[0;32m--> 651\u001b[0;31m         \u001b[0mself\u001b[0m\u001b[0;34m.\u001b[0m\u001b[0mwait\u001b[0m\u001b[0;34m(\u001b[0m\u001b[0mtimeout\u001b[0m\u001b[0;34m)\u001b[0m\u001b[0;34m\u001b[0m\u001b[0;34m\u001b[0m\u001b[0m\n\u001b[0m\u001b[1;32m    652\u001b[0m         \u001b[0;32mif\u001b[0m \u001b[0;32mnot\u001b[0m \u001b[0mself\u001b[0m\u001b[0;34m.\u001b[0m\u001b[0mready\u001b[0m\u001b[0;34m(\u001b[0m\u001b[0;34m)\u001b[0m\u001b[0;34m:\u001b[0m\u001b[0;34m\u001b[0m\u001b[0;34m\u001b[0m\u001b[0m\n\u001b[1;32m    653\u001b[0m             \u001b[0;32mraise\u001b[0m \u001b[0mTimeoutError\u001b[0m\u001b[0;34m\u001b[0m\u001b[0;34m\u001b[0m\u001b[0m\n",
      "\u001b[0;32m~/anaconda3/envs/aronov/lib/python3.7/multiprocessing/pool.py\u001b[0m in \u001b[0;36mwait\u001b[0;34m(self, timeout)\u001b[0m\n\u001b[1;32m    646\u001b[0m \u001b[0;34m\u001b[0m\u001b[0m\n\u001b[1;32m    647\u001b[0m     \u001b[0;32mdef\u001b[0m \u001b[0mwait\u001b[0m\u001b[0;34m(\u001b[0m\u001b[0mself\u001b[0m\u001b[0;34m,\u001b[0m \u001b[0mtimeout\u001b[0m\u001b[0;34m=\u001b[0m\u001b[0;32mNone\u001b[0m\u001b[0;34m)\u001b[0m\u001b[0;34m:\u001b[0m\u001b[0;34m\u001b[0m\u001b[0;34m\u001b[0m\u001b[0m\n\u001b[0;32m--> 648\u001b[0;31m         \u001b[0mself\u001b[0m\u001b[0;34m.\u001b[0m\u001b[0m_event\u001b[0m\u001b[0;34m.\u001b[0m\u001b[0mwait\u001b[0m\u001b[0;34m(\u001b[0m\u001b[0mtimeout\u001b[0m\u001b[0;34m)\u001b[0m\u001b[0;34m\u001b[0m\u001b[0;34m\u001b[0m\u001b[0m\n\u001b[0m\u001b[1;32m    649\u001b[0m \u001b[0;34m\u001b[0m\u001b[0m\n\u001b[1;32m    650\u001b[0m     \u001b[0;32mdef\u001b[0m \u001b[0mget\u001b[0m\u001b[0;34m(\u001b[0m\u001b[0mself\u001b[0m\u001b[0;34m,\u001b[0m \u001b[0mtimeout\u001b[0m\u001b[0;34m=\u001b[0m\u001b[0;32mNone\u001b[0m\u001b[0;34m)\u001b[0m\u001b[0;34m:\u001b[0m\u001b[0;34m\u001b[0m\u001b[0;34m\u001b[0m\u001b[0m\n",
      "\u001b[0;32m~/anaconda3/envs/aronov/lib/python3.7/threading.py\u001b[0m in \u001b[0;36mwait\u001b[0;34m(self, timeout)\u001b[0m\n\u001b[1;32m    550\u001b[0m             \u001b[0msignaled\u001b[0m \u001b[0;34m=\u001b[0m \u001b[0mself\u001b[0m\u001b[0;34m.\u001b[0m\u001b[0m_flag\u001b[0m\u001b[0;34m\u001b[0m\u001b[0;34m\u001b[0m\u001b[0m\n\u001b[1;32m    551\u001b[0m             \u001b[0;32mif\u001b[0m \u001b[0;32mnot\u001b[0m \u001b[0msignaled\u001b[0m\u001b[0;34m:\u001b[0m\u001b[0;34m\u001b[0m\u001b[0;34m\u001b[0m\u001b[0m\n\u001b[0;32m--> 552\u001b[0;31m                 \u001b[0msignaled\u001b[0m \u001b[0;34m=\u001b[0m \u001b[0mself\u001b[0m\u001b[0;34m.\u001b[0m\u001b[0m_cond\u001b[0m\u001b[0;34m.\u001b[0m\u001b[0mwait\u001b[0m\u001b[0;34m(\u001b[0m\u001b[0mtimeout\u001b[0m\u001b[0;34m)\u001b[0m\u001b[0;34m\u001b[0m\u001b[0;34m\u001b[0m\u001b[0m\n\u001b[0m\u001b[1;32m    553\u001b[0m             \u001b[0;32mreturn\u001b[0m \u001b[0msignaled\u001b[0m\u001b[0;34m\u001b[0m\u001b[0;34m\u001b[0m\u001b[0m\n\u001b[1;32m    554\u001b[0m \u001b[0;34m\u001b[0m\u001b[0m\n",
      "\u001b[0;32m~/anaconda3/envs/aronov/lib/python3.7/threading.py\u001b[0m in \u001b[0;36mwait\u001b[0;34m(self, timeout)\u001b[0m\n\u001b[1;32m    294\u001b[0m         \u001b[0;32mtry\u001b[0m\u001b[0;34m:\u001b[0m    \u001b[0;31m# restore state no matter what (e.g., KeyboardInterrupt)\u001b[0m\u001b[0;34m\u001b[0m\u001b[0;34m\u001b[0m\u001b[0m\n\u001b[1;32m    295\u001b[0m             \u001b[0;32mif\u001b[0m \u001b[0mtimeout\u001b[0m \u001b[0;32mis\u001b[0m \u001b[0;32mNone\u001b[0m\u001b[0;34m:\u001b[0m\u001b[0;34m\u001b[0m\u001b[0;34m\u001b[0m\u001b[0m\n\u001b[0;32m--> 296\u001b[0;31m                 \u001b[0mwaiter\u001b[0m\u001b[0;34m.\u001b[0m\u001b[0macquire\u001b[0m\u001b[0;34m(\u001b[0m\u001b[0;34m)\u001b[0m\u001b[0;34m\u001b[0m\u001b[0;34m\u001b[0m\u001b[0m\n\u001b[0m\u001b[1;32m    297\u001b[0m                 \u001b[0mgotit\u001b[0m \u001b[0;34m=\u001b[0m \u001b[0;32mTrue\u001b[0m\u001b[0;34m\u001b[0m\u001b[0;34m\u001b[0m\u001b[0m\n\u001b[1;32m    298\u001b[0m             \u001b[0;32melse\u001b[0m\u001b[0;34m:\u001b[0m\u001b[0;34m\u001b[0m\u001b[0;34m\u001b[0m\u001b[0m\n",
      "\u001b[0;31mKeyboardInterrupt\u001b[0m: "
     ]
    },
    {
     "name": "stderr",
     "output_type": "stream",
     "text": [
      "  File \"/home/chingf/anaconda3/envs/aronov/lib/python3.7/multiprocessing/process.py\", line 99, in run\n",
      "    self._target(*self._args, **self._kwargs)\n",
      "  File \"/home/chingf/anaconda3/envs/aronov/lib/python3.7/multiprocessing/pool.py\", line 121, in worker\n",
      "    result = (True, func(*args, **kwds))\n",
      "  File \"/home/chingf/anaconda3/envs/aronov/lib/python3.7/multiprocessing/pool.py\", line 44, in mapstar\n",
      "    return list(map(*args))\n",
      "  File \"<ipython-input-20-1108e07693b5>\", line 16, in eval_model\n",
      "    _, outputs = net(dg_inputs, dg_modes, reset=True)\n",
      "  File \"/home/chingf/anaconda3/envs/aronov/lib/python3.7/site-packages/torch/nn/modules/module.py\", line 889, in _call_impl\n",
      "    result = self.forward(*input, **kwargs)\n",
      "  File \"/home/chingf/Code/sr-project/src/sr_model/models/models.py\", line 81, in forward\n",
      "    self.update()\n",
      "  File \"/home/chingf/Code/sr-project/src/sr_model/models/models.py\", line 99, in update\n",
      "    self.ca3.update()\n",
      "  File \"/home/chingf/Code/sr-project/src/sr_model/models/ca3.py\", line 127, in update\n",
      "    self._update_J_ij(i, j)\n",
      "  File \"/home/chingf/Code/sr-project/src/sr_model/models/ca3.py\", line 245, in _update_J_ij\n",
      "    decay*self.J[i,j] + eta*update, self.leaky_slope\n",
      "KeyboardInterrupt\n"
     ]
    }
   ],
   "source": [
    "result = main()"
   ]
  },
  {
   "cell_type": "code",
   "execution_count": null,
   "metadata": {},
   "outputs": [],
   "source": []
  }
 ],
 "metadata": {
  "kernelspec": {
   "display_name": "Python 3",
   "language": "python",
   "name": "python3"
  },
  "language_info": {
   "codemirror_mode": {
    "name": "ipython",
    "version": 3
   },
   "file_extension": ".py",
   "mimetype": "text/x-python",
   "name": "python",
   "nbconvert_exporter": "python",
   "pygments_lexer": "ipython3",
   "version": "3.7.6"
  }
 },
 "nbformat": 4,
 "nbformat_minor": 4
}
