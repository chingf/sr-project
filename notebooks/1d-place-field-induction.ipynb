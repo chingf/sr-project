{
 "cells": [
  {
   "cell_type": "code",
   "execution_count": 1,
   "metadata": {},
   "outputs": [],
   "source": [
    "import pickle\n",
    "import numpy as np\n",
    "import os\n",
    "import torch\n",
    "import torch.nn as nn\n",
    "import re\n",
    "import sys\n",
    "from tensorboard.backend.event_processing.event_accumulator import EventAccumulator\n",
    "import matplotlib.pyplot as plt\n",
    "\n",
    "root = os.path.dirname(os.path.abspath(os.curdir))\n",
    "sys.path.append(root)\n",
    "\n",
    "from sr_model.models.models import AnalyticSR, STDP_SR, Linear, MLP\n",
    "from datasets import inputs, sf_inputs_discrete\n",
    "from run_td_rnn import run as run_rnn\n",
    "from run_td_mlp import run as run_mlp\n",
    "from run_td_linear import run as run_linear\n",
    "import configs\n",
    "\n",
    "device = 'cpu'"
   ]
  },
  {
   "cell_type": "code",
   "execution_count": 266,
   "metadata": {},
   "outputs": [],
   "source": [
    "np.random.seed(0)"
   ]
  },
  {
   "cell_type": "code",
   "execution_count": 267,
   "metadata": {},
   "outputs": [],
   "source": [
    "num_steps = 4000\n",
    "num_states = 20"
   ]
  },
  {
   "cell_type": "code",
   "execution_count": 268,
   "metadata": {},
   "outputs": [],
   "source": [
    "# Right-biased 1D Walk\n",
    "dset = inputs.Sim1DWalk(\n",
    "    num_steps=num_steps, left_right_stay_prob=[0.5, 1.5, 1],\n",
    "    num_states=num_states\n",
    "    )"
   ]
  },
  {
   "cell_type": "code",
   "execution_count": 269,
   "metadata": {},
   "outputs": [
    {
     "data": {
      "text/plain": [
       "<All keys matched successfully>"
      ]
     },
     "execution_count": 269,
     "metadata": {},
     "output_type": "execute_result"
    }
   ],
   "source": [
    "# Set up network\n",
    "save_path = '../trained_models/baseline0.4/'\n",
    "model_path = save_path + 'model.pt'\n",
    "net_configs_path = save_path + 'net_configs.p'\n",
    "with open(net_configs_path, 'rb') as f:\n",
    "    net_configs = pickle.load(f)\n",
    "net_configs.pop('num_states')\n",
    "net = STDP_SR(num_states=num_states, **net_configs)\n",
    "net.load_state_dict(torch.load(model_path))"
   ]
  },
  {
   "cell_type": "code",
   "execution_count": 270,
   "metadata": {},
   "outputs": [],
   "source": [
    "# Set up dataset\n",
    "dg_inputs = torch.from_numpy(dset.dg_inputs.T).float().to(device).unsqueeze(1)\n",
    "dg_modes = torch.from_numpy(dset.dg_modes.T).float().to(device).unsqueeze(1)\n",
    "input_states = []\n",
    "for t in range(dg_inputs.shape[0]):\n",
    "    input_states.append(np.argwhere(dg_inputs[t,0])[0,0])\n",
    "input_states = np.array(input_states)"
   ]
  },
  {
   "cell_type": "code",
   "execution_count": 271,
   "metadata": {},
   "outputs": [],
   "source": [
    "# Get lap start indices\n",
    "lap_starts = [0]\n",
    "state_counts = np.zeros(num_states)\n",
    "for t, input_state in enumerate(input_states):\n",
    "    if not np.any(state_counts == 0):\n",
    "        lap_starts.append(t)\n",
    "        state_counts = np.zeros(num_states)\n",
    "    state_counts[input_state] += 1\n",
    "lap_starts = np.array(lap_starts)"
   ]
  },
  {
   "cell_type": "markdown",
   "metadata": {},
   "source": [
    "# Run network"
   ]
  },
  {
   "cell_type": "code",
   "execution_count": 272,
   "metadata": {},
   "outputs": [],
   "source": [
    "Ms = []\n",
    "for step in range(dset.num_steps):\n",
    "    curr_dg_input = dg_inputs[step].unsqueeze(0)\n",
    "    curr_dg_mode = dg_modes[step].unsqueeze(0)\n",
    "    reset = True if step == 0 else False\n",
    "    _, outputs = net(curr_dg_input, curr_dg_mode, reset=reset)\n",
    "    if step in lap_starts:\n",
    "        Ms.append(net.get_M(0.99))"
   ]
  },
  {
   "cell_type": "markdown",
   "metadata": {},
   "source": [
    "# Plot place field induction laps"
   ]
  },
  {
   "cell_type": "code",
   "execution_count": 273,
   "metadata": {},
   "outputs": [
    {
     "name": "stdout",
     "output_type": "stream",
     "text": [
      "State 0 first encountered in 58\n",
      "State 1 first encountered in 0\n",
      "State 2 first encountered in 2\n",
      "State 3 first encountered in 3\n",
      "State 4 first encountered in 4\n",
      "State 5 first encountered in 5\n",
      "State 6 first encountered in 6\n",
      "State 7 first encountered in 9\n",
      "State 8 first encountered in 11\n",
      "State 9 first encountered in 12\n",
      "State 10 first encountered in 32\n",
      "State 11 first encountered in 33\n",
      "State 12 first encountered in 36\n",
      "State 13 first encountered in 37\n",
      "State 14 first encountered in 40\n",
      "State 15 first encountered in 41\n",
      "State 16 first encountered in 49\n",
      "State 17 first encountered in 50\n",
      "State 18 first encountered in 51\n",
      "State 19 first encountered in 57\n"
     ]
    }
   ],
   "source": [
    "for state in np.unique(input_states):\n",
    "    first_t = np.argwhere(input_states == state)[0,0]\n",
    "    print(f'State {state} first encountered in {first_t}')"
   ]
  },
  {
   "cell_type": "code",
   "execution_count": 294,
   "metadata": {},
   "outputs": [],
   "source": [
    "chosen_state = 8\n",
    "num_laps = 10\n",
    "M_vectors = [M[chosen_state,:].detach().numpy() for M in Ms]\n",
    "M_vectors = np.array(M_vectors)"
   ]
  },
  {
   "cell_type": "code",
   "execution_count": 302,
   "metadata": {},
   "outputs": [
    {
     "data": {
      "image/png": "[encoded data removed]",
      "text/plain": [
       "<Figure size 432x288 with 1 Axes>"
      ]
     },
     "metadata": {},
     "output_type": "display_data"
    }
   ],
   "source": [
    "plt.figure(figsize=(6,4))\n",
    "fields = M_vectors[:num_laps]\n",
    "fields = np.fliplr(fields)\n",
    "fields = np.roll(fields, shift=(num_states//2)+chosen_state, axis=1)\n",
    "plt.imshow(fields, cmap='viridis')\n",
    "plt.yticks(np.arange(0, num_laps, 5))\n",
    "plt.ylabel('Laps')\n",
    "tick_locs = np.array([0, 50, 100]) # In cm\n",
    "plt.xticks(tick_locs/configs.bin_to_cm, tick_locs)\n",
    "plt.xlabel('Position (cm)')\n",
    "plt.title(f'Example Linear Track Place Field')\n",
    "plt.savefig('field_induction.png', dpi=200)\n",
    "plt.tight_layout()\n",
    "plt.show()"
   ]
  },
  {
   "cell_type": "markdown",
   "metadata": {},
   "source": [
    "# Plot Ms for different walk biases"
   ]
  },
  {
   "cell_type": "code",
   "execution_count": 304,
   "metadata": {},
   "outputs": [
    {
     "data": {
      "image/png": "[encoded data removed]",
      "text/plain": [
       "<Figure size 432x144 with 3 Axes>"
      ]
     },
     "metadata": {},
     "output_type": "display_data"
    }
   ],
   "source": [
    "lrs_ps = [\n",
    "    [1, 1, 1],\n",
    "    [1, 5, 1],\n",
    "    [1, 1, 5]\n",
    "]\n",
    "\n",
    "fig, axs = plt.subplots(1,3, figsize=(6,2))\n",
    "for idx, lrs_p in enumerate(lrs_ps):\n",
    "    num_steps = 1000\n",
    "    num_states = 20\n",
    "\n",
    "    # Right-biased 1D Walk\n",
    "    dset = inputs.Sim1DWalk(\n",
    "        num_steps=num_steps, left_right_stay_prob=lrs_p,\n",
    "        num_states=num_states\n",
    "        )\n",
    "\n",
    "    # Set up network\n",
    "    save_path = '../trained_models/baseline0.4/'\n",
    "    model_path = save_path + 'model.pt'\n",
    "    net_configs_path = save_path + 'net_configs.p'\n",
    "    with open(net_configs_path, 'rb') as f:\n",
    "        net_configs = pickle.load(f)\n",
    "    net_configs.pop('num_states')\n",
    "    net = STDP_SR(num_states=num_states, **net_configs)\n",
    "    net.load_state_dict(torch.load(model_path))\n",
    "    \n",
    "    # Set up dataset\n",
    "    dg_inputs = torch.from_numpy(dset.dg_inputs.T).float().to(device).unsqueeze(1)\n",
    "    dg_modes = torch.from_numpy(dset.dg_modes.T).float().to(device).unsqueeze(1)\n",
    "    input_states = []\n",
    "    for t in range(dg_inputs.shape[0]):\n",
    "        input_states.append(np.argwhere(dg_inputs[t,0])[0,0])\n",
    "    input_states = np.array(input_states)\n",
    "    \n",
    "    for step in range(dset.num_steps):\n",
    "        curr_dg_input = dg_inputs[step].unsqueeze(0)\n",
    "        curr_dg_mode = dg_modes[step].unsqueeze(0)\n",
    "        reset = True if step == 0 else False\n",
    "        _, outputs = net(curr_dg_input, curr_dg_mode, reset=reset)\n",
    "        \n",
    "    ax = axs[idx]\n",
    "    ax.imshow(net.get_M(0.99).detach().numpy().squeeze())\n",
    "    ax.set_xticks([]); ax.set_yticks([])\n",
    "plt.tight_layout()\n",
    "plt.savefig('1dbias_Ms.png', dpi=200)\n",
    "plt.show()"
   ]
  },
  {
   "cell_type": "code",
   "execution_count": null,
   "metadata": {},
   "outputs": [],
   "source": []
  }
 ],
 "metadata": {
  "kernelspec": {
   "display_name": "Python 3",
   "language": "python",
   "name": "python3"
  },
  "language_info": {
   "codemirror_mode": {
    "name": "ipython",
    "version": 3
   },
   "file_extension": ".py",
   "mimetype": "text/x-python",
   "name": "python",
   "nbconvert_exporter": "python",
   "pygments_lexer": "ipython3",
   "version": "3.7.6"
  }
 },
 "nbformat": 4,
 "nbformat_minor": 4
}
