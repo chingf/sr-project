{
 "cells": [
  {
   "cell_type": "code",
   "execution_count": 4,
   "id": "2250d765",
   "metadata": {},
   "outputs": [],
   "source": [
    "import numpy as np\n",
    "from scipy.io import loadmat\n",
    "from scipy.stats import gamma\n",
    "from scipy.special import digamma, loggamma\n",
    "import configs"
   ]
  },
  {
   "cell_type": "markdown",
   "id": "baefe33b",
   "metadata": {},
   "source": [
    "# Helper functions"
   ]
  },
  {
   "cell_type": "code",
   "execution_count": 5,
   "id": "f7f664bb",
   "metadata": {},
   "outputs": [],
   "source": [
    "def get_kl_nfields(nfieldsA, nfieldsB):                                                       \n",
    "    \"\"\" Get KL divergence of nfields distribution from Payne 2021 distribution. \"\"\"\n",
    "                                                                                   \n",
    "    nfieldsA = nfieldsA[nfieldsA != 0].copy()\n",
    "    nfieldsB = nfieldsB[nfieldsB != 0].copy()\n",
    "    nfieldsA[nfieldsA > 5] = 5 # Bins are [1, 2, 3, 4, 5+]   \n",
    "    nfieldsB[nfieldsB > 5] = 5 # Bins are [1, 2, 3, 4, 5+]   \n",
    "    P = np.array([                                                                 \n",
    "        np.sum(nfieldsA==num)/nfieldsA.size for num in np.arange(1, 6)               \n",
    "        ])                                                                         \n",
    "    Q = np.array([                                                                 \n",
    "        np.sum(nfieldsB==num)/nfieldsB.size for num in np.arange(1, 6)               \n",
    "        ])                                      \n",
    "                                                                                   \n",
    "    kl = 0                                                                         \n",
    "    for idx in np.arange(Q.size):                                                  \n",
    "        p_x = P[idx]; q_x = Q[idx]\n",
    "        if p_x == 0: continue                                                      \n",
    "        kl += p_x * np.log(p_x/(q_x+1E-5))\n",
    "    return kl                                                                      \n",
    "                                                                                   \n",
    "def get_kl_fieldsizes(fieldsizesA, fieldsizesB):                                                 \n",
    "    \"\"\"                                                                            \n",
    "    Get KL divergence of field size distribution from Payne 2021 distribution.  \n",
    "    \"\"\"                                                                            \n",
    "                                                                                   \n",
    "    k_P, _, theta_P = gamma.fit(fieldsizesA) # shape, scale                         \n",
    "    k_Q, _, theta_Q = gamma.fit(fieldsizesB) # shape, scale         \n",
    "    term1 = (k_P - k_Q) * digamma(k_P)                                             \n",
    "    term2 = -loggamma(k_P)                                                         \n",
    "    term3 = loggamma(k_Q)                                                          \n",
    "    term4 = k_Q * (np.log(theta_Q) - np.log(theta_P))                              \n",
    "    term5 = k_P * (theta_P - theta_Q)/theta_Q                                      \n",
    "    kl = term1 + term2 + term3 + term4 + term5                                     \n",
    "    return kl "
   ]
  },
  {
   "cell_type": "markdown",
   "id": "b724be23",
   "metadata": {},
   "source": [
    "# Load data"
   ]
  },
  {
   "cell_type": "code",
   "execution_count": 6,
   "id": "940fc549",
   "metadata": {},
   "outputs": [],
   "source": [
    "path_to_payne2021 = '/Users/chingfang/Downloads/6bc_payne2021_data.mat'\n",
    "data = loadmat(path_to_payne2021)"
   ]
  },
  {
   "cell_type": "code",
   "execution_count": 7,
   "id": "d85101c4",
   "metadata": {},
   "outputs": [],
   "source": [
    "field_ratios = np.array(data['field_ratios']).squeeze()"
   ]
  },
  {
   "cell_type": "code",
   "execution_count": 8,
   "id": "16715c1c",
   "metadata": {},
   "outputs": [],
   "source": [
    "field_nums = np.array(data['field_nums']).squeeze()"
   ]
  },
  {
   "cell_type": "markdown",
   "id": "5a6fef3d",
   "metadata": {},
   "source": [
    "# Get split halves"
   ]
  },
  {
   "cell_type": "code",
   "execution_count": 9,
   "id": "1d144eb6",
   "metadata": {},
   "outputs": [],
   "source": [
    "field_nums_base = []\n",
    "field_ratios_base = []\n",
    "for _ in range(500):\n",
    "    nfieldsA = np.random.choice(field_nums, size=field_nums.size//2)\n",
    "    nfieldsB = np.random.choice(field_nums, size=field_nums.size//2)\n",
    "    fieldsizesA = np.random.choice(field_ratios, size=field_ratios.size//2)\n",
    "    fieldsizesB = np.random.choice(field_ratios, size=field_ratios.size//2)\n",
    "    field_nums_base.append(get_kl_nfields(nfieldsA, nfieldsB))\n",
    "    field_ratios_base.append(get_kl_fieldsizes(fieldsizesA, fieldsizesB))"
   ]
  },
  {
   "cell_type": "code",
   "execution_count": 15,
   "id": "32cb9912",
   "metadata": {},
   "outputs": [
    {
     "name": "stdout",
     "output_type": "stream",
     "text": [
      "Mean: 0.03671326596653946\n",
      "Std: 0.03038093819129283\n"
     ]
    }
   ],
   "source": [
    "# KL Field Nums\n",
    "print(f'Mean: {np.mean(field_nums_base)}')\n",
    "print(f'Std: {np.std(field_nums_base)}')"
   ]
  },
  {
   "cell_type": "code",
   "execution_count": 16,
   "id": "39822e6e",
   "metadata": {},
   "outputs": [
    {
     "name": "stdout",
     "output_type": "stream",
     "text": [
      "Mean: 0.08870356620554733\n",
      "Std: 0.10243461029897821\n"
     ]
    }
   ],
   "source": [
    "# KL Field Sizes\n",
    "print(f'Mean: {np.mean(field_ratios_base)}')\n",
    "print(f'Std: {np.std(field_ratios_base)}')"
   ]
  },
  {
   "cell_type": "code",
   "execution_count": 18,
   "id": "05a9d99f",
   "metadata": {},
   "outputs": [
    {
     "name": "stdout",
     "output_type": "stream",
     "text": [
      "Mean: 0.1254168321720868\n",
      "Std: 0.10782275275913869\n"
     ]
    }
   ],
   "source": [
    "# Sum D_KL\n",
    "kls = np.array(field_nums_base) + np.array(field_ratios_base)\n",
    "print(f'Mean: {np.mean(kls)}')\n",
    "print(f'Std: {np.std(kls)}')"
   ]
  }
 ],
 "metadata": {
  "kernelspec": {
   "display_name": "Python 3 (ipykernel)",
   "language": "python",
   "name": "python3"
  },
  "language_info": {
   "codemirror_mode": {
    "name": "ipython",
    "version": 3
   },
   "file_extension": ".py",
   "mimetype": "text/x-python",
   "name": "python",
   "nbconvert_exporter": "python",
   "pygments_lexer": "ipython3",
   "version": "3.9.7"
  }
 },
 "nbformat": 4,
 "nbformat_minor": 5
}
