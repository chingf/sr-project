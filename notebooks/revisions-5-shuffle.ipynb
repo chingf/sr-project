{
 "cells": [
  {
   "cell_type": "code",
   "execution_count": 10,
   "id": "2250d765",
   "metadata": {},
   "outputs": [],
   "source": [
    "import numpy as np\n",
    "from scipy.io import loadmat\n",
    "from scipy.stats import gamma\n",
    "from scipy.special import digamma, loggamma\n",
    "import matplotlib.pyplot as plt\n",
    "import pandas as pd\n",
    "import pickle\n",
    "import seaborn as sns\n",
    "import os\n",
    "import sys\n",
    "root = os.path.dirname(os.path.abspath(os.curdir))\n",
    "sys.path.append(root)\n",
    "from datasets import inputs, sf_inputs_discrete  \n",
    "\n",
    "import configs"
   ]
  },
  {
   "cell_type": "markdown",
   "id": "cc61c6af",
   "metadata": {},
   "source": [
    "# Arguments"
   ]
  },
  {
   "cell_type": "code",
   "execution_count": 3,
   "id": "581b1e21",
   "metadata": {},
   "outputs": [],
   "source": [
    "iters = 3                                                                      \n",
    "gammas = [0.4, 0.6, 0.8]                          \n",
    "\n",
    "# Integer sigmas                                                               \n",
    "spatial_sigmas = [0.0, 1.0, 2.0, 3.0]                                          \n",
    "sparsity_range = [[0.001, 0.2], [0.001, 0.1], [0.001, 0.04], [0.001, 0.023]]   \n",
    "\n",
    "# Other sigmas                                                                 \n",
    "spatial_sigmas.extend([0.25, 0.5, 1.25, 1.5, 1.75, 2.25, 2.5, 2.75, 3.25])     \n",
    "sparsity_range.extend([                                                        \n",
    "    [0.001, 0.19], # 0.25                                                      \n",
    "    [0.001, 0.15], # 0.5                                                       \n",
    "    [0.001, 0.09], # 1.25                                                      \n",
    "    [0.001, 0.05], # 1.5                                                       \n",
    "    [0.001, 0.045], # 1.75                                                     \n",
    "    [0.001, 0.037], # 2.25                                                     \n",
    "    [0.001, 0.03], # 2.5                                                       \n",
    "    [0.001, 0.025], # 2.75                                                     \n",
    "    [0.001, 0.021], # 3.25                                                     \n",
    "    ])                                                                         \n",
    "\n",
    "num_states = 14*14                                                             \n",
    "num_steps = 5001"
   ]
  },
  {
   "cell_type": "code",
   "execution_count": 4,
   "id": "f11ae3f6",
   "metadata": {},
   "outputs": [],
   "source": [
    "args = []                                                                   \n",
    "for gamma in gammas:                                                        \n",
    "    for idx, spatial_sigma in enumerate(spatial_sigmas):                    \n",
    "        _range = sparsity_range[idx]                                        \n",
    "        sparsity_ps = np.linspace(\n",
    "            _range[0], _range[1],\n",
    "            num=20, endpoint=True)\n",
    "        for sparsity_p in sparsity_ps:                                      \n",
    "            args.append([gamma, spatial_sigma, sparsity_p]) "
   ]
  },
  {
   "cell_type": "markdown",
   "id": "6aa0b8c6",
   "metadata": {},
   "source": [
    "# TD Error"
   ]
  },
  {
   "cell_type": "code",
   "execution_count": 8,
   "id": "740bb329",
   "metadata": {},
   "outputs": [],
   "source": [
    "root_dir = \"/Volumes/aronov-locker/Ching/03_hannah_dset_revisions/\""
   ]
  },
  {
   "cell_type": "code",
   "execution_count": 41,
   "id": "da4f5e0a",
   "metadata": {},
   "outputs": [],
   "source": [
    "df = pd.DataFrame({\n",
    "    'Gamma': gammas,\n",
    "    'Sigma': spatial_sigmas,\n",
    "    'Sparsity': sparsities,\n",
    "    'Error': errors\n",
    "})"
   ]
  },
  {
   "cell_type": "markdown",
   "id": "3a9ddb64",
   "metadata": {},
   "source": [
    "# Plotting function"
   ]
  },
  {
   "cell_type": "code",
   "execution_count": 42,
   "id": "d11956f8",
   "metadata": {},
   "outputs": [],
   "source": [
    "from matplotlib.colors import BoundaryNorm\n",
    "from matplotlib.ticker import MaxNLocator\n",
    "from sklearn.linear_model import LinearRegression\n",
    "\n",
    "def get_edge_nans(im):\n",
    "    \"\"\" im is processed row-by-row (e.g., sigma by sparsity) \"\"\"\n",
    "    \n",
    "    mask = np.zeros(im.shape).astype(bool)\n",
    "    nrows, ncols = im.shape\n",
    "    for i in range(nrows):\n",
    "        j = 0\n",
    "        while np.isnan(im[i,j]) and (j < ncols):\n",
    "            mask[i,j] = True\n",
    "            j += 1\n",
    "    return mask"
   ]
  },
  {
   "cell_type": "code",
   "execution_count": 43,
   "id": "12a06e93",
   "metadata": {},
   "outputs": [],
   "source": [
    "def make_gradients(\n",
    "    x_key, y_key, z_key, td_df,\n",
    "    chance_key=None, chance_df=None,\n",
    "    cmap=\"Reds\", title=None,\n",
    "    figname=None, figsize=[6.4, 4.8],\n",
    "    xlabel=None, ylabel=None,\n",
    "    interpolate=False, smooth=False,\n",
    "    leave_edge_nans=True, xlim=None,\n",
    "    cbar_ticks=None, cbar_tick_labels=None,\n",
    "    vmin=None, vmax=None\n",
    "    ):\n",
    "    \n",
    "    # Load in data\n",
    "    xs = td_df[x_key].to_numpy()\n",
    "    ys = td_df[y_key].to_numpy()\n",
    "    zs = td_df[z_key].to_numpy()\n",
    "    \n",
    "    # Collect data into a meshgrid\n",
    "    x_list = np.sort(np.unique(xs))\n",
    "    y_list = np.sort(np.unique(ys))\n",
    "    dxs = np.around(x_list[1:] - x_list[:-1], decimals=2)\n",
    "    dys = np.around(y_list[1:] - y_list[:-1], decimals=2)\n",
    "    if np.unique(dxs).size > 1 or np.unique(dys).size > 1:\n",
    "        if smooth:\n",
    "            print(\"Warning: Smoothing with inconsistent dx/dy\")\n",
    "    x_list = np.concatenate((x_list, [x_list[-1]+dxs[-1]]))\n",
    "    y_list = np.concatenate((y_list, [y_list[-1]+dys[-1]]))\n",
    "    x, y = np.meshgrid(x_list, y_list)\n",
    "    z = np.zeros(x.shape)\n",
    "    for i in range(x.shape[0]):\n",
    "        for j in range(y.shape[1]):\n",
    "            ij_idx = np.logical_and(xs==x[i,j], ys==y[i,j])\n",
    "            _val = np.nanmean(zs[ij_idx])\n",
    "            if chance_df is not None:\n",
    "                chance_ij_idx = np.logical_and(\n",
    "                    chance_df[x_key]==x[i,j],\n",
    "                    chance_df[y_key]==y[i,j]\n",
    "                    )\n",
    "                _chance_val = np.nanmean(\n",
    "                    chance_df[chance_key][chance_ij_idx].to_numpy()\n",
    "                    )\n",
    "                val = _chance_val/_val\n",
    "            else:\n",
    "                val = _val\n",
    "            z[i,j] = val\n",
    "    \n",
    "    # Plot raw grid values\n",
    "    cmap = plt.get_cmap(cmap)\n",
    "    cmap.set_bad('yellow')\n",
    "    fig, ax = plt.subplots(figsize=figsize)\n",
    "    im = ax.pcolormesh(\n",
    "        x, y, z, cmap=cmap\n",
    "        )\n",
    "    fig.colorbar(im, ax=ax)\n",
    "    plt.show()\n",
    "    \n",
    "    # Remove padding used for pcolormesh plot\n",
    "    x = x[:-1,:-1]\n",
    "    y = y[:-1,:-1]\n",
    "    z = z[:-1,:-1]\n",
    "\n",
    "    # Mark NaNs\n",
    "    nan_mask = np.isnan(z)\n",
    "    edge_nan_mask = get_edge_nans(z)\n",
    "\n",
    "    # Interpolate to fill in NaN cells\n",
    "    if interpolate:\n",
    "        if np.sum(nan_mask) > 0:\n",
    "            nonnan_mask = np.logical_not(nan_mask)\n",
    "            nan_indices = np.argwhere(nan_mask)\n",
    "            data_X = np.vstack(\n",
    "                [x[nonnan_mask].flatten(),\n",
    "                 y[nonnan_mask].flatten()]).T\n",
    "            data_y = z[nonnan_mask].flatten()\n",
    "            reg = LinearRegression().fit(data_X, data_y)\n",
    "\n",
    "            interp_vals = reg.predict(\n",
    "                np.vstack(\n",
    "                [x[nan_mask].flatten(),\n",
    "                 y[nan_mask].flatten()]).T\n",
    "                )\n",
    "            z[nan_mask] = interp_vals\n",
    "\n",
    "    # Smooth over cells to denoise\n",
    "    if smooth:\n",
    "        from astropy.convolution import Gaussian2DKernel\n",
    "        from astropy.convolution import convolve\n",
    "        kernel = Gaussian2DKernel(x_stddev=1, y_stddev=1)\n",
    "        z = convolve(z, kernel, preserve_nan=True)\n",
    "    \n",
    "    # Generate contour plots\n",
    "    if vmin is not None and vmax is not None:\n",
    "        z = np.clip(z, vmin, vmax)\n",
    "    if vmin is not None and vmax is not None:\n",
    "        levels = MaxNLocator(nbins=20).tick_values(vmin, vmax)\n",
    "    else:\n",
    "        levels = MaxNLocator(nbins=20).tick_values(np.nanmin(z), np.nanmax(z))\n",
    "    fig, ax = plt.subplots(figsize=figsize)\n",
    "\n",
    "    cf = ax.contourf(x, y, z, levels=levels, cmap=cmap, vmin=vmin, vmax=vmax)\n",
    "    if leave_edge_nans: # White out parts that were extrapolated\n",
    "        nans = np.argwhere(edge_nan_mask)\n",
    "        nan1 = nans[0]; nan2 = nans[-1]\n",
    "        nan1x = x[nan1[0],nan1[1]]\n",
    "        nan1y = y[nan1[0],nan1[1]]\n",
    "        nan2x = x[nan2[0],nan2[1]]\n",
    "        nan2y = y[nan2[0],nan2[1]]\n",
    "        max_y = y.max()\n",
    "        plt.fill(\n",
    "            [nan1x, nan2x, nan1x],\n",
    "            [nan1y, nan2y, max_y],\n",
    "            color='gray'\n",
    "            )\n",
    "    if xlim is not None: # Adjust x limits\n",
    "        plt.xlim(xlim)\n",
    "       \n",
    "    cbar = fig.colorbar(cf, ax=ax, ticks=cbar_ticks)\n",
    "    if cbar_ticks is not None:\n",
    "        cbar.ax.set_yticklabels(cbar_tick_labels)\n",
    "    plt.title(title)\n",
    "    plt.xlabel(xlabel)\n",
    "    plt.yticks([0,1,2,3])\n",
    "    plt.ylabel(ylabel)\n",
    "    plt.tight_layout()\n",
    "    plt.savefig(f'{figname}.png', dpi=300, transparent=True)\n",
    "    plt.show()\n",
    "    \n",
    "    return x, y, z"
   ]
  },
  {
   "cell_type": "markdown",
   "id": "39b9b2f4",
   "metadata": {},
   "source": [
    "# Make heatmap"
   ]
  },
  {
   "cell_type": "code",
   "execution_count": 34,
   "id": "32b8dc4c",
   "metadata": {},
   "outputs": [
    {
     "name": "stdout",
     "output_type": "stream",
     "text": [
      "Warning: Smoothing with inconsistent dx/dy\n"
     ]
    },
    {
     "name": "stderr",
     "output_type": "stream",
     "text": [
      "/var/folders/jf/2_wn4hjd11q9klftv_v_hld80000gn/T/ipykernel_10210/428530548.py:33: RuntimeWarning: Mean of empty slice\n",
      "  _val = np.nanmean(zs[ij_idx])\n",
      "/var/folders/jf/2_wn4hjd11q9klftv_v_hld80000gn/T/ipykernel_10210/428530548.py:49: MatplotlibDeprecationWarning: You are modifying the state of a globally registered colormap. This has been deprecated since 3.3 and in 3.6, you will not be able to modify a registered colormap in-place. To remove this warning, you can make a copy of the colormap first. cmap = mpl.cm.get_cmap(\"Reds\").copy()\n",
      "  cmap.set_bad('yellow')\n",
      "/var/folders/jf/2_wn4hjd11q9klftv_v_hld80000gn/T/ipykernel_10210/428530548.py:51: MatplotlibDeprecationWarning: shading='flat' when X and Y have the same dimensions as C is deprecated since 3.3.  Either specify the corners of the quadrilaterals with X and Y, or pass shading='auto', 'nearest' or 'gouraud', or set rcParams['pcolor.shading'].  This will become an error two minor releases later.\n",
      "  im = ax.pcolormesh(\n"
     ]
    },
    {
     "data": {
      "image/png": "[encoded data removed]",
      "text/plain": [
       "<Figure size 180x144 with 2 Axes>"
      ]
     },
     "metadata": {},
     "output_type": "display_data"
    },
    {
     "data": {
      "image/png": "[encoded data removed]",
      "text/plain": [
       "<Figure size 180x144 with 2 Axes>"
      ]
     },
     "metadata": {},
     "output_type": "display_data"
    },
    {
     "name": "stdout",
     "output_type": "stream",
     "text": [
      "Warning: Smoothing with inconsistent dx/dy\n"
     ]
    },
    {
     "name": "stderr",
     "output_type": "stream",
     "text": [
      "/var/folders/jf/2_wn4hjd11q9klftv_v_hld80000gn/T/ipykernel_10210/428530548.py:33: RuntimeWarning: Mean of empty slice\n",
      "  _val = np.nanmean(zs[ij_idx])\n",
      "/var/folders/jf/2_wn4hjd11q9klftv_v_hld80000gn/T/ipykernel_10210/428530548.py:49: MatplotlibDeprecationWarning: You are modifying the state of a globally registered colormap. This has been deprecated since 3.3 and in 3.6, you will not be able to modify a registered colormap in-place. To remove this warning, you can make a copy of the colormap first. cmap = mpl.cm.get_cmap(\"Reds\").copy()\n",
      "  cmap.set_bad('yellow')\n",
      "/var/folders/jf/2_wn4hjd11q9klftv_v_hld80000gn/T/ipykernel_10210/428530548.py:51: MatplotlibDeprecationWarning: shading='flat' when X and Y have the same dimensions as C is deprecated since 3.3.  Either specify the corners of the quadrilaterals with X and Y, or pass shading='auto', 'nearest' or 'gouraud', or set rcParams['pcolor.shading'].  This will become an error two minor releases later.\n",
      "  im = ax.pcolormesh(\n"
     ]
    },
    {
     "data": {
      "image/png": "[encoded data removed]",
      "text/plain": [
       "<Figure size 180x144 with 2 Axes>"
      ]
     },
     "metadata": {},
     "output_type": "display_data"
    },
    {
     "data": {
      "image/png": "[encoded data removed]",
      "text/plain": [
       "<Figure size 180x144 with 2 Axes>"
      ]
     },
     "metadata": {},
     "output_type": "display_data"
    },
    {
     "name": "stdout",
     "output_type": "stream",
     "text": [
      "Warning: Smoothing with inconsistent dx/dy\n"
     ]
    },
    {
     "name": "stderr",
     "output_type": "stream",
     "text": [
      "/var/folders/jf/2_wn4hjd11q9klftv_v_hld80000gn/T/ipykernel_10210/428530548.py:33: RuntimeWarning: Mean of empty slice\n",
      "  _val = np.nanmean(zs[ij_idx])\n",
      "/var/folders/jf/2_wn4hjd11q9klftv_v_hld80000gn/T/ipykernel_10210/428530548.py:49: MatplotlibDeprecationWarning: You are modifying the state of a globally registered colormap. This has been deprecated since 3.3 and in 3.6, you will not be able to modify a registered colormap in-place. To remove this warning, you can make a copy of the colormap first. cmap = mpl.cm.get_cmap(\"Reds\").copy()\n",
      "  cmap.set_bad('yellow')\n",
      "/var/folders/jf/2_wn4hjd11q9klftv_v_hld80000gn/T/ipykernel_10210/428530548.py:51: MatplotlibDeprecationWarning: shading='flat' when X and Y have the same dimensions as C is deprecated since 3.3.  Either specify the corners of the quadrilaterals with X and Y, or pass shading='auto', 'nearest' or 'gouraud', or set rcParams['pcolor.shading'].  This will become an error two minor releases later.\n",
      "  im = ax.pcolormesh(\n"
     ]
    },
    {
     "data": {
      "image/png": "[encoded data removed]",
      "text/plain": [
       "<Figure size 180x144 with 2 Axes>"
      ]
     },
     "metadata": {},
     "output_type": "display_data"
    },
    {
     "data": {
      "image/png": "[encoded data removed]",
      "text/plain": [
       "<Figure size 180x144 with 2 Axes>"
      ]
     },
     "metadata": {},
     "output_type": "display_data"
    }
   ],
   "source": [
    "for _gamma in np.unique(gammas):\n",
    "    _df_gamma = df[df['Gamma']==_gamma]\n",
    "    _x, _y, _z = make_gradients(\n",
    "        'Sparsity', 'Sigma', 'Error',\n",
    "        _df_gamma,\n",
    "        title='',\n",
    "        xlabel='Feature Sparsity (L1-norm)',\n",
    "        ylabel='Feature Spatial $\\sigma$',\n",
    "        figname=f'../figures/S5_identity_{_gamma}',\n",
    "        interpolate=True, smooth=True, figsize=[2.5,2],\n",
    "        xlim=[min(sparsities), 0.2],\n",
    "        cbar_ticks=np.arange(0, 0.08, 0.01),\n",
    "        cbar_tick_labels=[0, '', 0.02, '', 0.04, '', 0.06, ''],\n",
    "        vmax=0.076, vmin=0\n",
    "        )"
   ]
  },
  {
   "cell_type": "code",
   "execution_count": null,
   "id": "48f008e5",
   "metadata": {},
   "outputs": [],
   "source": []
  }
 ],
 "metadata": {
  "kernelspec": {
   "display_name": "Python 3 (ipykernel)",
   "language": "python",
   "name": "python3"
  },
  "language_info": {
   "codemirror_mode": {
    "name": "ipython",
    "version": 3
   },
   "file_extension": ".py",
   "mimetype": "text/x-python",
   "name": "python",
   "nbconvert_exporter": "python",
   "pygments_lexer": "ipython3",
   "version": "3.9.7"
  }
 },
 "nbformat": 4,
 "nbformat_minor": 5
}
