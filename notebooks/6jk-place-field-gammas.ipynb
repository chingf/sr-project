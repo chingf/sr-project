{
 "cells": [
  {
   "cell_type": "code",
   "execution_count": 1,
   "metadata": {},
   "outputs": [
    {
     "name": "stderr",
     "output_type": "stream",
     "text": [
      "/Users/chingfang/Code/sr-project/datasets/inputs.py:12: UserWarning: Emily's experimental data could not be loaded.\n",
      "  warnings.warn(\"Emily's experimental data could not be loaded.\")\n",
      "/Users/chingfang/Code/sr-project/datasets/sf_inputs_discrete.py:19: UserWarning: Emily's experimental data could not be loaded.\n",
      "  warnings.warn(\"Emily's experimental data could not be loaded.\")\n"
     ]
    }
   ],
   "source": [
    "import pickle\n",
    "import numpy as np\n",
    "import os\n",
    "import torch\n",
    "import torch.nn as nn\n",
    "import re\n",
    "import sys\n",
    "from copy import deepcopy\n",
    "from tensorboard.backend.event_processing.event_accumulator import EventAccumulator\n",
    "import matplotlib.pyplot as plt\n",
    "from matplotlib.colors import BoundaryNorm\n",
    "from matplotlib.ticker import MaxNLocator\n",
    "import re\n",
    "import pandas as pd\n",
    "import seaborn as sns\n",
    "from math import ceil\n",
    "from sklearn.linear_model import LinearRegression\n",
    "\n",
    "root = os.path.dirname(os.path.abspath(os.curdir))\n",
    "sys.path.append(root)\n",
    "from sr_model.models.models import AnalyticSR, STDP_SR, Linear\n",
    "from datasets import inputs, sf_inputs_discrete\n",
    "import configs\n",
    "\n",
    "device = 'cpu'"
   ]
  },
  {
   "cell_type": "markdown",
   "metadata": {},
   "source": [
    "# Collect metrics over datasets\n",
    "You will have to run the corresponding python file to this jupyter notebook (will have the same title, but with 'parfor' attached)."
   ]
  },
  {
   "cell_type": "code",
   "execution_count": 2,
   "metadata": {},
   "outputs": [],
   "source": [
    "model = 'rnn_tanh'"
   ]
  },
  {
   "cell_type": "code",
   "execution_count": 3,
   "metadata": {},
   "outputs": [],
   "source": [
    "root_dir = '/Volumes/aronov-locker/Ching/03_hannah_dset_revisions/'"
   ]
  },
  {
   "cell_type": "code",
   "execution_count": 4,
   "metadata": {},
   "outputs": [],
   "source": [
    "log2_e = 1.442695\n",
    "nats_to_bits = lambda x: log2_e*x"
   ]
  },
  {
   "cell_type": "code",
   "execution_count": 5,
   "metadata": {},
   "outputs": [],
   "source": [
    "dset = {\n",
    "    'Sigmas': [],\n",
    "    'Sparsities': [],\n",
    "    'Field Sizes': [],\n",
    "    'Field Size KLs': [],\n",
    "    'Num Fields': [],\n",
    "    'Num Field KLs': [],\n",
    "    'Total KLs': [],\n",
    "    'Gammas': []\n",
    "    }"
   ]
  },
  {
   "cell_type": "code",
   "execution_count": 6,
   "metadata": {
    "code_folding": []
   },
   "outputs": [],
   "source": [
    "for gamma in [0.4, 0.5, 0.6, 0.75, 0.8]:\n",
    "    with open(f'{root_dir}5a_{model}_results_gamma{gamma}.p', 'rb') as f:\n",
    "        result = pickle.load(f)\n",
    "        \n",
    "    sigmas = np.array(result['sigmas'])\n",
    "    final_sparsities = np.array(result['final_sparsities'])\n",
    "    final_sparsities = np.around(final_sparsities, decimals=2)\n",
    "    fieldsizes = np.array(result['fieldsizes'])\n",
    "    nfields = np.array(result['nfields'])\n",
    "    fieldsizekls = nats_to_bits(np.array(result['fieldsizekls']))\n",
    "    nfieldkls = nats_to_bits(np.array(result['nfieldkls']))\n",
    "    kls = fieldsizekls + nfieldkls\n",
    "    \n",
    "    if final_sparsities.size != fieldsizekls.size:\n",
    "        print(gamma)\n",
    "    \n",
    "    dset['Sigmas'].extend(sigmas.tolist())\n",
    "    dset['Sparsities'].extend(final_sparsities.tolist())\n",
    "    dset['Field Sizes'].extend(fieldsizes.tolist())\n",
    "    dset['Field Size KLs'].extend(fieldsizekls.tolist())\n",
    "    dset['Num Fields'].extend(nfields.tolist())\n",
    "    dset['Num Field KLs'].extend(nfieldkls.tolist())\n",
    "    dset['Total KLs'].extend(kls.tolist())\n",
    "    dset['Gammas'].extend([gamma]*sigmas.size)"
   ]
  },
  {
   "cell_type": "code",
   "execution_count": 7,
   "metadata": {},
   "outputs": [],
   "source": [
    "from scipy import stats"
   ]
  },
  {
   "cell_type": "markdown",
   "metadata": {},
   "source": [
    "# Metrics as a function of $\\gamma$"
   ]
  },
  {
   "cell_type": "code",
   "execution_count": 8,
   "metadata": {},
   "outputs": [
    {
     "data": {
      "image/png": "[encoded data removed]",
      "text/plain": [
       "<Figure size 108x90 with 1 Axes>"
      ]
     },
     "metadata": {},
     "output_type": "display_data"
    }
   ],
   "source": [
    "df = pd.DataFrame(dset)\n",
    "df = df[df['Sparsities'] <= 0.2]\n",
    "key = 'Field Size KLs'\n",
    "df = df[(np.abs(stats.zscore(df[key])) < 4)]\n",
    "fig, ax = plt.subplots(figsize=(1.5, 1.25))\n",
    "sns.lineplot(\n",
    "    x='Gammas', y=key,\n",
    "    ax = ax, data=df\n",
    "    )\n",
    "plt.ylabel('Field Size $D_{KL}$')\n",
    "plt.xlabel('$\\gamma_R$')\n",
    "plt.ylim(0)\n",
    "plt.tight_layout()\n",
    "plt.savefig('../figures/6j.png', dpi=300, transparent=True)"
   ]
  },
  {
   "cell_type": "code",
   "execution_count": 9,
   "metadata": {},
   "outputs": [
    {
     "data": {
      "image/png": "[encoded data removed]",
      "text/plain": [
       "<Figure size 108x90 with 1 Axes>"
      ]
     },
     "metadata": {},
     "output_type": "display_data"
    }
   ],
   "source": [
    "df = pd.DataFrame(dset)\n",
    "df = df[df['Sparsities'] <= 0.2]\n",
    "key = 'Num Field KLs'\n",
    "df = df[(np.abs(stats.zscore(df[key])) < 4)]\n",
    "fig, ax = plt.subplots(figsize=(1.5, 1.25))\n",
    "sns.lineplot(\n",
    "    x='Gammas', y=key,\n",
    "    ax=ax, data=df\n",
    "    )\n",
    "plt.ylabel('Num. Fields $D_{KL}$')\n",
    "plt.xlabel('$\\gamma_R$')\n",
    "plt.ylim(0)\n",
    "plt.tight_layout()\n",
    "plt.savefig('../figures/6k.png', dpi=300, transparent=True)"
   ]
  },
  {
   "cell_type": "code",
   "execution_count": null,
   "metadata": {},
   "outputs": [],
   "source": []
  }
 ],
 "metadata": {
  "kernelspec": {
   "display_name": "Python 3 (ipykernel)",
   "language": "python",
   "name": "python3"
  },
  "language_info": {
   "codemirror_mode": {
    "name": "ipython",
    "version": 3
   },
   "file_extension": ".py",
   "mimetype": "text/x-python",
   "name": "python",
   "nbconvert_exporter": "python",
   "pygments_lexer": "ipython3",
   "version": "3.9.7"
  }
 },
 "nbformat": 4,
 "nbformat_minor": 4
}
