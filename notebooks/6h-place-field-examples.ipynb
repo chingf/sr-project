{
 "cells": [
  {
   "cell_type": "code",
   "execution_count": 2,
   "metadata": {},
   "outputs": [
    {
     "name": "stderr",
     "output_type": "stream",
     "text": [
      "/Users/chingfang/Code/sr-project/datasets/inputs.py:12: UserWarning: Emily's experimental data could not be loaded.\n",
      "  warnings.warn(\"Emily's experimental data could not be loaded.\")\n",
      "/Users/chingfang/Code/sr-project/datasets/sf_inputs_discrete.py:19: UserWarning: Emily's experimental data could not be loaded.\n",
      "  warnings.warn(\"Emily's experimental data could not be loaded.\")\n"
     ]
    }
   ],
   "source": [
    "import pickle\n",
    "import numpy as np\n",
    "import os\n",
    "import torch\n",
    "import torch.nn as nn\n",
    "import re\n",
    "import sys\n",
    "from tensorboard.backend.event_processing.event_accumulator import EventAccumulator\n",
    "import matplotlib.pyplot as plt\n",
    "\n",
    "root = os.path.dirname(os.path.abspath(os.curdir))\n",
    "sys.path.append(root)\n",
    "\n",
    "from sr_model.models.models import AnalyticSR, STDP_SR, Linear\n",
    "from datasets import inputs, sf_inputs_discrete\n",
    "from utils import get_firing_field, get_field_metrics\n",
    "import configs\n",
    "\n",
    "device = 'cpu'"
   ]
  },
  {
   "cell_type": "markdown",
   "metadata": {},
   "source": [
    "# Collect experiments in region of interest"
   ]
  },
  {
   "cell_type": "code",
   "execution_count": 3,
   "metadata": {},
   "outputs": [],
   "source": [
    "desired_sigmas = ['sigma2.5']\n",
    "desired_sparsity_range = [0.1, 0.19]\n",
    "desired_sigmas = ['sigma1.75']\n",
    "desired_sparsity_range = [0.15, 0.2]\n",
    "gamma = 0.8\n",
    "model = 'rnn_tanh'"
   ]
  },
  {
   "cell_type": "code",
   "execution_count": 4,
   "metadata": {},
   "outputs": [],
   "source": [
    "results_dirs = []\n",
    "data_dir = f'{configs.engram_dir}03_hannah_dset/'\n",
    "for sparsity in os.listdir(data_dir):\n",
    "    if not os.path.isdir(f'{data_dir}{sparsity}'): continue\n",
    "    sigma_dirs = os.listdir(f'{data_dir}{sparsity}')\n",
    "    for desired_sigma in desired_sigmas:\n",
    "        if desired_sigma in sigma_dirs:\n",
    "            results_dir = f'{data_dir}{sparsity}/{desired_sigma}/{gamma}/{model}/0/'\n",
    "            results_path = results_dir + 'results.p'\n",
    "            with open(results_path, 'rb') as f:\n",
    "                results = pickle.load(f)\n",
    "            dset = results['dset']\n",
    "            final_sparsity = dset.feature_maker.post_smooth_sparsity\n",
    "            if final_sparsity >= desired_sparsity_range[0]:\n",
    "                if final_sparsity <= desired_sparsity_range[1]:\n",
    "                    results_dirs.append(results_dir)"
   ]
  },
  {
   "cell_type": "markdown",
   "metadata": {},
   "source": [
    "# Plotting function"
   ]
  },
  {
   "cell_type": "code",
   "execution_count": 5,
   "metadata": {
    "code_folding": [],
    "scrolled": false
   },
   "outputs": [],
   "source": [
    "def plot_fields(results_dir):\n",
    "    results_path = results_dir + 'results.p'\n",
    "    fieldinfos_path = results_dir + 'field_infos.p'\n",
    "    with open(results_path, 'rb') as f:\n",
    "        results = pickle.load(f)\n",
    "    if os.path.isfile(fieldinfos_path):\n",
    "        with open(fieldinfos_path, 'rb') as f:\n",
    "            fieldinfos = pickle.load(f)\n",
    "    if 'hopfield' in results_path:\n",
    "        outputs = results['outputs'].detach().numpy().squeeze()\n",
    "    else:\n",
    "        outputs = results['outputs']\n",
    "    dset = results['dset']\n",
    "\n",
    "    print('Sigma:')\n",
    "    print(dset.feature_maker.spatial_sigma)\n",
    "    print('Sparsity:')\n",
    "    print(dset.feature_maker.post_smooth_sparsity)\n",
    "\n",
    "    walk_xs = dset.xs\n",
    "    walk_ys = dset.ys\n",
    "    arena_length = int(np.sqrt(outputs.shape[1]))\n",
    "\n",
    "    grid_x = 2; grid_y = 5;\n",
    "\n",
    "    plt.figure(figsize = (3., 1.5))\n",
    "    gs1 = gridspec.GridSpec(grid_x, grid_y)\n",
    "    gs1.update(wspace=0.03, hspace=0.03) # set the spacing between axes. \n",
    "\n",
    "    neurs = np.arange(outputs.shape[1])\n",
    "    np.random.shuffle(neurs)\n",
    "\n",
    "    idx = 0\n",
    "    for neur in neurs:\n",
    "        ff, mask = get_firing_field(\n",
    "            walk_xs, walk_ys, outputs[:,neur],\n",
    "            arena_length, normalize=True\n",
    "            )\n",
    "        ax = plt.subplot(gs1[idx])\n",
    "        plt.axis('on')\n",
    "        if np.sum(fieldinfos[neur][1]) == 0: continue # Skip non-place cells\n",
    "#         ff -= ff.min()\n",
    "        \n",
    "        ff -= np.percentile(ff, 5)\n",
    "        ff[ff<0] = 0\n",
    "        \n",
    "        ff = ff/ff.max()\n",
    "        ax.imshow(ff, vmin=0., vmax=1, cmap='viridis')\n",
    "        ax.set_xticks([])\n",
    "        ax.set_yticks([])\n",
    "\n",
    "        idx += 1\n",
    "        if idx == grid_x*grid_y: break\n",
    "    plt.suptitle('Simulated Place Fields')\n",
    "    plt.tight_layout()\n",
    "    plt.savefig('../figures/6h.png', dpi=300, transparent=True)\n",
    "    plt.show()"
   ]
  },
  {
   "cell_type": "markdown",
   "metadata": {},
   "source": [
    "# Plot all relevant experiments"
   ]
  },
  {
   "cell_type": "code",
   "execution_count": 6,
   "metadata": {},
   "outputs": [
    {
     "name": "stdout",
     "output_type": "stream",
     "text": [
      "/Volumes/aronov-locker/Ching/03_hannah_dset/sparsity0.040368421052631574/sigma1.75/0.8/rnn_tanh/0/\n",
      "Sigma:\n",
      "1.75\n",
      "Sparsity:\n",
      "0.19556038728582512\n"
     ]
    },
    {
     "ename": "NameError",
     "evalue": "name 'gridspec' is not defined",
     "output_type": "error",
     "traceback": [
      "\u001b[0;31m---------------------------------------------------------------------------\u001b[0m",
      "\u001b[0;31mNameError\u001b[0m                                 Traceback (most recent call last)",
      "\u001b[0;32m/var/folders/jf/2_wn4hjd11q9klftv_v_hld80000gn/T/ipykernel_24612/2788046823.py\u001b[0m in \u001b[0;36m<module>\u001b[0;34m\u001b[0m\n\u001b[1;32m      1\u001b[0m \u001b[0;32mfor\u001b[0m \u001b[0mx\u001b[0m \u001b[0;32min\u001b[0m \u001b[0mresults_dirs\u001b[0m\u001b[0;34m:\u001b[0m\u001b[0;34m\u001b[0m\u001b[0;34m\u001b[0m\u001b[0m\n\u001b[1;32m      2\u001b[0m     \u001b[0mprint\u001b[0m\u001b[0;34m(\u001b[0m\u001b[0mx\u001b[0m\u001b[0;34m)\u001b[0m\u001b[0;34m\u001b[0m\u001b[0;34m\u001b[0m\u001b[0m\n\u001b[0;32m----> 3\u001b[0;31m     \u001b[0mplot_fields\u001b[0m\u001b[0;34m(\u001b[0m\u001b[0mx\u001b[0m\u001b[0;34m)\u001b[0m\u001b[0;34m\u001b[0m\u001b[0;34m\u001b[0m\u001b[0m\n\u001b[0m",
      "\u001b[0;32m/var/folders/jf/2_wn4hjd11q9klftv_v_hld80000gn/T/ipykernel_24612/4185690398.py\u001b[0m in \u001b[0;36mplot_fields\u001b[0;34m(results_dir)\u001b[0m\n\u001b[1;32m     25\u001b[0m \u001b[0;34m\u001b[0m\u001b[0m\n\u001b[1;32m     26\u001b[0m     \u001b[0mplt\u001b[0m\u001b[0;34m.\u001b[0m\u001b[0mfigure\u001b[0m\u001b[0;34m(\u001b[0m\u001b[0mfigsize\u001b[0m \u001b[0;34m=\u001b[0m \u001b[0;34m(\u001b[0m\u001b[0;36m3.\u001b[0m\u001b[0;34m,\u001b[0m \u001b[0;36m1.5\u001b[0m\u001b[0;34m)\u001b[0m\u001b[0;34m)\u001b[0m\u001b[0;34m\u001b[0m\u001b[0;34m\u001b[0m\u001b[0m\n\u001b[0;32m---> 27\u001b[0;31m     \u001b[0mgs1\u001b[0m \u001b[0;34m=\u001b[0m \u001b[0mgridspec\u001b[0m\u001b[0;34m.\u001b[0m\u001b[0mGridSpec\u001b[0m\u001b[0;34m(\u001b[0m\u001b[0mgrid_x\u001b[0m\u001b[0;34m,\u001b[0m \u001b[0mgrid_y\u001b[0m\u001b[0;34m)\u001b[0m\u001b[0;34m\u001b[0m\u001b[0;34m\u001b[0m\u001b[0m\n\u001b[0m\u001b[1;32m     28\u001b[0m     \u001b[0mgs1\u001b[0m\u001b[0;34m.\u001b[0m\u001b[0mupdate\u001b[0m\u001b[0;34m(\u001b[0m\u001b[0mwspace\u001b[0m\u001b[0;34m=\u001b[0m\u001b[0;36m0.03\u001b[0m\u001b[0;34m,\u001b[0m \u001b[0mhspace\u001b[0m\u001b[0;34m=\u001b[0m\u001b[0;36m0.03\u001b[0m\u001b[0;34m)\u001b[0m \u001b[0;31m# set the spacing between axes.\u001b[0m\u001b[0;34m\u001b[0m\u001b[0;34m\u001b[0m\u001b[0m\n\u001b[1;32m     29\u001b[0m \u001b[0;34m\u001b[0m\u001b[0m\n",
      "\u001b[0;31mNameError\u001b[0m: name 'gridspec' is not defined"
     ]
    },
    {
     "data": {
      "text/plain": [
       "<Figure size 216x108 with 0 Axes>"
      ]
     },
     "metadata": {},
     "output_type": "display_data"
    }
   ],
   "source": [
    "for x in results_dirs:\n",
    "    print(x)\n",
    "    plot_fields(x)"
   ]
  },
  {
   "cell_type": "markdown",
   "metadata": {},
   "source": [
    "# Choose one experiment to show"
   ]
  },
  {
   "cell_type": "code",
   "execution_count": null,
   "metadata": {},
   "outputs": [],
   "source": [
    "from scipy import ndimage\n",
    "import matplotlib.gridspec as gridspec"
   ]
  },
  {
   "cell_type": "code",
   "execution_count": null,
   "metadata": {},
   "outputs": [],
   "source": [
    "plot_fields('/Volumes/aronov-locker/Ching/03_hannah_dset/sparsity0.021842105263157892/sigma1.75/0.8/rnn/8/')"
   ]
  },
  {
   "cell_type": "code",
   "execution_count": null,
   "metadata": {},
   "outputs": [],
   "source": []
  }
 ],
 "metadata": {
  "kernelspec": {
   "display_name": "Python 3 (ipykernel)",
   "language": "python",
   "name": "python3"
  },
  "language_info": {
   "codemirror_mode": {
    "name": "ipython",
    "version": 3
   },
   "file_extension": ".py",
   "mimetype": "text/x-python",
   "name": "python",
   "nbconvert_exporter": "python",
   "pygments_lexer": "ipython3",
   "version": "3.9.7"
  }
 },
 "nbformat": 4,
 "nbformat_minor": 4
}
