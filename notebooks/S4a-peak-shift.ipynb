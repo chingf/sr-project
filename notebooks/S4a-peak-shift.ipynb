{
 "cells": [
  {
   "cell_type": "code",
   "execution_count": 2,
   "id": "d851c545",
   "metadata": {},
   "outputs": [
    {
     "name": "stderr",
     "output_type": "stream",
     "text": [
      "/Users/chingfang/Code/sr-project/datasets/inputs.py:12: UserWarning: Emily's experimental data could not be loaded.\n",
      "  warnings.warn(\"Emily's experimental data could not be loaded.\")\n",
      "/Users/chingfang/Code/sr-project/datasets/sf_inputs_discrete.py:19: UserWarning: Emily's experimental data could not be loaded.\n",
      "  warnings.warn(\"Emily's experimental data could not be loaded.\")\n"
     ]
    }
   ],
   "source": [
    "import numpy as np\n",
    "import argparse\n",
    "import time\n",
    "import os\n",
    "import sys\n",
    "import pickle\n",
    "from itertools import chain\n",
    "import matplotlib.pyplot as plt\n",
    "\n",
    "root = os.path.dirname(os.path.abspath(os.curdir))\n",
    "sys.path.append(root)\n",
    "import torch\n",
    "import torch.nn as nn\n",
    "from torch.utils.tensorboard import SummaryWriter\n",
    "\n",
    "from datasets import inputs, sf_inputs_discrete\n",
    "from sr_model.models.models import AnalyticSR, STDP_SR, Linear\n",
    "import configs\n",
    "from eval import eval\n",
    "from copy import deepcopy\n",
    "\n",
    "device = 'cpu'"
   ]
  },
  {
   "cell_type": "code",
   "execution_count": 3,
   "id": "d0868a6e",
   "metadata": {},
   "outputs": [],
   "source": [
    "gamma = 0.8\n",
    "num_steps = 3000\n",
    "num_states = 25\n",
    "left_right_stay_prob = [1, 6, 1]\n",
    "stop_idx = 100\n",
    "sprs = 0.02\n",
    "sig = 2.\n",
    "lr = 1E-2\n",
    "    "
   ]
  },
  {
   "cell_type": "markdown",
   "id": "6b3bb5b8",
   "metadata": {},
   "source": [
    "# Get development over walk"
   ]
  },
  {
   "cell_type": "code",
   "execution_count": 1,
   "id": "88a43042",
   "metadata": {},
   "outputs": [],
   "source": [
    "def get_shifts(sprs, sig, onehot=False):\n",
    "    # Set up net\n",
    "    ca3_kwargs = {'lr':lr}\n",
    "    net = AnalyticSR(num_states, gamma, ca3_kwargs=ca3_kwargs)\n",
    "    \n",
    "    # Set up dataset\n",
    "    if onehot:\n",
    "        dset = inputs.Sim1DWalk(\n",
    "            num_steps=num_steps, left_right_stay_prob=left_right_stay_prob,\n",
    "            num_states=num_states\n",
    "            )\n",
    "    else:\n",
    "        feature_maker_kwargs = {                                     \n",
    "            'feature_dim': num_states,\n",
    "            'feature_type': 'correlated_distributed',\n",
    "            'feature_vals_p': [1-sprs, sprs], 'feature_vals': None,\n",
    "            'spatial_sigma': sig\n",
    "            }\n",
    "        dset = sf_inputs_discrete.Sim1DWalk(\n",
    "            num_steps=num_steps, feature_maker_kwargs=feature_maker_kwargs,\n",
    "            num_states=num_states, left_right_stay_prob=left_right_stay_prob\n",
    "            )\n",
    "    dg_inputs = torch.from_numpy(dset.dg_inputs.T).float().unsqueeze(1)\n",
    "    dg_modes = torch.from_numpy(dset.dg_modes.T).float().unsqueeze(1)\n",
    "\n",
    "    # First few minutes of walk\n",
    "    _, outputs = net(dg_inputs[:stop_idx], dg_modes[:stop_idx], reset=True)\n",
    "    ff_M = []\n",
    "    for neur in range(num_states):\n",
    "        ff = []\n",
    "        for state in range(num_states):\n",
    "            ff.append(np.mean(\n",
    "                outputs[dset.ys[:stop_idx]==state,neur].detach().numpy()\n",
    "                ))\n",
    "        ff_M.append(ff)\n",
    "    ff_M = np.array(ff_M)\n",
    "    init_argsort = np.argsort(np.argmax(ff_M,axis=1)).astype(int)\n",
    "    init_ff_M = ff_M[init_argsort].copy()\n",
    "\n",
    "    # Run full walk\n",
    "    _, outputs = net(dg_inputs, dg_modes, reset=True)\n",
    "    ff_M = []\n",
    "    for neur in range(num_states):\n",
    "        ff = []\n",
    "        for state in range(num_states):\n",
    "            ff.append(np.mean(\n",
    "                outputs[dset.ys==state,neur].detach().numpy()\n",
    "                ))\n",
    "        ff_M.append(ff)\n",
    "    ff_M = np.array(ff_M)\n",
    "    ff_M = ff_M[init_argsort]\n",
    "\n",
    "    return init_ff_M, ff_M"
   ]
  },
  {
   "cell_type": "markdown",
   "id": "e20ecc35",
   "metadata": {},
   "source": [
    "# Dense, correlated"
   ]
  },
  {
   "cell_type": "code",
   "execution_count": 27,
   "id": "e2326480",
   "metadata": {},
   "outputs": [
    {
     "data": {
      "image/png": "[encoded data removed]",
      "text/plain": [
       "<Figure size 216x108 with 1 Axes>"
      ]
     },
     "metadata": {},
     "output_type": "display_data"
    }
   ],
   "source": [
    "init_ff, ff = get_shifts(sprs, sig)\n",
    "idx = np.random.choice(num_states)\n",
    "plt.figure(figsize=(3, 1.5))\n",
    "_init_ff = np.tile(init_ff[idx], (1,2)).squeeze()\n",
    "_ff = np.tile(ff[idx], (1,2)).squeeze()\n",
    "plt.plot(_init_ff, color='gray', label='Before Learning')\n",
    "plt.plot(_ff, color='C0', label='After Learning')\n",
    "plt.legend()\n",
    "plt.ylabel('Firing Field')\n",
    "plt.xlabel('Location')\n",
    "plt.xticks([0, 25, 50], ['0', '2$\\pi$', '0'])\n",
    "plt.tight_layout()\n",
    "plt.savefig('../figures/S4a.png', dpi=300, transparent=True)\n",
    "plt.show()"
   ]
  },
  {
   "cell_type": "code",
   "execution_count": 16,
   "id": "3b8c7ddb",
   "metadata": {},
   "outputs": [
    {
     "data": {
      "image/png": "[encoded data removed]",
      "text/plain": [
       "<Figure size 216x108 with 1 Axes>"
      ]
     },
     "metadata": {},
     "output_type": "display_data"
    }
   ],
   "source": [
    "init_ff, ff = get_shifts(sprs, sig)\n",
    "idx = np.random.choice(num_states)\n",
    "plt.figure(figsize=(3, 1.5))\n",
    "_init_ff = np.tile(init_ff[idx], (1,2)).squeeze()\n",
    "_ff = np.tile(ff[idx], (1,2)).squeeze()\n",
    "plt.plot(_init_ff, color='gray', label='After Learning')\n",
    "plt.plot(_ff, color='C0', label='Before Learning')\n",
    "plt.ylabel('Firing Field')\n",
    "plt.xlabel('Location')\n",
    "plt.xticks([0, 25, 50], ['0', '2$\\pi$', '0'])\n",
    "plt.tight_layout()\n",
    "plt.savefig('../figures/S4b.png', dpi=300, transparent=True)\n",
    "plt.show()"
   ]
  },
  {
   "cell_type": "code",
   "execution_count": 23,
   "id": "773f4a59",
   "metadata": {},
   "outputs": [
    {
     "data": {
      "image/png": "[encoded data removed]",
      "text/plain": [
       "<Figure size 216x108 with 1 Axes>"
      ]
     },
     "metadata": {},
     "output_type": "display_data"
    }
   ],
   "source": [
    "init_ff, ff = get_shifts(sprs, sig)\n",
    "idx = np.random.choice(num_states)\n",
    "plt.figure(figsize=(3, 1.5))\n",
    "_init_ff = np.tile(init_ff[idx], (1,2)).squeeze()\n",
    "_ff = np.tile(ff[idx], (1,2)).squeeze()\n",
    "plt.plot(_init_ff, color='gray', label='After Learning')\n",
    "plt.plot(_ff, color='C0', label='Before Learning')\n",
    "plt.ylabel('Firing Field')\n",
    "plt.xlabel('Location')\n",
    "plt.xticks([0, 25, 50], ['0', '2$\\pi$', '0'])\n",
    "plt.tight_layout()\n",
    "plt.savefig('../figures/S4c.png', dpi=300, transparent=True)\n",
    "plt.show()"
   ]
  },
  {
   "cell_type": "code",
   "execution_count": 25,
   "id": "8652c67e",
   "metadata": {},
   "outputs": [
    {
     "data": {
      "image/png": "[encoded data removed]",
      "text/plain": [
       "<Figure size 216x108 with 1 Axes>"
      ]
     },
     "metadata": {},
     "output_type": "display_data"
    }
   ],
   "source": [
    "init_ff, ff = get_shifts(sprs, sig)\n",
    "idx = np.random.choice(num_states)\n",
    "plt.figure(figsize=(3, 1.5))\n",
    "_init_ff = np.tile(init_ff[idx], (1,2)).squeeze()\n",
    "_ff = np.tile(ff[idx], (1,2)).squeeze()\n",
    "plt.plot(_init_ff, color='gray', label='After Learning')\n",
    "plt.plot(_ff, color='C0', label='Before Learning')\n",
    "plt.ylabel('Firing Field')\n",
    "plt.xlabel('Location')\n",
    "plt.xticks([0, 25, 50], ['0', '2$\\pi$', '0'])\n",
    "plt.tight_layout()\n",
    "plt.savefig('../figures/S4d.png', dpi=300, transparent=True)\n",
    "plt.show()"
   ]
  },
  {
   "cell_type": "markdown",
   "id": "f7f6ee4e",
   "metadata": {},
   "source": [
    "# One Hot\n"
   ]
  },
  {
   "cell_type": "code",
   "execution_count": 36,
   "id": "10a36adc",
   "metadata": {},
   "outputs": [
    {
     "data": {
      "image/png": "[encoded data removed]",
      "text/plain": [
       "<Figure size 216x108 with 1 Axes>"
      ]
     },
     "metadata": {},
     "output_type": "display_data"
    }
   ],
   "source": [
    "init_ff, ff = get_shifts(sprs, sig, onehot=True)\n",
    "idx = np.random.choice(num_states)\n",
    "plt.figure(figsize=(3, 1.5))\n",
    "_init_ff = np.tile(init_ff[idx], (1,2)).squeeze()\n",
    "_ff = np.tile(ff[idx], (1,2)).squeeze()\n",
    "plt.plot(_init_ff, color='gray', label='Before Learning')\n",
    "plt.plot(_ff, color='C0', label='After Learning')\n",
    "plt.ylabel('Firing Field')\n",
    "plt.xlabel('Location')\n",
    "plt.xticks([0, 25, 50], ['0', '2$\\pi$', '0'])\n",
    "plt.tight_layout()\n",
    "plt.savefig('../figures/S4e.png', dpi=300, transparent=True)\n",
    "plt.show()"
   ]
  },
  {
   "cell_type": "code",
   "execution_count": 38,
   "id": "cb5a3afa",
   "metadata": {},
   "outputs": [
    {
     "data": {
      "image/png": "[encoded data removed]",
      "text/plain": [
       "<Figure size 216x108 with 1 Axes>"
      ]
     },
     "metadata": {},
     "output_type": "display_data"
    }
   ],
   "source": [
    "init_ff, ff = get_shifts(sprs, sig, onehot=True)\n",
    "idx = np.random.choice(num_states)\n",
    "plt.figure(figsize=(3, 1.5))\n",
    "_init_ff = np.tile(init_ff[idx], (1,2)).squeeze()\n",
    "_ff = np.tile(ff[idx], (1,2)).squeeze()\n",
    "plt.plot(_init_ff, color='gray', label='Before Learning')\n",
    "plt.plot(_ff, color='C0', label='After Learning')\n",
    "plt.ylabel('Firing Field')\n",
    "plt.xlabel('Location')\n",
    "plt.xticks([0, 25, 50], ['0', '2$\\pi$', '0'])\n",
    "plt.tight_layout()\n",
    "plt.savefig('../figures/S4f.png', dpi=300, transparent=True)\n",
    "plt.show()"
   ]
  },
  {
   "cell_type": "code",
   "execution_count": null,
   "id": "eebee350",
   "metadata": {},
   "outputs": [],
   "source": []
  }
 ],
 "metadata": {
  "kernelspec": {
   "display_name": "Python 3 (ipykernel)",
   "language": "python",
   "name": "python3"
  },
  "language_info": {
   "codemirror_mode": {
    "name": "ipython",
    "version": 3
   },
   "file_extension": ".py",
   "mimetype": "text/x-python",
   "name": "python",
   "nbconvert_exporter": "python",
   "pygments_lexer": "ipython3",
   "version": "3.9.7"
  }
 },
 "nbformat": 4,
 "nbformat_minor": 5
}
