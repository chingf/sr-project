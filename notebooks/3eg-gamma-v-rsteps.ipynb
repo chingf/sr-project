{
 "cells": [
  {
   "cell_type": "code",
   "execution_count": 25,
   "metadata": {},
   "outputs": [],
   "source": [
    "import pickle\n",
    "import numpy as np\n",
    "import os\n",
    "import torch\n",
    "import torch.nn as nn\n",
    "import re\n",
    "import sys\n",
    "from tensorboard.backend.event_processing.event_accumulator import EventAccumulator\n",
    "import matplotlib.pyplot as plt\n",
    "\n",
    "root = os.path.dirname(os.path.abspath(os.curdir))\n",
    "sys.path.append(root)\n",
    "\n",
    "from sr_model.models.models import AnalyticSR, STDP_SR\n",
    "from datasets import inputs\n",
    "import configs\n",
    "\n",
    "device = 'cpu'"
   ]
  },
  {
   "cell_type": "code",
   "execution_count": 27,
   "metadata": {},
   "outputs": [],
   "source": [
    "with open(f'{configs.engram_dir}02_gamma_v_rstep/results.p', 'rb') as f:\n",
    "    results = pickle.load(f)"
   ]
  },
  {
   "cell_type": "code",
   "execution_count": 28,
   "metadata": {},
   "outputs": [],
   "source": [
    "for key in results.keys():\n",
    "    results[key] = np.array(results[key])"
   ]
  },
  {
   "cell_type": "code",
   "execution_count": 29,
   "metadata": {},
   "outputs": [
    {
     "data": {
      "text/plain": [
       "dict_keys(['gammas', 'rsteps', 'vals'])"
      ]
     },
     "execution_count": 29,
     "metadata": {},
     "output_type": "execute_result"
    }
   ],
   "source": [
    "results.keys()"
   ]
  },
  {
   "cell_type": "code",
   "execution_count": 38,
   "metadata": {},
   "outputs": [],
   "source": [
    "gammas = results['gammas']\n",
    "rsteps = results['rsteps']\n",
    "vals = results['vals']"
   ]
  },
  {
   "cell_type": "code",
   "execution_count": 39,
   "metadata": {},
   "outputs": [],
   "source": [
    "xs = np.sort(np.unique(gammas))\n",
    "ys = np.sort(np.unique(rsteps))"
   ]
  },
  {
   "cell_type": "markdown",
   "metadata": {},
   "source": [
    "## Plot test loss for different gammas and recurrent steps"
   ]
  },
  {
   "cell_type": "code",
   "execution_count": 48,
   "metadata": {},
   "outputs": [],
   "source": [
    "import matplotlib as mpl"
   ]
  },
  {
   "cell_type": "code",
   "execution_count": 85,
   "metadata": {
    "scrolled": true
   },
   "outputs": [
    {
     "name": "stderr",
     "output_type": "stream",
     "text": [
      "/var/folders/jf/2_wn4hjd11q9klftv_v_hld80000gn/T/ipykernel_3240/1827548256.py:9: MatplotlibDeprecationWarning: Passing parameters norm and vmin/vmax simultaneously is deprecated since 3.3 and will become an error two minor releases later. Please pass vmin/vmax directly to the norm when creating it.\n",
      "  pcm = plt.imshow(mat, cmap=\"Blues_r\", vmax=10, norm=mpl.colors.LogNorm(), aspect='auto')\n"
     ]
    },
    {
     "data": {
      "image/png": "[encoded data removed]",
      "text/plain": [
       "<Figure size 460.8x276.48 with 2 Axes>"
      ]
     },
     "metadata": {},
     "output_type": "display_data"
    }
   ],
   "source": [
    "mat = np.zeros((xs.size, ys.size))*np.nan\n",
    "for x_idx, x in enumerate(xs):\n",
    "    for y_idx, y in enumerate(ys):\n",
    "        idxs = np.logical_and(gammas==x, rsteps==y)\n",
    "        val = vals[idxs]\n",
    "        mat[x_idx][y_idx] = np.mean(val)\n",
    "\n",
    "plt.figure(figsize=(6.4, 4.8*0.8))\n",
    "pcm = plt.imshow(mat, cmap=\"Blues_r\", vmax=10, norm=mpl.colors.LogNorm(), aspect='auto')\n",
    "#pcm = plt.pcolor(mat.T, norm=mpl.colors.LogNorm(), cmap='Blues_r')\n",
    "plt.colorbar(pcm)\n",
    "plt.xticks(np.arange(ys.size), ys)\n",
    "plt.yticks(np.arange(len(xs)), xs)\n",
    "plt.xlabel('Recurrent Steps (T)')\n",
    "plt.ylabel('Baseline $\\gamma$')\n",
    "plt.title(\"Test Error\")\n",
    "plt.tight_layout()\n",
    "plt.savefig(f\"gamma_v_rsteps_{nonlinearity}.png\", dpi=300)\n",
    "plt.show()"
   ]
  },
  {
   "cell_type": "code",
   "execution_count": null,
   "metadata": {},
   "outputs": [],
   "source": []
  }
 ],
 "metadata": {
  "kernelspec": {
   "display_name": "Python 3 (ipykernel)",
   "language": "python",
   "name": "python3"
  },
  "language_info": {
   "codemirror_mode": {
    "name": "ipython",
    "version": 3
   },
   "file_extension": ".py",
   "mimetype": "text/x-python",
   "name": "python",
   "nbconvert_exporter": "python",
   "pygments_lexer": "ipython3",
   "version": "3.9.7"
  }
 },
 "nbformat": 4,
 "nbformat_minor": 4
}
