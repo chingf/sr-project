{
 "cells": [
  {
   "cell_type": "code",
   "execution_count": 5,
   "metadata": {},
   "outputs": [
    {
     "name": "stderr",
     "output_type": "stream",
     "text": [
      "/Users/chingfang/Code/sr-project/datasets/inputs.py:12: UserWarning: Emily's experimental data could not be loaded.\n",
      "  warnings.warn(\"Emily's experimental data could not be loaded.\")\n",
      "/Users/chingfang/Code/sr-project/datasets/sf_inputs_discrete.py:19: UserWarning: Emily's experimental data could not be loaded.\n",
      "  warnings.warn(\"Emily's experimental data could not be loaded.\")\n"
     ]
    }
   ],
   "source": [
    "import pickle\n",
    "import numpy as np\n",
    "import os\n",
    "import torch\n",
    "import torch.nn as nn\n",
    "import re\n",
    "import sys\n",
    "from tensorboard.backend.event_processing.event_accumulator import EventAccumulator\n",
    "import matplotlib.pyplot as plt\n",
    "\n",
    "root = os.path.dirname(os.path.abspath(os.curdir))\n",
    "sys.path.append(root)\n",
    "\n",
    "from sr_model.models.models import AnalyticSR, STDP_SR, Linear\n",
    "from datasets import inputs, sf_inputs_discrete\n",
    "from run_td_rnn import run as run_rnn\n",
    "import configs\n",
    "\n",
    "device = 'cpu'"
   ]
  },
  {
   "cell_type": "markdown",
   "metadata": {},
   "source": [
    "# Set up dataset"
   ]
  },
  {
   "cell_type": "code",
   "execution_count": 6,
   "metadata": {},
   "outputs": [],
   "source": [
    "np.random.seed(0)"
   ]
  },
  {
   "cell_type": "code",
   "execution_count": 7,
   "metadata": {},
   "outputs": [],
   "source": [
    "num_steps = 8000\n",
    "num_states = 20"
   ]
  },
  {
   "cell_type": "code",
   "execution_count": 8,
   "metadata": {},
   "outputs": [],
   "source": [
    "# Right-biased 1D Walk\n",
    "dset = inputs.Sim1DWalk(\n",
    "    num_steps=num_steps, left_right_stay_prob=[0.5, 1.5, 1],\n",
    "    num_states=num_states\n",
    "    )"
   ]
  },
  {
   "cell_type": "code",
   "execution_count": 9,
   "metadata": {},
   "outputs": [],
   "source": [
    "# Set up dataset\n",
    "dg_inputs = torch.from_numpy(dset.dg_inputs.T).float().to(device).unsqueeze(1)\n",
    "dg_modes = torch.from_numpy(dset.dg_modes.T).float().to(device).unsqueeze(1)\n",
    "input_states = []\n",
    "for t in range(dg_inputs.shape[0]):\n",
    "    input_states.append(np.argwhere(dg_inputs[t,0])[0,0])\n",
    "input_states = np.array(input_states)\n",
    "\n",
    "# Get lap start indices\n",
    "lap_starts = [0]\n",
    "state_counts = np.zeros(num_states)\n",
    "for t, input_state in enumerate(input_states):\n",
    "    if not np.any(state_counts == 0):\n",
    "        lap_starts.append(t)\n",
    "        state_counts = np.zeros(num_states)\n",
    "    state_counts[input_state] += 1\n",
    "lap_starts = np.array(lap_starts)"
   ]
  },
  {
   "cell_type": "markdown",
   "metadata": {},
   "source": [
    "# Plot induction laps"
   ]
  },
  {
   "cell_type": "code",
   "execution_count": 10,
   "metadata": {},
   "outputs": [],
   "source": [
    "def run_and_plot(net, netname):\n",
    "    Ms = []\n",
    "    for step in range(dset.num_steps):\n",
    "        curr_dg_input = dg_inputs[step].unsqueeze(0)\n",
    "        curr_dg_mode = dg_modes[step].unsqueeze(0)\n",
    "        reset = True if step == 0 else False\n",
    "        _, outputs = net(curr_dg_input, curr_dg_mode, reset=reset)\n",
    "        if step in lap_starts:\n",
    "            Ms.append(net.get_M(0.9))\n",
    "            \n",
    "    chosen_state = 8\n",
    "    num_laps = 10\n",
    "    M_vectors = [M[chosen_state,:].detach().numpy() for M in Ms]\n",
    "    M_vectors = np.array(M_vectors)\n",
    "    \n",
    "    plt.figure(figsize=(5,4))\n",
    "    fields = M_vectors[:num_laps]\n",
    "    fields = np.fliplr(fields)\n",
    "    fields = np.roll(fields, shift=(num_states//2)+chosen_state, axis=1)\n",
    "    plt.imshow(fields, cmap='viridis', aspect=1)\n",
    "    plt.yticks(np.arange(0, num_laps, 5))\n",
    "    plt.ylabel('Laps')\n",
    "    tick_locs = np.array([0, 50, 100]) # In cm\n",
    "    plt.xticks(tick_locs/configs.bin_to_cm, tick_locs)\n",
    "    plt.xlabel('Position (cm)')\n",
    "    plt.title(f'Place Field Induction and Skew')\n",
    "    plt.savefig(f'field_induction_{netname}.png', dpi=200)\n",
    "    plt.tight_layout()\n",
    "    plt.show()"
   ]
  },
  {
   "cell_type": "code",
   "execution_count": 11,
   "metadata": {},
   "outputs": [
    {
     "data": {
      "image/png": "[encoded data removed]",
      "text/plain": [
       "<Figure size 360x288 with 1 Axes>"
      ]
     },
     "metadata": {},
     "output_type": "display_data"
    }
   ],
   "source": [
    "# Static LR\n",
    "net = STDP_SR(num_states, 0.4, ca3_kwargs={'static_eta': 10**(-1.5)})\n",
    "netname = 'static-lr'\n",
    "run_and_plot(net, netname)"
   ]
  },
  {
   "cell_type": "code",
   "execution_count": 12,
   "metadata": {},
   "outputs": [
    {
     "data": {
      "image/png": "[encoded data removed]",
      "text/plain": [
       "<Figure size 360x288 with 1 Axes>"
      ]
     },
     "metadata": {},
     "output_type": "display_data"
    }
   ],
   "source": [
    "# Adaptive LR\n",
    "net = STDP_SR(num_states, 0.4)\n",
    "netname = 'ada-lr'\n",
    "run_and_plot(net, netname)"
   ]
  },
  {
   "cell_type": "markdown",
   "metadata": {},
   "source": [
    "# Plot Learning Rates"
   ]
  },
  {
   "cell_type": "code",
   "execution_count": 13,
   "metadata": {},
   "outputs": [],
   "source": [
    "Ms = []\n",
    "etas = []\n",
    "for step in range(dset.num_steps):\n",
    "    curr_dg_input = dg_inputs[step].unsqueeze(0)\n",
    "    curr_dg_mode = dg_modes[step].unsqueeze(0)\n",
    "    reset = True if step == 0 else False\n",
    "    _, outputs = net(curr_dg_input, curr_dg_mode, reset=reset)\n",
    "    _etas = 1/net.ca3.eta_invs.detach().numpy().squeeze()\n",
    "    etas.append(np.clip(_etas, a_min=1E-3, a_max=100))"
   ]
  },
  {
   "cell_type": "code",
   "execution_count": 14,
   "metadata": {},
   "outputs": [],
   "source": [
    "etas = np.array(np.clip(etas, 0, 1))"
   ]
  },
  {
   "cell_type": "code",
   "execution_count": 16,
   "metadata": {},
   "outputs": [
    {
     "data": {
      "image/png": "[encoded data removed]",
      "text/plain": [
       "<Figure size 276.48x207.36 with 1 Axes>"
      ]
     },
     "metadata": {},
     "output_type": "display_data"
    }
   ],
   "source": [
    "plt.figure(figsize=(6.4*0.6, 4.8*0.6))\n",
    "_etas = etas[:800,1]\n",
    "visits = (_etas[1:] - _etas[:-1]) < 0\n",
    "_lap_starts = np.zeros(_etas.size)\n",
    "_lap_starts[lap_starts[lap_starts <= _lap_starts.size]] = 1\n",
    "num_laps = np.zeros(_etas.size)\n",
    "for idx in range(1, num_laps.size):\n",
    "    num_laps[idx] = np.sum(_lap_starts[:idx+1])\n",
    "plt.plot(\n",
    "    num_laps,\n",
    "    [10**(-1.5)]*_etas.size,\n",
    "    label='Static LR',\n",
    "    linewidth=2, color='C1'\n",
    "    )\n",
    "plt.plot(\n",
    "    num_laps,\n",
    "    _etas,\n",
    "    label='Adaptive LR',\n",
    "    linewidth=2, color='C0'\n",
    "    )\n",
    "plt.yscale('log')\n",
    "plt.xlabel('Laps')\n",
    "plt.ylabel('Learning Rate')\n",
    "plt.tight_layout()\n",
    "plt.savefig('2h_induction_etas.png', dpi=300)\n",
    "plt.show()"
   ]
  },
  {
   "cell_type": "code",
   "execution_count": null,
   "metadata": {},
   "outputs": [],
   "source": []
  }
 ],
 "metadata": {
  "kernelspec": {
   "display_name": "Python 3 (ipykernel)",
   "language": "python",
   "name": "python3"
  },
  "language_info": {
   "codemirror_mode": {
    "name": "ipython",
    "version": 3
   },
   "file_extension": ".py",
   "mimetype": "text/x-python",
   "name": "python",
   "nbconvert_exporter": "python",
   "pygments_lexer": "ipython3",
   "version": "3.9.7"
  }
 },
 "nbformat": 4,
 "nbformat_minor": 4
}
