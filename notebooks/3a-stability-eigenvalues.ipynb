{
 "cells": [
  {
   "cell_type": "code",
   "execution_count": 34,
   "id": "e7dcd036",
   "metadata": {},
   "outputs": [],
   "source": [
    "import pickle\n",
    "import numpy as np\n",
    "import os\n",
    "import torch\n",
    "import torch.nn as nn\n",
    "import re\n",
    "import sys\n",
    "from tensorboard.backend.event_processing.event_accumulator import EventAccumulator\n",
    "import matplotlib.pyplot as plt\n",
    "\n",
    "root = os.path.dirname(os.path.abspath(os.curdir))\n",
    "sys.path.append(root)\n",
    "\n",
    "from sr_model.models.models import AnalyticSR, STDP_SR\n",
    "from datasets import inputs\n",
    "import configs\n",
    "import pandas as pd\n",
    "import seaborn as sns\n",
    "\n",
    "device = 'cpu'"
   ]
  },
  {
   "cell_type": "code",
   "execution_count": 35,
   "id": "316277d8",
   "metadata": {},
   "outputs": [],
   "source": [
    "trained_dir = f'{configs.engram_dir}02_gamma_v_eigenvals/'"
   ]
  },
  {
   "cell_type": "code",
   "execution_count": 36,
   "id": "addb927d",
   "metadata": {},
   "outputs": [],
   "source": [
    "results_file = trained_dir + 'results.p'\n",
    "with open(results_file, 'rb') as f:\n",
    "    results = pickle.load(f)"
   ]
  },
  {
   "cell_type": "code",
   "execution_count": 37,
   "id": "3874c0f8",
   "metadata": {},
   "outputs": [
    {
     "data": {
      "text/plain": [
       "dict_keys(['gammas', 'nonlinearity_args', 'eigenvals', 'steps'])"
      ]
     },
     "execution_count": 37,
     "metadata": {},
     "output_type": "execute_result"
    }
   ],
   "source": [
    "results.keys()"
   ]
  },
  {
   "cell_type": "code",
   "execution_count": 38,
   "id": "93ecb3c0",
   "metadata": {},
   "outputs": [],
   "source": [
    "results['eigenvals'] = [min(e, 10) for e in results['eigenvals']]"
   ]
  },
  {
   "cell_type": "code",
   "execution_count": 39,
   "id": "5c5563d9",
   "metadata": {},
   "outputs": [],
   "source": [
    "df = pd.DataFrame(results)"
   ]
  },
  {
   "cell_type": "code",
   "execution_count": 40,
   "id": "21b2f475",
   "metadata": {},
   "outputs": [
    {
     "data": {
      "image/png": "[encoded data removed]",
      "text/plain": [
       "<Figure size 151.2x108 with 1 Axes>"
      ]
     },
     "metadata": {},
     "output_type": "display_data"
    }
   ],
   "source": [
    "fig, ax = plt.subplots(figsize=(2.1,1.5))\n",
    "g = sns.lineplot(\n",
    "    x='gammas', y='eigenvals',\n",
    "    label='Linear', linestyle='-', color='C0',\n",
    "    data=df[\n",
    "        (df['steps']==1500) &\\\n",
    "        (df['nonlinearity_args']=='Linear') &\\\n",
    "        (df['gammas'] < 0.6)\n",
    "        ],\n",
    "    ax=ax\n",
    ")\n",
    "g = sns.lineplot(\n",
    "    x='gammas', y='eigenvals',\n",
    "    label='Tanh', linestyle='--', color='C0',\n",
    "    data=df[\n",
    "        (df['steps']==1500) &\\\n",
    "        (df['nonlinearity_args']=='Tanh') &\\\n",
    "        (df['gammas'] < 0.81)\n",
    "        ],\n",
    "    ax=ax\n",
    ")\n",
    "g.get_legend().set_title(None)\n",
    "plt.axhline(1, color='red')\n",
    "plt.ylabel('Max Eigenvalue')\n",
    "plt.xlabel('$\\gamma_B$')\n",
    "plt.ylim(0, 1.1)\n",
    "plt.xlim(0.3, 0.95)\n",
    "plt.tight_layout()\n",
    "plt.savefig('../figures/3a.png', dpi=300, transparent=True)\n",
    "plt.show()"
   ]
  },
  {
   "cell_type": "code",
   "execution_count": null,
   "id": "1d97d7b9",
   "metadata": {},
   "outputs": [],
   "source": []
  }
 ],
 "metadata": {
  "kernelspec": {
   "display_name": "Python 3 (ipykernel)",
   "language": "python",
   "name": "python3"
  },
  "language_info": {
   "codemirror_mode": {
    "name": "ipython",
    "version": 3
   },
   "file_extension": ".py",
   "mimetype": "text/x-python",
   "name": "python",
   "nbconvert_exporter": "python",
   "pygments_lexer": "ipython3",
   "version": "3.9.7"
  }
 },
 "nbformat": 4,
 "nbformat_minor": 5
}
