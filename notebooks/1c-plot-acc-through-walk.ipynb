{
 "cells": [
  {
   "cell_type": "code",
   "execution_count": null,
   "metadata": {},
   "outputs": [],
   "source": [
    "device='cpu'"
   ]
  },
  {
   "cell_type": "code",
   "execution_count": null,
   "metadata": {},
   "outputs": [],
   "source": [
    "import numpy as np\n",
    "import pickle\n",
    "import torch\n",
    "import matplotlib.pyplot as plt\n",
    "import os\n",
    "import sys\n",
    "\n",
    "root = os.path.dirname(os.path.abspath(os.curdir))\n",
    "sys.path.append(root)\n",
    "from datasets import inputs\n",
    "from sr_model.models.models import AnalyticSR, STDP_SR\n",
    "import configs\n",
    "from eval import eval"
   ]
  },
  {
   "cell_type": "markdown",
   "metadata": {},
   "source": [
    "## Set the datasets you want to test the model on"
   ]
  },
  {
   "cell_type": "code",
   "execution_count": null,
   "metadata": {},
   "outputs": [],
   "source": [
    "num_steps = 8000\n",
    "num_states = 64\n",
    "dsets = []\n",
    "dset_labels = []"
   ]
  },
  {
   "cell_type": "code",
   "execution_count": null,
   "metadata": {},
   "outputs": [],
   "source": [
    "# Unbiased 1D Walk\n",
    "dsets.append(\n",
    "    inputs.Sim1DWalk(\n",
    "        num_steps=num_steps,left_right_stay_prob=[1, 1, 1],\n",
    "        num_states=num_states\n",
    "        )\n",
    ")\n",
    "dset_labels.append('1D Walk (no bias)')"
   ]
  },
  {
   "cell_type": "code",
   "execution_count": null,
   "metadata": {},
   "outputs": [],
   "source": [
    "# Stay-biased 1D Walk\n",
    "dsets.append(\n",
    "    inputs.Sim1DWalk(\n",
    "        num_steps=num_steps,left_right_stay_prob=[1, 7, 1],\n",
    "        num_states=num_states\n",
    "        )\n",
    ")\n",
    "dset_labels.append('1D Walk (stay-bias)')"
   ]
  },
  {
   "cell_type": "code",
   "execution_count": null,
   "metadata": {},
   "outputs": [],
   "source": [
    "# Right-biased 1D Walk\n",
    "dsets.append(\n",
    "    inputs.Sim1DWalk(\n",
    "        num_steps=num_steps,left_right_stay_prob=[1, 1, 7],\n",
    "        num_states=num_states\n",
    "        )\n",
    ")\n",
    "dset_labels.append('1D Walk (right-bias)')"
   ]
  },
  {
   "cell_type": "code",
   "execution_count": null,
   "metadata": {},
   "outputs": [],
   "source": [
    "# 2D Random Walk\n",
    "dsets.append(\n",
    "    inputs.Sim2DWalk(\n",
    "        num_steps=num_steps,\n",
    "        num_states=num_states\n",
    "        )\n",
    ")\n",
    "dset_labels.append('2D Walk')"
   ]
  },
  {
   "cell_type": "code",
   "execution_count": null,
   "metadata": {},
   "outputs": [],
   "source": [
    "# 2D Levy Flight\n",
    "dsets.append(\n",
    "    inputs.Sim2DLevyFlight(\n",
    "        num_steps=num_steps,\n",
    "        walls=int(np.sqrt(num_states)-1)\n",
    "        )\n",
    ")\n",
    "dset_labels.append('Levy Flight')"
   ]
  },
  {
   "cell_type": "markdown",
   "metadata": {},
   "source": [
    "## Run model on various datasets"
   ]
  },
  {
   "cell_type": "code",
   "execution_count": null,
   "metadata": {},
   "outputs": [],
   "source": [
    "results_true_v_rnn, results_est_v_rnn, results_true_v_est = eval(\n",
    "    './trained_models/baseline/', dsets\n",
    "    )"
   ]
  },
  {
   "cell_type": "markdown",
   "metadata": {},
   "source": [
    "## Generate plots"
   ]
  },
  {
   "cell_type": "markdown",
   "metadata": {},
   "source": [
    "## Plot error from true T in trained model"
   ]
  },
  {
   "cell_type": "code",
   "execution_count": null,
   "metadata": {
    "scrolled": true
   },
   "outputs": [],
   "source": [
    "plt.figure()\n",
    "for idx, label in enumerate(dset_labels):\n",
    "    if 'Levy' in label: continue\n",
    "    plt.plot(results_true_v_rnn[idx], label=label)\n",
    "plt.title(\"Error in Estimating True T\", fontsize=18)\n",
    "plt.ylabel(\"MAE\", fontsize=16)\n",
    "plt.xlabel(\"Time into Walk (min)\", fontsize=16)\n",
    "tick_locs = np.array([0, 15, 30, 45]) # in minutes\n",
    "plt.xticks(tick_locs*60*dt_to_sec, tick_locs)\n",
    "plt.ylim(0)\n",
    "#plt.legend(bbox_to_anchor=(1.04,1), loc=\"upper left\", fontsize=12)\n",
    "plt.legend(fontsize=12, loc=\"upper left\")\n",
    "plt.tight_layout()\n",
    "plt.savefig('acc_true_v_rnn.png', dpi=100)\n",
    "plt.show()"
   ]
  },
  {
   "cell_type": "markdown",
   "metadata": {},
   "source": [
    "## Plot deviation from ideal estimator in trained model"
   ]
  },
  {
   "cell_type": "code",
   "execution_count": null,
   "metadata": {},
   "outputs": [],
   "source": [
    "plt.figure()\n",
    "for idx, label in enumerate(dset_labels):\n",
    "    plt.plot(results_est_v_rnn[idx], label=label)\n",
    "plt.title(\"Deviation from Ideal Estimator\", fontsize=18)\n",
    "plt.ylabel(\"MAE\", fontsize=16)\n",
    "plt.yticks([0, 1E-3], ['0', '1E-3'], fontsize=16)\n",
    "plt.xlabel(\"Timesteps of Simulation\", fontsize=16)\n",
    "plt.xticks([0, 2000, 4000, 6000, 8000])\n",
    "#plt.legend(bbox_to_anchor=(1.04,1), loc=\"upper left\", fontsize=12)\n",
    "plt.legend(fontsize=12, loc=\"upper left\")\n",
    "plt.tight_layout()\n",
    "plt.savefig('acc_est_v_rnn.png', dpi=100)\n",
    "plt.show()"
   ]
  },
  {
   "cell_type": "code",
   "execution_count": null,
   "metadata": {},
   "outputs": [],
   "source": []
  }
 ],
 "metadata": {
  "kernelspec": {
   "display_name": "Python 3",
   "language": "python",
   "name": "python3"
  },
  "language_info": {
   "codemirror_mode": {
    "name": "ipython",
    "version": 3
   },
   "file_extension": ".py",
   "mimetype": "text/x-python",
   "name": "python",
   "nbconvert_exporter": "python",
   "pygments_lexer": "ipython3",
   "version": "3.7.6"
  }
 },
 "nbformat": 4,
 "nbformat_minor": 4
}
