{
 "cells": [
  {
   "cell_type": "code",
   "execution_count": 1,
   "metadata": {},
   "outputs": [
    {
     "name": "stderr",
     "output_type": "stream",
     "text": [
      "/home/chingf/Code/sr-project/datasets/inputs.py:12: UserWarning: Emily's experimental data could not be loaded.\n",
      "  warnings.warn(\"Emily's experimental data could not be loaded.\")\n",
      "/home/chingf/Code/sr-project/datasets/sf_inputs_discrete.py:19: UserWarning: Emily's experimental data could not be loaded.\n",
      "  warnings.warn(\"Emily's experimental data could not be loaded.\")\n"
     ]
    }
   ],
   "source": [
    "import pickle\n",
    "import numpy as np\n",
    "import os\n",
    "import torch\n",
    "import torch.nn as nn\n",
    "import re\n",
    "import sys\n",
    "from tensorboard.backend.event_processing.event_accumulator import EventAccumulator\n",
    "import matplotlib.pyplot as plt\n",
    "\n",
    "root = os.path.dirname(os.path.abspath(os.curdir))\n",
    "sys.path.append(root)\n",
    "\n",
    "from sr_model.models.models import AnalyticSR, STDP_SR, Linear, MLP\n",
    "from datasets import inputs, sf_inputs_discrete\n",
    "from run_td_rnn import run as run_rnn\n",
    "from run_td_mlp import run as run_mlp\n",
    "from run_td_linear import run as run_linear\n",
    "import configs\n",
    "\n",
    "device = 'cpu'"
   ]
  },
  {
   "cell_type": "code",
   "execution_count": 2,
   "metadata": {},
   "outputs": [],
   "source": [
    "np.random.seed(0)"
   ]
  },
  {
   "cell_type": "code",
   "execution_count": 3,
   "metadata": {},
   "outputs": [],
   "source": [
    "num_steps = 4000\n",
    "num_states = 30"
   ]
  },
  {
   "cell_type": "code",
   "execution_count": 4,
   "metadata": {},
   "outputs": [],
   "source": [
    "# Right-biased 1D Walk\n",
    "dset = inputs.Sim1DWalk(\n",
    "    num_steps=num_steps, left_right_stay_prob=[1, 1, 1.5],\n",
    "    num_states=num_states\n",
    "    )"
   ]
  },
  {
   "cell_type": "code",
   "execution_count": 5,
   "metadata": {},
   "outputs": [],
   "source": [
    "# Set up network\n",
    "save_path = '../trained_models/baseline/'\n",
    "model_path = save_path + 'model.pt'\n",
    "net_configs_path = save_path + 'net_configs.p'\n",
    "with open(net_configs_path, 'rb') as f:\n",
    "    net_configs = pickle.load(f)\n",
    "net_configs.pop('num_states')\n",
    "net = STDP_SR(num_states=num_states, **net_configs)\n",
    "net.load_state_dict(torch.load(model_path))\n",
    "net.ca3.set_differentiability(False)"
   ]
  },
  {
   "cell_type": "code",
   "execution_count": 6,
   "metadata": {},
   "outputs": [],
   "source": [
    "# Set up dataset\n",
    "dg_inputs = torch.from_numpy(dset.dg_inputs.T).float().to(device).unsqueeze(1)\n",
    "dg_modes = torch.from_numpy(dset.dg_modes.T).float().to(device).unsqueeze(1)\n",
    "input_states = []\n",
    "for t in range(dg_inputs.shape[0]):\n",
    "    input_states.append(np.argwhere(dg_inputs[t,0])[0,0])\n",
    "input_states = np.array(input_states)"
   ]
  },
  {
   "cell_type": "code",
   "execution_count": 7,
   "metadata": {},
   "outputs": [],
   "source": [
    "# Get lap start indices\n",
    "lap_starts = [0]\n",
    "state_counts = np.zeros(num_states)\n",
    "for t, input_state in enumerate(input_states):\n",
    "    if not np.any(state_counts == 0):\n",
    "        lap_starts.append(t)\n",
    "        state_counts = np.zeros(num_states)\n",
    "    state_counts[input_state] += 1\n",
    "lap_starts = np.array(lap_starts)"
   ]
  },
  {
   "cell_type": "markdown",
   "metadata": {},
   "source": [
    "# Run network"
   ]
  },
  {
   "cell_type": "code",
   "execution_count": 8,
   "metadata": {},
   "outputs": [],
   "source": [
    "Ms = []\n",
    "for step in range(dset.num_steps):\n",
    "    curr_dg_input = dg_inputs[step].unsqueeze(0)\n",
    "    curr_dg_mode = dg_modes[step].unsqueeze(0)\n",
    "    reset = True if step == 0 else False\n",
    "    _, outputs = net(curr_dg_input, curr_dg_mode, reset=reset)\n",
    "    if step in lap_starts:\n",
    "        Ms.append(net.get_M(0.95))"
   ]
  },
  {
   "cell_type": "markdown",
   "metadata": {},
   "source": [
    "# Plot place field induction laps"
   ]
  },
  {
   "cell_type": "code",
   "execution_count": 9,
   "metadata": {},
   "outputs": [
    {
     "name": "stdout",
     "output_type": "stream",
     "text": [
      "State 0 first encountered in 0\n",
      "State 1 first encountered in 1\n",
      "State 2 first encountered in 2\n",
      "State 3 first encountered in 5\n",
      "State 4 first encountered in 7\n",
      "State 5 first encountered in 8\n",
      "State 6 first encountered in 10\n",
      "State 7 first encountered in 13\n",
      "State 8 first encountered in 20\n",
      "State 9 first encountered in 21\n",
      "State 10 first encountered in 23\n",
      "State 11 first encountered in 36\n",
      "State 12 first encountered in 37\n",
      "State 13 first encountered in 38\n",
      "State 14 first encountered in 39\n",
      "State 15 first encountered in 42\n",
      "State 16 first encountered in 45\n",
      "State 17 first encountered in 117\n",
      "State 18 first encountered in 118\n",
      "State 19 first encountered in 119\n",
      "State 20 first encountered in 120\n",
      "State 21 first encountered in 122\n",
      "State 22 first encountered in 123\n",
      "State 23 first encountered in 125\n",
      "State 24 first encountered in 130\n",
      "State 25 first encountered in 136\n",
      "State 26 first encountered in 137\n",
      "State 27 first encountered in 138\n",
      "State 28 first encountered in 140\n",
      "State 29 first encountered in 143\n"
     ]
    }
   ],
   "source": [
    "for state in np.unique(input_states):\n",
    "    first_t = np.argwhere(input_states == state)[0,0]\n",
    "    print(f'State {state} first encountered in {first_t}')"
   ]
  },
  {
   "cell_type": "code",
   "execution_count": 10,
   "metadata": {},
   "outputs": [],
   "source": [
    "chosen_state = 19\n",
    "num_laps = 16\n",
    "M_vectors = [M[chosen_state,:].detach().numpy() for M in Ms]\n",
    "M_vectors = np.array(M_vectors)"
   ]
  },
  {
   "cell_type": "code",
   "execution_count": 11,
   "metadata": {},
   "outputs": [
    {
     "data": {
      "image/png": "[encoded data removed]",
      "text/plain": [
       "<Figure size 576x360 with 1 Axes>"
      ]
     },
     "metadata": {},
     "output_type": "display_data"
    }
   ],
   "source": [
    "plt.figure(figsize=(8,5))\n",
    "plt.imshow(M_vectors[:num_laps], cmap='viridis')\n",
    "plt.yticks(np.arange(0, num_laps, 5))\n",
    "plt.ylabel('Laps')\n",
    "tick_locs = np.array([0, 50, 100]) # In cm\n",
    "plt.xticks(tick_locs/configs.bin_to_cm, tick_locs)\n",
    "plt.xlabel('Position (cm)')\n",
    "plt.title(f'Example Linear Track Place Field')\n",
    "plt.savefig('field_induction.png', dpi=200)\n",
    "plt.show()"
   ]
  },
  {
   "cell_type": "code",
   "execution_count": null,
   "metadata": {},
   "outputs": [],
   "source": []
  }
 ],
 "metadata": {
  "kernelspec": {
   "display_name": "Python 3",
   "language": "python",
   "name": "python3"
  },
  "language_info": {
   "codemirror_mode": {
    "name": "ipython",
    "version": 3
   },
   "file_extension": ".py",
   "mimetype": "text/x-python",
   "name": "python",
   "nbconvert_exporter": "python",
   "pygments_lexer": "ipython3",
   "version": "3.7.6"
  }
 },
 "nbformat": 4,
 "nbformat_minor": 4
}
