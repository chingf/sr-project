{
 "cells": [
  {
   "cell_type": "code",
   "execution_count": 45,
   "metadata": {},
   "outputs": [],
   "source": [
    "import pickle\n",
    "import numpy as np\n",
    "import os\n",
    "import torch\n",
    "import torch.nn as nn\n",
    "import re\n",
    "import sys\n",
    "from tensorboard.backend.event_processing.event_accumulator import EventAccumulator\n",
    "import matplotlib.pyplot as plt\n",
    "\n",
    "root = os.path.dirname(os.path.abspath(os.curdir))\n",
    "sys.path.append(root)\n",
    "\n",
    "from sr_model.models.models import AnalyticSR, STDP_SR, Linear, MLP\n",
    "from datasets import inputs, sf_inputs_discrete\n",
    "from run_td_rnn import run as run_rnn\n",
    "from run_td_mlp import run as run_mlp\n",
    "from run_td_linear import run as run_linear\n",
    "\n",
    "device = 'cpu'"
   ]
  },
  {
   "cell_type": "markdown",
   "metadata": {},
   "source": [
    "# Specify dataset and run network"
   ]
  },
  {
   "cell_type": "code",
   "execution_count": 46,
   "metadata": {},
   "outputs": [],
   "source": [
    "num_states = 10*10"
   ]
  },
  {
   "cell_type": "code",
   "execution_count": 47,
   "metadata": {},
   "outputs": [],
   "source": [
    "# One hot\n",
    "feature_maker_kwargs = {\n",
    "    'feature_dim': num_states, 'feature_type': 'nhot'\n",
    "    }\n",
    "\n",
    "# # Correlated inputs\n",
    "# feature_maker_kwargs = {\n",
    "#     'feature_dim': num_states, 'feature_vals': None,\n",
    "#     'feature_vals_p': [0.8, 0.2],\n",
    "#     'feature_type': 'correlated_distributed',\n",
    "#     'spatial_sigma': 1.5\n",
    "#     }\n",
    "\n",
    "# Barrier locations\n",
    "\n",
    "dataset_config = {\n",
    "    'num_steps': 4000, 'num_states': num_states,\n",
    "    'feature_maker_kwargs': feature_maker_kwargs,\n",
    "    'barriers': 'transitions'\n",
    "    }\n",
    "dataset = sf_inputs_discrete.Sim2DWalk\n",
    "\n",
    "input_size = feature_maker_kwargs['feature_dim']"
   ]
  },
  {
   "cell_type": "code",
   "execution_count": 48,
   "metadata": {},
   "outputs": [
    {
     "data": {
      "image/png": "[encoded data removed]",
      "text/plain": [
       "<Figure size 432x288 with 1 Axes>"
      ]
     },
     "metadata": {
      "needs_background": "light"
     },
     "output_type": "display_data"
    },
    {
     "data": {
      "image/png": "[encoded data removed]",
      "text/plain": [
       "<Figure size 432x288 with 1 Axes>"
      ]
     },
     "metadata": {
      "needs_background": "light"
     },
     "output_type": "display_data"
    },
    {
     "name": "stdout",
     "output_type": "stream",
     "text": [
      "39.5\n"
     ]
    },
    {
     "data": {
      "text/plain": [
       "0.0"
      ]
     },
     "execution_count": 48,
     "metadata": {},
     "output_type": "execute_result"
    }
   ],
   "source": [
    "input = dataset(**dataset_config)\n",
    "plt.figure();\n",
    "plt.plot(input.xs, input.ys)\n",
    "plt.show()\n",
    "\n",
    "plt.figure();\n",
    "states = np.argwhere(input.state_inputs)[:,0]\n",
    "counts = np.zeros(input.num_states)\n",
    "for state in np.arange(input.num_states):\n",
    "    counts[state] = np.sum(states==state)\n",
    "plt.bar(np.arange(input.num_states), counts)\n",
    "plt.show()\n",
    "print(np.median(counts))\n",
    "np.sum(counts == 0)/input.num_states"
   ]
  },
  {
   "cell_type": "code",
   "execution_count": 49,
   "metadata": {},
   "outputs": [
    {
     "data": {
      "image/png": "[encoded data removed]",
      "text/plain": [
       "<Figure size 432x288 with 1 Axes>"
      ]
     },
     "metadata": {
      "needs_background": "light"
     },
     "output_type": "display_data"
    }
   ],
   "source": [
    "plt.figure()\n",
    "plt.imshow(input.feature_maker.feature_map)\n",
    "plt.show()"
   ]
  },
  {
   "cell_type": "code",
   "execution_count": 50,
   "metadata": {},
   "outputs": [],
   "source": [
    "gamma=0.7"
   ]
  },
  {
   "cell_type": "code",
   "execution_count": 51,
   "metadata": {},
   "outputs": [],
   "source": [
    "arena_length = int(np.sqrt(input.num_states)) - 1\n",
    "walk_xs = input.xs.astype(int)\n",
    "walk_ys = input.ys.astype(int)"
   ]
  },
  {
   "cell_type": "code",
   "execution_count": 52,
   "metadata": {
    "scrolled": true
   },
   "outputs": [
    {
     "name": "stdout",
     "output_type": "stream",
     "text": [
      "\n",
      "[   51] loss: 0.005\n",
      "Time per step 0.032s, net 1.583s\n",
      "\n",
      "[  101] loss: 0.005\n",
      "Time per step 0.040s, net 3.567s\n",
      "\n",
      "[  151] loss: 0.005\n",
      "Time per step 0.042s, net 5.663s\n",
      "\n",
      "[  201] loss: 0.005\n",
      "Time per step 0.047s, net 7.991s\n",
      "\n",
      "[  251] loss: 0.005\n",
      "Time per step 0.050s, net 10.486s\n",
      "\n",
      "[  301] loss: 0.005\n",
      "Time per step 0.052s, net 13.100s\n",
      "\n",
      "[  351] loss: 0.005\n",
      "Time per step 0.051s, net 15.630s\n",
      "\n",
      "[  401] loss: 0.005\n",
      "Time per step 0.058s, net 18.521s\n",
      "\n",
      "[  451] loss: 0.005\n",
      "Time per step 0.051s, net 21.068s\n",
      "\n",
      "[  501] loss: 0.005\n",
      "Time per step 0.060s, net 24.048s\n",
      "\n",
      "[  551] loss: 0.005\n",
      "Time per step 0.078s, net 27.929s\n",
      "\n",
      "[  601] loss: 0.005\n",
      "Time per step 0.065s, net 31.196s\n",
      "\n",
      "[  651] loss: 0.005\n",
      "Time per step 0.061s, net 34.225s\n",
      "\n",
      "[  701] loss: 0.005\n",
      "Time per step 0.049s, net 36.691s\n",
      "\n",
      "[  751] loss: 0.005\n",
      "Time per step 0.066s, net 40.005s\n",
      "\n",
      "[  801] loss: 0.005\n",
      "Time per step 0.061s, net 43.068s\n",
      "\n",
      "[  851] loss: 0.005\n",
      "Time per step 0.063s, net 46.225s\n",
      "\n",
      "[  901] loss: 0.005\n",
      "Time per step 0.072s, net 49.826s\n",
      "\n",
      "[  951] loss: 0.005\n",
      "Time per step 0.049s, net 52.276s\n",
      "\n",
      "[ 1001] loss: 0.005\n",
      "Time per step 0.049s, net 54.721s\n",
      "\n",
      "[ 1051] loss: 0.005\n",
      "Time per step 0.052s, net 57.337s\n",
      "\n",
      "[ 1101] loss: 0.005\n",
      "Time per step 0.049s, net 59.806s\n",
      "\n",
      "[ 1151] loss: 0.005\n",
      "Time per step 0.045s, net 62.074s\n",
      "\n",
      "[ 1201] loss: 0.005\n",
      "Time per step 0.050s, net 64.596s\n",
      "\n",
      "[ 1251] loss: 0.005\n",
      "Time per step 0.053s, net 67.225s\n",
      "\n",
      "[ 1301] loss: 0.005\n",
      "Time per step 0.053s, net 69.859s\n",
      "\n",
      "[ 1351] loss: 0.005\n",
      "Time per step 0.052s, net 72.446s\n",
      "\n",
      "[ 1401] loss: 0.005\n",
      "Time per step 0.055s, net 75.179s\n",
      "\n",
      "[ 1451] loss: 0.005\n",
      "Time per step 0.057s, net 78.045s\n",
      "\n",
      "[ 1501] loss: 0.005\n",
      "Time per step 0.058s, net 80.961s\n",
      "\n",
      "[ 1551] loss: 0.005\n",
      "Time per step 0.057s, net 83.831s\n",
      "\n",
      "[ 1601] loss: 0.005\n",
      "Time per step 0.063s, net 86.996s\n",
      "\n",
      "[ 1651] loss: 0.005\n",
      "Time per step 0.072s, net 90.601s\n",
      "\n",
      "[ 1701] loss: 0.005\n",
      "Time per step 0.066s, net 93.910s\n",
      "\n",
      "[ 1751] loss: 0.005\n",
      "Time per step 0.054s, net 96.619s\n",
      "\n",
      "[ 1801] loss: 0.005\n",
      "Time per step 0.043s, net 98.790s\n",
      "\n",
      "[ 1851] loss: 0.005\n",
      "Time per step 0.056s, net 101.577s\n",
      "\n",
      "[ 1901] loss: 0.005\n",
      "Time per step 0.055s, net 104.345s\n",
      "\n",
      "[ 1951] loss: 0.005\n",
      "Time per step 0.056s, net 107.147s\n",
      "\n",
      "[ 2001] loss: 0.005\n",
      "Time per step 0.057s, net 109.992s\n",
      "\n",
      "[ 2051] loss: 0.005\n",
      "Time per step 0.057s, net 112.828s\n",
      "\n",
      "[ 2101] loss: 0.005\n",
      "Time per step 0.050s, net 115.337s\n",
      "\n",
      "[ 2151] loss: 0.005\n",
      "Time per step 0.048s, net 117.750s\n",
      "\n",
      "[ 2201] loss: 0.005\n",
      "Time per step 0.045s, net 119.997s\n",
      "\n",
      "[ 2251] loss: 0.005\n",
      "Time per step 0.059s, net 122.924s\n",
      "\n",
      "[ 2301] loss: 0.005\n",
      "Time per step 0.043s, net 125.093s\n",
      "\n",
      "[ 2351] loss: 0.005\n",
      "Time per step 0.060s, net 128.114s\n",
      "\n",
      "[ 2401] loss: 0.005\n",
      "Time per step 0.058s, net 131.012s\n",
      "\n",
      "[ 2451] loss: 0.005\n",
      "Time per step 0.058s, net 133.932s\n",
      "\n",
      "[ 2501] loss: 0.005\n",
      "Time per step 0.052s, net 136.538s\n",
      "\n",
      "[ 2551] loss: 0.005\n",
      "Time per step 0.057s, net 139.413s\n",
      "\n",
      "[ 2601] loss: 0.005\n",
      "Time per step 0.053s, net 142.054s\n",
      "\n",
      "[ 2651] loss: 0.005\n",
      "Time per step 0.055s, net 144.809s\n",
      "\n",
      "[ 2701] loss: 0.005\n",
      "Time per step 0.042s, net 146.924s\n",
      "\n",
      "[ 2751] loss: 0.005\n",
      "Time per step 0.051s, net 149.460s\n",
      "\n",
      "[ 2801] loss: 0.005\n",
      "Time per step 0.054s, net 152.139s\n",
      "\n",
      "[ 2851] loss: 0.005\n",
      "Time per step 0.052s, net 154.761s\n",
      "\n",
      "[ 2901] loss: 0.005\n",
      "Time per step 0.058s, net 157.637s\n",
      "\n",
      "[ 2951] loss: 0.005\n",
      "Time per step 0.059s, net 160.603s\n",
      "\n",
      "[ 3001] loss: 0.005\n",
      "Time per step 0.058s, net 163.493s\n",
      "\n",
      "[ 3051] loss: 0.005\n",
      "Time per step 0.054s, net 166.216s\n",
      "\n",
      "[ 3101] loss: 0.005\n",
      "Time per step 0.048s, net 168.612s\n",
      "\n",
      "[ 3151] loss: 0.005\n",
      "Time per step 0.058s, net 171.505s\n",
      "\n",
      "[ 3201] loss: 0.005\n",
      "Time per step 0.057s, net 174.340s\n",
      "\n",
      "[ 3251] loss: 0.005\n",
      "Time per step 0.053s, net 176.984s\n",
      "\n",
      "[ 3301] loss: 0.005\n",
      "Time per step 0.056s, net 179.771s\n",
      "\n",
      "[ 3351] loss: 0.005\n",
      "Time per step 0.066s, net 183.077s\n",
      "\n",
      "[ 3401] loss: 0.005\n",
      "Time per step 0.051s, net 185.647s\n",
      "\n",
      "[ 3451] loss: 0.005\n",
      "Time per step 0.065s, net 188.882s\n",
      "\n",
      "[ 3501] loss: 0.005\n",
      "Time per step 0.069s, net 192.323s\n",
      "\n",
      "[ 3551] loss: 0.005\n",
      "Time per step 0.065s, net 195.558s\n",
      "\n",
      "[ 3601] loss: 0.005\n",
      "Time per step 0.072s, net 199.137s\n",
      "\n",
      "[ 3651] loss: 0.005\n",
      "Time per step 0.073s, net 202.782s\n",
      "\n",
      "[ 3701] loss: 0.005\n",
      "Time per step 0.060s, net 205.779s\n",
      "\n",
      "[ 3751] loss: 0.005\n",
      "Time per step 0.066s, net 209.095s\n",
      "\n",
      "[ 3801] loss: 0.005\n",
      "Time per step 0.053s, net 211.726s\n",
      "\n",
      "[ 3851] loss: 0.005\n",
      "Time per step 0.054s, net 214.404s\n",
      "\n",
      "[ 3901] loss: 0.005\n",
      "Time per step 0.055s, net 217.147s\n",
      "\n",
      "[ 3951] loss: 0.005\n",
      "Time per step 0.055s, net 219.883s\n",
      "Finished Training\n",
      "\n"
     ]
    }
   ],
   "source": [
    "rnn = AnalyticSR(\n",
    "    num_states=input_size, gamma=gamma,\n",
    "    ca3_kwargs={\n",
    "        'use_dynamic_lr':False, 'lr': 1E-3,\n",
    "        #'parameterize': True,\n",
    "        #'alpha': 1.2, 'beta': 1.2\n",
    "        }\n",
    "    )\n",
    "outputs, loss, dset = run_rnn(\n",
    "    '../trained_models/test/', rnn, dataset,\n",
    "    dataset_config, gamma=gamma, test_over_all=False,\n",
    "    train_net=False, return_dset=True\n",
    "    )"
   ]
  },
  {
   "cell_type": "code",
   "execution_count": 53,
   "metadata": {},
   "outputs": [],
   "source": [
    "walk_xs = dset.xs\n",
    "walk_ys = dset.ys\n",
    "arena_length = int(np.sqrt(dset.num_states))"
   ]
  },
  {
   "cell_type": "markdown",
   "metadata": {},
   "source": [
    "# Make Plots"
   ]
  },
  {
   "cell_type": "code",
   "execution_count": 54,
   "metadata": {
    "scrolled": true
   },
   "outputs": [
    {
     "data": {
      "image/png": "[encoded data removed]",
      "text/plain": [
       "<Figure size 432x432 with 16 Axes>"
      ]
     },
     "metadata": {},
     "output_type": "display_data"
    }
   ],
   "source": [
    "import matplotlib.gridspec as gridspec\n",
    "\n",
    "grid_x = 4; grid_y = 4;\n",
    "\n",
    "plt.figure(figsize = (6, 6))\n",
    "gs1 = gridspec.GridSpec(grid_x, grid_y)\n",
    "gs1.update(wspace=0.05, hspace=0.05) # set the spacing between axes. \n",
    "\n",
    "neurs = np.arange(outputs.shape[1])\n",
    "np.random.shuffle(neurs)\n",
    "\n",
    "idx = 0\n",
    "for neur in neurs:\n",
    "    firing_field = np.zeros((arena_length, arena_length))*np.nan\n",
    "    for x in range(arena_length):\n",
    "        for y in range(arena_length):\n",
    "            frame_idxs = np.logical_and(walk_xs == x, walk_ys == y)\n",
    "            fr = np.nanmean(outputs[frame_idxs, neur])\n",
    "            firing_field[x,y] = fr\n",
    "    firing_field[np.isnan(firing_field)] = 0    \n",
    "    if not np.any(firing_field > 0): continue\n",
    "    ax = plt.subplot(gs1[idx])\n",
    "    plt.axis('on')\n",
    "    ax.imshow(firing_field/firing_field.max(), vmin=0, vmax=1)\n",
    "    ax.plot([-0.5, 4.], [4.5, 4.5], 'black', linewidth=2)\n",
    "    ax.set_xticks([])\n",
    "    ax.set_yticks([])\n",
    "    \n",
    "    idx += 1\n",
    "    if idx == grid_x*grid_y: break\n",
    "plt.show()"
   ]
  },
  {
   "cell_type": "code",
   "execution_count": null,
   "metadata": {},
   "outputs": [],
   "source": []
  }
 ],
 "metadata": {
  "kernelspec": {
   "display_name": "Python 3",
   "language": "python",
   "name": "python3"
  },
  "language_info": {
   "codemirror_mode": {
    "name": "ipython",
    "version": 3
   },
   "file_extension": ".py",
   "mimetype": "text/x-python",
   "name": "python",
   "nbconvert_exporter": "python",
   "pygments_lexer": "ipython3",
   "version": "3.7.6"
  }
 },
 "nbformat": 4,
 "nbformat_minor": 4
}
