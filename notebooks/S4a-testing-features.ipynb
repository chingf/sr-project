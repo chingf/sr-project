{
 "cells": [
  {
   "cell_type": "code",
   "execution_count": 1,
   "metadata": {},
   "outputs": [
    {
     "name": "stderr",
     "output_type": "stream",
     "text": [
      "/home/chingf/Code/sr-project/datasets/sf_inputs_discrete.py:19: UserWarning: Emily's experimental data could not be loaded.\n",
      "  warnings.warn(\"Emily's experimental data could not be loaded.\")\n",
      "/home/chingf/Code/sr-project/datasets/inputs.py:12: UserWarning: Emily's experimental data could not be loaded.\n",
      "  warnings.warn(\"Emily's experimental data could not be loaded.\")\n"
     ]
    }
   ],
   "source": [
    "# Define task\n",
    "\n",
    "from _collections import OrderedDict\n",
    "import matplotlib.pyplot as plt\n",
    "import numpy as np\n",
    "\n",
    "import sys\n",
    "import os\n",
    "\n",
    "root = os.path.dirname(os.path.abspath(os.curdir))\n",
    "sys.path.append(root)\n",
    "\n",
    "from scipy.ndimage import gaussian_filter\n",
    "from sklearn.preprocessing import normalize\n",
    "import seaborn as sns\n",
    "import warnings\n",
    "from datasets import sf_inputs_discrete"
   ]
  },
  {
   "cell_type": "code",
   "execution_count": 2,
   "metadata": {
    "scrolled": true
   },
   "outputs": [],
   "source": [
    "arena_length = 14\n",
    "num_states = arena_length**2\n",
    "num_steps= 5000\n",
    "sparsity_p = 0.00015 #0.022\n",
    "spatial_sigma = 0.\n",
    "feature_maker_kwargs = {\n",
    "    'feature_dim': num_states,\n",
    "    'feature_type': 'correlated_distributed',\n",
    "    'feature_vals_p': [1-sparsity_p, sparsity_p],\n",
    "    'spatial_sigma': spatial_sigma,\n",
    "    'gaussian_truncate': 1.\n",
    "    }\n",
    "dataset_config = {\n",
    "    'num_steps': num_steps,\n",
    "    'feature_maker_kwargs': feature_maker_kwargs,\n",
    "    'num_states': num_states\n",
    "}\n",
    "dataset = sf_inputs_discrete.Sim2DWalk\n",
    "dset = dataset(**dataset_config)"
   ]
  },
  {
   "cell_type": "code",
   "execution_count": 3,
   "metadata": {},
   "outputs": [
    {
     "data": {
      "image/png": "[encoded data removed]",
      "text/plain": [
       "<Figure size 432x288 with 1 Axes>"
      ]
     },
     "metadata": {
      "needs_background": "light"
     },
     "output_type": "display_data"
    }
   ],
   "source": [
    "plt.figure()\n",
    "plt.plot(dset.xs, dset.ys)\n",
    "plt.show()"
   ]
  },
  {
   "cell_type": "markdown",
   "metadata": {},
   "source": [
    "# Get final sparsity"
   ]
  },
  {
   "cell_type": "code",
   "execution_count": 4,
   "metadata": {},
   "outputs": [
    {
     "data": {
      "text/plain": [
       "0.00510204081632653"
      ]
     },
     "execution_count": 4,
     "metadata": {},
     "output_type": "execute_result"
    }
   ],
   "source": [
    "features = dset.feature_maker.feature_map # (features, states)\n",
    "\n",
    "np.sum(features > 0.)/(features.size)"
   ]
  },
  {
   "cell_type": "code",
   "execution_count": 5,
   "metadata": {},
   "outputs": [
    {
     "data": {
      "text/plain": [
       "196"
      ]
     },
     "execution_count": 5,
     "metadata": {},
     "output_type": "execute_result"
    }
   ],
   "source": [
    "np.unique(features, axis=1).shape[1]"
   ]
  },
  {
   "cell_type": "code",
   "execution_count": 6,
   "metadata": {},
   "outputs": [
    {
     "data": {
      "text/plain": [
       "196"
      ]
     },
     "execution_count": 6,
     "metadata": {},
     "output_type": "execute_result"
    }
   ],
   "source": [
    "14*14"
   ]
  },
  {
   "cell_type": "code",
   "execution_count": 7,
   "metadata": {},
   "outputs": [
    {
     "name": "stdout",
     "output_type": "stream",
     "text": [
      "0\n",
      "0.005102040816326529\n"
     ]
    }
   ],
   "source": [
    "l1_norms = []\n",
    "zero_vecs = 0\n",
    "\n",
    "for feature in features.T:\n",
    "    zero_vecs += np.sum(feature) == 0\n",
    "    l1_norms.append(np.sum(feature)/feature.size)\n",
    "print(zero_vecs)\n",
    "print(np.mean(l1_norms))"
   ]
  },
  {
   "cell_type": "code",
   "execution_count": 261,
   "metadata": {},
   "outputs": [
    {
     "data": {
      "image/png": "[encoded data removed]",
      "text/plain": [
       "<Figure size 432x288 with 1 Axes>"
      ]
     },
     "metadata": {
      "needs_background": "light"
     },
     "output_type": "display_data"
    }
   ],
   "source": [
    "plt.figure()\n",
    "plt.hist(features.flatten(),\n",
    "    weights=[1/features.size]*features.size)\n",
    "plt.show()"
   ]
  },
  {
   "cell_type": "code",
   "execution_count": 262,
   "metadata": {},
   "outputs": [
    {
     "data": {
      "image/png": "[encoded data removed]",
      "text/plain": [
       "<Figure size 432x288 with 1 Axes>"
      ]
     },
     "metadata": {
      "needs_background": "light"
     },
     "output_type": "display_data"
    }
   ],
   "source": [
    "plt.figure()\n",
    "plt.plot(features[:,0])\n",
    "plt.show()"
   ]
  },
  {
   "cell_type": "markdown",
   "metadata": {},
   "source": [
    "# Plot correlation"
   ]
  },
  {
   "cell_type": "code",
   "execution_count": 263,
   "metadata": {},
   "outputs": [],
   "source": [
    "corr = np.zeros((arena_length, arena_length))\n",
    "ref_i = arena_length//2; ref_j = arena_length//2\n",
    "ref_idx = ref_i*arena_length + ref_j\n",
    "\n",
    "for i in range(arena_length):\n",
    "    for j in range(arena_length):\n",
    "        idx = i*arena_length + j\n",
    "        c = np.dot(features[:,idx], features[:,ref_idx])\n",
    "        corr[i,j] = c"
   ]
  },
  {
   "cell_type": "code",
   "execution_count": 264,
   "metadata": {},
   "outputs": [
    {
     "data": {
      "image/png": "[encoded data removed]",
      "text/plain": [
       "<Figure size 432x288 with 2 Axes>"
      ]
     },
     "metadata": {
      "needs_background": "light"
     },
     "output_type": "display_data"
    }
   ],
   "source": [
    "plt.figure()\n",
    "plt.imshow(corr)\n",
    "plt.colorbar()\n",
    "plt.show()"
   ]
  },
  {
   "cell_type": "code",
   "execution_count": null,
   "metadata": {},
   "outputs": [],
   "source": []
  },
  {
   "cell_type": "markdown",
   "metadata": {},
   "source": [
    "# Decide grid search to get final sparsities"
   ]
  },
  {
   "cell_type": "code",
   "execution_count": 291,
   "metadata": {},
   "outputs": [],
   "source": [
    "spatial_sigmas = [\n",
    "    0.0, 0.5,\n",
    "    1.0, 1.25, 1.5, 1.75,\n",
    "    2.0, 2.25, 2.5, 2.75,\n",
    "    3.0\n",
    "    ]\n",
    "sparsity_range = [\n",
    "    [0.001, 0.2], # 0\n",
    "    [0.001, 0.15], # 0.5\n",
    "    [0.001, 0.1], # 1\n",
    "    [0.001, 0.09], # 1.25\n",
    "    [0.001, 0.05], # 1.5\n",
    "    [0.001, 0.045], # 1.75\n",
    "    [0.001, 0.04], # 2\n",
    "    [0.001, 0.037], # 2.25\n",
    "    [0.001, 0.03], # 2.5\n",
    "    [0.001, 0.025], # 2.75\n",
    "    [0.001, 0.023] # 3\n",
    "    ]\n",
    "\n",
    "final_sigmas = []\n",
    "final_sparsities = []\n",
    "for idx, spatial_sigma in enumerate(spatial_sigmas):\n",
    "    _range = sparsity_range[idx] \n",
    "    sparsity_ps = np.linspace(_range[0], _range[1], num=20, endpoint=True)\n",
    "    for sparsity_p in sparsity_ps:\n",
    "        for _ in range(3):\n",
    "            feature_maker_kwargs = {\n",
    "                'feature_dim': num_states,\n",
    "                'feature_type': 'correlated_distributed',\n",
    "                'feature_vals_p': [1-sparsity_p, sparsity_p],\n",
    "                'spatial_sigma': spatial_sigma,\n",
    "                'gaussian_truncate': 1.\n",
    "                }\n",
    "            dataset_config = {\n",
    "                'num_steps': num_steps,\n",
    "                'feature_maker_kwargs': feature_maker_kwargs,\n",
    "                'num_states': num_states\n",
    "            }\n",
    "            dset = dataset(**dataset_config)\n",
    "            final_sigmas.append(spatial_sigma)\n",
    "            final_sparsities.append(dset.feature_maker.post_smooth_sparsity)"
   ]
  },
  {
   "cell_type": "code",
   "execution_count": 292,
   "metadata": {},
   "outputs": [
    {
     "data": {
      "text/plain": [
       "<matplotlib.collections.PathCollection at 0x7f977dd19e50>"
      ]
     },
     "execution_count": 292,
     "metadata": {},
     "output_type": "execute_result"
    },
    {
     "data": {
      "image/png": "[encoded data removed]",
      "text/plain": [
       "<Figure size 432x288 with 1 Axes>"
      ]
     },
     "metadata": {
      "needs_background": "light"
     },
     "output_type": "display_data"
    }
   ],
   "source": [
    "plt.scatter(final_sparsities, final_sigmas)"
   ]
  },
  {
   "cell_type": "code",
   "execution_count": null,
   "metadata": {},
   "outputs": [],
   "source": []
  },
  {
   "cell_type": "code",
   "execution_count": null,
   "metadata": {},
   "outputs": [],
   "source": []
  }
 ],
 "metadata": {
  "kernelspec": {
   "display_name": "Python 3",
   "language": "python",
   "name": "python3"
  },
  "language_info": {
   "codemirror_mode": {
    "name": "ipython",
    "version": 3
   },
   "file_extension": ".py",
   "mimetype": "text/x-python",
   "name": "python",
   "nbconvert_exporter": "python",
   "pygments_lexer": "ipython3",
   "version": "3.7.6"
  }
 },
 "nbformat": 4,
 "nbformat_minor": 4
}
