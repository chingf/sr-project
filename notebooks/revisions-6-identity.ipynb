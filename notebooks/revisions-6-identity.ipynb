{
 "cells": [
  {
   "cell_type": "code",
   "execution_count": 5,
   "id": "2250d765",
   "metadata": {},
   "outputs": [],
   "source": [
    "import numpy as np\n",
    "from scipy.io import loadmat\n",
    "from scipy.stats import gamma\n",
    "from scipy.special import digamma, loggamma\n",
    "import os\n",
    "import sys\n",
    "root = os.path.dirname(os.path.abspath(os.curdir))\n",
    "sys.path.append(root)\n",
    "from datasets import inputs, sf_inputs_discrete\n",
    "from utils import get_field_metrics\n",
    "\n",
    "import configs"
   ]
  },
  {
   "cell_type": "markdown",
   "id": "c7012b07",
   "metadata": {},
   "source": [
    "# Arguments"
   ]
  },
  {
   "cell_type": "code",
   "execution_count": 3,
   "id": "43cbec46",
   "metadata": {},
   "outputs": [],
   "source": [
    "iters = 3                                                                      \n",
    "gammas = [0.4, 0.6, 0.8]                          \n",
    "\n",
    "# Integer sigmas                                                               \n",
    "spatial_sigmas = [0.0, 1.0, 2.0, 3.0]                                          \n",
    "sparsity_range = [[0.001, 0.2], [0.001, 0.1], [0.001, 0.04], [0.001, 0.023]]   \n",
    "\n",
    "# Other sigmas                                                                 \n",
    "spatial_sigmas.extend([0.25, 0.5, 1.25, 1.5, 1.75, 2.25, 2.5, 2.75, 3.25])     \n",
    "sparsity_range.extend([                                                        \n",
    "    [0.001, 0.19], # 0.25                                                      \n",
    "    [0.001, 0.15], # 0.5                                                       \n",
    "    [0.001, 0.09], # 1.25                                                      \n",
    "    [0.001, 0.05], # 1.5                                                       \n",
    "    [0.001, 0.045], # 1.75                                                     \n",
    "    [0.001, 0.037], # 2.25                                                     \n",
    "    [0.001, 0.03], # 2.5                                                       \n",
    "    [0.001, 0.025], # 2.75                                                     \n",
    "    [0.001, 0.021], # 3.25                                                     \n",
    "    ])                                                                         \n",
    "\n",
    "num_states = 14*14                                                             \n",
    "num_steps = 5001"
   ]
  },
  {
   "cell_type": "code",
   "execution_count": 4,
   "id": "f11ae3f6",
   "metadata": {},
   "outputs": [],
   "source": [
    "args = []                                                                   \n",
    "for gamma in gammas:                                                        \n",
    "    for idx, spatial_sigma in enumerate(spatial_sigmas):                    \n",
    "        _range = sparsity_range[idx]                                        \n",
    "        sparsity_ps = np.linspace(_range[0], _range[1], num=20, endpoint=True)\n",
    "        for sparsity_p in sparsity_ps:                                      \n",
    "            args.append([gamma, spatial_sigma, sparsity_p]) "
   ]
  },
  {
   "cell_type": "markdown",
   "id": "6aa0b8c6",
   "metadata": {},
   "source": [
    "# Helper functions"
   ]
  },
  {
   "cell_type": "code",
   "execution_count": null,
   "id": "f0635366",
   "metadata": {},
   "outputs": [],
   "source": [
    "def get_firing_field(raw_ff, arena_length=14, window_ratio=0.12, normalize=False             \n",
    "    ):                                                                             \n",
    "    \"\"\"                                                                            \n",
    "    The window size (area*0.12) is a ratio taken from Payne & Aronov 2021.         \n",
    "                                                                                   \n",
    "    Args:                                                                          \n",
    "        xs: (frames,) array of x locations                                         \n",
    "        ys: (frames,) array of y locations                                         \n",
    "        activity: (frames,) array of activity of one neuron                        \n",
    "        window_ratio: Hamming window size; default ratio from Payne 2021           \n",
    "        arena_length: length of square arena                                       \n",
    "    \"\"\"                                                                                                                       \n",
    "                                                                                   \n",
    "    # Smooth field                                                                 \n",
    "    window = int(np.sqrt(arena_length*arena_length*window_ratio))                  \n",
    "    window = window + 1 if window%2 == 0 else window # Must be odd number          \n",
    "    kernel = np.outer(hamming(window), hamming(window))                            \n",
    "    firing_field = convolve(raw_ff, kernel)                                  \n",
    "                                                                                   \n",
    "    # Normalize, if desired                                                        \n",
    "    if normalize:                                                                  \n",
    "        max_rate = firing_field.max()                                              \n",
    "        if max_rate != 0:                                                          \n",
    "            firing_field = firing_field/firing_field.max()                         \n",
    "                                                                                   \n",
    "    return firing_field  "
   ]
  },
  {
   "cell_type": "code",
   "execution_count": null,
   "id": "421740e1",
   "metadata": {},
   "outputs": [],
   "source": [
    "def get_field_metrics(feature_map):                                                                      \n",
    "    \"\"\"                                                                         \n",
    "    Args:                                                                       \n",
    "        activity: (frames, neurs) array of activity of all neurons              \n",
    "        arena_length: length of square arena                                    \n",
    "    \"\"\"                                                                         \n",
    "                                                                                                                                                                                                    \n",
    "    fieldsizes = []                                                             \n",
    "    nfields = []                                                                \n",
    "                                                                                                                                     \n",
    "    # Go over each neuron                                                       \n",
    "    for neur in np.arange(feature_map.shape[1]):           \n",
    "        ff = feature_map[:, neur].reshape((14,14))\n",
    "        field, nan_idxs = get_firing_field(xs, ys, activity[:, neur], arena_length)\n",
    "        field_mask = np.zeros(field.shape)                                  \n",
    "        for _ in range(nshuffles):                                          \n",
    "            shuffled_field, _ = get_firing_field(                           \n",
    "                xs, ys, circular(activity[:, neur]), arena_length           \n",
    "                )                                                           \n",
    "            field_mask += (field > shuffled_field)                          \n",
    "        zz = np.copy(field_mask)                                            \n",
    "        field_mask = field_mask > 0.99*nshuffles                            \n",
    "        if save_field_info:                                                 \n",
    "            field_infos.append((field, field_mask, nan_idxs)) "
   ]
  },
  {
   "cell_type": "markdown",
   "id": "275db2a0",
   "metadata": {},
   "source": [
    "# Collect metrics"
   ]
  },
  {
   "cell_type": "code",
   "execution_count": 9,
   "id": "868b6b66",
   "metadata": {},
   "outputs": [
    {
     "ename": "TypeError",
     "evalue": "unsupported operand type(s) for *: 'gamma_gen' and 'float'",
     "output_type": "error",
     "traceback": [
      "\u001b[0;31m---------------------------------------------------------------------------\u001b[0m",
      "\u001b[0;31mTypeError\u001b[0m                                 Traceback (most recent call last)",
      "\u001b[0;32m/var/folders/jf/2_wn4hjd11q9klftv_v_hld80000gn/T/ipykernel_10601/3578731314.py\u001b[0m in \u001b[0;36m<module>\u001b[0;34m\u001b[0m\n\u001b[1;32m     18\u001b[0m     \u001b[0mdset\u001b[0m \u001b[0;34m=\u001b[0m \u001b[0mdataset\u001b[0m\u001b[0;34m(\u001b[0m\u001b[0;34m**\u001b[0m\u001b[0mdataset_config\u001b[0m\u001b[0;34m)\u001b[0m\u001b[0;34m\u001b[0m\u001b[0;34m\u001b[0m\u001b[0m\n\u001b[1;32m     19\u001b[0m     \u001b[0minputs\u001b[0m \u001b[0;34m=\u001b[0m \u001b[0mdset\u001b[0m\u001b[0;34m.\u001b[0m\u001b[0mdg_inputs\u001b[0m\u001b[0;34m.\u001b[0m\u001b[0mT\u001b[0m\u001b[0;34m\u001b[0m\u001b[0;34m\u001b[0m\u001b[0m\n\u001b[0;32m---> 20\u001b[0;31m     \u001b[0merror\u001b[0m \u001b[0;34m=\u001b[0m \u001b[0mnp\u001b[0m\u001b[0;34m.\u001b[0m\u001b[0mmean\u001b[0m\u001b[0;34m(\u001b[0m\u001b[0mnp\u001b[0m\u001b[0;34m.\u001b[0m\u001b[0msquare\u001b[0m\u001b[0;34m(\u001b[0m\u001b[0mgamma\u001b[0m\u001b[0;34m*\u001b[0m\u001b[0minputs\u001b[0m\u001b[0;34m[\u001b[0m\u001b[0;34m:\u001b[0m\u001b[0;34m-\u001b[0m\u001b[0;36m1\u001b[0m\u001b[0;34m]\u001b[0m\u001b[0;34m)\u001b[0m\u001b[0;34m)\u001b[0m\u001b[0;34m\u001b[0m\u001b[0;34m\u001b[0m\u001b[0m\n\u001b[0m\u001b[1;32m     21\u001b[0m     \u001b[0mgammas\u001b[0m\u001b[0;34m.\u001b[0m\u001b[0mappend\u001b[0m\u001b[0;34m(\u001b[0m\u001b[0m_gamma\u001b[0m\u001b[0;34m)\u001b[0m\u001b[0;34m\u001b[0m\u001b[0;34m\u001b[0m\u001b[0m\n\u001b[1;32m     22\u001b[0m     \u001b[0mspatial_sigmas\u001b[0m\u001b[0;34m.\u001b[0m\u001b[0mappend\u001b[0m\u001b[0;34m(\u001b[0m\u001b[0m_spatial_sigma\u001b[0m\u001b[0;34m)\u001b[0m\u001b[0;34m\u001b[0m\u001b[0;34m\u001b[0m\u001b[0m\n",
      "\u001b[0;31mTypeError\u001b[0m: unsupported operand type(s) for *: 'gamma_gen' and 'float'"
     ]
    }
   ],
   "source": [
    "gammas = []\n",
    "spatial_sigmas = []\n",
    "sparsities = []\n",
    "fieldsize_kls = []\n",
    "fieldnum_kls = []\n",
    "for arg in args:\n",
    "    _gamma, _spatial_sigma, _sparsity_p = arg                                  \n",
    "    dataset = sf_inputs_discrete.Sim2DWalk                                  \n",
    "    feature_maker_kwargs = {                                                \n",
    "        'feature_dim': num_states, 'feature_type': 'correlated_distributed',\n",
    "        'feature_vals_p': [1-_sparsity_p, _sparsity_p],                       \n",
    "        'spatial_sigma': _spatial_sigma                                      \n",
    "        }                                             \n",
    "    dataset_config = {                                                      \n",
    "        'num_steps': num_steps,\n",
    "        'feature_maker_kwargs': feature_maker_kwargs,\n",
    "        'num_states': num_states                                            \n",
    "        }\n",
    "    dset = dataset(**dataset_config)   \n",
    "    features = dset.feature_maker.feature_map.shape # (features, state)\n",
    "    fieldsize_kls.append()\n",
    "    fieldnum_kls.append()\n",
    "    sparsities.append(dset.feature_maker.post_smooth_sparsity)"
   ]
  },
  {
   "cell_type": "markdown",
   "id": "b724be23",
   "metadata": {},
   "source": [
    "# Plotting Helper Functions"
   ]
  },
  {
   "cell_type": "code",
   "execution_count": null,
   "id": "ff56cbcb",
   "metadata": {},
   "outputs": [],
   "source": []
  },
  {
   "cell_type": "markdown",
   "id": "eed84245",
   "metadata": {},
   "source": [
    "# Make heatmaps"
   ]
  },
  {
   "cell_type": "code",
   "execution_count": null,
   "id": "7fc98272",
   "metadata": {},
   "outputs": [],
   "source": []
  }
 ],
 "metadata": {
  "kernelspec": {
   "display_name": "Python 3 (ipykernel)",
   "language": "python",
   "name": "python3"
  },
  "language_info": {
   "codemirror_mode": {
    "name": "ipython",
    "version": 3
   },
   "file_extension": ".py",
   "mimetype": "text/x-python",
   "name": "python",
   "nbconvert_exporter": "python",
   "pygments_lexer": "ipython3",
   "version": "3.9.7"
  }
 },
 "nbformat": 4,
 "nbformat_minor": 5
}
