{
 "cells": [
  {
   "cell_type": "code",
   "execution_count": 158,
   "metadata": {},
   "outputs": [],
   "source": [
    "# Define task\n",
    "\n",
    "from _collections import OrderedDict\n",
    "import matplotlib.pyplot as plt\n",
    "import numpy as np\n",
    "import pandas as pd\n",
    "import seaborn as sns\n",
    "\n",
    "import sys\n",
    "import os\n",
    "\n",
    "root = os.path.dirname(os.path.abspath(os.curdir))\n",
    "sys.path.append(root)\n",
    "\n",
    "from scipy.ndimage import gaussian_filter\n",
    "from sklearn.preprocessing import normalize\n",
    "import seaborn as sns\n",
    "import warnings\n",
    "from datasets import sf_inputs_discrete"
   ]
  },
  {
   "cell_type": "markdown",
   "metadata": {},
   "source": [
    "# Parameter settings"
   ]
  },
  {
   "cell_type": "code",
   "execution_count": 159,
   "metadata": {},
   "outputs": [],
   "source": [
    "spatial_sigmas = [0.0, 1.0, 2.0, 3.0]\n",
    "sparsity_range = [[0.001, 0.2], [0.001, 0.1], [0.001, 0.04], [0.001, 0.023]]\n",
    "spatial_sigmas.extend([\n",
    "    0.25,\n",
    "    0.5,\n",
    "    1.25,\n",
    "    1.5,\n",
    "    1.75,\n",
    "    2.25,\n",
    "    2.5,\n",
    "    2.75,\n",
    "    3.25\n",
    "    ])\n",
    "sparsity_range.extend([\n",
    "    [0.001, 0.19], # 0.25\n",
    "    [0.001, 0.15], # 0.5\n",
    "    [0.001, 0.09], # 1.25\n",
    "    [0.001, 0.05], # 1.5\n",
    "    [0.001, 0.045], # 1.75\n",
    "    [0.001, 0.037], # 2.25\n",
    "    [0.001, 0.03], # 2.5\n",
    "    [0.001, 0.025], # 2.75\n",
    "    [0.001, 0.021], # 3.25\n",
    "    ])"
   ]
  },
  {
   "cell_type": "markdown",
   "metadata": {},
   "source": [
    "# Helper functions"
   ]
  },
  {
   "cell_type": "code",
   "execution_count": 160,
   "metadata": {},
   "outputs": [],
   "source": [
    "arena_length = 14\n",
    "num_states = arena_length**2\n",
    "num_steps= 3000\n",
    "dataset = sf_inputs_discrete.Sim2DWalk"
   ]
  },
  {
   "cell_type": "code",
   "execution_count": 186,
   "metadata": {},
   "outputs": [],
   "source": [
    "def collect_distances(use_r0=False, distance_metric='l2'):\n",
    "    sparsities = []\n",
    "    sigmas = []\n",
    "    distances = []\n",
    "    for idx, spatial_sigma in enumerate(spatial_sigmas):\n",
    "        _range = sparsity_range[idx]\n",
    "        sparsity_ps = np.linspace(_range[0], _range[1], num=20, endpoint=True)\n",
    "        for sparsity_p in sparsity_ps:\n",
    "            for _ in range(3):\n",
    "                feature_maker_kwargs = {\n",
    "                    'feature_dim': num_states,\n",
    "                    'feature_type': 'correlated_distributed',\n",
    "                    'feature_vals_p': [1-sparsity_p, sparsity_p],\n",
    "                    'spatial_sigma': spatial_sigma,\n",
    "                    'gaussian_truncate': 1.\n",
    "                    }\n",
    "                dataset_config = {\n",
    "                    'num_steps': num_steps,\n",
    "                    'feature_maker_kwargs': feature_maker_kwargs,\n",
    "                    'num_states': num_states\n",
    "                }\n",
    "                dset = dataset(**dataset_config)\n",
    "                dset_inputs = dset.dg_inputs\n",
    "                features = dset.feature_maker.feature_map # (features, states)\n",
    "                \n",
    "                # Calculate r0 matrix\n",
    "                if use_r0:\n",
    "                    r0 = np.zeros((features.shape[0], features.shape[0])) #np.linalg.pinv(np.cov(features))\n",
    "                    for t in range(dset_inputs.shape[1]-1):\n",
    "                        r0 += np.outer(dset_inputs[:,t], dset_inputs[:,t])\n",
    "                    r0 = np.linalg.pinv(r0/t)\n",
    "                    #r0 = r0 / (r0.sum(axis=1)+1E-4)[:, np.newaxis]\n",
    "                    #feature_norm = np.mean(np.linalg.norm(r0@features, axis=1))\n",
    "                    feature_norm = np.mean(np.linalg.norm(r0, axis=1))\n",
    "                else:\n",
    "                    feature_norm = 1 #np.mean(np.linalg.norm(features, axis=1))\n",
    "                \n",
    "                # Randomly sample feature pairs to calculate distance\n",
    "                for sample in range(50):\n",
    "                    i = np.random.choice(features.shape[1])\n",
    "                    j = np.random.choice(features.shape[1])\n",
    "                    \n",
    "                    # Features before or after embedding\n",
    "                    if use_r0:\n",
    "                        feat_i = r0@features[:,i]\n",
    "                        feat_j = r0@features[:,j]\n",
    "                    else:\n",
    "                        feat_i = features[:,i]\n",
    "                        feat_j = features[:,j]\n",
    "\n",
    "                    # Get distance metric\n",
    "                    if distance_metric =='l2':\n",
    "                        dist = np.linalg.norm(feat_i - feat_j)\n",
    "                    elif distance_metric =='l2-normalized':\n",
    "                        dist = np.linalg.norm(feat_i - feat_j)\n",
    "                        dist /= feature_norm\n",
    "                    elif distance_metric == 'cos-similarity':\n",
    "                        dist = np.dot(feat_i, feat_j)\n",
    "                        dist /= (np.linalg.norm(feat_i)*np.linalg.norm(feat_j))\n",
    "                    else:\n",
    "                        raise ValueError('Distance metric not understood.')\n",
    "                        \n",
    "                    # Collect result\n",
    "                    sigmas.append(spatial_sigma)\n",
    "                    sparsities.append(dset.feature_maker.post_smooth_sparsity)\n",
    "                    distances.append(dist)\n",
    "    sparsities = np.around(sparsities, decimals=2)\n",
    "    return sigmas, sparsities, distances"
   ]
  },
  {
   "cell_type": "code",
   "execution_count": 165,
   "metadata": {},
   "outputs": [],
   "source": [
    "def get_df(sigmas, sparsities, distances):\n",
    "    x = []\n",
    "    y = []\n",
    "    z = []\n",
    "    for sparsity in np.unique(sparsities):\n",
    "        for sigma in np.unique(sigmas):\n",
    "            idxs = np.logical_and(sparsities==sparsity, sigmas==sigma)\n",
    "            if idxs.size == 0: continue\n",
    "            x.append(sparsity)\n",
    "            y.append(sigma)\n",
    "            z.append(np.mean(\n",
    "                np.array(distances)[idxs]\n",
    "                ))\n",
    "    df = pd.DataFrame({\n",
    "        'Sparsity': x,\n",
    "        'Sigma': y,\n",
    "        'Distance': z\n",
    "    })\n",
    "    return df"
   ]
  },
  {
   "cell_type": "markdown",
   "metadata": {},
   "source": [
    "# Pre-embedding, L2"
   ]
  },
  {
   "cell_type": "code",
   "execution_count": 180,
   "metadata": {},
   "outputs": [
    {
     "name": "stderr",
     "output_type": "stream",
     "text": [
      "/Users/chingfang/opt/anaconda3/envs/aronov/lib/python3.9/site-packages/numpy/core/fromnumeric.py:3474: RuntimeWarning: Mean of empty slice.\n",
      "  return _methods._mean(a, axis=axis, dtype=dtype,\n",
      "/Users/chingfang/opt/anaconda3/envs/aronov/lib/python3.9/site-packages/numpy/core/_methods.py:189: RuntimeWarning: invalid value encountered in double_scalars\n",
      "  ret = ret.dtype.type(ret / rcount)\n"
     ]
    },
    {
     "data": {
      "image/png": "[encoded data removed]",
      "text/plain": [
       "<Figure size 432x288 with 2 Axes>"
      ]
     },
     "metadata": {},
     "output_type": "display_data"
    }
   ],
   "source": [
    "sigmas, sparsities, distances = collect_distances(use_r0=False, distance_metric='l2')\n",
    "df = get_df(sigmas, sparsities, distances)\n",
    "newdf = df.pivot(\"Sparsity\", \"Sigma\", \"Distance\")\n",
    "ax = sns.heatmap(newdf.T[::-1])"
   ]
  },
  {
   "cell_type": "markdown",
   "metadata": {},
   "source": [
    "# Post-embedding, L2"
   ]
  },
  {
   "cell_type": "code",
   "execution_count": 185,
   "metadata": {},
   "outputs": [
    {
     "name": "stderr",
     "output_type": "stream",
     "text": [
      "/Users/chingfang/opt/anaconda3/envs/aronov/lib/python3.9/site-packages/numpy/core/fromnumeric.py:3474: RuntimeWarning: Mean of empty slice.\n",
      "  return _methods._mean(a, axis=axis, dtype=dtype,\n",
      "/Users/chingfang/opt/anaconda3/envs/aronov/lib/python3.9/site-packages/numpy/core/_methods.py:189: RuntimeWarning: invalid value encountered in double_scalars\n",
      "  ret = ret.dtype.type(ret / rcount)\n"
     ]
    },
    {
     "data": {
      "image/png": "[encoded data removed]",
      "text/plain": [
       "<Figure size 432x288 with 2 Axes>"
      ]
     },
     "metadata": {},
     "output_type": "display_data"
    }
   ],
   "source": [
    "sigmas, sparsities, distances = collect_distances(use_r0=True, distance_metric='l2')\n",
    "df = get_df(sigmas, sparsities, distances)\n",
    "newdf = df.pivot(\"Sparsity\", \"Sigma\", \"Distance\")\n",
    "ax = sns.heatmap(newdf.T[::-1])"
   ]
  },
  {
   "cell_type": "markdown",
   "metadata": {},
   "source": [
    "# Pre-embedding, Normalized L2"
   ]
  },
  {
   "cell_type": "code",
   "execution_count": 166,
   "metadata": {},
   "outputs": [
    {
     "name": "stderr",
     "output_type": "stream",
     "text": [
      "/Users/chingfang/opt/anaconda3/envs/aronov/lib/python3.9/site-packages/numpy/core/fromnumeric.py:3474: RuntimeWarning: Mean of empty slice.\n",
      "  return _methods._mean(a, axis=axis, dtype=dtype,\n",
      "/Users/chingfang/opt/anaconda3/envs/aronov/lib/python3.9/site-packages/numpy/core/_methods.py:189: RuntimeWarning: invalid value encountered in double_scalars\n",
      "  ret = ret.dtype.type(ret / rcount)\n"
     ]
    },
    {
     "data": {
      "image/png": "[encoded data removed]",
      "text/plain": [
       "<Figure size 432x288 with 2 Axes>"
      ]
     },
     "metadata": {},
     "output_type": "display_data"
    }
   ],
   "source": [
    "sigmas, sparsities, distances = collect_distances(use_r0=False, distance_metric='l2-normalized')\n",
    "df = get_df(sigmas, sparsities, distances)\n",
    "newdf = df.pivot(\"Sparsity\", \"Sigma\", \"Distance\")\n",
    "ax = sns.heatmap(newdf.T[::-1])"
   ]
  },
  {
   "cell_type": "markdown",
   "metadata": {},
   "source": [
    "# Post-embedding, Normalized L2"
   ]
  },
  {
   "cell_type": "code",
   "execution_count": 173,
   "metadata": {},
   "outputs": [
    {
     "name": "stderr",
     "output_type": "stream",
     "text": [
      "/Users/chingfang/opt/anaconda3/envs/aronov/lib/python3.9/site-packages/numpy/core/fromnumeric.py:3474: RuntimeWarning: Mean of empty slice.\n",
      "  return _methods._mean(a, axis=axis, dtype=dtype,\n",
      "/Users/chingfang/opt/anaconda3/envs/aronov/lib/python3.9/site-packages/numpy/core/_methods.py:189: RuntimeWarning: invalid value encountered in double_scalars\n",
      "  ret = ret.dtype.type(ret / rcount)\n"
     ]
    },
    {
     "data": {
      "image/png": "[encoded data removed]",
      "text/plain": [
       "<Figure size 432x288 with 2 Axes>"
      ]
     },
     "metadata": {},
     "output_type": "display_data"
    }
   ],
   "source": [
    "sigmas, sparsities, distances = collect_distances(use_r0=True, distance_metric='l2-normalized')\n",
    "df = get_df(sigmas, sparsities, distances)\n",
    "newdf = df.pivot(\"Sparsity\", \"Sigma\", \"Distance\")\n",
    "ax = sns.heatmap(newdf.T[::-1])"
   ]
  },
  {
   "cell_type": "markdown",
   "metadata": {},
   "source": [
    "# Pre-embedding, Normalized L2 by R0"
   ]
  },
  {
   "cell_type": "code",
   "execution_count": 187,
   "metadata": {},
   "outputs": [
    {
     "name": "stderr",
     "output_type": "stream",
     "text": [
      "/Users/chingfang/opt/anaconda3/envs/aronov/lib/python3.9/site-packages/numpy/core/fromnumeric.py:3474: RuntimeWarning: Mean of empty slice.\n",
      "  return _methods._mean(a, axis=axis, dtype=dtype,\n",
      "/Users/chingfang/opt/anaconda3/envs/aronov/lib/python3.9/site-packages/numpy/core/_methods.py:189: RuntimeWarning: invalid value encountered in double_scalars\n",
      "  ret = ret.dtype.type(ret / rcount)\n"
     ]
    },
    {
     "data": {
      "image/png": "[encoded data removed]",
      "text/plain": [
       "<Figure size 432x288 with 2 Axes>"
      ]
     },
     "metadata": {},
     "output_type": "display_data"
    }
   ],
   "source": [
    "sigmas, sparsities, distances = collect_distances(use_r0=False, distance_metric='l2-normalized')\n",
    "df = get_df(sigmas, sparsities, distances)\n",
    "newdf = df.pivot(\"Sparsity\", \"Sigma\", \"Distance\")\n",
    "ax = sns.heatmap(newdf.T[::-1])"
   ]
  },
  {
   "cell_type": "markdown",
   "metadata": {},
   "source": [
    "# Post-embedding, Normalized L2 by R0"
   ]
  },
  {
   "cell_type": "code",
   "execution_count": 188,
   "metadata": {},
   "outputs": [
    {
     "name": "stderr",
     "output_type": "stream",
     "text": [
      "/Users/chingfang/opt/anaconda3/envs/aronov/lib/python3.9/site-packages/numpy/core/fromnumeric.py:3474: RuntimeWarning: Mean of empty slice.\n",
      "  return _methods._mean(a, axis=axis, dtype=dtype,\n",
      "/Users/chingfang/opt/anaconda3/envs/aronov/lib/python3.9/site-packages/numpy/core/_methods.py:189: RuntimeWarning: invalid value encountered in double_scalars\n",
      "  ret = ret.dtype.type(ret / rcount)\n"
     ]
    },
    {
     "data": {
      "image/png": "[encoded data removed]",
      "text/plain": [
       "<Figure size 432x288 with 2 Axes>"
      ]
     },
     "metadata": {},
     "output_type": "display_data"
    }
   ],
   "source": [
    "sigmas, sparsities, distances = collect_distances(use_r0=True, distance_metric='l2-normalized')\n",
    "df = get_df(sigmas, sparsities, distances)\n",
    "newdf = df.pivot(\"Sparsity\", \"Sigma\", \"Distance\")\n",
    "ax = sns.heatmap(newdf.T[::-1])"
   ]
  },
  {
   "cell_type": "code",
   "execution_count": 213,
   "metadata": {
    "code_folding": [
     0
    ]
   },
   "outputs": [],
   "source": [
    "def make_gradients(\n",
    "    x_key, y_key, z_key, df,\n",
    "    cmap=\"Reds\",\n",
    "    title=None, xlabel=None, ylabel=None,\n",
    "    figname=None, figsize=[6.4, 4.8],\n",
    "    interpolate=False, smooth=False, contours=None,\n",
    "    leave_edge_nans=True, vmin=None, vmax=None,\n",
    "    cbar_ticks=None, cbar_tick_labels=None\n",
    "    ):\n",
    "    \n",
    "    # Load in data\n",
    "    xs = df[x_key].to_numpy()\n",
    "    ys = df[y_key].to_numpy()\n",
    "    zs = np.abs(df[z_key].to_numpy())\n",
    "    \n",
    "    # Collect data into a meshgrid\n",
    "    x_list = np.sort(np.unique(xs))\n",
    "    y_list = np.sort(np.unique(ys))\n",
    "    dxs = np.around(x_list[1:] - x_list[:-1], decimals=2)\n",
    "    dys = np.around(y_list[1:] - y_list[:-1], decimals=2)\n",
    "    if np.unique(dxs).size > 1 or np.unique(dys).size > 1:\n",
    "        if smooth:\n",
    "            print(\"Warning: Smoothing with inconsistent dx/dy\")\n",
    "    x_list = np.concatenate((x_list, [x_list[-1]+dxs[-1]]))\n",
    "    y_list = np.concatenate((y_list, [y_list[-1]+dys[-1]]))\n",
    "    x, y = np.meshgrid(x_list, y_list)\n",
    "    z = np.zeros(x.shape)\n",
    "    for i in range(x.shape[0]):\n",
    "        for j in range(x.shape[1]):\n",
    "            idx = np.logical_and(\n",
    "                xs==x[i,j], ys==y[i,j]\n",
    "                )\n",
    "            z[i,j] = np.nanmean(zs[idx])\n",
    "    cmap = plt.get_cmap(cmap)\n",
    "    cmap.set_bad('yellow')\n",
    "\n",
    "    # Plot raw grid values\n",
    "    fig, ax = plt.subplots(figsize=figsize)\n",
    "    im = ax.pcolormesh(\n",
    "        x, y, z, cmap=cmap\n",
    "        )\n",
    "    fig.colorbar(im, ax=ax)\n",
    "    plt.show()\n",
    "    \n",
    "    # Remove padding used for pcolormesh plot\n",
    "    x = x[:-1,:-1]\n",
    "    y = y[:-1,:-1]\n",
    "    z = z[:-1,:-1]\n",
    "    \n",
    "    # Mark NaNs\n",
    "    nan_mask = np.isnan(z)\n",
    "    edge_nan_mask = get_edge_nans(z)\n",
    "    \n",
    "    # Interpolate to fill in NaN cells\n",
    "    if interpolate:\n",
    "        if np.sum(nan_mask) > 0:\n",
    "            nonnan_mask = np.logical_not(nan_mask)\n",
    "            nan_indices = np.argwhere(nan_mask)\n",
    "            data_X = np.vstack(\n",
    "                [x[nonnan_mask].flatten(),\n",
    "                 y[nonnan_mask].flatten()]).T\n",
    "            data_y = z[nonnan_mask].flatten()\n",
    "            reg = LinearRegression().fit(data_X, data_y)\n",
    "            interp_vals = reg.predict(\n",
    "                np.vstack(\n",
    "                [x[nan_mask].flatten(),\n",
    "                 y[nan_mask].flatten()]).T\n",
    "                )\n",
    "            z[nan_mask] = interp_vals\n",
    "\n",
    "    \n",
    "    # Smooth over cells to denoise\n",
    "    if smooth:\n",
    "        from astropy.convolution import Gaussian2DKernel\n",
    "        from astropy.convolution import convolve\n",
    "        kernel = Gaussian2DKernel(\n",
    "            x_stddev=1., y_stddev=1.,\n",
    "            #x_size=3, y_size=3\n",
    "            )\n",
    "        z = convolve(z, kernel, preserve_nan=True)\n",
    "        \n",
    "    # Generate contour plots\n",
    "    fig, ax = plt.subplots(figsize=figsize)\n",
    "    z = np.clip(z, 0, np.inf)\n",
    "    if vmin is not None and vmax is not None:\n",
    "        levels = MaxNLocator(nbins=20).tick_values(np.nanmin(vmin), np.nanmax(vmax))\n",
    "    else:\n",
    "        levels = MaxNLocator(nbins=20).tick_values(np.nanmin(z), np.nanmax(z))\n",
    "    cf = ax.contourf(x, y, z,\n",
    "                     levels=levels, cmap=cmap,\n",
    "                     vmin=vmin, vmax=vmax, \n",
    "                     )\n",
    "    if leave_edge_nans: # White out parts that were extrapolated\n",
    "        nans = np.argwhere(edge_nan_mask)\n",
    "        nan1 = nans[0]; nan2 = nans[-1]\n",
    "        nan1x = x[nan1[0],nan1[1]]\n",
    "        nan1y = y[nan1[0],nan1[1]]\n",
    "        nan2x = x[nan2[0],nan2[1]]\n",
    "        nan2y = y[nan2[0],nan2[1]]\n",
    "        max_y = y.max()\n",
    "        plt.fill(\n",
    "            [nan1x, nan2x, nan1x],\n",
    "            [nan1y, nan2y, max_y],\n",
    "            color='white'\n",
    "            )\n",
    "    if contours is not None:\n",
    "        cntrs = plt.contour(\n",
    "            x, y, z, contours,\n",
    "            colors='white', linewidths=0.5\n",
    "            )\n",
    "        plt.clabel(cntrs, inline=True)\n",
    "    cbar = fig.colorbar(cf, ax=ax, ticks=cbar_ticks)\n",
    "    if cbar_ticks is not None:\n",
    "        cbar.ax.set_yticklabels(cbar_tick_labels)\n",
    "    ax.set_title('contourf with levels')\n",
    "    plt.title(title)\n",
    "    plt.xlabel(xlabel)\n",
    "    plt.ylabel(ylabel)\n",
    "    plt.xlim(xs.min(), 0.20)\n",
    "    plt.tight_layout()\n",
    "    plt.savefig(f'{figname}.png', dpi=300, transparent=True)\n",
    "    plt.show()\n",
    "    \n",
    "    return x, y, z"
   ]
  },
  {
   "cell_type": "code",
   "execution_count": 190,
   "metadata": {
    "code_folding": [
     0
    ]
   },
   "outputs": [],
   "source": [
    "def get_nan_mask(im, leave_edge_nans=False):\n",
    "    \"\"\" im is processed row-by-row (e.g., sigma by sparsity) \"\"\"\n",
    "    \n",
    "    if not leave_edge_nans:\n",
    "        return np.isnan(im)\n",
    "    else:\n",
    "        mask = np.isnan(im)\n",
    "        nrows, ncols = im.shape\n",
    "        for i in range(nrows):\n",
    "            j = 0\n",
    "            while np.isnan(im[i,j]) and (j < ncols):\n",
    "                mask[i,j] = False\n",
    "                j += 1\n",
    "        return mask"
   ]
  },
  {
   "cell_type": "code",
   "execution_count": 191,
   "metadata": {
    "code_folding": [
     0
    ]
   },
   "outputs": [],
   "source": [
    "def get_edge_nans(im):\n",
    "    \"\"\" im is processed row-by-row (e.g., sigma by sparsity) \"\"\"\n",
    "    \n",
    "    mask = np.zeros(im.shape).astype(bool)\n",
    "    nrows, ncols = im.shape\n",
    "    for i in range(nrows):\n",
    "        j = 0\n",
    "        while np.isnan(im[i,j]) and (j < ncols):\n",
    "            mask[i,j] = True\n",
    "            j += 1\n",
    "    return mask"
   ]
  },
  {
   "cell_type": "code",
   "execution_count": 192,
   "metadata": {},
   "outputs": [],
   "source": [
    "from sklearn.linear_model import LinearRegression\n",
    "from matplotlib.colors import BoundaryNorm\n",
    "from matplotlib.ticker import MaxNLocator"
   ]
  },
  {
   "cell_type": "markdown",
   "metadata": {},
   "source": [
    "# Pre-embedding, Cosine similarity"
   ]
  },
  {
   "cell_type": "code",
   "execution_count": 193,
   "metadata": {},
   "outputs": [
    {
     "name": "stderr",
     "output_type": "stream",
     "text": [
      "/Users/chingfang/opt/anaconda3/envs/aronov/lib/python3.9/site-packages/numpy/core/fromnumeric.py:3474: RuntimeWarning: Mean of empty slice.\n",
      "  return _methods._mean(a, axis=axis, dtype=dtype,\n",
      "/Users/chingfang/opt/anaconda3/envs/aronov/lib/python3.9/site-packages/numpy/core/_methods.py:189: RuntimeWarning: invalid value encountered in double_scalars\n",
      "  ret = ret.dtype.type(ret / rcount)\n"
     ]
    },
    {
     "data": {
      "image/png": "[encoded data removed]",
      "text/plain": [
       "<Figure size 432x288 with 2 Axes>"
      ]
     },
     "metadata": {},
     "output_type": "display_data"
    }
   ],
   "source": [
    "sigmas, sparsities, distances = collect_distances(use_r0=False, distance_metric='cos-similarity')\n",
    "df = get_df(sigmas, sparsities, distances)\n",
    "newdf = df.pivot(\"Sparsity\", \"Sigma\", \"Distance\")\n",
    "ax = sns.heatmap(newdf.T[::-1])"
   ]
  },
  {
   "cell_type": "code",
   "execution_count": 202,
   "metadata": {},
   "outputs": [],
   "source": [
    "xx = df.copy()"
   ]
  },
  {
   "cell_type": "code",
   "execution_count": 215,
   "metadata": {},
   "outputs": [
    {
     "name": "stdout",
     "output_type": "stream",
     "text": [
      "Warning: Smoothing with inconsistent dx/dy\n"
     ]
    },
    {
     "name": "stderr",
     "output_type": "stream",
     "text": [
      "/var/folders/jf/2_wn4hjd11q9klftv_v_hld80000gn/T/ipykernel_7424/4076885550.py:33: RuntimeWarning: Mean of empty slice\n",
      "  z[i,j] = np.nanmean(zs[idx])\n",
      "/var/folders/jf/2_wn4hjd11q9klftv_v_hld80000gn/T/ipykernel_7424/4076885550.py:35: MatplotlibDeprecationWarning: You are modifying the state of a globally registered colormap. This has been deprecated since 3.3 and in 3.6, you will not be able to modify a registered colormap in-place. To remove this warning, you can make a copy of the colormap first. cmap = mpl.cm.get_cmap(\"Purples\").copy()\n",
      "  cmap.set_bad('yellow')\n",
      "/var/folders/jf/2_wn4hjd11q9klftv_v_hld80000gn/T/ipykernel_7424/4076885550.py:39: MatplotlibDeprecationWarning: shading='flat' when X and Y have the same dimensions as C is deprecated since 3.3.  Either specify the corners of the quadrilaterals with X and Y, or pass shading='auto', 'nearest' or 'gouraud', or set rcParams['pcolor.shading'].  This will become an error two minor releases later.\n",
      "  im = ax.pcolormesh(\n"
     ]
    },
    {
     "data": {
      "image/png": "[encoded data removed]",
      "text/plain": [
       "<Figure size 144x126 with 2 Axes>"
      ]
     },
     "metadata": {},
     "output_type": "display_data"
    },
    {
     "data": {
      "image/png": "[encoded data removed]",
      "text/plain": [
       "<Figure size 144x126 with 2 Axes>"
      ]
     },
     "metadata": {},
     "output_type": "display_data"
    }
   ],
   "source": [
    "_, _, _ = make_gradients(\n",
    "    'Sparsity', 'Sigma', 'Distance', xx,\n",
    "    cmap='Purples',\n",
    "    title='T Error',\n",
    "    xlabel='Feature Sparsity (L1-norm)',\n",
    "    ylabel='Feature Spatial $\\sigma$',\n",
    "    figname='../figures/icml_pre_embedding',\n",
    "    interpolate=True, smooth=True,\n",
    "    vmin=0., vmax=0.6,\n",
    "    cbar_ticks=[0., 0.3, 0.6],\n",
    "    cbar_tick_labels=['0.0', '0.3', '0.6'],\n",
    "    figsize=[2., 1.75]\n",
    "    )"
   ]
  },
  {
   "cell_type": "markdown",
   "metadata": {},
   "source": [
    "# Post-embedding, Cosine similarity"
   ]
  },
  {
   "cell_type": "code",
   "execution_count": 203,
   "metadata": {},
   "outputs": [
    {
     "name": "stderr",
     "output_type": "stream",
     "text": [
      "/var/folders/jf/2_wn4hjd11q9klftv_v_hld80000gn/T/ipykernel_7424/2642477943.py:59: RuntimeWarning: invalid value encountered in double_scalars\n",
      "  dist /= (np.linalg.norm(feat_i)*np.linalg.norm(feat_j))\n",
      "/var/folders/jf/2_wn4hjd11q9klftv_v_hld80000gn/T/ipykernel_7424/2642477943.py:59: RuntimeWarning: invalid value encountered in double_scalars\n",
      "  dist /= (np.linalg.norm(feat_i)*np.linalg.norm(feat_j))\n",
      "/var/folders/jf/2_wn4hjd11q9klftv_v_hld80000gn/T/ipykernel_7424/2642477943.py:59: RuntimeWarning: invalid value encountered in double_scalars\n",
      "  dist /= (np.linalg.norm(feat_i)*np.linalg.norm(feat_j))\n",
      "/var/folders/jf/2_wn4hjd11q9klftv_v_hld80000gn/T/ipykernel_7424/2642477943.py:59: RuntimeWarning: invalid value encountered in double_scalars\n",
      "  dist /= (np.linalg.norm(feat_i)*np.linalg.norm(feat_j))\n",
      "/Users/chingfang/opt/anaconda3/envs/aronov/lib/python3.9/site-packages/numpy/core/fromnumeric.py:3474: RuntimeWarning: Mean of empty slice.\n",
      "  return _methods._mean(a, axis=axis, dtype=dtype,\n",
      "/Users/chingfang/opt/anaconda3/envs/aronov/lib/python3.9/site-packages/numpy/core/_methods.py:189: RuntimeWarning: invalid value encountered in double_scalars\n",
      "  ret = ret.dtype.type(ret / rcount)\n"
     ]
    },
    {
     "data": {
      "image/png": "[encoded data removed]",
      "text/plain": [
       "<Figure size 432x288 with 2 Axes>"
      ]
     },
     "metadata": {},
     "output_type": "display_data"
    }
   ],
   "source": [
    "sigmas, sparsities, distances = collect_distances(use_r0=True, distance_metric='cos-similarity')\n",
    "df = get_df(sigmas, sparsities, distances)\n",
    "newdf = df.pivot(\"Sparsity\", \"Sigma\", \"Distance\")\n",
    "ax = sns.heatmap(newdf.T[::-1], vmin=0, vmax=0.5)"
   ]
  },
  {
   "cell_type": "code",
   "execution_count": 214,
   "metadata": {},
   "outputs": [
    {
     "name": "stdout",
     "output_type": "stream",
     "text": [
      "Warning: Smoothing with inconsistent dx/dy\n"
     ]
    },
    {
     "name": "stderr",
     "output_type": "stream",
     "text": [
      "/var/folders/jf/2_wn4hjd11q9klftv_v_hld80000gn/T/ipykernel_7424/4076885550.py:33: RuntimeWarning: Mean of empty slice\n",
      "  z[i,j] = np.nanmean(zs[idx])\n",
      "/var/folders/jf/2_wn4hjd11q9klftv_v_hld80000gn/T/ipykernel_7424/4076885550.py:35: MatplotlibDeprecationWarning: You are modifying the state of a globally registered colormap. This has been deprecated since 3.3 and in 3.6, you will not be able to modify a registered colormap in-place. To remove this warning, you can make a copy of the colormap first. cmap = mpl.cm.get_cmap(\"Purples\").copy()\n",
      "  cmap.set_bad('yellow')\n",
      "/var/folders/jf/2_wn4hjd11q9klftv_v_hld80000gn/T/ipykernel_7424/4076885550.py:39: MatplotlibDeprecationWarning: shading='flat' when X and Y have the same dimensions as C is deprecated since 3.3.  Either specify the corners of the quadrilaterals with X and Y, or pass shading='auto', 'nearest' or 'gouraud', or set rcParams['pcolor.shading'].  This will become an error two minor releases later.\n",
      "  im = ax.pcolormesh(\n"
     ]
    },
    {
     "data": {
      "image/png": "[encoded data removed]",
      "text/plain": [
       "<Figure size 144x126 with 2 Axes>"
      ]
     },
     "metadata": {},
     "output_type": "display_data"
    },
    {
     "data": {
      "image/png": "[encoded data removed]",
      "text/plain": [
       "<Figure size 144x126 with 2 Axes>"
      ]
     },
     "metadata": {},
     "output_type": "display_data"
    }
   ],
   "source": [
    "_, _, _ = make_gradients(\n",
    "    'Sparsity', 'Sigma', 'Distance', df,\n",
    "    cmap='Purples',\n",
    "    title='T Error',\n",
    "    xlabel='Feature Sparsity (L1-norm)',\n",
    "    ylabel='Feature Spatial $\\sigma$',\n",
    "    figname='../figures/icml_post_embedding',\n",
    "    interpolate=True, smooth=True,\n",
    "    vmin=0, vmax=0.6,\n",
    "    cbar_ticks=[0., 0.3, 0.6],\n",
    "    cbar_tick_labels=['0.0', '0.3', '0.6'],\n",
    "    figsize=[2., 1.75]\n",
    "    )"
   ]
  },
  {
   "cell_type": "code",
   "execution_count": null,
   "metadata": {},
   "outputs": [],
   "source": []
  }
 ],
 "metadata": {
  "kernelspec": {
   "display_name": "Python 3 (ipykernel)",
   "language": "python",
   "name": "python3"
  },
  "language_info": {
   "codemirror_mode": {
    "name": "ipython",
    "version": 3
   },
   "file_extension": ".py",
   "mimetype": "text/x-python",
   "name": "python",
   "nbconvert_exporter": "python",
   "pygments_lexer": "ipython3",
   "version": "3.9.7"
  }
 },
 "nbformat": 4,
 "nbformat_minor": 4
}
