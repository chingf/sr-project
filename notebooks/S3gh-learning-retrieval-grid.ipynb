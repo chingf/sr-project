{
 "cells": [
  {
   "cell_type": "code",
   "execution_count": 101,
   "metadata": {},
   "outputs": [],
   "source": [
    "import pickle\n",
    "import numpy as np\n",
    "import os\n",
    "import torch\n",
    "import torch.nn as nn\n",
    "import re\n",
    "import sys\n",
    "from tensorboard.backend.event_processing.event_accumulator import EventAccumulator\n",
    "import matplotlib.pyplot as plt\n",
    "import matplotlib as mpl\n",
    "import seaborn as sns\n",
    "\n",
    "root = os.path.dirname(os.path.abspath(os.curdir))\n",
    "sys.path.append(root)\n",
    "\n",
    "from sr_model.models.models import AnalyticSR, STDP_SR\n",
    "from datasets import inputs\n",
    "import configs\n",
    "\n",
    "device = 'cpu'"
   ]
  },
  {
   "cell_type": "markdown",
   "metadata": {},
   "source": [
    "# Load results"
   ]
  },
  {
   "cell_type": "code",
   "execution_count": 36,
   "metadata": {},
   "outputs": [],
   "source": [
    "with open(f'{configs.engram_dir}02_learn_retrieve/results.p', 'rb') as f:\n",
    "    results = pickle.load(f)"
   ]
  },
  {
   "cell_type": "code",
   "execution_count": 70,
   "metadata": {},
   "outputs": [],
   "source": [
    "with open('../trained_models/02_learn_retrieve/results.p', 'rb') as f:\n",
    "    results = pickle.load(f)"
   ]
  },
  {
   "cell_type": "code",
   "execution_count": 71,
   "metadata": {},
   "outputs": [],
   "source": [
    "for key in results.keys():\n",
    "    results[key] = np.array(results[key])"
   ]
  },
  {
   "cell_type": "code",
   "execution_count": 72,
   "metadata": {},
   "outputs": [],
   "source": [
    "learn_gammas = results['learn_gammas']\n",
    "retrieve_gammas = results['retrieve_gammas']\n",
    "t_vals = results['t_vals']\n",
    "m_vals = results['m_vals']\n",
    "nonlinearity = results['nonlinearity']"
   ]
  },
  {
   "cell_type": "markdown",
   "metadata": {},
   "source": [
    "# Linear"
   ]
  },
  {
   "cell_type": "code",
   "execution_count": 112,
   "metadata": {},
   "outputs": [
    {
     "name": "stderr",
     "output_type": "stream",
     "text": [
      "/Users/chingfang/opt/anaconda3/envs/aronov/lib/python3.9/site-packages/seaborn/_decorators.py:36: FutureWarning: Pass the following variables as keyword args: x, y. From version 0.12, the only valid positional argument will be `data`, and passing other arguments without an explicit keyword will result in an error or misinterpretation.\n",
      "  warnings.warn(\n"
     ]
    },
    {
     "data": {
      "image/png": "[encoded data removed]",
      "text/plain": [
       "<Figure size 144x108 with 1 Axes>"
      ]
     },
     "metadata": {},
     "output_type": "display_data"
    }
   ],
   "source": [
    "xs = []\n",
    "ys = []\n",
    "for g in np.unique(learn_gammas):\n",
    "    idxs = np.logical_and(learn_gammas==g, nonlinearity=='None')\n",
    "    ys.extend(t_vals[idxs])\n",
    "    xs.extend([g]*t_vals[idxs].size)\n",
    "fig, ax = plt.subplots(figsize=(2., 1.5))\n",
    "sns.lineplot(xs, ys, ax=ax)\n",
    "plt.xlabel('$\\gamma_B$ (Learning)')\n",
    "plt.ylim(-0.5, 10)\n",
    "plt.ylabel('$T$ MAE')\n",
    "plt.tight_layout()\n",
    "plt.savefig(f\"../figures/S3e.png\", dpi=300, transparent=True)\n",
    "plt.show()"
   ]
  },
  {
   "cell_type": "code",
   "execution_count": 114,
   "metadata": {},
   "outputs": [],
   "source": [
    "xs = np.sort(np.unique(learn_gammas))\n",
    "ys = np.sort(np.unique(retrieve_gammas))"
   ]
  },
  {
   "cell_type": "code",
   "execution_count": 115,
   "metadata": {
    "scrolled": true
   },
   "outputs": [
    {
     "data": {
      "image/png": "[encoded data removed]",
      "text/plain": [
       "<Figure size 162x108 with 2 Axes>"
      ]
     },
     "metadata": {},
     "output_type": "display_data"
    }
   ],
   "source": [
    "mat = np.zeros((ys.size, xs.size))*np.nan # mat gets flipped by imshow\n",
    "for x_idx, x in enumerate(xs):\n",
    "    for y_idx, y in enumerate(ys):\n",
    "        idxs = np.logical_and(learn_gammas==x, retrieve_gammas==y)\n",
    "        idxs = np.logical_and(idxs, nonlinearity=='None')\n",
    "        val = m_vals[idxs]\n",
    "        mat[-y_idx-1][x_idx] = np.mean(val)\n",
    "\n",
    "plt.figure(figsize=(2.25, 1.5))\n",
    "pcm = plt.imshow(\n",
    "    mat, cmap=\"Blues_r\",\n",
    "    aspect='auto'\n",
    "    )\n",
    "plt.colorbar(pcm)\n",
    "plt.xticks(np.arange(ys.size)[::2], ys[::2])\n",
    "plt.yticks(np.arange(len(xs))[::2]+1, xs[::2][::-1])\n",
    "plt.xlabel('$\\gamma_B$ (Learning)')\n",
    "plt.ylabel('$\\gamma_R$ (Retrieval)')\n",
    "plt.tight_layout()\n",
    "plt.savefig(f\"../figures/S3f.png\", dpi=300, transparent=True)\n",
    "plt.show()"
   ]
  },
  {
   "cell_type": "markdown",
   "metadata": {},
   "source": [
    "# Tanh"
   ]
  },
  {
   "cell_type": "code",
   "execution_count": 116,
   "metadata": {
    "scrolled": true
   },
   "outputs": [
    {
     "data": {
      "image/png": "[encoded data removed]",
      "text/plain": [
       "<Figure size 162x108 with 2 Axes>"
      ]
     },
     "metadata": {},
     "output_type": "display_data"
    }
   ],
   "source": [
    "mat = np.zeros((ys.size, xs.size))*np.nan # mat gets flipped by imshow\n",
    "for x_idx, x in enumerate(xs):\n",
    "    for y_idx, y in enumerate(ys):\n",
    "        idxs = np.logical_and(learn_gammas==x, retrieve_gammas==y)\n",
    "        idxs = np.logical_and(idxs, nonlinearity=='Tanh')\n",
    "        val = m_vals[idxs]\n",
    "        mat[-y_idx-1][x_idx] = np.mean(val)\n",
    "\n",
    "plt.figure(figsize=(2.25, 1.5))\n",
    "pcm = plt.imshow(\n",
    "    mat, cmap=\"Blues_r\",\n",
    "    aspect='auto'\n",
    "    )\n",
    "plt.colorbar(pcm)\n",
    "plt.xticks(np.arange(ys.size)[::2], ys[::2])\n",
    "plt.yticks(np.arange(len(xs))[::2]+1, xs[::2][::-1])\n",
    "plt.xlabel('$\\gamma_B$ (Learning)')\n",
    "plt.ylabel('$\\gamma_R$ (Retrieval)')\n",
    "plt.tight_layout()\n",
    "plt.savefig(f\"../figures/S3g.png\", dpi=300, transparent=True)\n",
    "plt.show()"
   ]
  },
  {
   "cell_type": "code",
   "execution_count": null,
   "metadata": {},
   "outputs": [],
   "source": []
  }
 ],
 "metadata": {
  "kernelspec": {
   "display_name": "Python 3 (ipykernel)",
   "language": "python",
   "name": "python3"
  },
  "language_info": {
   "codemirror_mode": {
    "name": "ipython",
    "version": 3
   },
   "file_extension": ".py",
   "mimetype": "text/x-python",
   "name": "python",
   "nbconvert_exporter": "python",
   "pygments_lexer": "ipython3",
   "version": "3.9.7"
  }
 },
 "nbformat": 4,
 "nbformat_minor": 4
}
