{
 "cells": [
  {
   "cell_type": "code",
   "execution_count": 35,
   "metadata": {},
   "outputs": [],
   "source": [
    "import pickle\n",
    "import numpy as np\n",
    "import os\n",
    "import torch\n",
    "import torch.nn as nn\n",
    "import re\n",
    "import sys\n",
    "from tensorboard.backend.event_processing.event_accumulator import EventAccumulator\n",
    "import matplotlib.pyplot as plt\n",
    "import matplotlib as mpl\n",
    "\n",
    "root = os.path.dirname(os.path.abspath(os.curdir))\n",
    "sys.path.append(root)\n",
    "\n",
    "from sr_model.models.models import AnalyticSR, STDP_SR\n",
    "from datasets import inputs\n",
    "import configs\n",
    "\n",
    "device = 'cpu'"
   ]
  },
  {
   "cell_type": "markdown",
   "metadata": {},
   "source": [
    "# Load results"
   ]
  },
  {
   "cell_type": "code",
   "execution_count": 36,
   "metadata": {},
   "outputs": [],
   "source": [
    "with open(f'{configs.engram_dir}02_learn_retrieve/results.p', 'rb') as f:\n",
    "    results = pickle.load(f)"
   ]
  },
  {
   "cell_type": "code",
   "execution_count": 37,
   "metadata": {},
   "outputs": [],
   "source": [
    "for key in results.keys():\n",
    "    results[key] = np.array(results[key])"
   ]
  },
  {
   "cell_type": "code",
   "execution_count": 39,
   "metadata": {},
   "outputs": [],
   "source": [
    "learn_gammas = results['learn_gammas']\n",
    "retrieve_gammas = results['retrieve_gammas']\n",
    "vals = results['vals']\n",
    "nonlinearity = results['nonlinearity']"
   ]
  },
  {
   "cell_type": "code",
   "execution_count": 17,
   "metadata": {},
   "outputs": [],
   "source": [
    "xs = np.sort(np.unique(learn_gammas))\n",
    "ys = np.sort(np.unique(retrieve_gammas))"
   ]
  },
  {
   "cell_type": "markdown",
   "metadata": {},
   "source": [
    "# Tanh"
   ]
  },
  {
   "cell_type": "code",
   "execution_count": 41,
   "metadata": {
    "scrolled": true
   },
   "outputs": [
    {
     "data": {
      "image/png": "[encoded data removed]",
      "text/plain": [
       "<Figure size 162x108 with 2 Axes>"
      ]
     },
     "metadata": {},
     "output_type": "display_data"
    }
   ],
   "source": [
    "mat = np.zeros((xs.size, ys.size))*np.nan\n",
    "for x_idx, x in enumerate(xs):\n",
    "    for y_idx, y in enumerate(ys):\n",
    "        idxs = np.logical_and(learn_gammas==x, retrieve_gammas==y)\n",
    "        idxs = np.logical_and(idxs, nonlinearity=='Tanh')\n",
    "        val = vals[idxs]\n",
    "        mat[x_idx][y_idx] = np.mean(val)\n",
    "\n",
    "plt.figure(figsize=(2.25, 1.5))\n",
    "pcm = plt.imshow(\n",
    "    mat, cmap=\"Blues_r\",\n",
    "    aspect='auto'\n",
    "    )\n",
    "plt.colorbar(pcm)\n",
    "plt.xticks(np.arange(ys.size)[::2], ys[::2])\n",
    "plt.yticks(np.arange(len(xs))[::2], xs[::2])\n",
    "plt.xlabel('Learning $\\gamma$')\n",
    "plt.ylabel('Retrieval $\\gamma$')\n",
    "plt.tight_layout()\n",
    "plt.savefig(f\"../figures/S3g.png\", dpi=300, transparent=True)\n",
    "plt.show()"
   ]
  },
  {
   "cell_type": "markdown",
   "metadata": {},
   "source": [
    "# Linear"
   ]
  },
  {
   "cell_type": "code",
   "execution_count": 42,
   "metadata": {
    "scrolled": true
   },
   "outputs": [
    {
     "data": {
      "image/png": "[encoded data removed]",
      "text/plain": [
       "<Figure size 162x108 with 2 Axes>"
      ]
     },
     "metadata": {},
     "output_type": "display_data"
    }
   ],
   "source": [
    "mat = np.zeros((xs.size, ys.size))*np.nan\n",
    "for x_idx, x in enumerate(xs):\n",
    "    for y_idx, y in enumerate(ys):\n",
    "        idxs = np.logical_and(learn_gammas==x, retrieve_gammas==y)\n",
    "        idxs = np.logical_and(idxs, nonlinearity=='None')\n",
    "        val = vals[idxs]\n",
    "        mat[x_idx][y_idx] = np.mean(val)\n",
    "\n",
    "plt.figure(figsize=(2.25, 1.5))\n",
    "pcm = plt.imshow(\n",
    "    mat, cmap=\"Blues_r\",\n",
    "    aspect='auto'\n",
    "    )\n",
    "plt.colorbar(pcm)\n",
    "plt.xticks(np.arange(ys.size)[::2], ys[::2])\n",
    "plt.yticks(np.arange(len(xs))[::2], xs[::2])\n",
    "plt.xlabel('Learning $\\gamma$')\n",
    "plt.ylabel('Retrieval $\\gamma$')\n",
    "plt.tight_layout()\n",
    "plt.savefig(f\"../figures/S3h.png\", dpi=300, transparent=True)\n",
    "plt.show()"
   ]
  },
  {
   "cell_type": "code",
   "execution_count": null,
   "metadata": {},
   "outputs": [],
   "source": []
  }
 ],
 "metadata": {
  "kernelspec": {
   "display_name": "Python 3 (ipykernel)",
   "language": "python",
   "name": "python3"
  },
  "language_info": {
   "codemirror_mode": {
    "name": "ipython",
    "version": 3
   },
   "file_extension": ".py",
   "mimetype": "text/x-python",
   "name": "python",
   "nbconvert_exporter": "python",
   "pygments_lexer": "ipython3",
   "version": "3.9.7"
  }
 },
 "nbformat": 4,
 "nbformat_minor": 4
}
