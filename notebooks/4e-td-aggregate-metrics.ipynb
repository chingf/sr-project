{
 "cells": [
  {
   "cell_type": "code",
   "execution_count": 1,
   "metadata": {},
   "outputs": [
    {
     "name": "stderr",
     "output_type": "stream",
     "text": [
      "/home/chingf/Code/sr-project/datasets/inputs.py:12: UserWarning: Emily's experimental data could not be loaded.\n",
      "  warnings.warn(\"Emily's experimental data could not be loaded.\")\n"
     ]
    }
   ],
   "source": [
    "import pickle\n",
    "import numpy as np\n",
    "import os\n",
    "import torch\n",
    "import torch.nn as nn\n",
    "import re\n",
    "import sys\n",
    "from tensorboard.backend.event_processing.event_accumulator import EventAccumulator\n",
    "import matplotlib.pyplot as plt\n",
    "\n",
    "root = os.path.dirname(os.path.abspath(os.curdir))\n",
    "sys.path.append(root)\n",
    "\n",
    "from sr_model.models.models import AnalyticSR, STDP_SR\n",
    "from datasets import inputs\n",
    "import seaborn as sns\n",
    "import pandas as pd\n",
    "\n",
    "device = 'cpu'"
   ]
  },
  {
   "cell_type": "code",
   "execution_count": 2,
   "metadata": {},
   "outputs": [],
   "source": [
    "def format_model_name(key):\n",
    "    if key == 'rnn_dynamiclr':\n",
    "        return 'RNN with Dynamic LR'\n",
    "    elif key == 'rnn_fixedlr':\n",
    "        return 'RNN with Fixed LR'\n",
    "    elif key == 'linear':\n",
    "        return 'Linear'\n",
    "    elif key == 'mlp':\n",
    "        return 'MLP with Replay Buffer'\n",
    "    else:\n",
    "        raise ValueError(\"Invalid key.\")"
   ]
  },
  {
   "cell_type": "markdown",
   "metadata": {},
   "source": [
    "# Collect aggregate metrics"
   ]
  },
  {
   "cell_type": "code",
   "execution_count": 37,
   "metadata": {},
   "outputs": [],
   "source": [
    "root_dir = \"../trained_models_copy/\"\n",
    "exp_dirs = [\n",
    "    '03_td_discrete_uncorr/',\n",
    "    '03_td_discrete_corr/'\n",
    "    ]\n",
    "\n",
    "dsets = []\n",
    "models = []\n",
    "start_losses = []\n",
    "time_to_elbows = []\n",
    "final_losses = []\n",
    "\n",
    "for exp_dir in exp_dirs:\n",
    "    for dset in os.listdir(root_dir + exp_dir):\n",
    "        dset_dir = f'{root_dir}{exp_dir}/{dset}/'\n",
    "\n",
    "        for model in os.listdir(dset_dir):\n",
    "            model_dir = dset_dir + model + '/'\n",
    "            try:\n",
    "                model_name = format_model_name(model)\n",
    "            except:\n",
    "                continue # Not a directory we care about\n",
    "            for _iter in os.listdir(model_dir):\n",
    "                iter_dir = model_dir + _iter + '/'\n",
    "                for file in os.listdir(iter_dir):\n",
    "                    if 'tfevents' not in file: continue\n",
    "                    tfevents_file = iter_dir + '/' + file\n",
    "                    event_acc = EventAccumulator(tfevents_file)\n",
    "                    event_acc.Reload()\n",
    "                    scalar_events = event_acc.Scalars('loss_train')\n",
    "                    values = np.array([event.value for event in scalar_events])\n",
    "                    steps = np.array([event.step for event in scalar_events])\n",
    "                    central_diffs = values[1:] + values[:-1] - 2*values[:-1] \n",
    "\n",
    "                    dsets.append(dset)\n",
    "                    models.append(model_name)\n",
    "                    start_losses.append(values[0])\n",
    "                    time_to_elbows.append(steps[np.argmax(central_diffs)])\n",
    "                    final_losses.append(values[-1])\n",
    "                    break\n",
    "\n",
    "dsets = np.array(dsets)\n",
    "models = np.array(models)\n",
    "start_losses = np.array(start_losses)\n",
    "time_to_elbows = np.array(time_to_elbows)\n",
    "final_losses = np.array(final_losses)"
   ]
  },
  {
   "cell_type": "markdown",
   "metadata": {},
   "source": [
    "# Make barplots"
   ]
  },
  {
   "cell_type": "code",
   "execution_count": 58,
   "metadata": {},
   "outputs": [],
   "source": [
    "df = pd.DataFrame({\n",
    "    'Dataset': dsets,\n",
    "    'Model': models,\n",
    "    'Start Loss': np.clip(start_losses, 0., 0.3),\n",
    "    'Time to Elbow': time_to_elbows,\n",
    "    'Final Loss': final_losses\n",
    "    })\n",
    "hue_order = ['Linear', 'RNN with Fixed LR', 'MLP with Replay Buffer']"
   ]
  },
  {
   "cell_type": "code",
   "execution_count": 62,
   "metadata": {},
   "outputs": [
    {
     "data": {
      "image/png": "[encoded data removed]",
      "text/plain": [
       "<Figure size 1080x216 with 1 Axes>"
      ]
     },
     "metadata": {
      "needs_background": "light"
     },
     "output_type": "display_data"
    }
   ],
   "source": [
    "fig, ax = plt.subplots(figsize=(15,3))\n",
    "sns.barplot(\n",
    "    x='Dataset', y='Start Loss', hue='Model',\n",
    "    ax=ax, data=df[df['Model'] != 'RNN with Dynamic LR'],\n",
    "    hue_order=hue_order\n",
    "    )\n",
    "ax.set_xticks([])\n",
    "plt.show()"
   ]
  },
  {
   "cell_type": "code",
   "execution_count": 64,
   "metadata": {},
   "outputs": [
    {
     "data": {
      "image/png": "[encoded data removed]",
      "text/plain": [
       "<Figure size 1080x216 with 1 Axes>"
      ]
     },
     "metadata": {
      "needs_background": "light"
     },
     "output_type": "display_data"
    }
   ],
   "source": [
    "fig, ax = plt.subplots(figsize=(15,3))\n",
    "sns.barplot(\n",
    "    x='Dataset', y='Time to Elbow', hue='Model',\n",
    "    ax=ax, data=df[df['Model'] != 'RNN with Dynamic LR'],\n",
    "    hue_order=hue_order\n",
    "    )\n",
    "ax.set_xticks([])\n",
    "plt.show()"
   ]
  },
  {
   "cell_type": "code",
   "execution_count": 65,
   "metadata": {},
   "outputs": [
    {
     "data": {
      "image/png": "[encoded data removed]",
      "text/plain": [
       "<Figure size 1080x216 with 1 Axes>"
      ]
     },
     "metadata": {
      "needs_background": "light"
     },
     "output_type": "display_data"
    }
   ],
   "source": [
    "fig, ax = plt.subplots(figsize=(15, 3))\n",
    "sns.barplot(\n",
    "    x='Dataset', y='Final Loss', hue='Model',\n",
    "    ax=ax, data=df[df['Model'] != 'RNN with Dynamic LR'],\n",
    "    hue_order=hue_order\n",
    "    )\n",
    "ax.set_xticks([])\n",
    "plt.show()"
   ]
  },
  {
   "cell_type": "code",
   "execution_count": null,
   "metadata": {},
   "outputs": [],
   "source": []
  }
 ],
 "metadata": {
  "kernelspec": {
   "display_name": "Python 3",
   "language": "python",
   "name": "python3"
  },
  "language_info": {
   "codemirror_mode": {
    "name": "ipython",
    "version": 3
   },
   "file_extension": ".py",
   "mimetype": "text/x-python",
   "name": "python",
   "nbconvert_exporter": "python",
   "pygments_lexer": "ipython3",
   "version": "3.7.6"
  }
 },
 "nbformat": 4,
 "nbformat_minor": 4
}
