{
 "cells": [
  {
   "cell_type": "code",
   "execution_count": 1,
   "metadata": {},
   "outputs": [
    {
     "name": "stderr",
     "output_type": "stream",
     "text": [
      "/Users/chingfang/Code/sr-project/datasets/inputs.py:12: UserWarning: Emily's experimental data could not be loaded.\n",
      "  warnings.warn(\"Emily's experimental data could not be loaded.\")\n"
     ]
    }
   ],
   "source": [
    "import numpy as np\n",
    "import argparse\n",
    "import time\n",
    "import os\n",
    "import sys\n",
    "import pickle\n",
    "from itertools import chain\n",
    "import matplotlib.pyplot as plt\n",
    "from matplotlib import cm\n",
    "import seaborn as sns\n",
    "import pandas as pd\n",
    "\n",
    "root = os.path.dirname(os.path.abspath(os.curdir))\n",
    "sys.path.append(root)\n",
    "import torch\n",
    "import torch.nn as nn\n",
    "from torch.utils.tensorboard import SummaryWriter\n",
    "\n",
    "from datasets import inputs\n",
    "from sr_model.models.models import AnalyticSR, STDP_SR, Linear\n",
    "import configs\n",
    "from eval import eval\n",
    "\n",
    "device = 'cpu'"
   ]
  },
  {
   "cell_type": "code",
   "execution_count": 2,
   "metadata": {},
   "outputs": [],
   "source": [
    "num_steps = 3001\n",
    "num_states = 25"
   ]
  },
  {
   "cell_type": "code",
   "execution_count": 3,
   "metadata": {},
   "outputs": [],
   "source": [
    "gamma = 0.4"
   ]
  },
  {
   "cell_type": "code",
   "execution_count": 4,
   "metadata": {},
   "outputs": [],
   "source": [
    "reload = True"
   ]
  },
  {
   "cell_type": "markdown",
   "metadata": {},
   "source": [
    "# Functions and Params"
   ]
  },
  {
   "cell_type": "code",
   "execution_count": 5,
   "metadata": {},
   "outputs": [],
   "source": [
    "def run_models():\n",
    "    data = {}\n",
    "    print_every_steps = 50\n",
    "\n",
    "    lr_exps = [-0.5, -1, -1.5]\n",
    "    cmap = cm.get_cmap('Greens', len(lr_exps)+4)\n",
    "    for idx, lr_exp in enumerate(lr_exps):\n",
    "        lr = 10**lr_exp\n",
    "        linear = Linear(num_states, lr=lr, gamma=gamma)\n",
    "        key = 'FF-TD $\\eta=10^{' + str(lr_exp) + '}$'\n",
    "        data[key] = {}\n",
    "        data[key]['color'] = cmap(idx + 2)\n",
    "        data[key]['t_errors'] = []\n",
    "        data[key]['m_errors'] = []\n",
    "        data[key]['row_norm'] = []\n",
    "        data[key]['steps'] = []\n",
    "        t_errs, m_errs, row_norms, _ = eval(\n",
    "            linear, datasets, print_every_steps=print_every_steps\n",
    "            )\n",
    "        for t_err, m_err, row_norm in zip(t_errs, m_errs, row_norms):\n",
    "            data[key]['t_errors'].extend(t_err.tolist())\n",
    "            data[key]['m_errors'].extend(m_err.tolist())\n",
    "            data[key]['row_norm'].extend(row_norm.tolist())\n",
    "            data[key]['steps'].extend(range(print_every_steps, num_steps, print_every_steps))\n",
    "\n",
    "    lr_exps = [-1, -1.5, -2]\n",
    "    cmap = cm.get_cmap('Oranges', len(lr_exps)+2)\n",
    "    for idx, lr_exp in enumerate(lr_exps):\n",
    "        lr = 10**lr_exp\n",
    "        net = STDP_SR(2, gamma, ca3_kwargs={'static_eta': lr})\n",
    "        key = 'RNN-S, Static $\\eta=10^{' + str(lr_exp) + '}$'\n",
    "        data[key] = {}\n",
    "        data[key]['color'] = cmap(idx + 2)\n",
    "        data[key]['t_errors'] = []\n",
    "        data[key]['m_errors'] = []\n",
    "        data[key]['row_norm'] = []\n",
    "        data[key]['steps'] = []\n",
    "        t_errs, m_errs, row_norms, _ = eval(\n",
    "            net, datasets, print_every_steps=print_every_steps\n",
    "            )\n",
    "        for t_err, m_err, row_norm in zip(t_errs, m_errs, row_norms):\n",
    "            data[key]['t_errors'].extend(t_err.tolist())\n",
    "            data[key]['m_errors'].extend(m_err.tolist())\n",
    "            data[key]['row_norm'].extend(row_norm.tolist())\n",
    "            data[key]['steps'].extend(range(print_every_steps, num_steps, print_every_steps))\n",
    "\n",
    "    net = STDP_SR(2, gamma)\n",
    "    t_error, m_error, row_norm, _ = eval(\n",
    "        net, datasets\n",
    "        )\n",
    "    key = f'RNN-S, Adaptive $\\eta$'\n",
    "    data[key] = {}\n",
    "    data[key]['color'] = 'C0'\n",
    "    data[key]['t_errors'] = []\n",
    "    data[key]['m_errors'] = []\n",
    "    data[key]['row_norm'] = []\n",
    "    data[key]['steps'] = []\n",
    "    t_errs, m_errs, row_norms, _ = eval(\n",
    "        net, datasets, print_every_steps=print_every_steps\n",
    "        )\n",
    "    for t_err, m_err, row_norm in zip(t_errs, m_errs, row_norms):\n",
    "        data[key]['t_errors'].extend(t_err.tolist())\n",
    "        data[key]['m_errors'].extend(m_err.tolist())\n",
    "        data[key]['row_norm'].extend(row_norm.tolist())\n",
    "        data[key]['steps'].extend(range(print_every_steps, num_steps, print_every_steps))\n",
    "\n",
    "    return data"
   ]
  },
  {
   "cell_type": "markdown",
   "metadata": {},
   "source": [
    "# Unbiased Walk"
   ]
  },
  {
   "cell_type": "code",
   "execution_count": 24,
   "metadata": {},
   "outputs": [],
   "source": [
    "prob_dists = [[1,1,1]]\n",
    "p_file = 'pickles/2de_sr_model_comparisons_unbiased.p'\n",
    "\n",
    "iters = 15\n",
    "datasets = []\n",
    "for _ in range(iters):\n",
    "    for p_dist in prob_dists:\n",
    "        datasets.append(inputs.Sim1DWalk(\n",
    "            num_steps=num_steps, num_states=num_states,\n",
    "            left_right_stay_prob=p_dist\n",
    "            ))"
   ]
  },
  {
   "cell_type": "code",
   "execution_count": 25,
   "metadata": {},
   "outputs": [],
   "source": [
    "if reload:\n",
    "    with open(p_file, 'rb') as f:\n",
    "        data = pickle.load(f)\n",
    "else:\n",
    "    data = run_models()\n",
    "    with open(p_file, 'wb') as f:\n",
    "        pickle.dump(data, f)"
   ]
  },
  {
   "cell_type": "code",
   "execution_count": 26,
   "metadata": {},
   "outputs": [
    {
     "data": {
      "image/png": "[encoded data removed]",
      "text/plain": [
       "<Figure size 156x144 with 1 Axes>"
      ]
     },
     "metadata": {},
     "output_type": "display_data"
    }
   ],
   "source": [
    "fig, ax = plt.subplots(figsize=(6.5/3, 2.))\n",
    "for key in data.keys():\n",
    "    if 'TD' in key: continue\n",
    "    _data = data[key]\n",
    "    steps = _data['steps']\n",
    "    steps = [s/configs.dt_to_sec/60 for s in steps]\n",
    "    sns.lineplot(\n",
    "        x=steps, y=_data['row_norm'],\n",
    "        color=_data['color'], label=key, ax=ax#, legend=False\n",
    "        )\n",
    "plt.xlabel('Time into Walk (min)')\n",
    "plt.ylabel('Row Sum of $T$')\n",
    "plt.title('Synapse Normalization')\n",
    "plt.tight_layout()\n",
    "plt.savefig('../figures/S2a.png', dpi=300, transparent=True)\n",
    "plt.show()"
   ]
  },
  {
   "cell_type": "code",
   "execution_count": 27,
   "metadata": {},
   "outputs": [
    {
     "data": {
      "image/png": "[encoded data removed]",
      "text/plain": [
       "<Figure size 156x144 with 1 Axes>"
      ]
     },
     "metadata": {},
     "output_type": "display_data"
    }
   ],
   "source": [
    "fig, ax = plt.subplots(figsize=(6.5/3, 2.))\n",
    "for key in data.keys():\n",
    "    if 'TD' in key: continue\n",
    "    _data = data[key]\n",
    "    steps = _data['steps']\n",
    "    steps = [s/configs.dt_to_sec/60 for s in steps]\n",
    "    sns.lineplot(\n",
    "        x=steps, y=_data['t_errors'],\n",
    "        color=_data['color'], label=key, ax=ax, legend=None\n",
    "        )\n",
    "plt.xlabel('Time into Walk (min)')\n",
    "plt.ylabel('MAE (%)')\n",
    "plt.title('$T$  Estimate')\n",
    "plt.tight_layout()\n",
    "plt.savefig('../figures/S2b.png', dpi=300, transparent=True)\n",
    "plt.show()"
   ]
  },
  {
   "cell_type": "code",
   "execution_count": 28,
   "metadata": {},
   "outputs": [
    {
     "data": {
      "image/png": "[encoded data removed]",
      "text/plain": [
       "<Figure size 156x144 with 1 Axes>"
      ]
     },
     "metadata": {},
     "output_type": "display_data"
    }
   ],
   "source": [
    "fig, ax = plt.subplots(figsize=(6.5/3, 2.))\n",
    "for key in data.keys():\n",
    "    if 'Static' in key:\n",
    "        label = None\n",
    "    else:\n",
    "        label = key\n",
    "    _data = data[key]\n",
    "    steps = _data['steps']\n",
    "    steps = [s/configs.dt_to_sec/60 for s in steps]\n",
    "    sns.lineplot(\n",
    "        x=steps, y=_data['m_errors'],\n",
    "        color=_data['color'], label=label, ax=ax\n",
    "        )\n",
    "plt.xlabel('Time into Walk (min)')\n",
    "plt.ylabel('MAE')\n",
    "plt.title('$M$  Estimate')\n",
    "plt.tight_layout()\n",
    "plt.savefig('../figures/S2c.png', dpi=300, transparent=True)\n",
    "plt.show()"
   ]
  },
  {
   "cell_type": "markdown",
   "metadata": {},
   "source": [
    "# Stay biased walk"
   ]
  },
  {
   "cell_type": "code",
   "execution_count": 6,
   "metadata": {},
   "outputs": [],
   "source": [
    "num_steps=10000\n",
    "reload = False"
   ]
  },
  {
   "cell_type": "code",
   "execution_count": 7,
   "metadata": {},
   "outputs": [],
   "source": [
    "prob_dists = [[1,1,5]]\n",
    "p_file = 'pickles/2de_sr_model_comparisons_staybiased.p'\n",
    "\n",
    "iters = 5\n",
    "datasets = []\n",
    "for _ in range(iters):\n",
    "    for p_dist in prob_dists:\n",
    "        datasets.append(inputs.Sim1DWalk(\n",
    "            num_steps=num_steps, num_states=num_states,\n",
    "            left_right_stay_prob=p_dist\n",
    "            ))"
   ]
  },
  {
   "cell_type": "code",
   "execution_count": null,
   "metadata": {},
   "outputs": [],
   "source": [
    "if reload:\n",
    "    with open(p_file, 'rb') as f:\n",
    "        data = pickle.load(f)\n",
    "else:\n",
    "    data = run_models()\n",
    "    with open(p_file, 'wb') as f:\n",
    "        pickle.dump(data, f)"
   ]
  },
  {
   "cell_type": "code",
   "execution_count": null,
   "metadata": {},
   "outputs": [],
   "source": [
    "fig, ax = plt.subplots(figsize=(6.5/3, 2.))\n",
    "for key in data.keys():\n",
    "    if 'TD' in key: continue\n",
    "    _data = data[key]\n",
    "    steps = _data['steps']\n",
    "    steps = [s/configs.dt_to_sec/60 for s in steps]\n",
    "    sns.lineplot(\n",
    "        x=steps, y=_data['row_norm'],\n",
    "        color=_data['color'], label=key, ax=ax#, legend=False\n",
    "        )\n",
    "plt.xlabel('Time into Walk (min)')\n",
    "plt.ylabel('Row Sum of $T$')\n",
    "plt.title('Synapse Normalization')\n",
    "plt.tight_layout()\n",
    "plt.savefig('../figures/S2d.png', dpi=300, transparent=True)\n",
    "plt.show()"
   ]
  },
  {
   "cell_type": "code",
   "execution_count": null,
   "metadata": {},
   "outputs": [],
   "source": [
    "fig, ax = plt.subplots(figsize=(6.5/3, 2.))\n",
    "for key in data.keys():\n",
    "    if 'TD' in key: continue\n",
    "    _data = data[key]\n",
    "    steps = _data['steps']\n",
    "    steps = [s/configs.dt_to_sec/60 for s in steps]\n",
    "    sns.lineplot(\n",
    "        x=steps, y=_data['t_errors'],\n",
    "        color=_data['color'], label=key, ax=ax, legend=None\n",
    "        )\n",
    "plt.xlabel('Time into Walk (min)')\n",
    "plt.ylabel('MAE (%)')\n",
    "plt.title('$T$  Estimate')\n",
    "plt.tight_layout()\n",
    "plt.savefig('../figures/S2e.png', dpi=300, transparent=True)\n",
    "plt.show()"
   ]
  },
  {
   "cell_type": "code",
   "execution_count": null,
   "metadata": {},
   "outputs": [],
   "source": [
    "fig, ax = plt.subplots(figsize=(6.5/3, 2.))\n",
    "for key in data.keys():\n",
    "    if 'Static' in key:\n",
    "        label = None\n",
    "    else:\n",
    "        label = key\n",
    "    _data = data[key]\n",
    "    steps = _data['steps']\n",
    "    steps = [s/configs.dt_to_sec/60 for s in steps]\n",
    "    sns.lineplot(\n",
    "        x=steps, y=_data['m_errors'],\n",
    "        color=_data['color'], label=label, ax=ax\n",
    "        )\n",
    "plt.xlabel('Time into Walk (min)')\n",
    "plt.ylabel('MAE')\n",
    "plt.title('$M$  Estimate')\n",
    "plt.tight_layout()\n",
    "plt.savefig('../figures/S2f.png', dpi=300, transparent=True)\n",
    "plt.show()"
   ]
  },
  {
   "cell_type": "code",
   "execution_count": null,
   "metadata": {},
   "outputs": [],
   "source": []
  }
 ],
 "metadata": {
  "kernelspec": {
   "display_name": "Python 3 (ipykernel)",
   "language": "python",
   "name": "python3"
  },
  "language_info": {
   "codemirror_mode": {
    "name": "ipython",
    "version": 3
   },
   "file_extension": ".py",
   "mimetype": "text/x-python",
   "name": "python",
   "nbconvert_exporter": "python",
   "pygments_lexer": "ipython3",
   "version": "3.9.7"
  }
 },
 "nbformat": 4,
 "nbformat_minor": 4
}
