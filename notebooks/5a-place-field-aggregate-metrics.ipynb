{
 "cells": [
  {
   "cell_type": "code",
   "execution_count": 1,
   "metadata": {},
   "outputs": [
    {
     "name": "stderr",
     "output_type": "stream",
     "text": [
      "/home/chingf/Code/sr-project/datasets/inputs.py:12: UserWarning: Emily's experimental data could not be loaded.\n",
      "  warnings.warn(\"Emily's experimental data could not be loaded.\")\n",
      "/home/chingf/Code/sr-project/datasets/sf_inputs_discrete.py:19: UserWarning: Emily's experimental data could not be loaded.\n",
      "  warnings.warn(\"Emily's experimental data could not be loaded.\")\n"
     ]
    }
   ],
   "source": [
    "import pickle\n",
    "import numpy as np\n",
    "import os\n",
    "import torch\n",
    "import torch.nn as nn\n",
    "import re\n",
    "import sys\n",
    "from copy import deepcopy\n",
    "from tensorboard.backend.event_processing.event_accumulator import EventAccumulator\n",
    "import matplotlib.pyplot as plt\n",
    "import re\n",
    "import pandas as pd\n",
    "import seaborn as sns\n",
    "from math import ceil\n",
    "\n",
    "root = os.path.dirname(os.path.abspath(os.curdir))\n",
    "sys.path.append(root)\n",
    "from sr_model.models.models import AnalyticSR, STDP_SR, Linear, MLP\n",
    "from datasets import inputs, sf_inputs_discrete\n",
    "from run_td_rnn import run as run_rnn\n",
    "from run_td_mlp import run as run_mlp\n",
    "from run_td_linear import run as run_linear\n",
    "\n",
    "device = 'cpu'"
   ]
  },
  {
   "cell_type": "code",
   "execution_count": 2,
   "metadata": {},
   "outputs": [],
   "source": [
    "def format_dset_name(key):\n",
    "    if 'pval50' in key:\n",
    "        return '50% Sparsity'\n",
    "    elif 'pval80' in key:\n",
    "        return '80% Sparsity'\n",
    "    elif 'pval95' in key:\n",
    "        return '95% Sparsity'\n",
    "    elif 'sparse' in key:\n",
    "        return 'Localized'\n",
    "    else:\n",
    "        return 'Unknown'"
   ]
  },
  {
   "cell_type": "code",
   "execution_count": 3,
   "metadata": {},
   "outputs": [],
   "source": [
    "def get_sigma(key):\n",
    "    p = re.compile('.*sigma(.+)\\/.*')\n",
    "    if 'sigma' in key:\n",
    "        m = p.match(key)\n",
    "        return m.group(1)\n",
    "    else:\n",
    "        return '0'"
   ]
  },
  {
   "cell_type": "markdown",
   "metadata": {},
   "source": [
    "# Helper functions to calculate metrics"
   ]
  },
  {
   "cell_type": "code",
   "execution_count": 4,
   "metadata": {},
   "outputs": [],
   "source": [
    "from findpeaks import findpeaks\n",
    "from scipy.ndimage.measurements import label"
   ]
  },
  {
   "cell_type": "code",
   "execution_count": 5,
   "metadata": {
    "code_folding": []
   },
   "outputs": [],
   "source": [
    "# Area and Peaks\n",
    "\n",
    "def get_area_and_peaks(firing_field):\n",
    "    firing_field = firing_field/firing_field.max()\n",
    "    area_thresh = ceil(0.00716197244*firing_field.size)\n",
    "    masked_field = firing_field > 0.8\n",
    "    labeled_array, ncomponents = label(masked_field, np.ones((3,3)))\n",
    "    areas = []\n",
    "    for label_id in np.unique(labeled_array):\n",
    "        if label_id == 0: continue\n",
    "        area = np.sum(labeled_array == label_id)\n",
    "        if area < area_thresh: continue\n",
    "        areas.append(area)\n",
    "    return areas, len(areas)\n",
    "\n",
    "# Spatial Info\n",
    "\n",
    "def flatten_xy(walk_xs, walk_ys):\n",
    "    max_col = walk_ys.max()\n",
    "    new_bins = walk_xs * max_col + walk_ys\n",
    "    return new_bins\n",
    "\n",
    "def circular(fr):\n",
    "    \"\"\"\n",
    "    Circularly shuffles a (neur, frames) array of firing rates, neuron by neuron.\n",
    "    \"\"\"\n",
    "\n",
    "    fr = fr.copy()\n",
    "    shift = np.random.choice(np.arange(1, fr.size))\n",
    "    if len(fr.shape) == 2:\n",
    "        num_neur, num_frames = fr.shape\n",
    "        for neur in range(num_neur):\n",
    "            shift = np.random.choice(np.arange(1, num_frames))\n",
    "            fr[neur,:] = np.roll(fr[neur,:], shift)\n",
    "        return fr\n",
    "    else:\n",
    "        return np.roll(fr, shift)\n",
    "    \n",
    "def get_mutual_info(conditions, fr):\n",
    "    \"\"\"\n",
    "    Calculates mutual information between firing rate and a set of conditions\n",
    "\n",
    "    Args:\n",
    "        conditions: (frames,) array of conditions\n",
    "        fr: (neurs, frames) array of firing rates\n",
    "    Returns:\n",
    "        (neurs,) array of scaler value mutual information per neuron\n",
    "    \"\"\"\n",
    "\n",
    "    num_neurs, _ = fr.shape\n",
    "    mean_fr = np.mean(fr, axis=1)\n",
    "    mutual_info = np.zeros(num_neurs)\n",
    "    for condn in np.unique(conditions):\n",
    "        prob = np.sum(conditions==condn)/conditions.size\n",
    "        condn_mean_fr = np.mean(fr[:,conditions==condn], axis=1)\n",
    "        log_term = np.log2(condn_mean_fr/mean_fr)\n",
    "        log_term[np.isnan(log_term)] = 0\n",
    "        log_term[np.isinf(log_term)] = 0\n",
    "        mutual_info += prob*condn_mean_fr*log_term\n",
    "    return mutual_info\n",
    "\n",
    "def calc_place_cells(xs, ys, fr, num_shuffles):\n",
    "    \"\"\" Gets the spatial mutual information of each cell.\"\"\"\n",
    "\n",
    "    num_neurs, num_frames = fr.shape\n",
    "    spatial_info = np.zeros(num_neurs)\n",
    "    significance = np.zeros(num_neurs)\n",
    "    conditions = flatten_xy(xs, ys)\n",
    "    spatial_info = get_mutual_info(conditions, fr)\n",
    "    \n",
    "    for _ in range(num_shuffles):\n",
    "        shuffled_fr = circular(fr)\n",
    "        shuffled_info = get_mutual_info(conditions, shuffled_fr)\n",
    "        significance += (shuffled_info < spatial_info)\n",
    "    significance /= num_shuffles\n",
    "    \n",
    "    return spatial_info, significance\n",
    "\n",
    "def get_metrics(outputs, dset):\n",
    "    walk_xs = dset.xs.astype(int)\n",
    "    walk_ys = dset.ys.astype(int)\n",
    "    arena_length = 10\n",
    "    \n",
    "    areas = []\n",
    "    ncomps = []\n",
    "\n",
    "#     spatial_info, significance = calc_place_cells(\n",
    "#         walk_xs, walk_ys, outputs.T, 100\n",
    "#         )\n",
    "\n",
    "    for neur in np.arange(outputs.shape[1]):\n",
    "        firing_field = np.zeros((arena_length, arena_length))*np.nan\n",
    "        for x in range(arena_length):\n",
    "            for y in range(arena_length):\n",
    "                frame_idxs = np.logical_and(walk_xs == x, walk_ys == y)\n",
    "                fr = np.nanmean(outputs[frame_idxs, neur])\n",
    "                firing_field[x,y] = fr\n",
    "        num_nonnans = firing_field.size - np.sum(np.isnan(firing_field))\n",
    "        firing_field[np.isnan(firing_field)] = 0\n",
    "\n",
    "        # Area?\n",
    "        area, ncomp = get_area_and_peaks(firing_field)\n",
    "        areas.append(np.sum(area)/num_nonnans)\n",
    "        ncomps.append(ncomp)\n",
    "    return np.array(areas), np.array(ncomps), None"
   ]
  },
  {
   "cell_type": "markdown",
   "metadata": {},
   "source": [
    "# Plot aggregate metrics\n",
    "From Henrikson & Mosers, 2010: \"A place field was estimated as a contiguous region of at least 225 cm2 (9 or more 5 cm × 5 cm bins) where the firing rate was above 20% of the peak rate and the peak firing rate of the area was 0.25 Hz or higher. The number of nonoverlapping place fields was estimated for each cell. \""
   ]
  },
  {
   "cell_type": "markdown",
   "metadata": {},
   "source": [
    "# Run each dataset"
   ]
  },
  {
   "cell_type": "code",
   "execution_count": 43,
   "metadata": {},
   "outputs": [
    {
     "name": "stderr",
     "output_type": "stream",
     "text": [
      "/home/chingf/anaconda3/envs/aronov/lib/python3.7/site-packages/ipykernel_launcher.py:4: RuntimeWarning: invalid value encountered in true_divide\n",
      "  after removing the cwd from sys.path.\n",
      "/home/chingf/anaconda3/envs/aronov/lib/python3.7/site-packages/ipykernel_launcher.py:6: RuntimeWarning: invalid value encountered in greater\n",
      "  \n"
     ]
    }
   ],
   "source": [
    "root_dir = \"../trained_models/\"\n",
    "dset_dirs = [\n",
    "    '03_td_discrete_uncorr/pval50/',\n",
    "    '03_td_discrete_uncorr/pval80/',\n",
    "    '03_td_discrete_uncorr/pval95/',\n",
    "    '03_td_discrete_corr/pval50_sigma1.0/',\n",
    "    '03_td_discrete_corr/pval50_sigma1.25/',\n",
    "    '03_td_discrete_corr/pval50_sigma1.5/',\n",
    "    '03_td_discrete_corr/pval50_sigma1.75/',\n",
    "    '03_td_discrete_corr/pval50_sigma2.0/',\n",
    "    '03_td_discrete_corr/pval80_sigma1.0/',\n",
    "    '03_td_discrete_corr/pval80_sigma1.25/',\n",
    "    '03_td_discrete_corr/pval80_sigma1.5/',\n",
    "    '03_td_discrete_corr/pval80_sigma1.75/',\n",
    "    '03_td_discrete_corr/pval80_sigma2.0/',\n",
    "    '03_td_discrete_corr/pval95_sigma1.0/',\n",
    "    '03_td_discrete_corr/pval95_sigma1.25/',\n",
    "    '03_td_discrete_corr/pval95_sigma1.5/',\n",
    "    '03_td_discrete_corr/pval95_sigma1.75/',\n",
    "    '03_td_discrete_corr/pval95_sigma2.0/',\n",
    "    '03_td_discrete_corr/sparse_sigma1.0/',\n",
    "    '03_td_discrete_corr/sparse_sigma1.25/',\n",
    "    '03_td_discrete_corr/sparse_sigma1.5/',\n",
    "    '03_td_discrete_corr/sparse_sigma1.75/',\n",
    "    ]\n",
    "\n",
    "gamma = 0.4\n",
    "\n",
    "dset_names = []\n",
    "sigmas = []\n",
    "field_areas = []\n",
    "field_nums = []\n",
    "p_one_field = []\n",
    "spatial_infos = []\n",
    "\n",
    "for dset_dir in dset_dirs:\n",
    "    dset_name = format_dset_name(dset_dir)\n",
    "    sigma = get_sigma(dset_dir)\n",
    "    gamma_dir = f'{root_dir}{dset_dir}{gamma}/'\n",
    "    model_dir = f'{gamma_dir}hopfield/'\n",
    "    model_dir = f'{gamma_dir}rnn_fixedlr_alpha/'\n",
    "    for _iter in os.listdir(model_dir):\n",
    "        iter_dir = model_dir + _iter + '/'\n",
    "        results_path = iter_dir + 'results.p'\n",
    "        with open(results_path, 'rb') as f:\n",
    "            results = pickle.load(f)\n",
    "        if 'hopfield' in model_dir:\n",
    "            outputs = results['outputs'].detach().numpy().squeeze()\n",
    "        else:\n",
    "            outputs = results['outputs']\n",
    "        dset = results['dset']\n",
    "        areas, ncomps, spatial_info = get_metrics(outputs, dset)\n",
    "        dset_names.append(dset_name)\n",
    "        sigmas.append(sigma)\n",
    "        field_areas.append(np.mean(areas))\n",
    "        field_nums.append(np.mean(ncomps))\n",
    "        p_one_field.append(np.sum(ncomps==1)/ncomps.size)\n",
    "        #spatial_infos.append(np.mean(spatial_info))"
   ]
  },
  {
   "cell_type": "markdown",
   "metadata": {},
   "source": [
    "# Make barplots"
   ]
  },
  {
   "cell_type": "code",
   "execution_count": 44,
   "metadata": {},
   "outputs": [],
   "source": [
    "import pandas as pd\n",
    "import seaborn as sns"
   ]
  },
  {
   "cell_type": "code",
   "execution_count": 45,
   "metadata": {},
   "outputs": [],
   "source": [
    "df = pd.DataFrame({\n",
    "    'Dataset': dset_names,\n",
    "    'Spatial $\\sigma$ (cm)': [float(s)*5 for s in sigmas], # 5 cm per bin\n",
    "    'Field Area': field_areas,\n",
    "    'Number of Fields': field_nums,\n",
    "    'Proportion with One Field': p_one_field,\n",
    "    #'Spatial Information': spatial_infos\n",
    "    })"
   ]
  },
  {
   "cell_type": "code",
   "execution_count": 46,
   "metadata": {},
   "outputs": [],
   "source": [
    "dset_fontsize = 14\n",
    "xylabel_fontsize = 18"
   ]
  },
  {
   "cell_type": "code",
   "execution_count": 47,
   "metadata": {},
   "outputs": [
    {
     "data": {
      "image/png": "[encoded data removed]",
      "text/plain": [
       "<Figure size 1036.8x276.48 with 1 Axes>"
      ]
     },
     "metadata": {
      "needs_background": "light"
     },
     "output_type": "display_data"
    }
   ],
   "source": [
    "fig, ax = plt.subplots(figsize=(6.4*2.25, 4.8/1.25))\n",
    "sns.barplot(\n",
    "    x='Dataset', y='Field Area',\n",
    "    hue='Spatial $\\sigma$ (cm)', palette='mako',\n",
    "    ax=ax, data=df\n",
    "    )\n",
    "plt.ylabel('Field Area', fontsize=xylabel_fontsize)\n",
    "plt.xlabel('Dataset', fontsize=xylabel_fontsize)\n",
    "plt.xticks(rotation=45, fontsize=dset_fontsize)\n",
    "\n",
    "# Henrikson & Mosers 2010\n",
    "mean_val = 0.0725; ci = 0.005\n",
    "plt.axhline(mean_val, linestyle='--', color='blue')\n",
    "ax.axhspan(mean_val-ci, mean_val+ci, facecolor='blue', alpha=0.2)\n",
    "\n",
    "# Payne 2021\n",
    "mean_val = 0.1186; ci = 0.0178\n",
    "plt.axhline(mean_val, linestyle='--', color='red')\n",
    "ax.axhspan(mean_val-ci, mean_val+ci, facecolor='red', alpha=0.2)\n",
    "\n",
    "plt.tight_layout()\n",
    "plt.savefig('5a_aggregate_area.png', dpi=300)\n",
    "plt.show()"
   ]
  },
  {
   "cell_type": "code",
   "execution_count": 48,
   "metadata": {},
   "outputs": [
    {
     "data": {
      "image/png": "[encoded data removed]",
      "text/plain": [
       "<Figure size 1036.8x276.48 with 1 Axes>"
      ]
     },
     "metadata": {
      "needs_background": "light"
     },
     "output_type": "display_data"
    }
   ],
   "source": [
    "fig, ax = plt.subplots(figsize=(6.4*2.25, 4.8/1.25))\n",
    "sns.barplot(\n",
    "    x='Dataset', y='Number of Fields',\n",
    "    hue='Spatial $\\sigma$ (cm)', palette='mako',\n",
    "    ax=ax, data=df\n",
    "    )\n",
    "plt.ylabel('Number of Fields', fontsize=xylabel_fontsize)\n",
    "plt.xlabel('Dataset', fontsize=xylabel_fontsize)\n",
    "plt.xticks(rotation=45, fontsize=dset_fontsize)\n",
    "\n",
    "# Henrikson & Mosers 2010\n",
    "mean_val = 1.6; ci = 0.167\n",
    "plt.axhline(mean_val, linestyle='--', color='blue')\n",
    "ax.axhspan(mean_val-ci, mean_val+ci, facecolor='blue', alpha=0.2)\n",
    "\n",
    "# Payne 2021\n",
    "mean_val = 1.3547; ci = 0.0934\n",
    "plt.axhline(mean_val, linestyle='--', color='red')\n",
    "ax.axhspan(mean_val-ci, mean_val+ci, facecolor='red', alpha=0.2)\n",
    "\n",
    "plt.tight_layout()\n",
    "plt.savefig('5a_aggregate_nfields.png', dpi=300)\n",
    "plt.show()"
   ]
  },
  {
   "cell_type": "code",
   "execution_count": 49,
   "metadata": {},
   "outputs": [
    {
     "data": {
      "image/png": "[encoded data removed]",
      "text/plain": [
       "<Figure size 1036.8x276.48 with 1 Axes>"
      ]
     },
     "metadata": {
      "needs_background": "light"
     },
     "output_type": "display_data"
    }
   ],
   "source": [
    "fig, ax = plt.subplots(figsize=(6.4*2.25, 4.8/1.25))\n",
    "sns.barplot(\n",
    "    x='Dataset', y='Proportion with One Field',\n",
    "    hue='Spatial $\\sigma$ (cm)', palette='mako',\n",
    "    ax=ax, data=df\n",
    "    )\n",
    "plt.ylabel('One Field Only', fontsize=xylabel_fontsize)\n",
    "plt.xlabel('Dataset', fontsize=xylabel_fontsize)\n",
    "plt.xticks(fontsize=dset_fontsize)\n",
    "\n",
    "# Henrikson & Mosers 2010\n",
    "plt.axhline(0.57, linestyle='--', color='blue')\n",
    "plt.axhline(0.532, linestyle='--', color='blue')\n",
    "\n",
    "# Payne 2021\n",
    "plt.axhline(0.565, linestyle='--', color='red')\n",
    "\n",
    "plt.tight_layout()\n",
    "plt.savefig('5a_aggregate_onefield.png', dpi=300)\n",
    "plt.show()"
   ]
  },
  {
   "cell_type": "code",
   "execution_count": 50,
   "metadata": {},
   "outputs": [
    {
     "ename": "ValueError",
     "evalue": "Could not interpret input 'Spatial Information'",
     "output_type": "error",
     "traceback": [
      "\u001b[0;31m---------------------------------------------------------------------------\u001b[0m",
      "\u001b[0;31mValueError\u001b[0m                                Traceback (most recent call last)",
      "\u001b[0;32m<ipython-input-50-50db1b33c666>\u001b[0m in \u001b[0;36m<module>\u001b[0;34m\u001b[0m\n\u001b[1;32m      3\u001b[0m     \u001b[0mx\u001b[0m\u001b[0;34m=\u001b[0m\u001b[0;34m'Dataset'\u001b[0m\u001b[0;34m,\u001b[0m \u001b[0my\u001b[0m\u001b[0;34m=\u001b[0m\u001b[0;34m'Spatial Information'\u001b[0m\u001b[0;34m,\u001b[0m\u001b[0;34m\u001b[0m\u001b[0;34m\u001b[0m\u001b[0m\n\u001b[1;32m      4\u001b[0m     \u001b[0mhue\u001b[0m\u001b[0;34m=\u001b[0m\u001b[0;34m'Spatial Sigma'\u001b[0m\u001b[0;34m,\u001b[0m \u001b[0mpalette\u001b[0m\u001b[0;34m=\u001b[0m\u001b[0;34m'mako'\u001b[0m\u001b[0;34m,\u001b[0m\u001b[0;34m\u001b[0m\u001b[0;34m\u001b[0m\u001b[0m\n\u001b[0;32m----> 5\u001b[0;31m     \u001b[0max\u001b[0m\u001b[0;34m=\u001b[0m\u001b[0max\u001b[0m\u001b[0;34m,\u001b[0m \u001b[0mdata\u001b[0m\u001b[0;34m=\u001b[0m\u001b[0mdf\u001b[0m\u001b[0;34m\u001b[0m\u001b[0;34m\u001b[0m\u001b[0m\n\u001b[0m\u001b[1;32m      6\u001b[0m     )\n\u001b[1;32m      7\u001b[0m \u001b[0mplt\u001b[0m\u001b[0;34m.\u001b[0m\u001b[0mylabel\u001b[0m\u001b[0;34m(\u001b[0m\u001b[0;34m'Spatial Information'\u001b[0m\u001b[0;34m,\u001b[0m \u001b[0mfontsize\u001b[0m\u001b[0;34m=\u001b[0m\u001b[0mxylabel_fontsize\u001b[0m\u001b[0;34m)\u001b[0m\u001b[0;34m\u001b[0m\u001b[0;34m\u001b[0m\u001b[0m\n",
      "\u001b[0;32m~/anaconda3/envs/aronov/lib/python3.7/site-packages/seaborn/categorical.py\u001b[0m in \u001b[0;36mbarplot\u001b[0;34m(x, y, hue, data, order, hue_order, estimator, ci, n_boot, units, seed, orient, color, palette, saturation, errcolor, errwidth, capsize, dodge, ax, **kwargs)\u001b[0m\n\u001b[1;32m   3148\u001b[0m                           \u001b[0mestimator\u001b[0m\u001b[0;34m,\u001b[0m \u001b[0mci\u001b[0m\u001b[0;34m,\u001b[0m \u001b[0mn_boot\u001b[0m\u001b[0;34m,\u001b[0m \u001b[0munits\u001b[0m\u001b[0;34m,\u001b[0m \u001b[0mseed\u001b[0m\u001b[0;34m,\u001b[0m\u001b[0;34m\u001b[0m\u001b[0;34m\u001b[0m\u001b[0m\n\u001b[1;32m   3149\u001b[0m                           \u001b[0morient\u001b[0m\u001b[0;34m,\u001b[0m \u001b[0mcolor\u001b[0m\u001b[0;34m,\u001b[0m \u001b[0mpalette\u001b[0m\u001b[0;34m,\u001b[0m \u001b[0msaturation\u001b[0m\u001b[0;34m,\u001b[0m\u001b[0;34m\u001b[0m\u001b[0;34m\u001b[0m\u001b[0m\n\u001b[0;32m-> 3150\u001b[0;31m                           errcolor, errwidth, capsize, dodge)\n\u001b[0m\u001b[1;32m   3151\u001b[0m \u001b[0;34m\u001b[0m\u001b[0m\n\u001b[1;32m   3152\u001b[0m     \u001b[0;32mif\u001b[0m \u001b[0max\u001b[0m \u001b[0;32mis\u001b[0m \u001b[0;32mNone\u001b[0m\u001b[0;34m:\u001b[0m\u001b[0;34m\u001b[0m\u001b[0;34m\u001b[0m\u001b[0m\n",
      "\u001b[0;32m~/anaconda3/envs/aronov/lib/python3.7/site-packages/seaborn/categorical.py\u001b[0m in \u001b[0;36m__init__\u001b[0;34m(self, x, y, hue, data, order, hue_order, estimator, ci, n_boot, units, seed, orient, color, palette, saturation, errcolor, errwidth, capsize, dodge)\u001b[0m\n\u001b[1;32m   1613\u001b[0m         \u001b[0;34m\"\"\"Initialize the plotter.\"\"\"\u001b[0m\u001b[0;34m\u001b[0m\u001b[0;34m\u001b[0m\u001b[0m\n\u001b[1;32m   1614\u001b[0m         self.establish_variables(x, y, hue, data, orient,\n\u001b[0;32m-> 1615\u001b[0;31m                                  order, hue_order, units)\n\u001b[0m\u001b[1;32m   1616\u001b[0m         \u001b[0mself\u001b[0m\u001b[0;34m.\u001b[0m\u001b[0mestablish_colors\u001b[0m\u001b[0;34m(\u001b[0m\u001b[0mcolor\u001b[0m\u001b[0;34m,\u001b[0m \u001b[0mpalette\u001b[0m\u001b[0;34m,\u001b[0m \u001b[0msaturation\u001b[0m\u001b[0;34m)\u001b[0m\u001b[0;34m\u001b[0m\u001b[0;34m\u001b[0m\u001b[0m\n\u001b[1;32m   1617\u001b[0m         \u001b[0mself\u001b[0m\u001b[0;34m.\u001b[0m\u001b[0mestimate_statistic\u001b[0m\u001b[0;34m(\u001b[0m\u001b[0mestimator\u001b[0m\u001b[0;34m,\u001b[0m \u001b[0mci\u001b[0m\u001b[0;34m,\u001b[0m \u001b[0mn_boot\u001b[0m\u001b[0;34m,\u001b[0m \u001b[0mseed\u001b[0m\u001b[0;34m)\u001b[0m\u001b[0;34m\u001b[0m\u001b[0;34m\u001b[0m\u001b[0m\n",
      "\u001b[0;32m~/anaconda3/envs/aronov/lib/python3.7/site-packages/seaborn/categorical.py\u001b[0m in \u001b[0;36mestablish_variables\u001b[0;34m(self, x, y, hue, data, orient, order, hue_order, units)\u001b[0m\n\u001b[1;32m    150\u001b[0m                 \u001b[0;32mif\u001b[0m \u001b[0misinstance\u001b[0m\u001b[0;34m(\u001b[0m\u001b[0mvar\u001b[0m\u001b[0;34m,\u001b[0m \u001b[0mstr\u001b[0m\u001b[0;34m)\u001b[0m\u001b[0;34m:\u001b[0m\u001b[0;34m\u001b[0m\u001b[0;34m\u001b[0m\u001b[0m\n\u001b[1;32m    151\u001b[0m                     \u001b[0merr\u001b[0m \u001b[0;34m=\u001b[0m \u001b[0;34m\"Could not interpret input '{}'\"\u001b[0m\u001b[0;34m.\u001b[0m\u001b[0mformat\u001b[0m\u001b[0;34m(\u001b[0m\u001b[0mvar\u001b[0m\u001b[0;34m)\u001b[0m\u001b[0;34m\u001b[0m\u001b[0;34m\u001b[0m\u001b[0m\n\u001b[0;32m--> 152\u001b[0;31m                     \u001b[0;32mraise\u001b[0m \u001b[0mValueError\u001b[0m\u001b[0;34m(\u001b[0m\u001b[0merr\u001b[0m\u001b[0;34m)\u001b[0m\u001b[0;34m\u001b[0m\u001b[0;34m\u001b[0m\u001b[0m\n\u001b[0m\u001b[1;32m    153\u001b[0m \u001b[0;34m\u001b[0m\u001b[0m\n\u001b[1;32m    154\u001b[0m             \u001b[0;31m# Figure out the plotting orientation\u001b[0m\u001b[0;34m\u001b[0m\u001b[0;34m\u001b[0m\u001b[0;34m\u001b[0m\u001b[0m\n",
      "\u001b[0;31mValueError\u001b[0m: Could not interpret input 'Spatial Information'"
     ]
    },
    {
     "data": {
      "image/png": "[encoded data removed]",
      "text/plain": [
       "<Figure size 1036.8x276.48 with 1 Axes>"
      ]
     },
     "metadata": {
      "needs_background": "light"
     },
     "output_type": "display_data"
    }
   ],
   "source": [
    "fig, ax = plt.subplots(figsize=(6.4*2.25, 4.8/1.25))\n",
    "sns.barplot(\n",
    "    x='Dataset', y='Spatial Information',\n",
    "    hue='Spatial Sigma', palette='mako',\n",
    "    ax=ax, data=df\n",
    "    )\n",
    "plt.ylabel('Spatial Information', fontsize=xylabel_fontsize)\n",
    "plt.xlabel('Dataset', fontsize=xylabel_fontsize)\n",
    "plt.xticks(rotation=45, fontsize=dset_fontsize)\n",
    "plt.tight_layout()\n",
    "plt.savefig('5a_aggregate_info.png', dpi=300)\n",
    "plt.show()"
   ]
  },
  {
   "cell_type": "code",
   "execution_count": null,
   "metadata": {},
   "outputs": [],
   "source": []
  }
 ],
 "metadata": {
  "kernelspec": {
   "display_name": "Python 3",
   "language": "python",
   "name": "python3"
  },
  "language_info": {
   "codemirror_mode": {
    "name": "ipython",
    "version": 3
   },
   "file_extension": ".py",
   "mimetype": "text/x-python",
   "name": "python",
   "nbconvert_exporter": "python",
   "pygments_lexer": "ipython3",
   "version": "3.7.6"
  }
 },
 "nbformat": 4,
 "nbformat_minor": 4
}
