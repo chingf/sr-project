{
 "cells": [
  {
   "cell_type": "code",
   "execution_count": 1,
   "metadata": {},
   "outputs": [
    {
     "name": "stderr",
     "output_type": "stream",
     "text": [
      "/home/chingf/Code/sr-project/datasets/inputs.py:12: UserWarning: Emily's experimental data could not be loaded.\n",
      "  warnings.warn(\"Emily's experimental data could not be loaded.\")\n",
      "/home/chingf/Code/sr-project/datasets/sf_inputs_discrete.py:19: UserWarning: Emily's experimental data could not be loaded.\n",
      "  warnings.warn(\"Emily's experimental data could not be loaded.\")\n"
     ]
    }
   ],
   "source": [
    "import pickle\n",
    "import numpy as np\n",
    "import os\n",
    "import torch\n",
    "import torch.nn as nn\n",
    "import re\n",
    "import sys\n",
    "from copy import deepcopy\n",
    "from tensorboard.backend.event_processing.event_accumulator import EventAccumulator\n",
    "import matplotlib.pyplot as plt\n",
    "import re\n",
    "import pandas as pd\n",
    "import seaborn as sns\n",
    "from math import ceil\n",
    "\n",
    "root = os.path.dirname(os.path.abspath(os.curdir))\n",
    "sys.path.append(root)\n",
    "from sr_model.models.models import AnalyticSR, STDP_SR, Linear, MLP\n",
    "from datasets import inputs, sf_inputs_discrete\n",
    "from run_td_rnn import run as run_rnn\n",
    "from run_td_mlp import run as run_mlp\n",
    "from run_td_linear import run as run_linear\n",
    "from utils import get_field_metrics\n",
    "import configs\n",
    "\n",
    "device = 'cpu'"
   ]
  },
  {
   "cell_type": "markdown",
   "metadata": {},
   "source": [
    "# Collect metrics over datasets\n",
    "You will have to run the corresponding python file to this jupyter notebook (will have the same title, but with 'parfor' attached)."
   ]
  },
  {
   "cell_type": "code",
   "execution_count": 35,
   "metadata": {},
   "outputs": [],
   "source": [
    "gamma = 0.75\n",
    "model = 'rnn'"
   ]
  },
  {
   "cell_type": "code",
   "execution_count": 36,
   "metadata": {},
   "outputs": [],
   "source": [
    "with open(f'./pickles/5a_{model}_results_gamma{gamma}.p', 'rb') as f:\n",
    "    results = pickle.load(f)"
   ]
  },
  {
   "cell_type": "code",
   "execution_count": 37,
   "metadata": {},
   "outputs": [
    {
     "data": {
      "text/plain": [
       "dict_keys(['gamma', 'arena_length', 'init_sparsities', 'sigmas', 'final_sparsities', 'fieldsizes', 'nfields', 'onefields'])"
      ]
     },
     "execution_count": 37,
     "metadata": {},
     "output_type": "execute_result"
    }
   ],
   "source": [
    "results.keys()"
   ]
  },
  {
   "cell_type": "code",
   "execution_count": 38,
   "metadata": {},
   "outputs": [],
   "source": [
    "arena_length = np.array(results['arena_length'])\n",
    "init_sparsities = np.array(results['init_sparsities'])\n",
    "sigmas = np.array(results['sigmas'])\n",
    "final_sparsities = np.array(results['final_sparsities'])\n",
    "fieldsizes = np.array(results['fieldsizes']) - 0.07\n",
    "nfields = np.array(results['nfields']) - 1.6\n",
    "onefields = np.array(results['onefields']) - 0.55"
   ]
  },
  {
   "cell_type": "code",
   "execution_count": 39,
   "metadata": {},
   "outputs": [],
   "source": [
    "df = pd.DataFrame({\n",
    "    'Seed Sparsity': init_sparsities,\n",
    "    'Spatial Corr.': sigmas,\n",
    "    'Sparsity': final_sparsities,\n",
    "    'Field Size': fieldsizes,\n",
    "    'Fields per Neuron': nfields,\n",
    "    'Single Field Neurons': onefields\n",
    "    })"
   ]
  },
  {
   "cell_type": "code",
   "execution_count": 63,
   "metadata": {},
   "outputs": [
    {
     "data": {
      "text/plain": [
       "array([ 1.4275e+00,  1.5575e+00, -8.2500e-02, -1.7250e-01, -1.2000e-01,\n",
       "        7.6250e-01,  7.4000e-01,  7.1500e-01,  2.8725e+00,  3.1325e+00,\n",
       "        2.7750e+00,  2.7850e+00,  3.0175e+00,  2.9225e+00,  3.3750e-01,\n",
       "        3.6500e-01,  3.7750e-01,  1.2900e+00,  7.0000e-02,  6.7500e-02,\n",
       "        7.5000e-03,  9.0000e-02,  1.2750e-01,  1.6250e-01,  1.1875e+00,\n",
       "        1.1625e+00,  4.0000e-02, -9.5000e-02, -6.7500e-02,  7.7750e-01,\n",
       "        7.6500e-01,  1.1100e+00,  1.3550e+00,  1.1500e+00,  1.2400e+00,\n",
       "        1.2575e+00,  1.3075e+00,  5.5000e-01,  5.7250e-01,  5.5000e-01,\n",
       "        4.3500e-01,  4.6000e-01,  4.3500e-01,  1.1750e-01,  6.7500e-02,\n",
       "        7.0000e-02,  2.0500e-01,  2.1000e-01,  2.4250e-01,  1.5450e+00,\n",
       "        1.4825e+00,  1.7650e+00,  1.1000e-01,  2.1250e-01,  1.1000e-01,\n",
       "        9.4500e-01,  8.8250e-01,  2.3075e+00,  2.0550e+00,  2.5850e+00,\n",
       "        3.0775e+00,  3.1400e+00,  3.1875e+00,  3.7250e-01,  5.5500e-01,\n",
       "        3.6250e-01, -5.1000e-01, -1.5500e-01,  2.4500e-01,  2.6000e-01,\n",
       "        1.0500e-01,  4.2750e-01,  1.9750e-01,  5.3250e-01,  4.0000e-01,\n",
       "        1.2300e+00,  1.0250e+00,  1.2300e+00, -3.7500e-02, -4.0000e-02,\n",
       "       -9.0000e-02, -3.0000e-02, -1.2250e-01,  3.4250e-01,  3.2550e+00,\n",
       "        3.6000e+00,  3.2050e+00,  4.7250e-01,  5.2250e-01,  1.1650e+00,\n",
       "        1.3000e-01,  1.3000e-01,  1.4750e-01,  1.9000e-01,  3.0250e-01,\n",
       "        2.1300e+00,  2.0550e+00,  2.7000e-01,  1.9750e-01,  2.4250e-01,\n",
       "        8.8250e-01,  8.4750e-01,  8.8500e-01,  2.3625e+00,  1.9600e+00,\n",
       "        1.9300e+00,  2.5425e+00,  2.1425e+00,  5.5500e-01,  4.7000e-01,\n",
       "        1.3300e+00,  1.1425e+00,  1.2800e+00,  3.5000e-01,  4.2250e-01,\n",
       "        3.5750e-01,  4.6500e-01,  5.5500e-01,  4.5000e-01, -1.3500e-01,\n",
       "        5.0000e-02,  6.0000e-02, -9.7500e-02, -2.1250e-01, -1.6000e-01,\n",
       "       -1.2500e-02,  9.5000e-02, -9.2500e-02,  2.4500e-01,  3.5000e-01,\n",
       "        1.2250e-01,  2.0500e-01, -8.7500e-02, -1.8500e-01, -7.5000e-02,\n",
       "        1.0000e-02, -3.5000e-02, -1.5250e-01, -2.6250e-01, -1.2750e-01,\n",
       "       -2.1500e-01, -1.2500e-01, -1.9500e-01, -1.4250e-01, -1.9250e-01,\n",
       "       -5.0000e-03,  1.4750e-01,  2.6000e-01,  2.2500e-02, -2.2500e-02,\n",
       "        6.2500e-02,  1.5250e-01,  2.6000e-01,  2.5750e-01,  3.3500e-01,\n",
       "        3.1750e-01,  3.3750e-01,  2.5250e-01,  3.2250e-01,  2.7500e-01,\n",
       "        2.2000e-01,  1.4500e-01,  1.2750e-01,  2.3000e-01,  2.0500e-01,\n",
       "        3.1500e-01,  1.0500e-01, -1.2500e-02,  5.2500e-02,  1.2000e-01,\n",
       "        1.6250e-01,  1.3000e-01,  6.1750e-01,  7.6000e-01,  5.2500e-02,\n",
       "        2.5000e-03, -4.0000e-02,  4.9250e-01,  6.1000e-01,  3.9750e-01,\n",
       "        6.2500e-01,  7.8750e-01,  7.9250e-01,  8.1750e-01,  6.3000e-01,\n",
       "        1.9500e-01,  3.9250e-01,  4.4500e-01,  6.0250e-01,  6.8000e-01,\n",
       "        5.6500e-01,  1.0750e-01,  4.7500e-02,  2.4500e-01,  2.9500e-01,\n",
       "        3.7000e-01,  1.2775e+00,  1.5625e+00,  1.3625e+00,  2.0500e-01,\n",
       "        4.0750e-01,  4.3750e-01,  1.1900e+00,  8.3000e-01,  6.8500e-01,\n",
       "        1.9775e+00,  2.1425e+00,  2.0150e+00,  1.2050e+00,  9.3000e-01,\n",
       "        1.1650e+00,  7.4500e-01,  6.4250e-01,  7.7000e-01,  1.0950e+00,\n",
       "        1.3125e+00,  1.2100e+00,  5.3250e-01,  3.3750e-01,  6.3500e-01,\n",
       "        6.4250e-01,  7.0000e-01,  6.0000e-01])"
      ]
     },
     "execution_count": 63,
     "metadata": {},
     "output_type": "execute_result"
    }
   ],
   "source": [
    "nfields"
   ]
  },
  {
   "cell_type": "markdown",
   "metadata": {},
   "source": [
    "# Make gradient plots"
   ]
  },
  {
   "cell_type": "code",
   "execution_count": 40,
   "metadata": {},
   "outputs": [],
   "source": [
    "from matplotlib.colors import BoundaryNorm\n",
    "from matplotlib.ticker import MaxNLocator"
   ]
  },
  {
   "cell_type": "code",
   "execution_count": 53,
   "metadata": {},
   "outputs": [],
   "source": [
    "value = nfields"
   ]
  },
  {
   "cell_type": "code",
   "execution_count": 54,
   "metadata": {},
   "outputs": [],
   "source": [
    "xs = np.sort(np.unique(init_sparsities))\n",
    "ys = np.sort(np.unique(sigmas))"
   ]
  },
  {
   "cell_type": "code",
   "execution_count": 55,
   "metadata": {},
   "outputs": [],
   "source": [
    "dx = xs[1:] - xs[:-1]\n",
    "dy = ys[1:] - ys[:-1]"
   ]
  },
  {
   "cell_type": "code",
   "execution_count": 56,
   "metadata": {},
   "outputs": [],
   "source": [
    "x, y = np.meshgrid(xs,ys)"
   ]
  },
  {
   "cell_type": "code",
   "execution_count": 57,
   "metadata": {},
   "outputs": [],
   "source": [
    "z = np.zeros(x.shape)\n",
    "for i in range(x.shape[0]):\n",
    "    for j in range(x.shape[1]):\n",
    "        idx = np.logical_and(\n",
    "            init_sparsities==x[i,j], sigmas==y[i,j]\n",
    "            )\n",
    "        z[i,j] = np.nanmean(value[idx])"
   ]
  },
  {
   "cell_type": "code",
   "execution_count": 58,
   "metadata": {},
   "outputs": [],
   "source": [
    "z[np.isnan(z)] = 0"
   ]
  },
  {
   "cell_type": "code",
   "execution_count": 59,
   "metadata": {},
   "outputs": [],
   "source": [
    "z = z[:-1, :-1]\n",
    "levels = MaxNLocator(nbins=20).tick_values(z.min(), z.max())"
   ]
  },
  {
   "cell_type": "code",
   "execution_count": 60,
   "metadata": {},
   "outputs": [
    {
     "data": {
      "text/plain": [
       "array([-0.2,  0. ,  0.2,  0.4,  0.6,  0.8,  1. ,  1.2,  1.4,  1.6,  1.8,\n",
       "        2. ,  2.2,  2.4,  2.6,  2.8,  3. ,  3.2,  3.4,  3.6])"
      ]
     },
     "execution_count": 60,
     "metadata": {},
     "output_type": "execute_result"
    }
   ],
   "source": [
    "levels"
   ]
  },
  {
   "cell_type": "code",
   "execution_count": 61,
   "metadata": {},
   "outputs": [
    {
     "data": {
      "image/png": "[encoded data removed]",
      "text/plain": [
       "<Figure size 432x288 with 4 Axes>"
      ]
     },
     "metadata": {},
     "output_type": "display_data"
    }
   ],
   "source": [
    "cmap = plt.get_cmap('coolwarm')\n",
    "from matplotlib import colors\n",
    "divnorm=colors.DivergingNorm(\n",
    "    vmin=levels[0],\n",
    "    vcenter=0.,\n",
    "    vmax=levels[-1]\n",
    "    )\n",
    "\n",
    "fig, (ax0, ax1) = plt.subplots(nrows=2)\n",
    "\n",
    "im = ax0.pcolormesh(x, y, z, cmap=cmap, norm=divnorm)\n",
    "fig.colorbar(im, ax=ax0)\n",
    "ax0.set_title('pcolormesh with levels')\n",
    "\n",
    "# contours are *point* based plots, so convert our bound into point\n",
    "# centers\n",
    "cf = ax1.contourf(x[:-1, :-1] + dx/2.,\n",
    "                  y[:-1, :-1] + dy/2., z, #levels=levels,\n",
    "                  cmap=cmap, norm=divnorm)\n",
    "fig.colorbar(cf, ax=ax1)\n",
    "ax1.set_title('contourf with levels')\n",
    "\n",
    "# adjust spacing between subplots so `ax1` title and `ax0` tick labels\n",
    "# don't overlap\n",
    "fig.tight_layout()\n",
    "\n",
    "plt.show()"
   ]
  },
  {
   "cell_type": "code",
   "execution_count": null,
   "metadata": {},
   "outputs": [],
   "source": []
  },
  {
   "cell_type": "code",
   "execution_count": null,
   "metadata": {},
   "outputs": [],
   "source": []
  },
  {
   "cell_type": "code",
   "execution_count": null,
   "metadata": {},
   "outputs": [],
   "source": []
  },
  {
   "cell_type": "code",
   "execution_count": null,
   "metadata": {},
   "outputs": [],
   "source": [
    "fig, ax = plt.subplots(figsize=(6.4*2.25, 4.8/1.25))\n",
    "sns.barplot(\n",
    "    x='Label', y='Field Area',\n",
    "    #hue='Spatial $\\sigma$ (cm)', palette='mako',\n",
    "    ax=ax, data=df\n",
    "    )\n",
    "plt.ylabel('Field Area', fontsize=xylabel_fontsize)\n",
    "plt.xlabel('Dataset', fontsize=xylabel_fontsize)\n",
    "plt.xticks(rotation=90, fontsize=dset_fontsize)\n",
    "\n",
    "# Henrikson & Mosers 2010\n",
    "mean_val = 0.0725; ci = 0.005\n",
    "plt.axhline(mean_val, linestyle='--', color='blue')\n",
    "ax.axhspan(mean_val-ci, mean_val+ci, facecolor='blue', alpha=0.2)\n",
    "\n",
    "# Payne 2021\n",
    "mean_val = 0.1186; ci = 0.0178\n",
    "plt.axhline(mean_val, linestyle='--', color='red')\n",
    "ax.axhspan(mean_val-ci, mean_val+ci, facecolor='red', alpha=0.2)\n",
    "\n",
    "#plt.tight_layout()\n",
    "plt.savefig('5a_aggregate_area.png', dpi=300)\n",
    "plt.show()"
   ]
  },
  {
   "cell_type": "code",
   "execution_count": null,
   "metadata": {},
   "outputs": [],
   "source": [
    "fig, ax = plt.subplots(figsize=(6.4*2.25, 4.8/1.25))\n",
    "sns.barplot(\n",
    "    x='Label', y='Number of Fields',\n",
    "    #hue='Spatial $\\sigma$ (cm)', palette='mako',\n",
    "    ax=ax, data=df\n",
    "    )\n",
    "plt.ylabel('Number of Fields', fontsize=xylabel_fontsize)\n",
    "plt.xlabel('Dataset', fontsize=xylabel_fontsize)\n",
    "plt.xticks(rotation=90, fontsize=dset_fontsize)\n",
    "\n",
    "# Henrikson & Mosers 2010\n",
    "mean_val = 1.6; ci = 0.167\n",
    "plt.axhline(mean_val, linestyle='--', color='blue')\n",
    "ax.axhspan(mean_val-ci, mean_val+ci, facecolor='blue', alpha=0.2)\n",
    "\n",
    "# Payne 2021\n",
    "mean_val = 1.3547; ci = 0.0934\n",
    "plt.axhline(mean_val, linestyle='--', color='red')\n",
    "ax.axhspan(mean_val-ci, mean_val+ci, facecolor='red', alpha=0.2)\n",
    "plt.ylim(0.7, 2.5)\n",
    "#plt.tight_layout()\n",
    "plt.savefig('5a_aggregate_nfields.png', dpi=300)\n",
    "plt.show()"
   ]
  },
  {
   "cell_type": "code",
   "execution_count": null,
   "metadata": {
    "scrolled": true
   },
   "outputs": [],
   "source": [
    "fig, ax = plt.subplots(figsize=(6.4*2.25, 4.8/1.25))\n",
    "sns.barplot(\n",
    "    x='Label', y='Proportion with One Field',\n",
    "    #hue='Spatial $\\sigma$ (cm)', palette='mako',\n",
    "    ax=ax, data=df\n",
    "    )\n",
    "plt.ylabel('One Field Only', fontsize=xylabel_fontsize)\n",
    "plt.xlabel('Dataset', fontsize=xylabel_fontsize)\n",
    "plt.xticks(fontsize=dset_fontsize, rotation=90)\n",
    "\n",
    "# Henrikson & Mosers 2010\n",
    "plt.axhline(0.57, linestyle='--', color='blue')\n",
    "plt.axhline(0.532, linestyle='--', color='blue')\n",
    "\n",
    "# Payne 2021\n",
    "plt.axhline(0.565, linestyle='--', color='red')\n",
    "\n",
    "#plt.tight_layout()\n",
    "plt.savefig('5a_aggregate_onefield.png', dpi=300)\n",
    "plt.show()"
   ]
  },
  {
   "cell_type": "code",
   "execution_count": null,
   "metadata": {},
   "outputs": [],
   "source": [
    "fig, ax = plt.subplots(figsize=(6.4*2.25, 4.8/1.25))\n",
    "sns.barplot(\n",
    "    x='Dataset', y='Spatial Information',\n",
    "    hue='Spatial Sigma', palette='mako',\n",
    "    ax=ax, data=df\n",
    "    )\n",
    "plt.ylabel('Spatial Information', fontsize=xylabel_fontsize)\n",
    "plt.xlabel('Dataset', fontsize=xylabel_fontsize)\n",
    "plt.xticks(rotation=45, fontsize=dset_fontsize)\n",
    "plt.tight_layout()\n",
    "plt.savefig('5a_aggregate_info.png', dpi=300)\n",
    "plt.show()"
   ]
  },
  {
   "cell_type": "code",
   "execution_count": null,
   "metadata": {},
   "outputs": [],
   "source": []
  }
 ],
 "metadata": {
  "kernelspec": {
   "display_name": "Python 3",
   "language": "python",
   "name": "python3"
  },
  "language_info": {
   "codemirror_mode": {
    "name": "ipython",
    "version": 3
   },
   "file_extension": ".py",
   "mimetype": "text/x-python",
   "name": "python",
   "nbconvert_exporter": "python",
   "pygments_lexer": "ipython3",
   "version": "3.7.6"
  }
 },
 "nbformat": 4,
 "nbformat_minor": 4
}
