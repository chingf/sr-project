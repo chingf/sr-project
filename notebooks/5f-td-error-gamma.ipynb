{
 "cells": [
  {
   "cell_type": "code",
   "execution_count": 1,
   "metadata": {},
   "outputs": [
    {
     "name": "stderr",
     "output_type": "stream",
     "text": [
      "/Users/chingfang/Code/sr-project/datasets/inputs.py:12: UserWarning: Emily's experimental data could not be loaded.\n",
      "  warnings.warn(\"Emily's experimental data could not be loaded.\")\n"
     ]
    }
   ],
   "source": [
    "import pickle\n",
    "import numpy as np\n",
    "import os\n",
    "import torch\n",
    "import torch.nn as nn\n",
    "import re\n",
    "import sys\n",
    "from tensorboard.backend.event_processing.event_accumulator import EventAccumulator\n",
    "import matplotlib.pyplot as plt\n",
    "\n",
    "root = os.path.dirname(os.path.abspath(os.curdir))\n",
    "sys.path.append(root)\n",
    "\n",
    "from sr_model.models.models import AnalyticSR, STDP_SR\n",
    "from datasets import inputs\n",
    "import seaborn as sns\n",
    "import pandas as pd\n",
    "import configs\n",
    "\n",
    "device = 'cpu'"
   ]
  },
  {
   "cell_type": "code",
   "execution_count": 2,
   "metadata": {},
   "outputs": [],
   "source": [
    "def format_model_name(key):\n",
    "    if key == 'RNN-S' or key == 'FF-TD':\n",
    "        return key\n",
    "    else:\n",
    "        return 'Invalid'"
   ]
  },
  {
   "cell_type": "code",
   "execution_count": 3,
   "metadata": {},
   "outputs": [],
   "source": [
    "def get_sparsity(key):\n",
    "    p = re.compile('.*sparsity(.+?)\\/.*')\n",
    "    if 'sparsity' in key:\n",
    "        m = p.match(key)\n",
    "        return m.group(1)\n",
    "    else:\n",
    "        return '0'\n",
    "\n",
    "def get_sigma(key):\n",
    "    p = re.compile('.*sigma(.+?)\\/.*')\n",
    "    if 'sigma' in key:\n",
    "        m = p.match(key)\n",
    "        return m.group(1)\n",
    "    else:\n",
    "        return '0'"
   ]
  },
  {
   "cell_type": "code",
   "execution_count": 4,
   "metadata": {},
   "outputs": [],
   "source": [
    "hue_order = ['RNN-S', 'FF-TD']"
   ]
  },
  {
   "cell_type": "markdown",
   "metadata": {},
   "source": [
    "# Load TD results"
   ]
  },
  {
   "cell_type": "code",
   "execution_count": 5,
   "metadata": {},
   "outputs": [],
   "source": [
    "with open(f\"{configs.engram_dir}03_hannah_dset/td_results.p\", 'rb') as f:\n",
    "    td_results = pickle.load(f)"
   ]
  },
  {
   "cell_type": "code",
   "execution_count": 6,
   "metadata": {
    "code_folding": [
     0
    ]
   },
   "outputs": [],
   "source": [
    "td_results['init_sparsities'] = np.array(td_results['init_sparsities']).astype(float)\n",
    "td_results['final_sparsities'] = np.array(td_results['final_sparsities']).astype(float)\n",
    "td_results['final_sparsities'] = np.around(td_results['final_sparsities'], decimals=2)\n",
    "td_results['sigmas'] = np.array(td_results['sigmas']).astype(float)\n",
    "td_results['gammas'] = np.array(td_results['gammas']).astype(float)\n",
    "td_results['models'] = np.array([format_model_name(m) for m in td_results['models']])\n",
    "td_results['losses'] = np.array(td_results['final_losses']).astype(float)"
   ]
  },
  {
   "cell_type": "code",
   "execution_count": 7,
   "metadata": {},
   "outputs": [],
   "source": [
    "td_df = pd.DataFrame({\n",
    "    'Sparsity': td_results['final_sparsities'],\n",
    "    'Sigma': td_results['sigmas'],\n",
    "    'Gamma': td_results['gammas'],\n",
    "    'Model': td_results['models'],\n",
    "    'TD Loss': td_results['losses']\n",
    "    })\n",
    "td_df = td_df[td_df['Sparsity'] <= 0.2]"
   ]
  },
  {
   "cell_type": "markdown",
   "metadata": {},
   "source": [
    "## Loss as a function of gamma"
   ]
  },
  {
   "cell_type": "code",
   "execution_count": 12,
   "metadata": {},
   "outputs": [
    {
     "data": {
      "image/png": "[encoded data removed]",
      "text/plain": [
       "<Figure size 162x144 with 1 Axes>"
      ]
     },
     "metadata": {},
     "output_type": "display_data"
    }
   ],
   "source": [
    "fig, ax = plt.subplots(figsize=(2.25,2))\n",
    "g = sns.lineplot(\n",
    "    x='Gamma', y='TD Loss',\n",
    "    hue='Model', ax=ax,\n",
    "    data=td_df[~((td_df['Model']=='RNN-S') & (td_df['Gamma']==0.5))],\n",
    "    hue_order=['RNN-S', 'FF-TD'], palette=['C0', 'C2']\n",
    "    )\n",
    "g.legend_.set_title(None)\n",
    "ax.set_ylabel('TD Loss')\n",
    "ax.set_xlabel('$\\gamma_R$')\n",
    "plt.tight_layout()\n",
    "plt.savefig('../figures/5f.png', dpi=300, transparent=True)"
   ]
  },
  {
   "cell_type": "code",
   "execution_count": null,
   "metadata": {},
   "outputs": [],
   "source": []
  }
 ],
 "metadata": {
  "kernelspec": {
   "display_name": "Python 3 (ipykernel)",
   "language": "python",
   "name": "python3"
  },
  "language_info": {
   "codemirror_mode": {
    "name": "ipython",
    "version": 3
   },
   "file_extension": ".py",
   "mimetype": "text/x-python",
   "name": "python",
   "nbconvert_exporter": "python",
   "pygments_lexer": "ipython3",
   "version": "3.9.7"
  }
 },
 "nbformat": 4,
 "nbformat_minor": 4
}
