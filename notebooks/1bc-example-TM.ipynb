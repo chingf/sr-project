{
 "cells": [
  {
   "cell_type": "code",
   "execution_count": 1,
   "id": "79657085",
   "metadata": {},
   "outputs": [],
   "source": [
    "import numpy as np\n",
    "import matplotlib.pyplot as plt\n",
    "import configs"
   ]
  },
  {
   "cell_type": "code",
   "execution_count": 2,
   "id": "bb46d7f4",
   "metadata": {},
   "outputs": [],
   "source": [
    "ps = np.array([0., 1, 4]) # [Left, stay, right]\n",
    "ps = ps/np.sum(ps)"
   ]
  },
  {
   "cell_type": "code",
   "execution_count": 3,
   "id": "f450b96e",
   "metadata": {},
   "outputs": [],
   "source": [
    "T = np.zeros((6,6))\n",
    "for i in range(T.shape[0]):\n",
    "    T[i, (i-1)%T.shape[0]] = ps[0]\n",
    "    T[i, i] = ps[1]\n",
    "    T[i, (i+1)%T.shape[0]] = ps[2]"
   ]
  },
  {
   "cell_type": "code",
   "execution_count": 54,
   "id": "f8f845f7",
   "metadata": {},
   "outputs": [
    {
     "data": {
      "image/png": "[encoded data removed]",
      "text/plain": [
       "<Figure size 144x108 with 2 Axes>"
      ]
     },
     "metadata": {},
     "output_type": "display_data"
    }
   ],
   "source": [
    "plt.figure(figsize=(2., 1.5))\n",
    "plt.imshow(T)\n",
    "plt.xticks([]); plt.yticks([])\n",
    "plt.colorbar()\n",
    "plt.tight_layout()\n",
    "plt.savefig('../figures/1b.png', dpi=300, bbox_inches='tight', transparent=True)\n",
    "plt.show()"
   ]
  },
  {
   "cell_type": "code",
   "execution_count": 55,
   "id": "4658e2fc",
   "metadata": {},
   "outputs": [
    {
     "data": {
      "image/png": "[encoded data removed]",
      "text/plain": [
       "<Figure size 144x108 with 2 Axes>"
      ]
     },
     "metadata": {},
     "output_type": "display_data"
    }
   ],
   "source": [
    "plt.figure(figsize=(2., 1.5))\n",
    "gamma = 0.6\n",
    "M = np.linalg.pinv(np.eye(T.shape[0]) - gamma*T)\n",
    "plt.imshow(M)\n",
    "plt.xticks([]); plt.yticks([])\n",
    "plt.colorbar()\n",
    "plt.tight_layout()\n",
    "plt.savefig('../figures/1c.png', dpi=300, bbox_inches='tight', transparent=True)\n",
    "plt.show()"
   ]
  },
  {
   "cell_type": "code",
   "execution_count": null,
   "id": "4d73a32d",
   "metadata": {},
   "outputs": [],
   "source": []
  }
 ],
 "metadata": {
  "kernelspec": {
   "display_name": "Python 3 (ipykernel)",
   "language": "python",
   "name": "python3"
  },
  "language_info": {
   "codemirror_mode": {
    "name": "ipython",
    "version": 3
   },
   "file_extension": ".py",
   "mimetype": "text/x-python",
   "name": "python",
   "nbconvert_exporter": "python",
   "pygments_lexer": "ipython3",
   "version": "3.9.7"
  }
 },
 "nbformat": 4,
 "nbformat_minor": 5
}
