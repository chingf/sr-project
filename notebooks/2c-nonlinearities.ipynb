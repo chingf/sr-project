{
 "cells": [
  {
   "cell_type": "code",
   "execution_count": 1,
   "metadata": {},
   "outputs": [
    {
     "name": "stderr",
     "output_type": "stream",
     "text": [
      "/home/chingf/Code/sr-project/datasets/inputs.py:12: UserWarning: Emily's experimental data could not be loaded.\n",
      "  warnings.warn(\"Emily's experimental data could not be loaded.\")\n"
     ]
    }
   ],
   "source": [
    "import pickle\n",
    "import numpy as np\n",
    "import os\n",
    "import torch\n",
    "import torch.nn as nn\n",
    "import re\n",
    "import sys\n",
    "from tensorboard.backend.event_processing.event_accumulator import EventAccumulator\n",
    "import matplotlib.pyplot as plt\n",
    "\n",
    "root = os.path.dirname(os.path.abspath(os.curdir))\n",
    "sys.path.append(root)\n",
    "\n",
    "from sr_model.models.models import AnalyticSR, STDP_SR\n",
    "from datasets import inputs\n",
    "\n",
    "device = 'cpu'"
   ]
  },
  {
   "cell_type": "markdown",
   "metadata": {},
   "source": [
    "## Plot train loss for different gammas"
   ]
  },
  {
   "cell_type": "code",
   "execution_count": 2,
   "metadata": {
    "scrolled": true
   },
   "outputs": [],
   "source": [
    "experiment_dir = \"../trained_models/02_nonlinearities/0.4/\"\n",
    "iterations = []\n",
    "losses = []\n",
    "exps = []\n",
    "\n",
    "for nonlinearity in os.listdir(experiment_dir):\n",
    "    nonlin_exp_dir = experiment_dir + f'{nonlinearity}/'\n",
    "    for ic_iter in os.listdir(nonlin_exp_dir):\n",
    "        if 'configs' in ic_iter: continue\n",
    "        for file in os.listdir(nonlin_exp_dir + ic_iter):\n",
    "            if 'tfevents' not in file: continue\n",
    "            tfevents_file = nonlin_exp_dir + ic_iter + '/' + file\n",
    "            event_acc = EventAccumulator(tfevents_file)\n",
    "            event_acc.Reload()\n",
    "            scalar_events = event_acc.Scalars('loss_train')\n",
    "            for i in range(len(scalar_events)):\n",
    "                iterations.append(scalar_events[i].step)\n",
    "                losses.append(scalar_events[i].value)\n",
    "                exps.append(nonlinearity)\n",
    "iterations = np.array(iterations)\n",
    "losses = np.array(losses)\n",
    "exps = np.array(exps)"
   ]
  },
  {
   "cell_type": "code",
   "execution_count": 4,
   "metadata": {},
   "outputs": [
    {
     "data": {
      "image/png": "[encoded data removed]",
      "text/plain": [
       "<Figure size 432x288 with 1 Axes>"
      ]
     },
     "metadata": {
      "needs_background": "light"
     },
     "output_type": "display_data"
    }
   ],
   "source": [
    "import seaborn as sns\n",
    "import pandas as pd\n",
    "\n",
    "df = pd.DataFrame({'Iterations': iterations, 'Loss': losses, 'Nonlinearity': exps})\n",
    "sns.lineplot(\n",
    "    x='Iterations', y='Loss', hue='Nonlinearity', legend='full',\n",
    "    data=df\n",
    "    )\n",
    "plt.xlabel('Iterations', fontsize=14)\n",
    "plt.ylabel('Train Loss', fontsize=14)\n",
    "plt.title('CMA-ES Progress\\nT=30', fontsize=16)\n",
    "plt.legend()\n",
    "plt.tight_layout()\n",
    "plt.show()"
   ]
  },
  {
   "cell_type": "markdown",
   "metadata": {},
   "source": [
    "# Plot final loss as a function of nonlinearity and gammas"
   ]
  },
  {
   "cell_type": "code",
   "execution_count": 26,
   "metadata": {},
   "outputs": [],
   "source": [
    "root_dir = \"../trained_models/02_nonlinearities/\"\n",
    "gamma_dirs = ['0.4', '0.9', '0.95']\n",
    "final_losses = []\n",
    "gammas = []\n",
    "nonlinearities = []\n",
    "\n",
    "for gamma_dir in gamma_dirs:\n",
    "    experiment_dir = root_dir + gamma_dir + '/'\n",
    "    for nonlinearity in os.listdir(experiment_dir):\n",
    "        nonlin_exp_dir = experiment_dir + f'{nonlinearity}/'\n",
    "        for ic_iter in os.listdir(nonlin_exp_dir):\n",
    "            if 'configs' in ic_iter: continue\n",
    "            for file in os.listdir(nonlin_exp_dir + ic_iter):\n",
    "                if 'tfevents' not in file: continue\n",
    "                tfevents_file = nonlin_exp_dir + ic_iter + '/' + file\n",
    "                event_acc = EventAccumulator(tfevents_file)\n",
    "                event_acc.Reload()\n",
    "                try:\n",
    "                    scalar_events = event_acc.Scalars('return_error')\n",
    "                except:\n",
    "                    continue\n",
    "                final_losses.append(scalar_events[-1].value)\n",
    "                gammas.append(gamma_dir)\n",
    "                nonlinearities.append(nonlinearity)\n",
    "final_losses = np.array(final_losses)\n",
    "gammas = np.array(gammas)\n",
    "nonlinearities = np.array(nonlinearities)"
   ]
  },
  {
   "cell_type": "code",
   "execution_count": 27,
   "metadata": {},
   "outputs": [
    {
     "data": {
      "text/plain": [
       "array([0.01439194, 0.00781587, 0.00596851, 0.01379443, 0.04205583])"
      ]
     },
     "execution_count": 27,
     "metadata": {},
     "output_type": "execute_result"
    }
   ],
   "source": [
    "final_losses[np.logical_and(gammas=='0.9', nonlinearities=='clamp')]"
   ]
  },
  {
   "cell_type": "code",
   "execution_count": null,
   "metadata": {},
   "outputs": [],
   "source": []
  }
 ],
 "metadata": {
  "kernelspec": {
   "display_name": "Python 3",
   "language": "python",
   "name": "python3"
  },
  "language_info": {
   "codemirror_mode": {
    "name": "ipython",
    "version": 3
   },
   "file_extension": ".py",
   "mimetype": "text/x-python",
   "name": "python",
   "nbconvert_exporter": "python",
   "pygments_lexer": "ipython3",
   "version": "3.7.6"
  }
 },
 "nbformat": 4,
 "nbformat_minor": 4
}
