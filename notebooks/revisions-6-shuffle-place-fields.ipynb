{
 "cells": [
  {
   "cell_type": "code",
   "execution_count": 1,
   "metadata": {},
   "outputs": [
    {
     "name": "stderr",
     "output_type": "stream",
     "text": [
      "/Users/chingfang/Code/sr-project/datasets/inputs.py:12: UserWarning: Emily's experimental data could not be loaded.\n",
      "  warnings.warn(\"Emily's experimental data could not be loaded.\")\n",
      "/Users/chingfang/Code/sr-project/datasets/sf_inputs_discrete.py:19: UserWarning: Emily's experimental data could not be loaded.\n",
      "  warnings.warn(\"Emily's experimental data could not be loaded.\")\n"
     ]
    }
   ],
   "source": [
    "import pickle\n",
    "import numpy as np\n",
    "import os\n",
    "import torch\n",
    "import torch.nn as nn\n",
    "import re\n",
    "import sys\n",
    "from tensorboard.backend.event_processing.event_accumulator import EventAccumulator\n",
    "import matplotlib.pyplot as plt\n",
    "from matplotlib import gridspec\n",
    "\n",
    "root = os.path.dirname(os.path.abspath(os.curdir))\n",
    "sys.path.append(root)\n",
    "\n",
    "from sr_model.models.models import AnalyticSR, STDP_SR, Linear\n",
    "from datasets import inputs, sf_inputs_discrete\n",
    "from utils import get_firing_field, get_field_metrics\n",
    "import configs\n",
    "\n",
    "device = 'cpu'"
   ]
  },
  {
   "cell_type": "markdown",
   "metadata": {},
   "source": [
    "# Collect experiments in region of interest"
   ]
  },
  {
   "cell_type": "code",
   "execution_count": 2,
   "metadata": {},
   "outputs": [],
   "source": [
    "# Eyeball a good region\n",
    "desired_sigmas = ['sigma1.0']\n",
    "desired_sparsity_range = [0.05, 0.1]\n",
    "gamma = 0.8\n",
    "model = 'identity'"
   ]
  },
  {
   "cell_type": "code",
   "execution_count": 7,
   "metadata": {},
   "outputs": [],
   "source": [
    "results_dirs = []\n",
    "data_dir = f'{configs.engram_dir}03_hannah_dset_revisions/'\n",
    "for sparsity in os.listdir(data_dir):\n",
    "    if not os.path.isdir(f'{data_dir}{sparsity}'): continue\n",
    "    sigma_dirs = os.listdir(f'{data_dir}{sparsity}')\n",
    "    for desired_sigma in desired_sigmas:\n",
    "        if desired_sigma in sigma_dirs:\n",
    "            results_dir = f'{data_dir}{sparsity}/{desired_sigma}/{gamma}/{model}/0/'\n",
    "            results_path = results_dir + 'results.p'\n",
    "            try:\n",
    "                with open(results_path, 'rb') as f:\n",
    "                    results = pickle.load(f)\n",
    "            except:\n",
    "                continue\n",
    "            dset = results['dset']\n",
    "            final_sparsity = dset.feature_maker.post_smooth_sparsity\n",
    "            if final_sparsity >= desired_sparsity_range[0]:\n",
    "                if final_sparsity <= desired_sparsity_range[1]:\n",
    "                    results_dirs.append(results_dir)"
   ]
  },
  {
   "cell_type": "markdown",
   "metadata": {},
   "source": [
    "# Plotting function"
   ]
  },
  {
   "cell_type": "code",
   "execution_count": 9,
   "metadata": {
    "code_folding": [],
    "scrolled": false
   },
   "outputs": [],
   "source": [
    "def plot_fields(results_dir):\n",
    "    results_path = results_dir + 'results.p'\n",
    "    fieldinfos_path = results_dir + 'field_infos.p'\n",
    "    with open(results_path, 'rb') as f:\n",
    "        results = pickle.load(f)\n",
    "    if os.path.isfile(fieldinfos_path):\n",
    "        with open(fieldinfos_path, 'rb') as f:\n",
    "            fieldinfos = pickle.load(f)\n",
    "    if 'hopfield' in results_path:\n",
    "        outputs = results['outputs'].detach().numpy().squeeze()\n",
    "    else:\n",
    "        outputs = results['outputs']\n",
    "    dset = results['dset']\n",
    "\n",
    "    print('Sigma:')\n",
    "    print(dset.feature_maker.spatial_sigma)\n",
    "    print('Sparsity:')\n",
    "    print(dset.feature_maker.post_smooth_sparsity)\n",
    "\n",
    "    walk_xs = dset.xs\n",
    "    walk_ys = dset.ys\n",
    "    arena_length = int(np.sqrt(outputs.shape[1]))\n",
    "\n",
    "    grid_x = 2; grid_y = 5;\n",
    "\n",
    "    plt.figure(figsize = (3., 1.5))\n",
    "    gs1 = gridspec.GridSpec(grid_x, grid_y)\n",
    "    gs1.update(wspace=0.03, hspace=0.03) # set the spacing between axes. \n",
    "\n",
    "    neurs = np.arange(outputs.shape[1])\n",
    "    np.random.shuffle(neurs)\n",
    "\n",
    "    idx = 0\n",
    "    for neur in neurs:\n",
    "        ff, mask = get_firing_field(\n",
    "            walk_xs, walk_ys, outputs[:,neur],\n",
    "            arena_length, normalize=True\n",
    "            )\n",
    "        ax = plt.subplot(gs1[idx])\n",
    "        plt.axis('on')\n",
    "        if np.sum(fieldinfos[neur][1]) == 0: continue # Skip non-place cells\n",
    "#         ff -= ff.min()\n",
    "        \n",
    "        ff -= np.percentile(ff, 5)\n",
    "        ff[ff<0] = 0\n",
    "        \n",
    "        ff = ff/ff.max()\n",
    "        ax.imshow(ff, vmin=0., vmax=1, cmap='viridis')\n",
    "        ax.set_xticks([])\n",
    "        ax.set_yticks([])\n",
    "\n",
    "        idx += 1\n",
    "        if idx == grid_x*grid_y: break\n",
    "    plt.suptitle('Simulated Place Fields')\n",
    "    plt.tight_layout()\n",
    "    plt.savefig('../figures/S6_identity_d.png', dpi=300, transparent=True)\n",
    "    plt.show()"
   ]
  },
  {
   "cell_type": "markdown",
   "metadata": {},
   "source": [
    "# Plot all relevant experiments"
   ]
  },
  {
   "cell_type": "code",
   "execution_count": 10,
   "metadata": {},
   "outputs": [],
   "source": [
    "for x in results_dirs:\n",
    "    print(x)\n",
    "    plot_fields(x)"
   ]
  },
  {
   "cell_type": "markdown",
   "metadata": {},
   "source": [
    "# Choose one experiment to show"
   ]
  },
  {
   "cell_type": "code",
   "execution_count": 6,
   "metadata": {},
   "outputs": [],
   "source": [
    "from scipy import ndimage\n",
    "import matplotlib.gridspec as gridspec"
   ]
  },
  {
   "cell_type": "code",
   "execution_count": 22,
   "metadata": {},
   "outputs": [
    {
     "name": "stdout",
     "output_type": "stream",
     "text": [
      "Sigma:\n",
      "1.0\n",
      "Sparsity:\n",
      "0.05978905008613128\n"
     ]
    },
    {
     "name": "stderr",
     "output_type": "stream",
     "text": [
      "/var/folders/jf/2_wn4hjd11q9klftv_v_hld80000gn/T/ipykernel_8879/22378436.py:55: UserWarning: This figure includes Axes that are not compatible with tight_layout, so results might be incorrect.\n",
      "  plt.tight_layout()\n"
     ]
    },
    {
     "data": {
      "image/png": "[encoded data removed]",
      "text/plain": [
       "<Figure size 216x108 with 10 Axes>"
      ]
     },
     "metadata": {},
     "output_type": "display_data"
    }
   ],
   "source": [
    "# Again, just eyeball a good one\n",
    "plot_fields('/Volumes/aronov-locker/Ching/03_hannah_dset/sparsity0.01663157894736842/sigma1.0/0.8/linear/0/')"
   ]
  },
  {
   "cell_type": "code",
   "execution_count": null,
   "metadata": {},
   "outputs": [],
   "source": []
  }
 ],
 "metadata": {
  "kernelspec": {
   "display_name": "Python 3 (ipykernel)",
   "language": "python",
   "name": "python3"
  },
  "language_info": {
   "codemirror_mode": {
    "name": "ipython",
    "version": 3
   },
   "file_extension": ".py",
   "mimetype": "text/x-python",
   "name": "python",
   "nbconvert_exporter": "python",
   "pygments_lexer": "ipython3",
   "version": "3.9.7"
  }
 },
 "nbformat": 4,
 "nbformat_minor": 4
}
