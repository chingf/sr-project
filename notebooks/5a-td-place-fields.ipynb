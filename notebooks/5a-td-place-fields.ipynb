{
 "cells": [
  {
   "cell_type": "code",
   "execution_count": 1,
   "metadata": {},
   "outputs": [
    {
     "name": "stderr",
     "output_type": "stream",
     "text": [
      "/home/chingf/Code/sr-project/datasets/inputs.py:12: UserWarning: Emily's experimental data could not be loaded.\n",
      "  warnings.warn(\"Emily's experimental data could not be loaded.\")\n",
      "/home/chingf/Code/sr-project/datasets/sf_inputs_discrete.py:14: UserWarning: Emily's experimental data could not be loaded.\n",
      "  warnings.warn(\"Emily's experimental data could not be loaded.\")\n"
     ]
    }
   ],
   "source": [
    "import pickle\n",
    "import numpy as np\n",
    "import os\n",
    "import torch\n",
    "import torch.nn as nn\n",
    "import re\n",
    "import sys\n",
    "from tensorboard.backend.event_processing.event_accumulator import EventAccumulator\n",
    "import matplotlib.pyplot as plt\n",
    "\n",
    "root = os.path.dirname(os.path.abspath(os.curdir))\n",
    "sys.path.append(root)\n",
    "\n",
    "from sr_model.models.models import AnalyticSR, STDP_SR, Linear, MLP\n",
    "from datasets import inputs, sf_inputs_discrete\n",
    "from run_td_rnn import run as run_rnn\n",
    "from run_td_mlp import run as run_mlp\n",
    "from run_td_linear import run as run_linear\n",
    "\n",
    "device = 'cpu'"
   ]
  },
  {
   "cell_type": "markdown",
   "metadata": {},
   "source": [
    "## Specify dataset"
   ]
  },
  {
   "cell_type": "code",
   "execution_count": 43,
   "metadata": {},
   "outputs": [],
   "source": [
    "# N-hot inputs\n",
    "feature_maker_kwargs = {\n",
    "    'feature_dim': 128, 'feature_type': 'nhot'\n",
    "    }\n",
    "\n",
    "# Uncorrelated inputs\n",
    "feature_maker_kwargs = {\n",
    "    'feature_dim': 100,\n",
    "    'feature_vals': [0, 1],\n",
    "    'feature_vals_p': [0.97, 0.03]\n",
    "    }\n",
    "\n",
    "# Correlated inputs\n",
    "feature_maker_kwargs = {\n",
    "    'feature_dim': 10, 'feature_vals': None,\n",
    "    #'feature_vals_p': [0.95, 0.05],\n",
    "    'feature_type': 'correlated_distributed',\n",
    "    'spatial_sigma': 1.25\n",
    "    }\n",
    "\n",
    "dataset_config = {\n",
    "    'num_steps': 2000, 'num_states': 10*10,\n",
    "    'feature_maker_kwargs': feature_maker_kwargs\n",
    "    }\n",
    "dataset = sf_inputs_discrete.Sim2DWalk\n",
    "input_size = feature_maker_kwargs['feature_dim']\n",
    "seed = 3"
   ]
  },
  {
   "cell_type": "code",
   "execution_count": 44,
   "metadata": {},
   "outputs": [
    {
     "data": {
      "image/png": "[encoded data removed]",
      "text/plain": [
       "<Figure size 432x288 with 1 Axes>"
      ]
     },
     "metadata": {
      "needs_background": "light"
     },
     "output_type": "display_data"
    },
    {
     "data": {
      "image/png": "[encoded data removed]",
      "text/plain": [
       "<Figure size 432x288 with 1 Axes>"
      ]
     },
     "metadata": {
      "needs_background": "light"
     },
     "output_type": "display_data"
    },
    {
     "name": "stdout",
     "output_type": "stream",
     "text": [
      "19.0\n"
     ]
    },
    {
     "data": {
      "text/plain": [
       "0.0"
      ]
     },
     "execution_count": 44,
     "metadata": {},
     "output_type": "execute_result"
    }
   ],
   "source": [
    "np.random.seed(seed)\n",
    "input = dataset(**dataset_config)\n",
    "plt.figure();\n",
    "plt.plot(input.xs, input.ys)\n",
    "plt.show()\n",
    "\n",
    "plt.figure();\n",
    "states = np.argwhere(input.state_inputs)[:,0]\n",
    "counts = np.zeros(dataset_config['num_states'])\n",
    "for state in np.arange(dataset_config['num_states']):\n",
    "    counts[state] = np.sum(states==state)\n",
    "plt.bar(np.arange(dataset_config['num_states']), counts)\n",
    "plt.show()\n",
    "print(np.median(counts))\n",
    "np.sum(counts == 0)/dataset_config['num_states']"
   ]
  },
  {
   "cell_type": "code",
   "execution_count": 45,
   "metadata": {},
   "outputs": [
    {
     "data": {
      "image/png": "[encoded data removed]",
      "text/plain": [
       "<Figure size 432x288 with 1 Axes>"
      ]
     },
     "metadata": {
      "needs_background": "light"
     },
     "output_type": "display_data"
    }
   ],
   "source": [
    "plt.figure()\n",
    "plt.imshow(input.feature_maker.feature_map)\n",
    "plt.show()"
   ]
  },
  {
   "cell_type": "code",
   "execution_count": 46,
   "metadata": {},
   "outputs": [],
   "source": [
    "gamma=0.4"
   ]
  },
  {
   "cell_type": "code",
   "execution_count": 47,
   "metadata": {},
   "outputs": [],
   "source": [
    "arena_length = int(np.sqrt(input.num_states)) - 1\n",
    "walk_xs = input.xs.astype(int)\n",
    "walk_ys = input.ys.astype(int)"
   ]
  },
  {
   "cell_type": "markdown",
   "metadata": {},
   "source": [
    "# Plot RNN outputs"
   ]
  },
  {
   "cell_type": "code",
   "execution_count": 49,
   "metadata": {
    "scrolled": true
   },
   "outputs": [
    {
     "name": "stdout",
     "output_type": "stream",
     "text": [
      "\n",
      "[   51] loss: 0.041\n",
      "Time per step 0.001s, net 0.042s\n",
      "\n",
      "[  101] loss: 0.041\n",
      "Time per step 0.001s, net 0.117s\n",
      "\n",
      "[  151] loss: 0.040\n",
      "Time per step 0.002s, net 0.223s\n",
      "\n",
      "[  201] loss: 0.037\n",
      "Time per step 0.003s, net 0.374s\n",
      "\n",
      "[  251] loss: 0.033\n",
      "Time per step 0.004s, net 0.554s\n",
      "\n",
      "[  301] loss: 0.031\n",
      "Time per step 0.004s, net 0.761s\n",
      "\n",
      "[  351] loss: 0.028\n",
      "Time per step 0.005s, net 1.002s\n",
      "\n",
      "[  401] loss: 0.026\n",
      "Time per step 0.006s, net 1.292s\n",
      "\n",
      "[  451] loss: 0.024\n",
      "Time per step 0.006s, net 1.603s\n",
      "\n",
      "[  501] loss: 0.023\n",
      "Time per step 0.007s, net 1.970s\n",
      "\n",
      "[  551] loss: 0.021\n",
      "Time per step 0.010s, net 2.471s\n",
      "\n",
      "[  601] loss: 0.020\n",
      "Time per step 0.009s, net 2.928s\n",
      "\n",
      "[  651] loss: 0.020\n",
      "Time per step 0.011s, net 3.457s\n",
      "\n",
      "[  701] loss: 0.019\n",
      "Time per step 0.011s, net 4.032s\n",
      "\n",
      "[  751] loss: 0.019\n",
      "Time per step 0.013s, net 4.692s\n",
      "\n",
      "[  801] loss: 0.018\n",
      "Time per step 0.013s, net 5.362s\n",
      "\n",
      "[  851] loss: 0.018\n",
      "Time per step 0.012s, net 5.965s\n",
      "\n",
      "[  901] loss: 0.017\n",
      "Time per step 0.014s, net 6.682s\n",
      "\n",
      "[  951] loss: 0.017\n",
      "Time per step 0.014s, net 7.367s\n",
      "\n",
      "[ 1001] loss: 0.017\n",
      "Time per step 0.016s, net 8.156s\n",
      "\n",
      "[ 1051] loss: 0.016\n",
      "Time per step 0.016s, net 8.974s\n",
      "\n",
      "[ 1101] loss: 0.016\n",
      "Time per step 0.018s, net 9.858s\n",
      "\n",
      "[ 1151] loss: 0.016\n",
      "Time per step 0.017s, net 10.705s\n",
      "\n",
      "[ 1201] loss: 0.016\n",
      "Time per step 0.020s, net 11.729s\n",
      "\n",
      "[ 1251] loss: 0.015\n",
      "Time per step 0.020s, net 12.708s\n",
      "\n",
      "[ 1301] loss: 0.015\n",
      "Time per step 0.021s, net 13.762s\n",
      "\n",
      "[ 1351] loss: 0.015\n",
      "Time per step 0.022s, net 14.843s\n",
      "\n",
      "[ 1401] loss: 0.015\n",
      "Time per step 0.022s, net 15.952s\n",
      "\n",
      "[ 1451] loss: 0.015\n",
      "Time per step 0.024s, net 17.142s\n",
      "\n",
      "[ 1501] loss: 0.015\n",
      "Time per step 0.026s, net 18.444s\n",
      "\n",
      "[ 1551] loss: 0.015\n",
      "Time per step 0.025s, net 19.695s\n",
      "\n",
      "[ 1601] loss: 0.015\n",
      "Time per step 0.024s, net 20.913s\n",
      "\n",
      "[ 1651] loss: 0.014\n",
      "Time per step 0.028s, net 22.321s\n",
      "\n",
      "[ 1701] loss: 0.014\n",
      "Time per step 0.026s, net 23.601s\n"
     ]
    },
    {
     "ename": "KeyboardInterrupt",
     "evalue": "",
     "output_type": "error",
     "traceback": [
      "\u001b[0;31m---------------------------------------------------------------------------\u001b[0m",
      "\u001b[0;31mKeyboardInterrupt\u001b[0m                         Traceback (most recent call last)",
      "\u001b[0;32m<ipython-input-49-9f72e02d7a07>\u001b[0m in \u001b[0;36m<module>\u001b[0;34m\u001b[0m\n\u001b[1;32m      9\u001b[0m outputs, loss = run_rnn(\n\u001b[1;32m     10\u001b[0m     \u001b[0;34m'../trained_models/test/'\u001b[0m\u001b[0;34m,\u001b[0m \u001b[0mrnn\u001b[0m\u001b[0;34m,\u001b[0m \u001b[0mdataset\u001b[0m\u001b[0;34m,\u001b[0m\u001b[0;34m\u001b[0m\u001b[0;34m\u001b[0m\u001b[0m\n\u001b[0;32m---> 11\u001b[0;31m     \u001b[0mdataset_config\u001b[0m\u001b[0;34m,\u001b[0m \u001b[0mgamma\u001b[0m\u001b[0;34m=\u001b[0m\u001b[0mgamma\u001b[0m\u001b[0;34m\u001b[0m\u001b[0;34m\u001b[0m\u001b[0m\n\u001b[0m\u001b[1;32m     12\u001b[0m     )\n",
      "\u001b[0;32m~/Code/sr-project/run_td_rnn.py\u001b[0m in \u001b[0;36mrun\u001b[0;34m(save_path, net, dataset, dataset_config, print_file, print_every_steps, buffer_batch_size, buffer_size, gamma)\u001b[0m\n\u001b[1;32m     71\u001b[0m             \u001b[0mM\u001b[0m \u001b[0;34m=\u001b[0m \u001b[0mnet\u001b[0m\u001b[0;34m.\u001b[0m\u001b[0mget_M\u001b[0m\u001b[0;34m(\u001b[0m\u001b[0mgamma\u001b[0m\u001b[0;34m)\u001b[0m\u001b[0;34m\u001b[0m\u001b[0;34m\u001b[0m\u001b[0m\n\u001b[1;32m     72\u001b[0m             \u001b[0mtest_psi_s\u001b[0m \u001b[0;34m=\u001b[0m \u001b[0mtorch\u001b[0m\u001b[0;34m.\u001b[0m\u001b[0mstack\u001b[0m\u001b[0;34m(\u001b[0m\u001b[0;34m[\u001b[0m\u001b[0ms\u001b[0m\u001b[0;34m.\u001b[0m\u001b[0msqueeze\u001b[0m\u001b[0;34m(\u001b[0m\u001b[0;34m)\u001b[0m \u001b[0;34m@\u001b[0m \u001b[0mM\u001b[0m \u001b[0;32mfor\u001b[0m \u001b[0ms\u001b[0m \u001b[0;32min\u001b[0m \u001b[0mall_s\u001b[0m\u001b[0;34m]\u001b[0m\u001b[0;34m)\u001b[0m\u001b[0;34m\u001b[0m\u001b[0;34m\u001b[0m\u001b[0m\n\u001b[0;32m---> 73\u001b[0;31m             \u001b[0mtest_psi_s_prime\u001b[0m \u001b[0;34m=\u001b[0m \u001b[0mtorch\u001b[0m\u001b[0;34m.\u001b[0m\u001b[0mstack\u001b[0m\u001b[0;34m(\u001b[0m\u001b[0;34m[\u001b[0m\u001b[0mnext_s\u001b[0m\u001b[0;34m.\u001b[0m\u001b[0msqueeze\u001b[0m\u001b[0;34m(\u001b[0m\u001b[0;34m)\u001b[0m \u001b[0;34m@\u001b[0m \u001b[0mM\u001b[0m \u001b[0;32mfor\u001b[0m \u001b[0mnext_s\u001b[0m \u001b[0;32min\u001b[0m \u001b[0mall_next_s\u001b[0m\u001b[0;34m]\u001b[0m\u001b[0;34m)\u001b[0m\u001b[0;34m\u001b[0m\u001b[0;34m\u001b[0m\u001b[0m\n\u001b[0m\u001b[1;32m     74\u001b[0m             \u001b[0mtest_value_function\u001b[0m \u001b[0;34m=\u001b[0m \u001b[0mtest_psi_s\u001b[0m\u001b[0;34m\u001b[0m\u001b[0;34m\u001b[0m\u001b[0m\n\u001b[1;32m     75\u001b[0m             \u001b[0mtest_exp_value_function\u001b[0m \u001b[0;34m=\u001b[0m \u001b[0mtest_phi\u001b[0m \u001b[0;34m+\u001b[0m \u001b[0mgamma\u001b[0m\u001b[0;34m*\u001b[0m\u001b[0mtest_psi_s_prime\u001b[0m\u001b[0;34m\u001b[0m\u001b[0;34m\u001b[0m\u001b[0m\n",
      "\u001b[0;32m~/Code/sr-project/run_td_rnn.py\u001b[0m in \u001b[0;36m<listcomp>\u001b[0;34m(.0)\u001b[0m\n\u001b[1;32m     71\u001b[0m             \u001b[0mM\u001b[0m \u001b[0;34m=\u001b[0m \u001b[0mnet\u001b[0m\u001b[0;34m.\u001b[0m\u001b[0mget_M\u001b[0m\u001b[0;34m(\u001b[0m\u001b[0mgamma\u001b[0m\u001b[0;34m)\u001b[0m\u001b[0;34m\u001b[0m\u001b[0;34m\u001b[0m\u001b[0m\n\u001b[1;32m     72\u001b[0m             \u001b[0mtest_psi_s\u001b[0m \u001b[0;34m=\u001b[0m \u001b[0mtorch\u001b[0m\u001b[0;34m.\u001b[0m\u001b[0mstack\u001b[0m\u001b[0;34m(\u001b[0m\u001b[0;34m[\u001b[0m\u001b[0ms\u001b[0m\u001b[0;34m.\u001b[0m\u001b[0msqueeze\u001b[0m\u001b[0;34m(\u001b[0m\u001b[0;34m)\u001b[0m \u001b[0;34m@\u001b[0m \u001b[0mM\u001b[0m \u001b[0;32mfor\u001b[0m \u001b[0ms\u001b[0m \u001b[0;32min\u001b[0m \u001b[0mall_s\u001b[0m\u001b[0;34m]\u001b[0m\u001b[0;34m)\u001b[0m\u001b[0;34m\u001b[0m\u001b[0;34m\u001b[0m\u001b[0m\n\u001b[0;32m---> 73\u001b[0;31m             \u001b[0mtest_psi_s_prime\u001b[0m \u001b[0;34m=\u001b[0m \u001b[0mtorch\u001b[0m\u001b[0;34m.\u001b[0m\u001b[0mstack\u001b[0m\u001b[0;34m(\u001b[0m\u001b[0;34m[\u001b[0m\u001b[0mnext_s\u001b[0m\u001b[0;34m.\u001b[0m\u001b[0msqueeze\u001b[0m\u001b[0;34m(\u001b[0m\u001b[0;34m)\u001b[0m \u001b[0;34m@\u001b[0m \u001b[0mM\u001b[0m \u001b[0;32mfor\u001b[0m \u001b[0mnext_s\u001b[0m \u001b[0;32min\u001b[0m \u001b[0mall_next_s\u001b[0m\u001b[0;34m]\u001b[0m\u001b[0;34m)\u001b[0m\u001b[0;34m\u001b[0m\u001b[0;34m\u001b[0m\u001b[0m\n\u001b[0m\u001b[1;32m     74\u001b[0m             \u001b[0mtest_value_function\u001b[0m \u001b[0;34m=\u001b[0m \u001b[0mtest_psi_s\u001b[0m\u001b[0;34m\u001b[0m\u001b[0;34m\u001b[0m\u001b[0m\n\u001b[1;32m     75\u001b[0m             \u001b[0mtest_exp_value_function\u001b[0m \u001b[0;34m=\u001b[0m \u001b[0mtest_phi\u001b[0m \u001b[0;34m+\u001b[0m \u001b[0mgamma\u001b[0m\u001b[0;34m*\u001b[0m\u001b[0mtest_psi_s_prime\u001b[0m\u001b[0;34m\u001b[0m\u001b[0;34m\u001b[0m\u001b[0m\n",
      "\u001b[0;31mKeyboardInterrupt\u001b[0m: "
     ]
    }
   ],
   "source": [
    "rnn = AnalyticSR(\n",
    "    num_states=input_size, gamma=gamma,\n",
    "    ca3_kwargs={\n",
    "        'use_dynamic_lr':False, 'lr': 1E-3,\n",
    "        'alpha': 1., 'beta': 1.\n",
    "        }\n",
    "    )\n",
    "np.random.seed(seed)\n",
    "outputs, loss = run_rnn(\n",
    "    '../trained_models/test/', rnn, dataset,\n",
    "    dataset_config, gamma=gamma\n",
    "    )"
   ]
  },
  {
   "cell_type": "code",
   "execution_count": 11,
   "metadata": {
    "scrolled": true
   },
   "outputs": [
    {
     "data": {
      "image/png": "[encoded data removed]",
      "text/plain": [
       "<Figure size 432x432 with 25 Axes>"
      ]
     },
     "metadata": {},
     "output_type": "display_data"
    }
   ],
   "source": [
    "import matplotlib.gridspec as gridspec\n",
    "\n",
    "grid_x = 5; grid_y = 5;\n",
    "\n",
    "plt.figure(figsize = (6, 6))\n",
    "gs1 = gridspec.GridSpec(grid_x, grid_y)\n",
    "gs1.update(wspace=0.05, hspace=0.05) # set the spacing between axes. \n",
    "\n",
    "neurs = np.arange(outputs.shape[1])\n",
    "np.random.shuffle(neurs)\n",
    "\n",
    "idx = 0\n",
    "for neur in neurs:\n",
    "    firing_field = np.zeros((arena_length, arena_length))*np.nan\n",
    "    for x in range(arena_length):\n",
    "        for y in range(arena_length):\n",
    "            frame_idxs = np.logical_and(walk_xs == x, walk_ys == y)\n",
    "            fr = np.nanmean(outputs[frame_idxs, neur])\n",
    "            firing_field[x,y] = fr\n",
    "    firing_field[np.isnan(firing_field)] = 0    \n",
    "    ax = plt.subplot(gs1[idx])\n",
    "    plt.axis('on')\n",
    "    ax.imshow(firing_field/firing_field.max(), vmin=0, vmax=1)\n",
    "    ax.set_xticks([])\n",
    "    ax.set_yticks([])\n",
    "    \n",
    "    idx += 1\n",
    "    if idx == grid_x*grid_y: break\n",
    "plt.show()"
   ]
  },
  {
   "cell_type": "code",
   "execution_count": null,
   "metadata": {},
   "outputs": [],
   "source": [
    "arena_length = int(np.sqrt(input.num_states)) - 1\n",
    "walk_xs = input.xs.astype(int)\n",
    "walk_ys = input.ys.astype(int)\n",
    "for neur in range(outputs.shape[1]):\n",
    "    firing_field = np.zeros((arena_length, arena_length))*np.nan\n",
    "    for x in range(arena_length):\n",
    "        for y in range(arena_length):\n",
    "            frame_idxs = np.logical_and(walk_xs == x, walk_ys == y)\n",
    "            fr = np.nanmean(outputs[frame_idxs, neur].numpy())\n",
    "            firing_field[x,y] = fr\n",
    "    firing_field[np.isnan(firing_field)] = 0\n",
    "    plt.figure()\n",
    "    plt.imshow(firing_field/firing_field.max(), vmin=0, vmax=1)\n",
    "    plt.colorbar()\n",
    "    plt.show() "
   ]
  },
  {
   "cell_type": "markdown",
   "metadata": {},
   "source": [
    "# Plot Linear outputs"
   ]
  },
  {
   "cell_type": "code",
   "execution_count": 14,
   "metadata": {},
   "outputs": [
    {
     "name": "stdout",
     "output_type": "stream",
     "text": [
      "\n",
      "[   51] loss: 0.087\n",
      "Time per step 0.001s, net 0.055s\n",
      "\n",
      "[  101] loss: 0.084\n",
      "Time per step 0.003s, net 0.188s\n",
      "\n",
      "[  151] loss: 0.078\n",
      "Time per step 0.003s, net 0.348s\n",
      "\n",
      "[  201] loss: 0.075\n",
      "Time per step 0.005s, net 0.605s\n",
      "\n",
      "[  251] loss: 0.073\n",
      "Time per step 0.006s, net 0.904s\n",
      "\n",
      "[  301] loss: 0.071\n",
      "Time per step 0.008s, net 1.291s\n",
      "\n",
      "[  351] loss: 0.070\n",
      "Time per step 0.010s, net 1.773s\n",
      "\n",
      "[  401] loss: 0.071\n",
      "Time per step 0.021s, net 2.805s\n",
      "\n",
      "[  451] loss: 0.071\n",
      "Time per step 0.020s, net 3.828s\n",
      "\n",
      "[  501] loss: 0.069\n",
      "Time per step 0.016s, net 4.609s\n",
      "\n",
      "[  551] loss: 0.069\n",
      "Time per step 0.018s, net 5.517s\n",
      "\n",
      "[  601] loss: 0.069\n",
      "Time per step 0.019s, net 6.472s\n",
      "\n",
      "[  651] loss: 0.069\n",
      "Time per step 0.021s, net 7.498s\n",
      "\n",
      "[  701] loss: 0.071\n",
      "Time per step 0.023s, net 8.644s\n",
      "\n",
      "[  751] loss: 0.072\n",
      "Time per step 0.026s, net 9.931s\n",
      "\n",
      "[  801] loss: 0.073\n",
      "Time per step 0.027s, net 11.278s\n",
      "\n",
      "[  851] loss: 0.073\n",
      "Time per step 0.029s, net 12.739s\n",
      "\n",
      "[  901] loss: 0.073\n",
      "Time per step 0.033s, net 14.377s\n",
      "\n",
      "[  951] loss: 0.074\n",
      "Time per step 0.033s, net 16.034s\n",
      "\n",
      "[ 1001] loss: 0.073\n",
      "Time per step 0.036s, net 17.841s\n",
      "\n",
      "[ 1051] loss: 0.073\n",
      "Time per step 0.039s, net 19.783s\n",
      "\n",
      "[ 1101] loss: 0.074\n",
      "Time per step 0.036s, net 21.583s\n",
      "\n",
      "[ 1151] loss: 0.074\n",
      "Time per step 0.044s, net 23.768s\n",
      "\n",
      "[ 1201] loss: 0.075\n",
      "Time per step 0.041s, net 25.812s\n",
      "\n",
      "[ 1251] loss: 0.075\n",
      "Time per step 0.043s, net 27.982s\n",
      "\n",
      "[ 1301] loss: 0.076\n",
      "Time per step 0.043s, net 30.126s\n",
      "\n",
      "[ 1351] loss: 0.077\n",
      "Time per step 0.050s, net 32.628s\n",
      "\n",
      "[ 1401] loss: 0.078\n",
      "Time per step 0.046s, net 34.910s\n",
      "\n",
      "[ 1451] loss: 0.079\n",
      "Time per step 0.057s, net 37.754s\n",
      "\n",
      "[ 1501] loss: 0.081\n",
      "Time per step 0.046s, net 40.043s\n",
      "\n",
      "[ 1551] loss: 0.082\n",
      "Time per step 0.048s, net 42.460s\n",
      "\n",
      "[ 1601] loss: 0.083\n",
      "Time per step 0.053s, net 45.089s\n",
      "\n",
      "[ 1651] loss: 0.084\n",
      "Time per step 0.054s, net 47.809s\n",
      "\n",
      "[ 1701] loss: 0.085\n",
      "Time per step 0.053s, net 50.475s\n",
      "\n",
      "[ 1751] loss: 0.087\n",
      "Time per step 0.060s, net 53.496s\n",
      "\n",
      "[ 1801] loss: 0.088\n",
      "Time per step 0.067s, net 56.824s\n",
      "\n",
      "[ 1851] loss: 0.089\n",
      "Time per step 0.063s, net 59.981s\n",
      "\n",
      "[ 1901] loss: 0.091\n",
      "Time per step 0.070s, net 63.461s\n",
      "\n",
      "[ 1951] loss: 0.092\n",
      "Time per step 0.070s, net 66.982s\n",
      "Finished Training\n",
      "\n"
     ]
    }
   ],
   "source": [
    "linear = Linear(input_size=input_size)\n",
    "np.random.seed(seed)\n",
    "outputs, loss = run_linear(\n",
    "    '../trained_models/test/', linear, dataset,\n",
    "    dataset_config, gamma=gamma, lr=1E-3\n",
    "    )"
   ]
  },
  {
   "cell_type": "code",
   "execution_count": 15,
   "metadata": {},
   "outputs": [
    {
     "name": "stderr",
     "output_type": "stream",
     "text": [
      "/home/chingf/anaconda3/envs/aronov/lib/python3.7/site-packages/ipykernel_launcher.py:23: RuntimeWarning: invalid value encountered in true_divide\n"
     ]
    },
    {
     "data": {
      "image/png": "[encoded data removed]",
      "text/plain": [
       "<Figure size 432x432 with 25 Axes>"
      ]
     },
     "metadata": {},
     "output_type": "display_data"
    }
   ],
   "source": [
    "import matplotlib.gridspec as gridspec\n",
    "\n",
    "grid_x = 5; grid_y = 5;\n",
    "\n",
    "plt.figure(figsize = (6, 6))\n",
    "gs1 = gridspec.GridSpec(grid_x, grid_y)\n",
    "gs1.update(wspace=0.05, hspace=0.05) # set the spacing between axes. \n",
    "\n",
    "neurs = np.arange(outputs.shape[1])\n",
    "np.random.shuffle(neurs)\n",
    "\n",
    "idx = 0\n",
    "for neur in neurs:\n",
    "    firing_field = np.zeros((arena_length, arena_length))*np.nan\n",
    "    for x in range(arena_length):\n",
    "        for y in range(arena_length):\n",
    "            frame_idxs = np.logical_and(walk_xs == x, walk_ys == y)\n",
    "            fr = np.nanmean(outputs[frame_idxs, neur])\n",
    "            firing_field[x,y] = fr\n",
    "    firing_field[np.isnan(firing_field)] = 0    \n",
    "    ax = plt.subplot(gs1[idx])\n",
    "    plt.axis('on')\n",
    "    ax.imshow(firing_field/firing_field.max(), vmin=0, vmax=1)\n",
    "    ax.set_xticks([])\n",
    "    ax.set_yticks([])\n",
    "    \n",
    "    idx += 1\n",
    "    if idx == grid_x*grid_y: break\n",
    "plt.show()"
   ]
  },
  {
   "cell_type": "code",
   "execution_count": null,
   "metadata": {},
   "outputs": [],
   "source": [
    "for neur in range(outputs.shape[1]):\n",
    "    firing_field = np.zeros((arena_length, arena_length))*np.nan\n",
    "    for x in range(arena_length):\n",
    "        for y in range(arena_length):\n",
    "            frame_idxs = np.logical_and(walk_xs == x, walk_ys == y)\n",
    "            fr = np.nanmean(outputs[frame_idxs, neur])\n",
    "            firing_field[x,y] = fr\n",
    "    firing_field[np.isnan(firing_field)] = 0\n",
    "    plt.figure()\n",
    "    plt.imshow(firing_field/firing_field.max(), vmin=0, vmax=1)\n",
    "    plt.colorbar()\n",
    "    plt.show() "
   ]
  },
  {
   "cell_type": "markdown",
   "metadata": {},
   "source": [
    "# Plot MLP outputs"
   ]
  },
  {
   "cell_type": "code",
   "execution_count": 48,
   "metadata": {},
   "outputs": [
    {
     "name": "stdout",
     "output_type": "stream",
     "text": [
      "\n",
      "[   51] loss: 0.263\n",
      "Time per step 0.001s, net 0.061s\n",
      "\n",
      "[  101] loss: 0.116\n",
      "Time per step 0.001s, net 0.128s\n",
      "\n",
      "[  151] loss: 0.080\n",
      "Time per step 0.001s, net 0.199s\n",
      "\n",
      "[  201] loss: 0.065\n",
      "Time per step 0.002s, net 0.298s\n",
      "\n",
      "[  251] loss: 0.054\n",
      "Time per step 0.002s, net 0.415s\n",
      "\n",
      "[  301] loss: 0.050\n",
      "Time per step 0.002s, net 0.521s\n",
      "\n",
      "[  351] loss: 0.041\n",
      "Time per step 0.002s, net 0.631s\n",
      "\n",
      "[  401] loss: 0.036\n",
      "Time per step 0.002s, net 0.744s\n",
      "\n",
      "[  451] loss: 0.032\n",
      "Time per step 0.002s, net 0.869s\n",
      "\n",
      "[  501] loss: 0.029\n",
      "Time per step 0.003s, net 1.009s\n",
      "\n",
      "[  551] loss: 0.026\n",
      "Time per step 0.003s, net 1.143s\n",
      "\n",
      "[  601] loss: 0.025\n",
      "Time per step 0.003s, net 1.277s\n",
      "\n",
      "[  651] loss: 0.022\n",
      "Time per step 0.003s, net 1.412s\n",
      "\n",
      "[  701] loss: 0.022\n",
      "Time per step 0.003s, net 1.559s\n",
      "\n",
      "[  751] loss: 0.022\n",
      "Time per step 0.003s, net 1.701s\n",
      "\n",
      "[  801] loss: 0.021\n",
      "Time per step 0.003s, net 1.853s\n",
      "\n",
      "[  851] loss: 0.020\n",
      "Time per step 0.003s, net 2.011s\n",
      "\n",
      "[  901] loss: 0.020\n",
      "Time per step 0.004s, net 2.211s\n",
      "\n",
      "[  951] loss: 0.019\n",
      "Time per step 0.003s, net 2.365s\n",
      "\n",
      "[ 1001] loss: 0.019\n",
      "Time per step 0.004s, net 2.546s\n",
      "\n",
      "[ 1051] loss: 0.018\n",
      "Time per step 0.003s, net 2.720s\n",
      "\n",
      "[ 1101] loss: 0.017\n",
      "Time per step 0.004s, net 2.901s\n",
      "\n",
      "[ 1151] loss: 0.017\n",
      "Time per step 0.004s, net 3.076s\n",
      "\n",
      "[ 1201] loss: 0.017\n",
      "Time per step 0.004s, net 3.262s\n",
      "\n",
      "[ 1251] loss: 0.017\n",
      "Time per step 0.004s, net 3.466s\n",
      "\n",
      "[ 1301] loss: 0.017\n",
      "Time per step 0.005s, net 3.733s\n",
      "\n",
      "[ 1351] loss: 0.017\n",
      "Time per step 0.004s, net 3.928s\n",
      "\n",
      "[ 1401] loss: 0.016\n",
      "Time per step 0.004s, net 4.125s\n",
      "\n",
      "[ 1451] loss: 0.016\n",
      "Time per step 0.004s, net 4.326s\n",
      "\n",
      "[ 1501] loss: 0.015\n",
      "Time per step 0.004s, net 4.521s\n",
      "\n",
      "[ 1551] loss: 0.015\n",
      "Time per step 0.004s, net 4.725s\n",
      "\n",
      "[ 1601] loss: 0.014\n",
      "Time per step 0.005s, net 4.991s\n",
      "\n",
      "[ 1651] loss: 0.014\n",
      "Time per step 0.004s, net 5.192s\n",
      "\n",
      "[ 1701] loss: 0.013\n",
      "Time per step 0.004s, net 5.412s\n",
      "\n",
      "[ 1751] loss: 0.013\n",
      "Time per step 0.004s, net 5.637s\n",
      "\n",
      "[ 1801] loss: 0.013\n",
      "Time per step 0.004s, net 5.859s\n",
      "\n",
      "[ 1851] loss: 0.012\n",
      "Time per step 0.005s, net 6.091s\n",
      "\n",
      "[ 1901] loss: 0.012\n",
      "Time per step 0.005s, net 6.317s\n",
      "\n",
      "[ 1951] loss: 0.012\n",
      "Time per step 0.005s, net 6.554s\n",
      "Finished Training\n",
      "\n"
     ]
    }
   ],
   "source": [
    "mlp = MLP(input_size=input_size, hidden_size=input_size*2)\n",
    "np.random.seed(seed)\n",
    "outputs, loss = run_mlp(\n",
    "    '../trained_models/test/', mlp, dataset,\n",
    "    dataset_config, gamma=gamma\n",
    "    )"
   ]
  },
  {
   "cell_type": "code",
   "execution_count": 13,
   "metadata": {},
   "outputs": [
    {
     "data": {
      "image/png": "[encoded data removed]",
      "text/plain": [
       "<Figure size 432x432 with 25 Axes>"
      ]
     },
     "metadata": {},
     "output_type": "display_data"
    }
   ],
   "source": [
    "import matplotlib.gridspec as gridspec\n",
    "\n",
    "grid_x = 5; grid_y = 5;\n",
    "\n",
    "plt.figure(figsize = (6, 6))\n",
    "gs1 = gridspec.GridSpec(grid_x, grid_y)\n",
    "gs1.update(wspace=0.05, hspace=0.05) # set the spacing between axes. \n",
    "\n",
    "neurs = np.arange(outputs.shape[1])\n",
    "np.random.shuffle(neurs)\n",
    "\n",
    "idx = 0\n",
    "for neur in neurs:\n",
    "    firing_field = np.zeros((arena_length, arena_length))*np.nan\n",
    "    for x in range(arena_length):\n",
    "        for y in range(arena_length):\n",
    "            frame_idxs = np.logical_and(walk_xs == x, walk_ys == y)\n",
    "            fr = np.nanmean(outputs[frame_idxs, neur])\n",
    "            firing_field[x,y] = fr\n",
    "    firing_field[np.isnan(firing_field)] = 0    \n",
    "    ax = plt.subplot(gs1[idx])\n",
    "    plt.axis('on')\n",
    "    ax.imshow(firing_field/firing_field.max(), vmin=0, vmax=1)\n",
    "    ax.set_xticks([])\n",
    "    ax.set_yticks([])\n",
    "    \n",
    "    idx += 1\n",
    "    if idx == grid_x*grid_y: break\n",
    "plt.show()"
   ]
  },
  {
   "cell_type": "code",
   "execution_count": null,
   "metadata": {},
   "outputs": [],
   "source": [
    "arena_length = int(np.sqrt(input.num_states)) - 1\n",
    "walk_xs = input.xs.astype(int)\n",
    "walk_ys = input.ys.astype(int)\n",
    "for neur in range(outputs.shape[1]):\n",
    "    firing_field = np.zeros((arena_length, arena_length))*np.nan\n",
    "    for x in range(arena_length):\n",
    "        for y in range(arena_length):\n",
    "            frame_idxs = np.logical_and(walk_xs == x, walk_ys == y)\n",
    "            fr = np.nanmean(outputs[frame_idxs, neur])\n",
    "            firing_field[x,y] = fr\n",
    "    firing_field[np.isnan(firing_field)] = 0\n",
    "    plt.figure()\n",
    "    plt.imshow(firing_field/firing_field.max(), vmin=0, vmax=1)\n",
    "    plt.colorbar()\n",
    "    plt.show() "
   ]
  },
  {
   "cell_type": "code",
   "execution_count": null,
   "metadata": {},
   "outputs": [],
   "source": []
  }
 ],
 "metadata": {
  "kernelspec": {
   "display_name": "Python 3",
   "language": "python",
   "name": "python3"
  },
  "language_info": {
   "codemirror_mode": {
    "name": "ipython",
    "version": 3
   },
   "file_extension": ".py",
   "mimetype": "text/x-python",
   "name": "python",
   "nbconvert_exporter": "python",
   "pygments_lexer": "ipython3",
   "version": "3.7.6"
  }
 },
 "nbformat": 4,
 "nbformat_minor": 4
}
