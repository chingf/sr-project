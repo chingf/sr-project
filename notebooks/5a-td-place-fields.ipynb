{
 "cells": [
  {
   "cell_type": "code",
   "execution_count": 1,
   "metadata": {},
   "outputs": [
    {
     "name": "stderr",
     "output_type": "stream",
     "text": [
      "/home/chingf/Code/sr-project/datasets/inputs.py:12: UserWarning: Emily's experimental data could not be loaded.\n",
      "  warnings.warn(\"Emily's experimental data could not be loaded.\")\n",
      "/home/chingf/Code/sr-project/datasets/sf_inputs_discrete.py:14: UserWarning: Emily's experimental data could not be loaded.\n",
      "  warnings.warn(\"Emily's experimental data could not be loaded.\")\n"
     ]
    }
   ],
   "source": [
    "import pickle\n",
    "import numpy as np\n",
    "import os\n",
    "import torch\n",
    "import torch.nn as nn\n",
    "import re\n",
    "import sys\n",
    "from tensorboard.backend.event_processing.event_accumulator import EventAccumulator\n",
    "import matplotlib.pyplot as plt\n",
    "\n",
    "root = os.path.dirname(os.path.abspath(os.curdir))\n",
    "sys.path.append(root)\n",
    "\n",
    "from sr_model.models.models import AnalyticSR, STDP_SR, Linear, MLP\n",
    "from datasets import inputs, sf_inputs_discrete\n",
    "from run_td_rnn import run as run_rnn\n",
    "from run_td_mlp import run as run_mlp\n",
    "from run_td_linear import run as run_linear\n",
    "\n",
    "device = 'cpu'"
   ]
  },
  {
   "cell_type": "markdown",
   "metadata": {},
   "source": [
    "## Specify dataset"
   ]
  },
  {
   "cell_type": "code",
   "execution_count": 92,
   "metadata": {},
   "outputs": [
    {
     "data": {
      "text/plain": [
       "array([0. , 0.1, 0.2, 0.3, 0.4, 0.5, 0.6, 0.7, 0.8, 0.9, 1. ])"
      ]
     },
     "execution_count": 92,
     "metadata": {},
     "output_type": "execute_result"
    }
   ],
   "source": [
    "np.arange(0, 1.1,0.1)"
   ]
  },
  {
   "cell_type": "code",
   "execution_count": 93,
   "metadata": {},
   "outputs": [],
   "source": [
    "feature_maker_kwargs = {\n",
    "    'feature_dim': 64, 'feature_vals': None,\n",
    "    'feature_type': 'correlated_distributed',\n",
    "    'spatial_sigma': 1.25\n",
    "    }\n",
    "feature_maker_kwargs = {\n",
    "    'feature_dim': 64,\n",
    "    'feature_vals': np.arange(0, 1.1,0.1),\n",
    "    'feature_vals_p': [1./11]*11\n",
    "    }\n",
    "dataset_config = {\n",
    "    'num_steps': 2000, 'num_states': 64,\n",
    "    'feature_maker_kwargs': feature_maker_kwargs\n",
    "    }\n",
    "dataset = sf_inputs_discrete.Sim2DWalk\n",
    "input_size = feature_maker_kwargs['feature_dim']\n",
    "seed = 3"
   ]
  },
  {
   "cell_type": "code",
   "execution_count": 94,
   "metadata": {},
   "outputs": [
    {
     "data": {
      "image/png": "[encoded data removed]",
      "text/plain": [
       "<Figure size 432x288 with 1 Axes>"
      ]
     },
     "metadata": {
      "needs_background": "light"
     },
     "output_type": "display_data"
    }
   ],
   "source": [
    "np.random.seed(seed)\n",
    "input = dataset(**dataset_config)\n",
    "plt.figure();\n",
    "plt.plot(input.xs, input.ys)\n",
    "plt.show()"
   ]
  },
  {
   "cell_type": "code",
   "execution_count": 95,
   "metadata": {},
   "outputs": [
    {
     "data": {
      "image/png": "[encoded data removed]",
      "text/plain": [
       "<Figure size 432x288 with 1 Axes>"
      ]
     },
     "metadata": {
      "needs_background": "light"
     },
     "output_type": "display_data"
    }
   ],
   "source": [
    "plt.figure()\n",
    "plt.imshow(input.feature_maker.feature_map)\n",
    "plt.show()"
   ]
  },
  {
   "cell_type": "code",
   "execution_count": 104,
   "metadata": {},
   "outputs": [],
   "source": [
    "gamma=0.6"
   ]
  },
  {
   "cell_type": "markdown",
   "metadata": {},
   "source": [
    "# Plot RNN outputs"
   ]
  },
  {
   "cell_type": "code",
   "execution_count": 110,
   "metadata": {},
   "outputs": [
    {
     "name": "stdout",
     "output_type": "stream",
     "text": [
      "\n",
      "[   51] loss: 0.095\n",
      "Time per step 0.002s, net 0.093s\n",
      "\n",
      "[  101] loss: 0.057\n",
      "Time per step 0.003s, net 0.224s\n",
      "\n",
      "[  151] loss: 0.042\n",
      "Time per step 0.004s, net 0.406s\n",
      "\n",
      "[  201] loss: 0.039\n",
      "Time per step 0.004s, net 0.629s\n",
      "\n",
      "[  251] loss: 0.038\n",
      "Time per step 0.005s, net 0.892s\n",
      "\n",
      "[  301] loss: 0.038\n",
      "Time per step 0.007s, net 1.217s\n",
      "\n",
      "[  351] loss: 0.038\n",
      "Time per step 0.007s, net 1.586s\n",
      "\n",
      "[  401] loss: 0.039\n",
      "Time per step 0.009s, net 2.054s\n",
      "\n",
      "[  451] loss: 0.039\n",
      "Time per step 0.010s, net 2.534s\n",
      "\n",
      "[  501] loss: 0.039\n",
      "Time per step 0.010s, net 3.055s\n",
      "\n",
      "[  551] loss: 0.040\n",
      "Time per step 0.011s, net 3.615s\n",
      "\n",
      "[  601] loss: 0.040\n",
      "Time per step 0.015s, net 4.388s\n",
      "\n",
      "[  651] loss: 0.039\n",
      "Time per step 0.013s, net 5.025s\n",
      "\n",
      "[  701] loss: 0.040\n",
      "Time per step 0.014s, net 5.706s\n",
      "\n",
      "[  751] loss: 0.041\n",
      "Time per step 0.016s, net 6.505s\n",
      "\n",
      "[  801] loss: 0.040\n",
      "Time per step 0.016s, net 7.281s\n",
      "\n",
      "[  851] loss: 0.040\n",
      "Time per step 0.017s, net 8.108s\n",
      "\n",
      "[  901] loss: 0.040\n",
      "Time per step 0.019s, net 9.036s\n",
      "\n",
      "[  951] loss: 0.039\n",
      "Time per step 0.020s, net 10.031s\n",
      "\n",
      "[ 1001] loss: 0.040\n",
      "Time per step 0.020s, net 11.013s\n",
      "\n",
      "[ 1051] loss: 0.039\n",
      "Time per step 0.022s, net 12.112s\n",
      "\n",
      "[ 1101] loss: 0.039\n",
      "Time per step 0.022s, net 13.237s\n",
      "\n",
      "[ 1151] loss: 0.040\n",
      "Time per step 0.023s, net 14.392s\n",
      "\n",
      "[ 1201] loss: 0.040\n",
      "Time per step 0.023s, net 15.534s\n",
      "\n",
      "[ 1251] loss: 0.040\n",
      "Time per step 0.025s, net 16.774s\n",
      "\n",
      "[ 1301] loss: 0.041\n",
      "Time per step 0.028s, net 18.164s\n",
      "\n",
      "[ 1351] loss: 0.040\n",
      "Time per step 0.027s, net 19.510s\n",
      "\n",
      "[ 1401] loss: 0.040\n",
      "Time per step 0.028s, net 20.907s\n",
      "\n",
      "[ 1451] loss: 0.040\n",
      "Time per step 0.030s, net 22.411s\n",
      "\n",
      "[ 1501] loss: 0.040\n",
      "Time per step 0.029s, net 23.846s\n",
      "\n",
      "[ 1551] loss: 0.040\n",
      "Time per step 0.031s, net 25.414s\n",
      "\n",
      "[ 1601] loss: 0.040\n",
      "Time per step 0.031s, net 26.971s\n",
      "\n",
      "[ 1651] loss: 0.040\n",
      "Time per step 0.034s, net 28.676s\n",
      "\n",
      "[ 1701] loss: 0.040\n",
      "Time per step 0.034s, net 30.351s\n",
      "\n",
      "[ 1751] loss: 0.041\n",
      "Time per step 0.038s, net 32.261s\n",
      "\n",
      "[ 1801] loss: 0.040\n",
      "Time per step 0.038s, net 34.183s\n",
      "\n",
      "[ 1851] loss: 0.040\n",
      "Time per step 0.038s, net 36.071s\n",
      "\n",
      "[ 1901] loss: 0.041\n",
      "Time per step 0.038s, net 37.947s\n",
      "\n",
      "[ 1951] loss: 0.041\n",
      "Time per step 0.038s, net 39.854s\n",
      "Finished Training\n",
      "\n"
     ]
    }
   ],
   "source": [
    "rnn = AnalyticSR(\n",
    "    num_states=input_size, gamma=gamma,\n",
    "    ca3_kwargs={\n",
    "        'use_dynamic_lr':False, 'lr': 1E-3,\n",
    "        'eigenval_offset': 0.4\n",
    "        }\n",
    "    )\n",
    "np.random.seed(seed)\n",
    "outputs, loss = run_rnn(\n",
    "    '../trained_models/test/', rnn, dataset,\n",
    "    dataset_config, gamma=gamma\n",
    "    )"
   ]
  },
  {
   "cell_type": "code",
   "execution_count": 111,
   "metadata": {
    "scrolled": true
   },
   "outputs": [
    {
     "data": {
      "image/png": "[encoded data removed]",
      "text/plain": [
       "<Figure size 432x432 with 25 Axes>"
      ]
     },
     "metadata": {},
     "output_type": "display_data"
    }
   ],
   "source": [
    "import matplotlib.gridspec as gridspec\n",
    "\n",
    "grid_x = 5; grid_y = 5;\n",
    "\n",
    "plt.figure(figsize = (6, 6))\n",
    "gs1 = gridspec.GridSpec(grid_x, grid_y)\n",
    "gs1.update(wspace=0.05, hspace=0.05) # set the spacing between axes. \n",
    "\n",
    "neurs = np.arange(outputs.shape[1])\n",
    "np.random.shuffle(neurs)\n",
    "\n",
    "idx = 0\n",
    "for neur in neurs:\n",
    "    firing_field = np.zeros((arena_length, arena_length))*np.nan\n",
    "    for x in range(arena_length):\n",
    "        for y in range(arena_length):\n",
    "            frame_idxs = np.logical_and(walk_xs == x, walk_ys == y)\n",
    "            fr = np.nanmean(outputs[frame_idxs, neur])\n",
    "            firing_field[x,y] = fr\n",
    "    firing_field[np.isnan(firing_field)] = 0    \n",
    "    ax = plt.subplot(gs1[idx])\n",
    "    plt.axis('on')\n",
    "    ax.imshow(firing_field/firing_field.max(), vmin=0, vmax=1)\n",
    "    ax.set_xticks([])\n",
    "    ax.set_yticks([])\n",
    "    \n",
    "    idx += 1\n",
    "    if idx == grid_x*grid_y: break\n",
    "plt.show()"
   ]
  },
  {
   "cell_type": "code",
   "execution_count": null,
   "metadata": {},
   "outputs": [],
   "source": [
    "arena_length = int(np.sqrt(input.num_states)) - 1\n",
    "walk_xs = input.xs.astype(int)\n",
    "walk_ys = input.ys.astype(int)\n",
    "for neur in range(outputs.shape[1]):\n",
    "    firing_field = np.zeros((arena_length, arena_length))*np.nan\n",
    "    for x in range(arena_length):\n",
    "        for y in range(arena_length):\n",
    "            frame_idxs = np.logical_and(walk_xs == x, walk_ys == y)\n",
    "            fr = np.nanmean(outputs[frame_idxs, neur].numpy())\n",
    "            firing_field[x,y] = fr\n",
    "    firing_field[np.isnan(firing_field)] = 0\n",
    "    plt.figure()\n",
    "    plt.imshow(firing_field/firing_field.max(), vmin=0, vmax=1)\n",
    "    plt.colorbar()\n",
    "    plt.show() "
   ]
  },
  {
   "cell_type": "markdown",
   "metadata": {},
   "source": [
    "# Plot Linear outputs"
   ]
  },
  {
   "cell_type": "code",
   "execution_count": 98,
   "metadata": {},
   "outputs": [
    {
     "name": "stdout",
     "output_type": "stream",
     "text": [
      "\n",
      "[   51] loss: 0.326\n",
      "Time per step 0.001s, net 0.043s\n",
      "\n",
      "[  101] loss: 0.308\n",
      "Time per step 0.002s, net 0.124s\n",
      "\n",
      "[  151] loss: 0.294\n",
      "Time per step 0.002s, net 0.233s\n",
      "\n",
      "[  201] loss: 0.285\n",
      "Time per step 0.003s, net 0.377s\n",
      "\n",
      "[  251] loss: 0.278\n",
      "Time per step 0.004s, net 0.575s\n",
      "\n",
      "[  301] loss: 0.273\n",
      "Time per step 0.005s, net 0.831s\n",
      "\n",
      "[  351] loss: 0.272\n",
      "Time per step 0.005s, net 1.080s\n",
      "\n",
      "[  401] loss: 0.274\n",
      "Time per step 0.006s, net 1.372s\n",
      "\n",
      "[  451] loss: 0.274\n",
      "Time per step 0.007s, net 1.698s\n",
      "\n",
      "[  501] loss: 0.278\n",
      "Time per step 0.007s, net 2.064s\n",
      "\n",
      "[  551] loss: 0.289\n",
      "Time per step 0.010s, net 2.577s\n",
      "\n",
      "[  601] loss: 0.297\n",
      "Time per step 0.010s, net 3.097s\n",
      "\n",
      "[  651] loss: 0.301\n",
      "Time per step 0.011s, net 3.663s\n",
      "\n",
      "[  701] loss: 0.309\n",
      "Time per step 0.012s, net 4.268s\n",
      "\n",
      "[  751] loss: 0.314\n",
      "Time per step 0.013s, net 4.922s\n",
      "\n",
      "[  801] loss: 0.320\n",
      "Time per step 0.015s, net 5.664s\n",
      "\n",
      "[  851] loss: 0.327\n",
      "Time per step 0.017s, net 6.499s\n",
      "\n",
      "[  901] loss: 0.336\n",
      "Time per step 0.016s, net 7.284s\n",
      "\n",
      "[  951] loss: 0.343\n",
      "Time per step 0.018s, net 8.190s\n",
      "\n",
      "[ 1001] loss: 0.359\n",
      "Time per step 0.018s, net 9.080s\n",
      "\n",
      "[ 1051] loss: 0.366\n",
      "Time per step 0.019s, net 10.026s\n",
      "\n",
      "[ 1101] loss: 0.376\n",
      "Time per step 0.022s, net 11.142s\n",
      "\n",
      "[ 1151] loss: 0.394\n",
      "Time per step 0.021s, net 12.197s\n",
      "\n",
      "[ 1201] loss: 0.404\n",
      "Time per step 0.024s, net 13.398s\n",
      "\n",
      "[ 1251] loss: 0.421\n",
      "Time per step 0.023s, net 14.555s\n"
     ]
    },
    {
     "ename": "KeyboardInterrupt",
     "evalue": "",
     "output_type": "error",
     "traceback": [
      "\u001b[0;31m---------------------------------------------------------------------------\u001b[0m",
      "\u001b[0;31mKeyboardInterrupt\u001b[0m                         Traceback (most recent call last)",
      "\u001b[0;32m<ipython-input-98-c977d4feb79d>\u001b[0m in \u001b[0;36m<module>\u001b[0;34m\u001b[0m\n\u001b[1;32m      3\u001b[0m outputs, loss = run_linear(\n\u001b[1;32m      4\u001b[0m     \u001b[0;34m'../trained_models/test/'\u001b[0m\u001b[0;34m,\u001b[0m \u001b[0mlinear\u001b[0m\u001b[0;34m,\u001b[0m \u001b[0mdataset\u001b[0m\u001b[0;34m,\u001b[0m\u001b[0;34m\u001b[0m\u001b[0;34m\u001b[0m\u001b[0m\n\u001b[0;32m----> 5\u001b[0;31m     \u001b[0mdataset_config\u001b[0m\u001b[0;34m,\u001b[0m \u001b[0mgamma\u001b[0m\u001b[0;34m=\u001b[0m\u001b[0mgamma\u001b[0m\u001b[0;34m,\u001b[0m \u001b[0mlr\u001b[0m\u001b[0;34m=\u001b[0m\u001b[0;36m1E-3\u001b[0m\u001b[0;34m\u001b[0m\u001b[0;34m\u001b[0m\u001b[0m\n\u001b[0m\u001b[1;32m      6\u001b[0m     )\n",
      "\u001b[0;32m~/Code/sr-project/run_td_linear.py\u001b[0m in \u001b[0;36mrun\u001b[0;34m(save_path, net, dataset, dataset_config, print_file, print_every_steps, buffer_batch_size, buffer_size, gamma, lr)\u001b[0m\n\u001b[1;32m     86\u001b[0m             \u001b[0mall_next_s\u001b[0m \u001b[0;34m=\u001b[0m \u001b[0mtorch\u001b[0m\u001b[0;34m.\u001b[0m\u001b[0mstack\u001b[0m\u001b[0;34m(\u001b[0m\u001b[0;34m[\u001b[0m\u001b[0mt\u001b[0m\u001b[0;34m[\u001b[0m\u001b[0;36m1\u001b[0m\u001b[0;34m]\u001b[0m \u001b[0;32mfor\u001b[0m \u001b[0mt\u001b[0m \u001b[0;32min\u001b[0m \u001b[0mall_transitions\u001b[0m\u001b[0;34m]\u001b[0m\u001b[0;34m)\u001b[0m\u001b[0;34m.\u001b[0m\u001b[0msqueeze\u001b[0m\u001b[0;34m(\u001b[0m\u001b[0;36m1\u001b[0m\u001b[0;34m)\u001b[0m\u001b[0;34m\u001b[0m\u001b[0;34m\u001b[0m\u001b[0m\n\u001b[1;32m     87\u001b[0m             \u001b[0mtest_phi\u001b[0m \u001b[0;34m=\u001b[0m \u001b[0mall_s\u001b[0m\u001b[0;34m\u001b[0m\u001b[0;34m\u001b[0m\u001b[0m\n\u001b[0;32m---> 88\u001b[0;31m             \u001b[0mtest_psi_s\u001b[0m \u001b[0;34m=\u001b[0m \u001b[0mnet\u001b[0m\u001b[0;34m(\u001b[0m\u001b[0mall_s\u001b[0m\u001b[0;34m)\u001b[0m\u001b[0;34m\u001b[0m\u001b[0;34m\u001b[0m\u001b[0m\n\u001b[0m\u001b[1;32m     89\u001b[0m             \u001b[0mtest_psi_s_prime\u001b[0m \u001b[0;34m=\u001b[0m \u001b[0mnet\u001b[0m\u001b[0;34m(\u001b[0m\u001b[0mall_next_s\u001b[0m\u001b[0;34m)\u001b[0m\u001b[0;34m\u001b[0m\u001b[0;34m\u001b[0m\u001b[0m\n\u001b[1;32m     90\u001b[0m             \u001b[0mtest_value_function\u001b[0m \u001b[0;34m=\u001b[0m \u001b[0mtest_psi_s\u001b[0m\u001b[0;34m\u001b[0m\u001b[0;34m\u001b[0m\u001b[0m\n",
      "\u001b[0;32m~/anaconda3/envs/aronov/lib/python3.7/site-packages/torch/nn/modules/module.py\u001b[0m in \u001b[0;36m_call_impl\u001b[0;34m(self, *input, **kwargs)\u001b[0m\n\u001b[1;32m    887\u001b[0m             \u001b[0mresult\u001b[0m \u001b[0;34m=\u001b[0m \u001b[0mself\u001b[0m\u001b[0;34m.\u001b[0m\u001b[0m_slow_forward\u001b[0m\u001b[0;34m(\u001b[0m\u001b[0;34m*\u001b[0m\u001b[0minput\u001b[0m\u001b[0;34m,\u001b[0m \u001b[0;34m**\u001b[0m\u001b[0mkwargs\u001b[0m\u001b[0;34m)\u001b[0m\u001b[0;34m\u001b[0m\u001b[0;34m\u001b[0m\u001b[0m\n\u001b[1;32m    888\u001b[0m         \u001b[0;32melse\u001b[0m\u001b[0;34m:\u001b[0m\u001b[0;34m\u001b[0m\u001b[0;34m\u001b[0m\u001b[0m\n\u001b[0;32m--> 889\u001b[0;31m             \u001b[0mresult\u001b[0m \u001b[0;34m=\u001b[0m \u001b[0mself\u001b[0m\u001b[0;34m.\u001b[0m\u001b[0mforward\u001b[0m\u001b[0;34m(\u001b[0m\u001b[0;34m*\u001b[0m\u001b[0minput\u001b[0m\u001b[0;34m,\u001b[0m \u001b[0;34m**\u001b[0m\u001b[0mkwargs\u001b[0m\u001b[0;34m)\u001b[0m\u001b[0;34m\u001b[0m\u001b[0;34m\u001b[0m\u001b[0m\n\u001b[0m\u001b[1;32m    890\u001b[0m         for hook in itertools.chain(\n\u001b[1;32m    891\u001b[0m                 \u001b[0m_global_forward_hooks\u001b[0m\u001b[0;34m.\u001b[0m\u001b[0mvalues\u001b[0m\u001b[0;34m(\u001b[0m\u001b[0;34m)\u001b[0m\u001b[0;34m,\u001b[0m\u001b[0;34m\u001b[0m\u001b[0;34m\u001b[0m\u001b[0m\n",
      "\u001b[0;32m~/Code/sr-project/src/sr_model/models/models.py\u001b[0m in \u001b[0;36mforward\u001b[0;34m(self, inputs, reset)\u001b[0m\n\u001b[1;32m    110\u001b[0m             \u001b[0moutput\u001b[0m \u001b[0;34m=\u001b[0m \u001b[0moutput\u001b[0m\u001b[0;34m.\u001b[0m\u001b[0msqueeze\u001b[0m\u001b[0;34m(\u001b[0m\u001b[0;36m0\u001b[0m\u001b[0;34m)\u001b[0m\u001b[0;34m\u001b[0m\u001b[0;34m\u001b[0m\u001b[0m\n\u001b[1;32m    111\u001b[0m             \u001b[0moutputs\u001b[0m\u001b[0;34m.\u001b[0m\u001b[0mappend\u001b[0m\u001b[0;34m(\u001b[0m\u001b[0moutput\u001b[0m\u001b[0;34m)\u001b[0m\u001b[0;34m\u001b[0m\u001b[0;34m\u001b[0m\u001b[0m\n\u001b[0;32m--> 112\u001b[0;31m         \u001b[0moutputs\u001b[0m \u001b[0;34m=\u001b[0m \u001b[0mtorch\u001b[0m\u001b[0;34m.\u001b[0m\u001b[0mstack\u001b[0m\u001b[0;34m(\u001b[0m\u001b[0moutputs\u001b[0m\u001b[0;34m)\u001b[0m\u001b[0;34m\u001b[0m\u001b[0;34m\u001b[0m\u001b[0m\n\u001b[0m\u001b[1;32m    113\u001b[0m         \u001b[0;32mreturn\u001b[0m \u001b[0moutputs\u001b[0m\u001b[0;34m\u001b[0m\u001b[0;34m\u001b[0m\u001b[0m\n\u001b[1;32m    114\u001b[0m \u001b[0;34m\u001b[0m\u001b[0m\n",
      "\u001b[0;31mKeyboardInterrupt\u001b[0m: "
     ]
    }
   ],
   "source": [
    "linear = Linear(input_size=input_size)\n",
    "np.random.seed(seed)\n",
    "outputs, loss = run_linear(\n",
    "    '../trained_models/test/', linear, dataset,\n",
    "    dataset_config, gamma=gamma, lr=1E-3\n",
    "    )"
   ]
  },
  {
   "cell_type": "code",
   "execution_count": 99,
   "metadata": {},
   "outputs": [
    {
     "data": {
      "image/png": "[encoded data removed]",
      "text/plain": [
       "<Figure size 432x432 with 25 Axes>"
      ]
     },
     "metadata": {},
     "output_type": "display_data"
    }
   ],
   "source": [
    "import matplotlib.gridspec as gridspec\n",
    "\n",
    "grid_x = 5; grid_y = 5;\n",
    "\n",
    "plt.figure(figsize = (6, 6))\n",
    "gs1 = gridspec.GridSpec(grid_x, grid_y)\n",
    "gs1.update(wspace=0.05, hspace=0.05) # set the spacing between axes. \n",
    "\n",
    "neurs = np.arange(outputs.shape[1])\n",
    "np.random.shuffle(neurs)\n",
    "\n",
    "idx = 0\n",
    "for neur in neurs:\n",
    "    firing_field = np.zeros((arena_length, arena_length))*np.nan\n",
    "    for x in range(arena_length):\n",
    "        for y in range(arena_length):\n",
    "            frame_idxs = np.logical_and(walk_xs == x, walk_ys == y)\n",
    "            fr = np.nanmean(outputs[frame_idxs, neur])\n",
    "            firing_field[x,y] = fr\n",
    "    firing_field[np.isnan(firing_field)] = 0    \n",
    "    ax = plt.subplot(gs1[idx])\n",
    "    plt.axis('on')\n",
    "    ax.imshow(firing_field/firing_field.max(), vmin=0, vmax=1)\n",
    "    ax.set_xticks([])\n",
    "    ax.set_yticks([])\n",
    "    \n",
    "    idx += 1\n",
    "    if idx == grid_x*grid_y: break\n",
    "plt.show()"
   ]
  },
  {
   "cell_type": "code",
   "execution_count": null,
   "metadata": {},
   "outputs": [],
   "source": [
    "arena_length = int(np.sqrt(input.num_states)) - 1\n",
    "walk_xs = input.xs.astype(int)\n",
    "walk_ys = input.ys.astype(int)\n",
    "for neur in range(outputs.shape[1]):\n",
    "    firing_field = np.zeros((arena_length, arena_length))*np.nan\n",
    "    for x in range(arena_length):\n",
    "        for y in range(arena_length):\n",
    "            frame_idxs = np.logical_and(walk_xs == x, walk_ys == y)\n",
    "            fr = np.nanmean(outputs[frame_idxs, neur])\n",
    "            firing_field[x,y] = fr\n",
    "    firing_field[np.isnan(firing_field)] = 0\n",
    "    plt.figure()\n",
    "    plt.imshow(firing_field/firing_field.max(), vmin=0, vmax=1)\n",
    "    plt.colorbar()\n",
    "    plt.show() "
   ]
  },
  {
   "cell_type": "markdown",
   "metadata": {},
   "source": [
    "# Plot MLP outputs"
   ]
  },
  {
   "cell_type": "code",
   "execution_count": 100,
   "metadata": {},
   "outputs": [
    {
     "name": "stdout",
     "output_type": "stream",
     "text": [
      "\n",
      "[   51] loss: 0.294\n",
      "Time per step 0.002s, net 0.107s\n",
      "\n",
      "[  101] loss: 0.116\n",
      "Time per step 0.002s, net 0.214s\n",
      "\n",
      "[  151] loss: 0.063\n",
      "Time per step 0.002s, net 0.334s\n",
      "\n",
      "[  201] loss: 0.115\n",
      "Time per step 0.003s, net 0.460s\n",
      "\n",
      "[  251] loss: 0.068\n",
      "Time per step 0.003s, net 0.588s\n",
      "\n",
      "[  301] loss: 0.065\n",
      "Time per step 0.003s, net 0.740s\n",
      "\n",
      "[  351] loss: 0.060\n",
      "Time per step 0.003s, net 0.900s\n",
      "\n",
      "[  401] loss: 0.094\n",
      "Time per step 0.003s, net 1.070s\n",
      "\n",
      "[  451] loss: 0.076\n",
      "Time per step 0.003s, net 1.237s\n",
      "\n",
      "[  501] loss: 0.068\n",
      "Time per step 0.003s, net 1.398s\n",
      "\n",
      "[  551] loss: 0.072\n",
      "Time per step 0.004s, net 1.580s\n",
      "\n",
      "[  601] loss: 0.075\n",
      "Time per step 0.004s, net 1.761s\n",
      "\n",
      "[  651] loss: 0.069\n",
      "Time per step 0.004s, net 1.942s\n",
      "\n",
      "[  701] loss: 0.067\n",
      "Time per step 0.004s, net 2.137s\n",
      "\n",
      "[  751] loss: 0.063\n",
      "Time per step 0.004s, net 2.344s\n",
      "\n",
      "[  801] loss: 0.061\n",
      "Time per step 0.006s, net 2.622s\n",
      "\n",
      "[  851] loss: 0.061\n",
      "Time per step 0.005s, net 2.861s\n",
      "\n",
      "[  901] loss: 0.060\n",
      "Time per step 0.005s, net 3.091s\n",
      "\n",
      "[  951] loss: 0.059\n",
      "Time per step 0.005s, net 3.365s\n",
      "\n",
      "[ 1001] loss: 0.059\n",
      "Time per step 0.005s, net 3.604s\n",
      "\n",
      "[ 1051] loss: 0.058\n",
      "Time per step 0.005s, net 3.865s\n",
      "\n",
      "[ 1101] loss: 0.059\n",
      "Time per step 0.005s, net 4.118s\n",
      "\n",
      "[ 1151] loss: 0.059\n",
      "Time per step 0.005s, net 4.378s\n",
      "\n",
      "[ 1201] loss: 0.058\n",
      "Time per step 0.005s, net 4.648s\n",
      "\n",
      "[ 1251] loss: 0.059\n",
      "Time per step 0.005s, net 4.918s\n",
      "\n",
      "[ 1301] loss: 0.059\n",
      "Time per step 0.006s, net 5.199s\n",
      "\n",
      "[ 1351] loss: 0.059\n",
      "Time per step 0.006s, net 5.483s\n",
      "\n",
      "[ 1401] loss: 0.058\n",
      "Time per step 0.007s, net 5.816s\n",
      "\n",
      "[ 1451] loss: 0.059\n",
      "Time per step 0.006s, net 6.116s\n",
      "\n",
      "[ 1501] loss: 0.059\n",
      "Time per step 0.007s, net 6.442s\n",
      "\n",
      "[ 1551] loss: 0.058\n",
      "Time per step 0.006s, net 6.753s\n",
      "\n",
      "[ 1601] loss: 0.058\n",
      "Time per step 0.006s, net 7.073s\n",
      "\n",
      "[ 1651] loss: 0.058\n",
      "Time per step 0.006s, net 7.395s\n",
      "\n",
      "[ 1701] loss: 0.058\n",
      "Time per step 0.007s, net 7.730s\n",
      "\n",
      "[ 1751] loss: 0.058\n",
      "Time per step 0.007s, net 8.085s\n",
      "\n",
      "[ 1801] loss: 0.058\n",
      "Time per step 0.007s, net 8.450s\n",
      "\n",
      "[ 1851] loss: 0.058\n",
      "Time per step 0.008s, net 8.842s\n",
      "\n",
      "[ 1901] loss: 0.058\n",
      "Time per step 0.008s, net 9.223s\n",
      "\n",
      "[ 1951] loss: 0.057\n",
      "Time per step 0.008s, net 9.605s\n",
      "Finished Training\n",
      "\n"
     ]
    }
   ],
   "source": [
    "mlp = MLP(input_size=input_size, hidden_size=input_size*2)\n",
    "np.random.seed(seed)\n",
    "outputs, loss = run_mlp(\n",
    "    '../trained_models/test/', mlp, dataset,\n",
    "    dataset_config, gamma=gamma\n",
    "    )"
   ]
  },
  {
   "cell_type": "code",
   "execution_count": 101,
   "metadata": {},
   "outputs": [
    {
     "data": {
      "image/png": "[encoded data removed]",
      "text/plain": [
       "<Figure size 432x432 with 25 Axes>"
      ]
     },
     "metadata": {},
     "output_type": "display_data"
    }
   ],
   "source": [
    "import matplotlib.gridspec as gridspec\n",
    "\n",
    "grid_x = 5; grid_y = 5;\n",
    "\n",
    "plt.figure(figsize = (6, 6))\n",
    "gs1 = gridspec.GridSpec(grid_x, grid_y)\n",
    "gs1.update(wspace=0.05, hspace=0.05) # set the spacing between axes. \n",
    "\n",
    "neurs = np.arange(outputs.shape[1])\n",
    "np.random.shuffle(neurs)\n",
    "\n",
    "idx = 0\n",
    "for neur in neurs:\n",
    "    firing_field = np.zeros((arena_length, arena_length))*np.nan\n",
    "    for x in range(arena_length):\n",
    "        for y in range(arena_length):\n",
    "            frame_idxs = np.logical_and(walk_xs == x, walk_ys == y)\n",
    "            fr = np.nanmean(outputs[frame_idxs, neur])\n",
    "            firing_field[x,y] = fr\n",
    "    firing_field[np.isnan(firing_field)] = 0    \n",
    "    ax = plt.subplot(gs1[idx])\n",
    "    plt.axis('on')\n",
    "    ax.imshow(firing_field/firing_field.max(), vmin=0, vmax=1)\n",
    "    ax.set_xticks([])\n",
    "    ax.set_yticks([])\n",
    "    \n",
    "    idx += 1\n",
    "    if idx == grid_x*grid_y: break\n",
    "plt.show()"
   ]
  },
  {
   "cell_type": "code",
   "execution_count": null,
   "metadata": {},
   "outputs": [],
   "source": [
    "arena_length = int(np.sqrt(input.num_states)) - 1\n",
    "walk_xs = input.xs.astype(int)\n",
    "walk_ys = input.ys.astype(int)\n",
    "for neur in range(outputs.shape[1]):\n",
    "    firing_field = np.zeros((arena_length, arena_length))*np.nan\n",
    "    for x in range(arena_length):\n",
    "        for y in range(arena_length):\n",
    "            frame_idxs = np.logical_and(walk_xs == x, walk_ys == y)\n",
    "            fr = np.nanmean(outputs[frame_idxs, neur])\n",
    "            firing_field[x,y] = fr\n",
    "    firing_field[np.isnan(firing_field)] = 0\n",
    "    plt.figure()\n",
    "    plt.imshow(firing_field/firing_field.max(), vmin=0, vmax=1)\n",
    "    plt.colorbar()\n",
    "    plt.show() "
   ]
  },
  {
   "cell_type": "code",
   "execution_count": null,
   "metadata": {},
   "outputs": [],
   "source": []
  }
 ],
 "metadata": {
  "kernelspec": {
   "display_name": "Python 3",
   "language": "python",
   "name": "python3"
  },
  "language_info": {
   "codemirror_mode": {
    "name": "ipython",
    "version": 3
   },
   "file_extension": ".py",
   "mimetype": "text/x-python",
   "name": "python",
   "nbconvert_exporter": "python",
   "pygments_lexer": "ipython3",
   "version": "3.7.6"
  }
 },
 "nbformat": 4,
 "nbformat_minor": 4
}
