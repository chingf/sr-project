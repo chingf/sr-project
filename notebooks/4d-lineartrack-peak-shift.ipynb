{
 "cells": [
  {
   "cell_type": "code",
   "execution_count": 1,
   "id": "d851c545",
   "metadata": {},
   "outputs": [
    {
     "name": "stderr",
     "output_type": "stream",
     "text": [
      "/Users/chingfang/Code/sr-project/datasets/inputs.py:12: UserWarning: Emily's experimental data could not be loaded.\n",
      "  warnings.warn(\"Emily's experimental data could not be loaded.\")\n",
      "/Users/chingfang/Code/sr-project/datasets/sf_inputs_discrete.py:19: UserWarning: Emily's experimental data could not be loaded.\n",
      "  warnings.warn(\"Emily's experimental data could not be loaded.\")\n"
     ]
    }
   ],
   "source": [
    "import numpy as np\n",
    "import argparse\n",
    "import time\n",
    "import os\n",
    "import sys\n",
    "import pickle\n",
    "from itertools import chain\n",
    "import matplotlib.pyplot as plt\n",
    "\n",
    "root = os.path.dirname(os.path.abspath(os.curdir))\n",
    "sys.path.append(root)\n",
    "import torch\n",
    "import torch.nn as nn\n",
    "from torch.utils.tensorboard import SummaryWriter\n",
    "\n",
    "from datasets import inputs, sf_inputs_discrete\n",
    "from sr_model.models.models import AnalyticSR, STDP_SR, Linear\n",
    "import configs\n",
    "from eval import eval\n",
    "from copy import deepcopy\n",
    "\n",
    "device = 'cpu'"
   ]
  },
  {
   "cell_type": "code",
   "execution_count": 99,
   "id": "d0868a6e",
   "metadata": {},
   "outputs": [],
   "source": [
    "gamma = 0.8\n",
    "num_steps = 3000\n",
    "num_states = 25\n",
    "left_right_stay_prob = [1, 6, 1]\n",
    "stop_idx = 100\n",
    "sprs = 0.02\n",
    "sig = 2.\n",
    "lr = 1E-2\n",
    "    "
   ]
  },
  {
   "cell_type": "markdown",
   "id": "6b3bb5b8",
   "metadata": {},
   "source": [
    "# Get development over walk"
   ]
  },
  {
   "cell_type": "code",
   "execution_count": 105,
   "id": "88a43042",
   "metadata": {},
   "outputs": [],
   "source": [
    "def get_shifts(sprs, sig, onehot=False):\n",
    "    # Set up net\n",
    "    ca3_kwargs = {'lr':lr}\n",
    "    net = AnalyticSR(num_states, gamma, ca3_kwargs=ca3_kwargs)\n",
    "    \n",
    "    # Set up dataset\n",
    "    if onehot:\n",
    "        dset = inputs.Sim1DWalk(\n",
    "            num_steps=num_steps, left_right_stay_prob=left_right_stay_prob,\n",
    "            num_states=num_states\n",
    "            )\n",
    "    else:\n",
    "        feature_maker_kwargs = {                                     \n",
    "            'feature_dim': num_states,\n",
    "            'feature_type': 'correlated_distributed',\n",
    "            'feature_vals_p': [1-sprs, sprs], 'feature_vals': None,\n",
    "            'spatial_sigma': sig\n",
    "            }\n",
    "        dset = sf_inputs_discrete.Sim1DWalk(\n",
    "            num_steps=num_steps, feature_maker_kwargs=feature_maker_kwargs,\n",
    "            num_states=num_states, left_right_stay_prob=left_right_stay_prob\n",
    "            )\n",
    "    dg_inputs = torch.from_numpy(dset.dg_inputs.T).float().unsqueeze(1)\n",
    "    dg_modes = torch.from_numpy(dset.dg_modes.T).float().unsqueeze(1)\n",
    "\n",
    "    # First few minutes of walk\n",
    "    _, outputs = net(dg_inputs[:stop_idx], dg_modes[:stop_idx], reset=True)\n",
    "    ff_M = []\n",
    "    for neur in range(num_states):\n",
    "        ff = []\n",
    "        for state in range(num_states):\n",
    "            ff.append(np.mean(\n",
    "                outputs[dset.ys[:stop_idx]==state,neur].detach().numpy()\n",
    "                ))\n",
    "        ff_M.append(ff)\n",
    "    ff_M = np.array(ff_M)\n",
    "    init_argsort = np.argsort(np.argmax(ff_M,axis=1)).astype(int)\n",
    "    init_peaks = np.argmax(ff_M[init_argsort,:], axis=0)\n",
    "\n",
    "    # Run full walk\n",
    "    _, outputs = net(dg_inputs, dg_modes, reset=True)\n",
    "    ff_M = []\n",
    "    for neur in range(num_states):\n",
    "        ff = []\n",
    "        for state in range(num_states):\n",
    "            ff.append(np.mean(\n",
    "                outputs[dset.ys==state,neur].detach().numpy()\n",
    "                ))\n",
    "        ff_M.append(ff)\n",
    "    ff_M = np.array(ff_M)\n",
    "    peaks = np.argmax(ff_M[init_argsort,:], axis=0)\n",
    "\n",
    "    # Get shifts\n",
    "    _shifts = peaks - init_peaks\n",
    "    shifts = []\n",
    "    for _shift in _shifts:\n",
    "        equiv_vals = [_shift, _shift-num_states, _shift+num_states]\n",
    "        equiv_val = equiv_vals[np.argmin(np.abs(equiv_vals))]\n",
    "        shifts.append(equiv_val)\n",
    "    shifts = np.array(shifts)\n",
    "\n",
    "    return shifts"
   ]
  },
  {
   "cell_type": "code",
   "execution_count": 107,
   "id": "756394bf",
   "metadata": {},
   "outputs": [],
   "source": [
    "feature_shifts = []\n",
    "for _ in range(40):\n",
    "    _shifts = get_shifts(sprs, sig)\n",
    "    feature_shifts.append(np.mean(_shifts))\n",
    "feature_shifts = np.array(feature_shifts)"
   ]
  },
  {
   "cell_type": "code",
   "execution_count": 112,
   "id": "3251ddfb",
   "metadata": {},
   "outputs": [],
   "source": [
    "onehot_shifts = []\n",
    "for _ in range(40):\n",
    "    _shifts = get_shifts(sprs, sig, onehot=True)\n",
    "    onehot_shifts.append(np.mean(_shifts))\n",
    "onehot_shifts = np.array(onehot_shifts)"
   ]
  },
  {
   "cell_type": "code",
   "execution_count": 117,
   "id": "7ebe739e",
   "metadata": {},
   "outputs": [
    {
     "data": {
      "image/png": "[encoded data removed]",
      "text/plain": [
       "<Figure size 180x162 with 1 Axes>"
      ]
     },
     "metadata": {},
     "output_type": "display_data"
    }
   ],
   "source": [
    "plt.figure(figsize=(2.5, 2.25))\n",
    "bins = np.arange(-5, 5)\n",
    "plt.hist(\n",
    "    onehot_shifts*-1, bins=bins+0.5, label='One-Hot',\n",
    "    weights=[1/onehot_shifts.size]*onehot_shifts.size,\n",
    "    color='Gray', alpha=0.6\n",
    "    )\n",
    "plt.hist(\n",
    "    feature_shifts*-1, bins=bins+0.5,\n",
    "    label='Dense & Correlated',\n",
    "    weights = [1/feature_shifts.size]*feature_shifts.size,\n",
    "    color='C0', alpha=0.8\n",
    "    )\n",
    "plt.legend()\n",
    "plt.ylabel('Proportion')\n",
    "plt.xlabel('Shift in Place Field (cm)')\n",
    "plt.xticks(bins[1:], bins[1:]*configs.bin_to_cm)\n",
    "mehta_avg = 5.5/configs.bin_to_cm\n",
    "mehta_std = 1./configs.bin_to_cm\n",
    "plt.axvline(-mehta_avg, color='black', linewidth=2, linestyle='-')\n",
    "ax = plt.gca()\n",
    "ax.text(-4., 0.95, 'Mehta (2000)', fontsize=6, color='black')\n",
    "plt.tight_layout()\n",
    "plt.savefig('../figures/4d.png', dpi=300, transparent=True)\n",
    "plt.show()"
   ]
  },
  {
   "cell_type": "code",
   "execution_count": null,
   "id": "170269a9",
   "metadata": {},
   "outputs": [],
   "source": []
  },
  {
   "cell_type": "code",
   "execution_count": null,
   "id": "3b8c7ddb",
   "metadata": {},
   "outputs": [],
   "source": []
  }
 ],
 "metadata": {
  "kernelspec": {
   "display_name": "Python 3 (ipykernel)",
   "language": "python",
   "name": "python3"
  },
  "language_info": {
   "codemirror_mode": {
    "name": "ipython",
    "version": 3
   },
   "file_extension": ".py",
   "mimetype": "text/x-python",
   "name": "python",
   "nbconvert_exporter": "python",
   "pygments_lexer": "ipython3",
   "version": "3.9.7"
  }
 },
 "nbformat": 4,
 "nbformat_minor": 5
}
