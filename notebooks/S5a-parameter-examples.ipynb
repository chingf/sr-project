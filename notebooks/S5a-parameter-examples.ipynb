{
 "cells": [
  {
   "cell_type": "code",
   "execution_count": 1,
   "metadata": {},
   "outputs": [
    {
     "name": "stderr",
     "output_type": "stream",
     "text": [
      "/Users/chingfang/Code/sr-project/datasets/sf_inputs_discrete.py:19: UserWarning: Emily's experimental data could not be loaded.\n",
      "  warnings.warn(\"Emily's experimental data could not be loaded.\")\n",
      "/Users/chingfang/Code/sr-project/datasets/inputs.py:12: UserWarning: Emily's experimental data could not be loaded.\n",
      "  warnings.warn(\"Emily's experimental data could not be loaded.\")\n"
     ]
    }
   ],
   "source": [
    "# Define task\n",
    "\n",
    "from _collections import OrderedDict\n",
    "import matplotlib.pyplot as plt\n",
    "import numpy as np\n",
    "\n",
    "import sys\n",
    "import os\n",
    "\n",
    "root = os.path.dirname(os.path.abspath(os.curdir))\n",
    "sys.path.append(root)\n",
    "\n",
    "from scipy.ndimage import gaussian_filter\n",
    "from sklearn.preprocessing import normalize\n",
    "import seaborn as sns\n",
    "import warnings\n",
    "from datasets import sf_inputs_discrete"
   ]
  },
  {
   "cell_type": "markdown",
   "metadata": {},
   "source": [
    "# Scatterplot of parameter sweep"
   ]
  },
  {
   "cell_type": "code",
   "execution_count": 4,
   "metadata": {},
   "outputs": [],
   "source": [
    "spatial_sigmas = [0.0, 1.0, 2.0, 3.0]\n",
    "sparsity_range = [[0.001, 0.2], [0.001, 0.1], [0.001, 0.04], [0.001, 0.023]]\n",
    "spatial_sigmas.extend([\n",
    "    0.25,\n",
    "    0.5,\n",
    "    1.25,\n",
    "    1.5,\n",
    "    1.75,\n",
    "    2.25,\n",
    "    2.5,\n",
    "    2.75,\n",
    "    3.25\n",
    "    ])\n",
    "sparsity_range.extend([\n",
    "    [0.001, 0.19], # 0.25\n",
    "    [0.001, 0.15], # 0.5\n",
    "    [0.001, 0.09], # 1.25\n",
    "    [0.001, 0.05], # 1.5\n",
    "    [0.001, 0.045], # 1.75\n",
    "    [0.001, 0.037], # 2.25\n",
    "    [0.001, 0.03], # 2.5\n",
    "    [0.001, 0.025], # 2.75\n",
    "    [0.001, 0.021], # 3.25\n",
    "    ])"
   ]
  },
  {
   "cell_type": "code",
   "execution_count": 23,
   "metadata": {},
   "outputs": [
    {
     "data": {
      "image/png": "[encoded data removed]",
      "text/plain": [
       "<Figure size 144x108 with 1 Axes>"
      ]
     },
     "metadata": {},
     "output_type": "display_data"
    }
   ],
   "source": [
    "sparsities = []\n",
    "sigmas = []\n",
    "\n",
    "plt.figure(figsize=(2., 1.5))\n",
    "for idx, spatial_sigma in enumerate(spatial_sigmas):\n",
    "    _range = sparsity_range[idx]\n",
    "    sparsity_ps = np.linspace(_range[0], _range[1], num=20, endpoint=True)\n",
    "    sparsities.extend(sparsity_ps.tolist())\n",
    "    sigmas.extend([spatial_sigma]*sparsity_ps.size)\n",
    "plt.scatter(sparsities, sigmas, s=3)\n",
    "plt.xlabel('Initial Sparsity (L1-Norm)')\n",
    "plt.ylabel('Feature Spatial $\\sigma$')\n",
    "plt.tight_layout()\n",
    "plt.savefig('../figures/S5a.png', dpi=300, transparent=True)\n",
    "plt.show()"
   ]
  },
  {
   "cell_type": "code",
   "execution_count": 20,
   "metadata": {},
   "outputs": [
    {
     "data": {
      "image/png": "[encoded data removed]",
      "text/plain": [
       "<Figure size 144x108 with 1 Axes>"
      ]
     },
     "metadata": {},
     "output_type": "display_data"
    }
   ],
   "source": [
    "sparsities = []\n",
    "sigmas = []\n",
    "plt.figure(figsize=(2,1.5))\n",
    "for idx, spatial_sigma in enumerate(spatial_sigmas):\n",
    "    _range = sparsity_range[idx]\n",
    "    sparsity_ps = np.linspace(_range[0], _range[1], num=20, endpoint=True)\n",
    "    for sparsity_p in sparsity_ps:\n",
    "        for _ in range(3):\n",
    "            feature_maker_kwargs = {\n",
    "                'feature_dim': num_states,\n",
    "                'feature_type': 'correlated_distributed',\n",
    "                'feature_vals_p': [1-sparsity_p, sparsity_p],\n",
    "                'spatial_sigma': spatial_sigma,\n",
    "                'gaussian_truncate': 1.\n",
    "                }\n",
    "            dataset_config = {\n",
    "                'num_steps': num_steps,\n",
    "                'feature_maker_kwargs': feature_maker_kwargs,\n",
    "                'num_states': num_states\n",
    "            }\n",
    "            dset = dataset(**dataset_config)\n",
    "            sigmas.append(spatial_sigma)\n",
    "            sparsities.append(dset.feature_maker.post_smooth_sparsity)\n",
    "plt.scatter(sparsities, sigmas, s=3.)\n",
    "plt.xlabel('Feature Sparsity (L1-Norm)')\n",
    "plt.ylabel('Feature Spatial $\\sigma$')\n",
    "plt.tight_layout()\n",
    "plt.savefig('../figures/S5b.png', dpi=300, transparent=True)\n",
    "plt.show()"
   ]
  },
  {
   "cell_type": "markdown",
   "metadata": {},
   "source": [
    "# Example Feature"
   ]
  },
  {
   "cell_type": "code",
   "execution_count": 56,
   "metadata": {
    "scrolled": true
   },
   "outputs": [],
   "source": [
    "arena_length = 14\n",
    "num_states = arena_length**2\n",
    "num_steps= 5000\n",
    "sparsity_p = 0.015 #0.022\n",
    "spatial_sigma = 2.\n",
    "feature_maker_kwargs = {\n",
    "    'feature_dim': num_states,\n",
    "    'feature_type': 'correlated_distributed',\n",
    "    'feature_vals_p': [1-sparsity_p, sparsity_p],\n",
    "    'spatial_sigma': spatial_sigma,\n",
    "    'gaussian_truncate': 1.\n",
    "    }\n",
    "dataset_config = {\n",
    "    'num_steps': num_steps,\n",
    "    'feature_maker_kwargs': feature_maker_kwargs,\n",
    "    'num_states': num_states\n",
    "}\n",
    "dataset = sf_inputs_discrete.Sim2DWalk\n",
    "dset = dataset(**dataset_config)"
   ]
  },
  {
   "cell_type": "code",
   "execution_count": 57,
   "metadata": {},
   "outputs": [],
   "source": [
    "features = dset.feature_maker.feature_map # (features, states)"
   ]
  },
  {
   "cell_type": "code",
   "execution_count": 58,
   "metadata": {},
   "outputs": [
    {
     "data": {
      "image/png": "[encoded data removed]",
      "text/plain": [
       "<Figure size 162x72 with 1 Axes>"
      ]
     },
     "metadata": {},
     "output_type": "display_data"
    }
   ],
   "source": [
    "plt.figure(figsize=(2.25,1.))\n",
    "plt.plot(features[:,0])\n",
    "plt.xlabel('Neuron')\n",
    "plt.ylabel('Firing Rate')\n",
    "plt.title('Feature Encoding for State 0')\n",
    "plt.tight_layout()\n",
    "plt.savefig('../figures/S5c.png', dpi=300, transparent=True)\n",
    "plt.show()"
   ]
  },
  {
   "cell_type": "code",
   "execution_count": 59,
   "metadata": {},
   "outputs": [
    {
     "data": {
      "text/plain": [
       "0.11378725904934445"
      ]
     },
     "execution_count": 59,
     "metadata": {},
     "output_type": "execute_result"
    }
   ],
   "source": [
    "dset.feature_maker.post_smooth_sparsity"
   ]
  },
  {
   "cell_type": "markdown",
   "metadata": {},
   "source": [
    "# Plot correlation"
   ]
  },
  {
   "cell_type": "code",
   "execution_count": 50,
   "metadata": {},
   "outputs": [],
   "source": [
    "corr = np.zeros((arena_length, arena_length))\n",
    "ref_i = arena_length//2; ref_j = arena_length//2\n",
    "ref_idx = ref_i*arena_length + ref_j\n",
    "\n",
    "for i in range(arena_length):\n",
    "    for j in range(arena_length):\n",
    "        idx = i*arena_length + j\n",
    "        c = np.dot(features[:,idx], features[:,ref_idx])\n",
    "        corr[i,j] = c"
   ]
  },
  {
   "cell_type": "code",
   "execution_count": 51,
   "metadata": {},
   "outputs": [
    {
     "data": {
      "image/png": "[encoded data removed]",
      "text/plain": [
       "<Figure size 90x90 with 2 Axes>"
      ]
     },
     "metadata": {},
     "output_type": "display_data"
    }
   ],
   "source": [
    "plt.figure(figsize=(1.25,1.25))\n",
    "plt.imshow(corr)\n",
    "plt.title('$\\sigma$=2')\n",
    "plt.colorbar()\n",
    "plt.xticks([])\n",
    "plt.yticks([])\n",
    "plt.tight_layout()\n",
    "plt.savefig('../figures/S5d.png', dpi=300, transparent=True)\n",
    "plt.show()"
   ]
  },
  {
   "cell_type": "code",
   "execution_count": 53,
   "metadata": {},
   "outputs": [],
   "source": [
    "arena_length = 14\n",
    "num_states = arena_length**2\n",
    "num_steps= 5000\n",
    "sparsity_p = 0.015 #0.022\n",
    "spatial_sigma = 0.\n",
    "feature_maker_kwargs = {\n",
    "    'feature_dim': num_states,\n",
    "    'feature_type': 'correlated_distributed',\n",
    "    'feature_vals_p': [1-sparsity_p, sparsity_p],\n",
    "    'spatial_sigma': spatial_sigma,\n",
    "    'gaussian_truncate': 1.\n",
    "    }\n",
    "dataset_config = {\n",
    "    'num_steps': num_steps,\n",
    "    'feature_maker_kwargs': feature_maker_kwargs,\n",
    "    'num_states': num_states\n",
    "}\n",
    "dataset = sf_inputs_discrete.Sim2DWalk\n",
    "dset = dataset(**dataset_config)\n",
    "features = dset.feature_maker.feature_map # (features, states)\n",
    "corr = np.zeros((arena_length, arena_length))\n",
    "ref_i = arena_length//2; ref_j = arena_length//2\n",
    "ref_idx = ref_i*arena_length + ref_j\n",
    "\n",
    "for i in range(arena_length):\n",
    "    for j in range(arena_length):\n",
    "        idx = i*arena_length + j\n",
    "        c = np.dot(features[:,idx], features[:,ref_idx])\n",
    "        corr[i,j] = c"
   ]
  },
  {
   "cell_type": "code",
   "execution_count": 54,
   "metadata": {},
   "outputs": [
    {
     "data": {
      "image/png": "[encoded data removed]",
      "text/plain": [
       "<Figure size 90x90 with 2 Axes>"
      ]
     },
     "metadata": {},
     "output_type": "display_data"
    }
   ],
   "source": [
    "plt.figure(figsize=(1.25,1.25))\n",
    "plt.imshow(corr)\n",
    "plt.title('$\\sigma$=0')\n",
    "plt.colorbar()\n",
    "plt.xticks([])\n",
    "plt.yticks([])\n",
    "plt.tight_layout()\n",
    "plt.savefig('../figures/S5e.png', dpi=300, transparent=True)\n",
    "plt.show()"
   ]
  },
  {
   "cell_type": "code",
   "execution_count": null,
   "metadata": {},
   "outputs": [],
   "source": []
  }
 ],
 "metadata": {
  "kernelspec": {
   "display_name": "Python 3 (ipykernel)",
   "language": "python",
   "name": "python3"
  },
  "language_info": {
   "codemirror_mode": {
    "name": "ipython",
    "version": 3
   },
   "file_extension": ".py",
   "mimetype": "text/x-python",
   "name": "python",
   "nbconvert_exporter": "python",
   "pygments_lexer": "ipython3",
   "version": "3.9.7"
  }
 },
 "nbformat": 4,
 "nbformat_minor": 4
}
