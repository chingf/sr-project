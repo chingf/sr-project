{
 "cells": [
  {
   "cell_type": "code",
   "execution_count": 14,
   "metadata": {},
   "outputs": [],
   "source": [
    "import pickle\n",
    "import numpy as np\n",
    "import os\n",
    "import torch\n",
    "import torch.nn as nn\n",
    "import re\n",
    "import sys\n",
    "from copy import deepcopy\n",
    "from tensorboard.backend.event_processing.event_accumulator import EventAccumulator\n",
    "import matplotlib.pyplot as plt\n",
    "import re\n",
    "import pandas as pd\n",
    "import seaborn as sns\n",
    "from math import ceil\n",
    "from sklearn.linear_model import LinearRegression\n",
    "\n",
    "root = os.path.dirname(os.path.abspath(os.curdir))\n",
    "sys.path.append(root)\n",
    "from sr_model.models.models import AnalyticSR, STDP_SR, Linear, MLP\n",
    "from datasets import inputs, sf_inputs_discrete\n",
    "\n",
    "device = 'cpu'"
   ]
  },
  {
   "cell_type": "code",
   "execution_count": 15,
   "metadata": {},
   "outputs": [],
   "source": [
    "def get_gradients(\n",
    "    xs, ys, zs, interpolate=True,\n",
    "    smooth=False\n",
    "    ):\n",
    "    \n",
    "    x_list = np.sort(np.unique(xs))\n",
    "    y_list = np.sort(np.unique(ys))\n",
    "    dx = x_list[1:] - x_list[:-1]\n",
    "    dy = y_list[1:] - y_list[:-1]\n",
    "    x, y = np.meshgrid(x_list, y_list)\n",
    "    z = np.zeros(x.shape)\n",
    "    for i in range(x.shape[0]):\n",
    "        for j in range(x.shape[1]):\n",
    "            idx = np.logical_and(\n",
    "                xs==x[i,j], ys==y[i,j]\n",
    "                )\n",
    "            z[i,j] = np.nanmean(zs[idx])\n",
    "            \n",
    "    if interpolate:\n",
    "        nan_mask = np.isnan(z)\n",
    "        if np.sum(nan_mask) > 0:\n",
    "            nonnan_mask = np.logical_not(nan_mask)\n",
    "            nan_indices = np.argwhere(nan_mask)\n",
    "            data_X = np.vstack(\n",
    "                [x[nonnan_mask].flatten(),\n",
    "                 y[nonnan_mask].flatten()]).T\n",
    "            data_y = z[nonnan_mask].flatten()\n",
    "            reg = LinearRegression().fit(data_X, data_y)\n",
    "\n",
    "            interp_vals = reg.predict(\n",
    "                np.vstack(\n",
    "                [x[nan_mask].flatten(),\n",
    "                 y[nan_mask].flatten()]).T\n",
    "                )\n",
    "            z[nan_mask] = interp_vals\n",
    "        \n",
    "    if smooth:\n",
    "        from scipy.ndimage.filters import gaussian_filter\n",
    "        z = gaussian_filter(z, 1.)\n",
    "        \n",
    "    return z"
   ]
  },
  {
   "cell_type": "code",
   "execution_count": 16,
   "metadata": {},
   "outputs": [],
   "source": [
    "model_gammas = [0.6, 0.75, 0.8, 0.85]\n",
    "model = 'rnn'"
   ]
  },
  {
   "cell_type": "code",
   "execution_count": 27,
   "metadata": {},
   "outputs": [
    {
     "name": "stderr",
     "output_type": "stream",
     "text": [
      "/home/chingf/anaconda3/envs/aronov/lib/python3.7/site-packages/ipykernel_launcher.py:17: RuntimeWarning: Mean of empty slice\n",
      "/home/chingf/anaconda3/envs/aronov/lib/python3.7/site-packages/ipykernel_launcher.py:17: RuntimeWarning: Mean of empty slice\n"
     ]
    }
   ],
   "source": [
    "gains = []\n",
    "gammas = []\n",
    "for idx, gamma in enumerate(model_gammas):\n",
    "    with open(f'/home/chingf/engram/Ching/03_td_discrete_corr/5a_{model}_results_gamma{gamma}.p', 'rb') as f:\n",
    "        results = pickle.load(f)\n",
    "        fieldsizes = np.array(results['fieldsizes'])\n",
    "        init_sparsities = np.array(results['init_sparsities'])\n",
    "        sigmas = np.array(results['sigmas'])\n",
    "        sizemat = get_gradients(init_sparsities, sigmas, fieldsizes)\n",
    "    if idx == 0:\n",
    "        base_size = sizemat\n",
    "        gains.append(1)\n",
    "        gammas.append(gamma)\n",
    "    else:\n",
    "        per_dset_gain = sizemat/base_size\n",
    "        per_dset_gain = per_dset_gain.flatten().tolist()\n",
    "        gains.extend(per_dset_gain)\n",
    "        gammas.extend([gamma]*len(per_dset_gain))"
   ]
  },
  {
   "cell_type": "code",
   "execution_count": 31,
   "metadata": {},
   "outputs": [
    {
     "name": "stderr",
     "output_type": "stream",
     "text": [
      "/home/chingf/anaconda3/envs/aronov/lib/python3.7/site-packages/ipykernel_launcher.py:17: RuntimeWarning: Mean of empty slice\n",
      "/home/chingf/anaconda3/envs/aronov/lib/python3.7/site-packages/ipykernel_launcher.py:17: RuntimeWarning: Mean of empty slice\n"
     ]
    }
   ],
   "source": [
    "gains = []\n",
    "gammas = []\n",
    "for idx, gamma in enumerate(model_gammas):\n",
    "    with open(f'/home/chingf/engram/Ching/03_td_discrete_corr/5a_{model}_results_gamma{gamma}.p', 'rb') as f:\n",
    "        results = pickle.load(f)\n",
    "        fieldsizes = np.array(results['fieldsizes'])\n",
    "        init_sparsities = np.array(results['init_sparsities'])\n",
    "        sigmas = np.array(results['sigmas'])\n",
    "        sizemat = get_gradients(init_sparsities, sigmas, fieldsizes)\n",
    "        sizemat = sizemat.flatten().tolist()\n",
    "        gains.extend(sizemat)\n",
    "        gammas.extend([gamma]*len(sizemat))"
   ]
  },
  {
   "cell_type": "code",
   "execution_count": 32,
   "metadata": {},
   "outputs": [],
   "source": [
    "df = pd.DataFrame({\n",
    "    'Gamma': gammas,\n",
    "    'Gain': gains\n",
    "    })"
   ]
  },
  {
   "cell_type": "code",
   "execution_count": 33,
   "metadata": {},
   "outputs": [
    {
     "data": {
      "text/plain": [
       "<matplotlib.axes._subplots.AxesSubplot at 0x7f727a2e4a50>"
      ]
     },
     "execution_count": 33,
     "metadata": {},
     "output_type": "execute_result"
    },
    {
     "data": {
      "image/png": "[encoded data removed]",
      "text/plain": [
       "<Figure size 432x288 with 1 Axes>"
      ]
     },
     "metadata": {
      "needs_background": "light"
     },
     "output_type": "display_data"
    }
   ],
   "source": [
    "sns.lineplot(x='Gamma', y = 'Gain', data=df)"
   ]
  },
  {
   "cell_type": "code",
   "execution_count": null,
   "metadata": {},
   "outputs": [],
   "source": []
  }
 ],
 "metadata": {
  "kernelspec": {
   "display_name": "Python 3",
   "language": "python",
   "name": "python3"
  },
  "language_info": {
   "codemirror_mode": {
    "name": "ipython",
    "version": 3
   },
   "file_extension": ".py",
   "mimetype": "text/x-python",
   "name": "python",
   "nbconvert_exporter": "python",
   "pygments_lexer": "ipython3",
   "version": "3.7.6"
  }
 },
 "nbformat": 4,
 "nbformat_minor": 4
}
