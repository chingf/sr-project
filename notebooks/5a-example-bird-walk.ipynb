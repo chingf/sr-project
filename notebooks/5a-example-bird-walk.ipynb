{
 "cells": [
  {
   "cell_type": "code",
   "execution_count": 1,
   "metadata": {},
   "outputs": [
    {
     "name": "stderr",
     "output_type": "stream",
     "text": [
      "/var/folders/jf/2_wn4hjd11q9klftv_v_hld80000gn/T/ipykernel_14860/1200229207.py:20: UserWarning: Emily's experimental data could not be loaded.\n",
      "  warnings.warn(\"Emily's experimental data could not be loaded.\")\n",
      "/Users/chingfang/Code/sr-project/datasets/sf_inputs_discrete.py:19: UserWarning: Emily's experimental data could not be loaded.\n",
      "  warnings.warn(\"Emily's experimental data could not be loaded.\")\n",
      "/Users/chingfang/Code/sr-project/datasets/inputs.py:12: UserWarning: Emily's experimental data could not be loaded.\n",
      "  warnings.warn(\"Emily's experimental data could not be loaded.\")\n"
     ]
    }
   ],
   "source": [
    "import os\n",
    "import sys\n",
    "sys.path.append(os.path.dirname(os.getcwd()))\n",
    "\n",
    "import numpy as np\n",
    "import h5py\n",
    "from scipy.stats import binned_statistic_2d\n",
    "from math import ceil, sqrt\n",
    "from itertools import permutations\n",
    "import warnings\n",
    "from scipy.ndimage import gaussian_filter\n",
    "from sklearn.preprocessing import normalize\n",
    "from scipy.io import loadmat\n",
    "import matplotlib.pyplot as plt\n",
    "\n",
    "try:\n",
    "    from analysis.config import h5_path_dict\n",
    "    from analysis.ExpData import ExpData\n",
    "except:\n",
    "    warnings.warn(\"Emily's experimental data could not be loaded.\")\n",
    "\n",
    "from sr_model.utils import pol2cart, downsample\n",
    "from datasets import sf_inputs_discrete\n",
    "import configs"
   ]
  },
  {
   "cell_type": "code",
   "execution_count": 2,
   "metadata": {},
   "outputs": [],
   "source": [
    "data_dir = f'{configs.engram_dir}payne_et_al_2021_data/'\n",
    "titmouse_data = [f for f in os.listdir(data_dir) if f.startswith('HT')]"
   ]
  },
  {
   "cell_type": "code",
   "execution_count": 30,
   "metadata": {},
   "outputs": [
    {
     "data": {
      "image/png": "[encoded data removed]",
      "text/plain": [
       "<Figure size 57.6x57.6 with 1 Axes>"
      ]
     },
     "metadata": {},
     "output_type": "display_data"
    }
   ],
   "source": [
    "dataset = sf_inputs_discrete.TitmouseWalk()\n",
    "xs = dataset.contin_xs\n",
    "ys = dataset.contin_ys\n",
    "exp_fps = 3\n",
    "fig, ax = plt.subplots(figsize=(0.8, 0.8))\n",
    "ax.plot(\n",
    "    xs[:int(exp_fps*60*30)], # 20 minutes\n",
    "    ys[:int(exp_fps*60*30)],\n",
    "    color='black', alpha=0.8, linewidth=0.08\n",
    "    )\n",
    "plt.xticks([])\n",
    "plt.yticks([])\n",
    "ax.spines['top'].set_visible(True)\n",
    "ax.spines['right'].set_visible(True)\n",
    "plt.tight_layout()\n",
    "plt.savefig('../figures/5atop.png', dpi=300, transparent=True)\n",
    "plt.show()"
   ]
  },
  {
   "cell_type": "code",
   "execution_count": 31,
   "metadata": {},
   "outputs": [
    {
     "data": {
      "image/png": "[encoded data removed]",
      "text/plain": [
       "<Figure size 57.6x57.6 with 1 Axes>"
      ]
     },
     "metadata": {},
     "output_type": "display_data"
    }
   ],
   "source": [
    "dataset = sf_inputs_discrete.TitmouseWalk()\n",
    "xs = dataset.contin_xs\n",
    "ys = dataset.contin_ys\n",
    "exp_fps = 3\n",
    "fig, ax = plt.subplots(figsize=(0.8, 0.8))\n",
    "ax.plot(\n",
    "    xs[:int(exp_fps*60*30)], # 20 minutes\n",
    "    ys[:int(exp_fps*60*30)],\n",
    "    color='black', alpha=0.8, linewidth=0.08\n",
    "    )\n",
    "plt.xticks([])\n",
    "plt.yticks([])\n",
    "ax.spines['top'].set_visible(True)\n",
    "ax.spines['right'].set_visible(True)\n",
    "plt.tight_layout()\n",
    "plt.savefig('../figures/5abottom.png', dpi=300, transparent=True)\n",
    "plt.show()"
   ]
  },
  {
   "cell_type": "code",
   "execution_count": null,
   "metadata": {},
   "outputs": [],
   "source": []
  }
 ],
 "metadata": {
  "kernelspec": {
   "display_name": "Python 3 (ipykernel)",
   "language": "python",
   "name": "python3"
  },
  "language_info": {
   "codemirror_mode": {
    "name": "ipython",
    "version": 3
   },
   "file_extension": ".py",
   "mimetype": "text/x-python",
   "name": "python",
   "nbconvert_exporter": "python",
   "pygments_lexer": "ipython3",
   "version": "3.9.7"
  }
 },
 "nbformat": 4,
 "nbformat_minor": 4
}
