{
 "cells": [
  {
   "cell_type": "code",
   "execution_count": 1,
   "id": "78cba487",
   "metadata": {},
   "outputs": [
    {
     "name": "stderr",
     "output_type": "stream",
     "text": [
      "/Users/chingfang/Code/sr-project/datasets/inputs.py:12: UserWarning: Emily's experimental data could not be loaded.\n",
      "  warnings.warn(\"Emily's experimental data could not be loaded.\")\n",
      "/Users/chingfang/Code/sr-project/datasets/sf_inputs_discrete.py:19: UserWarning: Emily's experimental data could not be loaded.\n",
      "  warnings.warn(\"Emily's experimental data could not be loaded.\")\n"
     ]
    }
   ],
   "source": [
    "import pickle\n",
    "import numpy as np\n",
    "import os\n",
    "import torch\n",
    "import torch.nn as nn\n",
    "import re\n",
    "import sys\n",
    "from tensorboard.backend.event_processing.event_accumulator import EventAccumulator\n",
    "import matplotlib.pyplot as plt\n",
    "\n",
    "root = os.path.dirname(os.path.abspath(os.curdir))\n",
    "sys.path.append(root)\n",
    "\n",
    "from sr_model.models.models import AnalyticSR, STDP_SR, Linear, MLP, OjaRNN\n",
    "from datasets import inputs, sf_inputs_discrete\n",
    "from run_td_rnn import run as run_rnn\n",
    "from run_td_mlp import run as run_mlp\n",
    "from run_td_linear import run as run_linear\n",
    "import configs\n",
    "\n",
    "device = 'cpu'"
   ]
  },
  {
   "cell_type": "markdown",
   "id": "d4c39364",
   "metadata": {},
   "source": [
    "# Plot Ms for different walk biases"
   ]
  },
  {
   "cell_type": "code",
   "execution_count": 5,
   "id": "7d10a5d8",
   "metadata": {},
   "outputs": [
    {
     "data": {
      "image/png": "[encoded data removed]",
      "text/plain": [
       "<Figure size 432x144 with 3 Axes>"
      ]
     },
     "metadata": {},
     "output_type": "display_data"
    }
   ],
   "source": [
    "lrs_ps = [\n",
    "    [1, 1, 1],\n",
    "    [1, 5, 1],\n",
    "    [1, 1, 5]\n",
    "]\n",
    "\n",
    "fig, axs = plt.subplots(1,3, figsize=(6,2))\n",
    "for idx, lrs_p in enumerate(lrs_ps):\n",
    "    num_steps = 1000\n",
    "    num_states = 20\n",
    "\n",
    "    dset = inputs.Sim1DWalk(\n",
    "        num_steps=num_steps, left_right_stay_prob=lrs_p,\n",
    "        num_states=num_states\n",
    "        )\n",
    "\n",
    "    # Set up network\n",
    "    save_path = '../trained_models/baseline/'\n",
    "    model_path = save_path + 'model.pt'\n",
    "    net_configs_path = save_path + 'net_configs.p'\n",
    "    with open(net_configs_path, 'rb') as f:\n",
    "        net_configs = pickle.load(f)\n",
    "    net_configs.pop('num_states')\n",
    "    net = STDP_SR(num_states=num_states, **net_configs)\n",
    "    net.load_state_dict(torch.load(model_path))\n",
    "    \n",
    "    # Set up dataset\n",
    "    dg_inputs = torch.from_numpy(dset.dg_inputs.T).float().to(device).unsqueeze(1)\n",
    "    dg_modes = torch.from_numpy(dset.dg_modes.T).float().to(device).unsqueeze(1)\n",
    "    input_states = []\n",
    "    for t in range(dg_inputs.shape[0]):\n",
    "        input_states.append(np.argwhere(dg_inputs[t,0])[0,0])\n",
    "    input_states = np.array(input_states)\n",
    "    \n",
    "    for step in range(dset.num_steps):\n",
    "        curr_dg_input = dg_inputs[step].unsqueeze(0)\n",
    "        curr_dg_mode = dg_modes[step].unsqueeze(0)\n",
    "        reset = True if step == 0 else False\n",
    "        _, outputs = net(curr_dg_input, curr_dg_mode, reset=reset)\n",
    "        \n",
    "    ax = axs[idx]\n",
    "    ax.imshow(net.get_M(0.9).detach().numpy().squeeze())\n",
    "    ax.set_xticks([]); ax.set_yticks([])\n",
    "plt.tight_layout()\n",
    "plt.savefig('1dbias_Ms.png', dpi=200)\n",
    "plt.show()"
   ]
  },
  {
   "cell_type": "code",
   "execution_count": 4,
   "id": "19b9975b",
   "metadata": {},
   "outputs": [
    {
     "data": {
      "image/png": "[encoded data removed]",
      "text/plain": [
       "<Figure size 432x144 with 3 Axes>"
      ]
     },
     "metadata": {},
     "output_type": "display_data"
    }
   ],
   "source": [
    "lrs_ps = [\n",
    "    [1, 1, 1],\n",
    "    [1, 5, 1],\n",
    "    [1, 1, 5]\n",
    "]\n",
    "\n",
    "fig, axs = plt.subplots(1,3, figsize=(6,2))\n",
    "for idx, lrs_p in enumerate(lrs_ps):\n",
    "    num_steps = 200\n",
    "    num_states = 20\n",
    "\n",
    "    dset = inputs.Sim1DWalk(\n",
    "        num_steps=num_steps, left_right_stay_prob=lrs_p,\n",
    "        num_states=num_states\n",
    "        )\n",
    "    \n",
    "    ax = axs[idx]\n",
    "    ax.scatter(np.arange(dset.ys.size), dset.ys, s=10)\n",
    "    ax.set_xticks([]); ax.set_yticks([])"
   ]
  },
  {
   "cell_type": "code",
   "execution_count": null,
   "id": "34a0aaeb",
   "metadata": {},
   "outputs": [],
   "source": []
  }
 ],
 "metadata": {
  "kernelspec": {
   "display_name": "Python 3 (ipykernel)",
   "language": "python",
   "name": "python3"
  },
  "language_info": {
   "codemirror_mode": {
    "name": "ipython",
    "version": 3
   },
   "file_extension": ".py",
   "mimetype": "text/x-python",
   "name": "python",
   "nbconvert_exporter": "python",
   "pygments_lexer": "ipython3",
   "version": "3.9.7"
  }
 },
 "nbformat": 4,
 "nbformat_minor": 5
}
